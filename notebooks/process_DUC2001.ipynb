{
 "cells": [
  {
   "cell_type": "code",
   "execution_count": 16,
   "metadata": {},
   "outputs": [],
   "source": [
    "with open(\"/home/helder/doc/mecd/thesis/data/DUC-2001/annotations.txt\", encoding=\"utf8\") as f:\n",
    "    data = f.read().splitlines()"
   ]
  },
  {
   "cell_type": "code",
   "execution_count": 17,
   "metadata": {},
   "outputs": [],
   "source": [
    "for line in data:\n",
    "    doc_id, kps = line.split(r\"@\")\n",
    "    kps = list(kps.split(\";\"))\n",
    "    with open(f\"/home/helder/doc/mecd/thesis/data/DUC-2001/keys/{doc_id}.key\", mode=\"w\", encoding=\"utf8\") as f:\n",
    "        f.write('\\n'.join(kps))"
   ]
  },
  {
   "cell_type": "code",
   "execution_count": 8,
   "metadata": {},
   "outputs": [],
   "source": [
    "from geo_kpe_multidoc.datasets.datasets import load_data"
   ]
  },
  {
   "cell_type": "code",
   "execution_count": 18,
   "metadata": {},
   "outputs": [],
   "source": [
    "duc = load_data(\"DUC2001\", \"/home/helder/doc/mecd/thesis/data/\")"
   ]
  },
  {
   "cell_type": "code",
   "execution_count": 10,
   "metadata": {},
   "outputs": [
    {
     "data": {
      "text/plain": [
       "<geo_kpe_multidoc.datasets.datasets.KPEDataset at 0x7f621a1e2980>"
      ]
     },
     "execution_count": 10,
     "metadata": {},
     "output_type": "execute_result"
    }
   ],
   "source": [
    "duc"
   ]
  },
  {
   "cell_type": "code",
   "execution_count": 21,
   "metadata": {},
   "outputs": [],
   "source": [
    "id, doc, keys = duc[0]"
   ]
  },
  {
   "cell_type": "code",
   "execution_count": 22,
   "metadata": {},
   "outputs": [
    {
     "data": {
      "text/plain": [
       "'AP830325-0143'"
      ]
     },
     "execution_count": 22,
     "metadata": {},
     "output_type": "execute_result"
    }
   ],
   "source": [
    "id"
   ]
  },
  {
   "cell_type": "code",
   "execution_count": 23,
   "metadata": {},
   "outputs": [
    {
     "data": {
      "text/plain": [
       "['u.s. tanker spill',\n",
       " '987-foot tanker exxon valdez',\n",
       " 'oil spill',\n",
       " 'major environmental catastrophe',\n",
       " 'cleanup equipment',\n",
       " 'crude oil',\n",
       " 'cleanup efforts',\n",
       " 'alaska']"
      ]
     },
     "execution_count": 23,
     "metadata": {},
     "output_type": "execute_result"
    }
   ],
   "source": [
    "keys"
   ]
  },
  {
   "cell_type": "code",
   "execution_count": null,
   "metadata": {},
   "outputs": [],
   "source": []
  }
 ],
 "metadata": {
  "kernelspec": {
   "display_name": "nlp",
   "language": "python",
   "name": "python3"
  },
  "language_info": {
   "codemirror_mode": {
    "name": "ipython",
    "version": 3
   },
   "file_extension": ".py",
   "mimetype": "text/x-python",
   "name": "python",
   "nbconvert_exporter": "python",
   "pygments_lexer": "ipython3",
   "version": "3.10.9"
  },
  "orig_nbformat": 4,
  "vscode": {
   "interpreter": {
    "hash": "6192d2b8519ba1dc6668f1bfbce40557ee186aa5dae8ab284b50dd4471395d02"
   }
  }
 },
 "nbformat": 4,
 "nbformat_minor": 2
}
