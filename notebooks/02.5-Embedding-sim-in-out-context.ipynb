{
 "cells": [
  {
   "cell_type": "code",
   "execution_count": 38,
   "id": "0915709b",
   "metadata": {},
   "outputs": [],
   "source": [
    "import pandas as pd\n",
    "from geo_kpe_multidoc import GEO_KPE_MULTIDOC_CACHE_PATH\n",
    "import os\n",
    "import re\n",
    "import joblib\n",
    "\n",
    "from sklearn.metrics.pairwise import cosine_similarity\n",
    "from operator import itemgetter"
   ]
  },
  {
   "cell_type": "code",
   "execution_count": 39,
   "id": "6402b30d",
   "metadata": {},
   "outputs": [],
   "source": [
    "def get_embedding_files(path: str):\n",
    "    for file in os.listdir(path):\n",
    "        if (\n",
    "            os.path.isfile(os.path.join(path, file))\n",
    "            and os.path.splitext(file)[1] == \".pkl\"\n",
    "        ):\n",
    "            yield file"
   ]
  },
  {
   "cell_type": "code",
   "execution_count": 40,
   "id": "6ab25497",
   "metadata": {
    "scrolled": true
   },
   "outputs": [],
   "source": [
    "similarities = []\n",
    "no_in_context = []\n",
    "\n",
    "# skip = False\n",
    "for name in get_embedding_files(\n",
    "    os.path.join(GEO_KPE_MULTIDOC_CACHE_PATH, \"temp_embeddings\")\n",
    "):\n",
    "    # if skip:\n",
    "    #     break\n",
    "    # skip = False if skip else True\n",
    "    candidate_embeddings = joblib.load(name)\n",
    "    for candidate, embeddings in candidate_embeddings.items():\n",
    "        in_context_embeddings = embeddings.get(\"in_context\", [])\n",
    "        if len(in_context_embeddings) == 0:\n",
    "            # print(f\"Skipping candidate '{candidate}' only out_context.\")\n",
    "            no_in_context.append(candidate)\n",
    "            continue\n",
    "        \n",
    "        similarities.extend(\n",
    "            [\n",
    "                (\n",
    "                    candidate,\n",
    "                    cosine_similarity(\n",
    "                        in_context.reshape(1, -1), out_context_embeddings.reshape(1, -1)\n",
    "                    ).item(),\n",
    "                )\n",
    "                for in_context in in_context_embeddings\n",
    "            ]\n",
    "        )"
   ]
  },
  {
   "cell_type": "code",
   "execution_count": 41,
   "id": "a6501679",
   "metadata": {},
   "outputs": [
    {
     "data": {
      "text/plain": [
       "['Los Angeles County district attorney',\n",
       " 'former President Gerald R. Ford',\n",
       " 'publishing titan Malcolm Forbes']"
      ]
     },
     "execution_count": 41,
     "metadata": {},
     "output_type": "execute_result"
    }
   ],
   "source": [
    "from itertools import islice\n",
    "\n",
    "list(islice(candidate_embeddings.keys(), 3))"
   ]
  },
  {
   "cell_type": "code",
   "execution_count": 34,
   "id": "4641aa3a",
   "metadata": {},
   "outputs": [],
   "source": [
    "candidates, sims = list(zip(*similarities))"
   ]
  },
  {
   "cell_type": "code",
   "execution_count": 36,
   "id": "5a893fb0",
   "metadata": {},
   "outputs": [
    {
     "data": {
      "text/plain": [
       "<AxesSubplot:ylabel='Frequency'>"
      ]
     },
     "execution_count": 36,
     "metadata": {},
     "output_type": "execute_result"
    },
    {
     "data": {
      "image/png": "[encoded data removed]",
      "text/plain": [
       "<Figure size 432x288 with 1 Axes>"
      ]
     },
     "metadata": {
      "needs_background": "light"
     },
     "output_type": "display_data"
    }
   ],
   "source": [
    "pd.Series(sims).plot.hist()"
   ]
  },
  {
   "cell_type": "code",
   "execution_count": 37,
   "id": "7972b140",
   "metadata": {},
   "outputs": [
    {
     "name": "stdout",
     "output_type": "stream",
     "text": [
      "#mentions (in, out)        71859,\n",
      "    #unique candidates     23360, \n",
      "#candidates without (in)    2548\n",
      "\n"
     ]
    }
   ],
   "source": [
    "print(f\"\"\"#mentions (in, out)        {len(candidates)},\n",
    "    #unique candidates     {len(set(candidates))}, \n",
    "#candidates without (in)    {len(no_in_context)}\n",
    "\"\"\")"
   ]
  },
  {
   "cell_type": "code",
   "execution_count": null,
   "id": "4423e2d4",
   "metadata": {},
   "outputs": [],
   "source": []
  }
 ],
 "metadata": {
  "kernelspec": {
   "display_name": "nlp",
   "language": "python",
   "name": "nlp"
  },
  "language_info": {
   "codemirror_mode": {
    "name": "ipython",
    "version": 3
   },
   "file_extension": ".py",
   "mimetype": "text/x-python",
   "name": "python",
   "nbconvert_exporter": "python",
   "pygments_lexer": "ipython3",
   "version": "3.10.9"
  }
 },
 "nbformat": 4,
 "nbformat_minor": 5
}
