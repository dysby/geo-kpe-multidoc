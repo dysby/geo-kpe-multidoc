{
  "cells": [
    {
      "cell_type": "code",
      "execution_count": 1,
      "metadata": {},
      "outputs": [],
      "source": [
        "import os\n",
        "\n",
        "import joblib\n",
        "import pandas as pd\n",
        "import matplotlib.pyplot as plt\n",
        "import math\n",
        "\n",
        "from geo_kpe_multidoc import (GEO_KPE_MULTIDOC_CACHE_PATH,\n",
        "                              GEO_KPE_MULTIDOC_OUTPUT_PATH)"
      ]
    },
    {
      "cell_type": "code",
      "execution_count": 2,
      "metadata": {},
      "outputs": [],
      "source": [
        "files = [\n",
        "\"results-SemEval2010-EmbedRank-Sbert-in_n_out_context-20230612-2014.pdf\",\n",
        "\"results-DUC2001-EmbedRank-Longformer-4096-128-mean_in_n_out_context-max128-20230612-1955.pdf\",\n",
        "\"results-DUC2001-EmbedRank-Longformer-4096-128-mentions-no-context-max128-20230612-1929.pdf\",\n",
        "\"results-DUC2001-EmbedRank-Longformer-4096-128-mean_in_n_out_context-20230612-1644.pdf\",\n",
        "\"results-SemEval2010-EmbedRank-Sbert-mentions-no-context-20230612-1628.pdf\",\n",
        "\"results-DUC2001-EmbedRank-Sbert-in_n_out_context-20230612-1619.pdf\",\n",
        "\"results-DUC2001-EmbedRank-Longformer-4096-128-mentions-no-context-20230612-1612.pdf\",\n",
        "\"results-DUC2001-EmbedRank-Sbert-mentions-no-context-20230612-1547.pdf\",\n",
        "]"
      ]
    },
    {
      "cell_type": "code",
      "execution_count": 3,
      "metadata": {},
      "outputs": [],
      "source": [
        "from pdf2image import convert_from_path\n",
        "from IPython.display import display\n",
        "\n",
        "images = []\n",
        "results = pd.DataFrame()\n",
        "\n",
        "for f in files:\n",
        "    # image = convert_from_path(os.path.join(GEO_KPE_MULTIDOC_OUTPUT_PATH, f))\n",
        "    # images.append(image[0])\n",
        "    # display(images[0].resize(( 384, 288)))\n",
        "\n",
        "    r = pd.read_csv(os.path.join(GEO_KPE_MULTIDOC_OUTPUT_PATH, f[:-3] + \"csv\"), index_col=0)\n",
        "    # r.index = [f.split(\"/\")[-1]]\n",
        "    experiment_name = \"-\".join(f.split(\"-\")[1:-2])\n",
        "    r.index = [ experiment_name, experiment_name + \"_set_eval\" ]\n",
        "    results = pd.concat([results, r])\n",
        "pass"
      ]
    },
    {
      "attachments": {},
      "cell_type": "markdown",
      "metadata": {},
      "source": [
        "# Experiments"
      ]
    },
    {
      "cell_type": "code",
      "execution_count": 5,
      "metadata": {},
      "outputs": [
        {
          "name": "stdout",
          "output_type": "stream",
          "text": [
            "results-Extraction-SemEval2010-20230605-1700\n",
            "results-Extraction-Inspec-20230605-1649\n",
            "results-Extraction-Nguyen2007-20230605-1647\n",
            "results-Extraction-DUC2001-20230605-1641\n",
            "results-Extraction-Nguyen2007-lemma-20230605-1621\n",
            "results-Extraction-SemEval2010-lemma-20230605-1613\n",
            "results-Extraction-Inspec-lemma-20230605-1601\n",
            "results-Extraction-DUC2001-lemma-20230605-1559\n"
          ]
        }
      ],
      "source": [
        "print(*(f[:-4] for f in files), sep=\"\\n\")"
      ]
    },
    {
      "attachments": {},
      "cell_type": "markdown",
      "metadata": {},
      "source": [
        "## Summary"
      ]
    },
    {
      "cell_type": "code",
      "execution_count": null,
      "metadata": {},
      "outputs": [],
      "source": [
        "trans = {\"EmbedRank\": \"SemEval2010\"}\n",
        "results.assign(dataset = pd.Series(results.index.map(lambda x: x.split('-')[1])).replace(trans).to_list())\n",
        "\n",
        "# results\n",
        "\n",
        "# results"
      ]
    },
    {
      "cell_type": "code",
      "execution_count": 5,
      "metadata": {},
      "outputs": [
        {
          "name": "stdout",
          "output_type": "stream",
          "text": [
            "                                                                    Precision  Recall     F1    MAP   nDCG   F1_5  F1_10  F1_15\n",
            "SemEval2010-EmbedRank-Sbert-in_n_out_context                             1.25   69.12   2.45   7.05  33.51   7.33  10.77  11.44\n",
            "DUC2001-EmbedRank-Longformer-4096-128-mean_in_n_out_context-max128       6.77   81.96  11.66  25.25  52.13  22.51  25.78  26.23\n",
            "DUC2001-EmbedRank-Longformer-4096-128-mentions-no-context-max128         6.77   81.96  11.66  27.54  54.35  24.65  28.67  28.54\n",
            "DUC2001-EmbedRank-Longformer-4096-128-mean_in_n_out_context              6.77   81.96  11.66  22.46  49.21  19.83  23.39  23.99\n",
            "SemEval2010-EmbedRank-Sbert-mentions-no-context                          1.25   69.12   2.45   6.17  32.48   6.09   8.29   9.32\n",
            "DUC2001-EmbedRank-Sbert-in_n_out_context                                 6.77   81.96  11.66  25.02  51.88  22.33  26.01  26.62\n",
            "DUC2001-EmbedRank-Longformer-4096-128-mentions-no-context                6.77   81.96  11.66  26.99  53.72  24.97  28.39  27.91\n",
            "DUC2001-EmbedRank-Sbert-mentions-no-context                              6.77   81.96  11.66  28.08  54.97  25.11  29.12  28.77\n",
            "                                                                             Precision  Recall     F1    MAP   nDCG   F1_5  F1_10  F1_15\n",
            "SemEval2010-EmbedRank-Sbert-in_n_out_context_set_eval                              1.2   67.57   2.36   7.05  33.51   7.46  10.82  11.44\n",
            "DUC2001-EmbedRank-Longformer-4096-128-mean_in_n_out_context-max128_set_eval        6.7   81.24  11.54  25.25  52.13  22.50  25.69  26.10\n",
            "DUC2001-EmbedRank-Longformer-4096-128-mentions-no-context-max128_set_eval          6.7   81.24  11.54  27.54  54.35  24.59  28.50  28.38\n",
            "DUC2001-EmbedRank-Longformer-4096-128-mean_in_n_out_context_set_eval               6.7   81.24  11.54  22.46  49.21  19.73  23.23  23.78\n",
            "SemEval2010-EmbedRank-Sbert-mentions-no-context_set_eval                           1.2   67.57   2.36   6.17  32.48   6.19   8.20   9.10\n",
            "DUC2001-EmbedRank-Sbert-in_n_out_context_set_eval                                  6.7   81.24  11.54  25.02  51.88  22.33  25.97  26.44\n",
            "DUC2001-EmbedRank-Longformer-4096-128-mentions-no-context_set_eval                 6.7   81.24  11.54  26.99  53.72  24.90  28.30  27.82\n",
            "DUC2001-EmbedRank-Sbert-mentions-no-context_set_eval                               6.7   81.24  11.54  28.08  54.97  24.96  28.94  28.62\n"
          ]
        }
      ],
      "source": [
        "\n",
        "# print((results[[\"Precision\",\"Recall\"]].sort_index().round(decimals=4)*100).to_string())\n",
        "\n",
        "# print((results.loc[~results.index.str.contains(\"set_eval\"), [\"Precision\", \"Recall\", \"F1\", \"MAP\", \"nDCG\",\"F1_5\", \"F1_10\", \"F1_15\"]].sort_values(\"F1_15\", ascending=False).round(decimals=4)*100).to_string())\n",
        "# print((results.loc[results.index.str.contains(\"set_eval\"), [\"Precision\", \"Recall\", \"F1\", \"MAP\", \"nDCG\",\"F1_5\", \"F1_10\", \"F1_15\"]].sort_values(\"F1_15\", ascending=False).round(decimals=4)*100).to_string())\n",
        "print((results.loc[~results.index.str.contains(\"set_eval\"), [\"Precision\", \"Recall\", \"F1\", \"MAP\", \"nDCG\",\"F1_5\", \"F1_10\", \"F1_15\"]].round(decimals=4)*100).to_string())\n",
        "print((results.loc[results.index.str.contains(\"set_eval\"), [\"Precision\", \"Recall\", \"F1\", \"MAP\", \"nDCG\",\"F1_5\", \"F1_10\", \"F1_15\"]].round(decimals=4)*100).to_string())"
      ]
    },
    {
      "attachments": {},
      "cell_type": "markdown",
      "metadata": {},
      "source": [
        "\n",
        "\n",
        "```\n",
        "                              Precision  Recall     F1    MAP   nDCG   F1_5  F1_10  F1_15\n",
        "Extraction-SemEval2010             1.49   82.03   2.92   3.17  30.79   0.75   1.64   2.20\n",
        "Extraction-Inspec                 18.46   36.67  23.64  17.63  34.95  19.39  25.46  26.65\n",
        "Extraction-Nguyen2007              1.49   78.00   2.90   2.71  25.92   0.67   1.01   1.39\n",
        "Extraction-DUC2001                 6.91   85.00  11.94  13.84  40.19   7.77  11.75  14.58\n",
        "Extraction-Nguyen2007-lemma        1.26   64.36   2.44   1.86  20.37   0.42   1.01   1.44\n",
        "Extraction-SemEval2010-lemma       1.27   68.74   2.48   2.29  24.80   0.73   1.59   1.88\n",
        "Extraction-Inspec-lemma           18.37   35.59  23.33  17.03  34.27  19.16  24.95  26.13\n",
        "Extraction-DUC2001-lemma           6.85   83.26  11.82  13.52  39.27   7.86  11.78  14.73\n",
        "```\n"
      ]
    },
    {
      "attachments": {},
      "cell_type": "markdown",
      "metadata": {},
      "source": [
        "## Candidate scores distributions"
      ]
    },
    {
      "cell_type": "code",
      "execution_count": null,
      "metadata": {},
      "outputs": [],
      "source": [
        "for img in images:\n",
        "    _, ax = plt.subplots()\n",
        "    ax.imshow(img)\n",
        "    ax.set_axis_off()\n",
        "    plt.show()"
      ]
    },
    {
      "cell_type": "code",
      "execution_count": null,
      "metadata": {},
      "outputs": [],
      "source": [
        "# for img in images:\n",
        "# #   display(img.resize(( 384, 288)))\n",
        "# spacing = 0\n",
        "# pdf_width = 8.5 - 2 #(assuming 1-inch margins on each side)\n",
        "# available_width = pdf_width - 2 * spacing\n",
        "\n",
        "# # Divide the available width equally among the three images:\n",
        "# image_width = available_width / 2\n",
        "\n",
        "# # Calculate the corresponding desired height to maintain the aspect ratio:\n",
        "# desired_height = image_width * (288 / 384)\n",
        "\n",
        "fig, axes = plt.subplots(math.ceil(len(images) / 2), 2 , figsize=(12, 6*len(images) // 2))\n",
        "\n",
        "# loop over images\n",
        "for ax, img in zip(axes.ravel(), images):\n",
        "    ax.set_axis_off()\n",
        "    ax.imshow(img, )\n",
        "\n",
        "if len(images) // 2:\n",
        "    axes[-1, -1].set_axis_off()\n",
        "\n",
        "plt.show()"
      ]
    },
    {
      "cell_type": "code",
      "execution_count": 1,
      "metadata": {},
      "outputs": [],
      "source": [
        "from fpdf import FPDF\n",
        "from base64 import b64encode\n",
        "from IPython.display import display, HTML"
      ]
    },
    {
      "cell_type": "code",
      "execution_count": 26,
      "metadata": {},
      "outputs": [],
      "source": [
        "pdf = FPDF()\n",
        "pdf.add_page()\n",
        "pdf.set_font(\"Courier\")\n",
        "for i, img in enumerate(images):\n",
        "    pdf.image(img, h=pdf.eph  / 4, w=pdf.epw/2)\n",
        "\n",
        "pdf_bytes = pdf.output(\"pdf-with-image.pdf\")\n",
        "# pdf_bytes = pdf.output()\n",
        "\n",
        "# WIDTH, HEIGHT = 800, 400 \n",
        "# base64_pdf = b64encode(pdf_bytes).decode(\"utf-8\")\n",
        "# display(HTML(f'<embed src=\"data:application/pdf;base64,{base64_pdf}\" width=\"{WIDTH}\" height=\"{HEIGHT}\" type=\"application/pdf\">'))"
      ]
    }
  ],
  "metadata": {
    "colab": {
      "collapsed_sections": [
        "advcOa5SGkaE",
        "OJxy7gl1IBaJ"
      ],
      "provenance": [],
      "toc_visible": true
    },
    "kernelspec": {
      "display_name": "nlp",
      "language": "python",
      "name": "python3"
    },
    "language_info": {
      "codemirror_mode": {
        "name": "ipython",
        "version": 3
      },
      "file_extension": ".py",
      "mimetype": "text/x-python",
      "name": "python",
      "nbconvert_exporter": "python",
      "pygments_lexer": "ipython3",
      "version": "3.10.9"
    },
    "orig_nbformat": 4,
    "vscode": {
      "interpreter": {
        "hash": "6192d2b8519ba1dc6668f1bfbce40557ee186aa5dae8ab284b50dd4471395d02"
      }
    }
  },
  "nbformat": 4,
  "nbformat_minor": 0
}
