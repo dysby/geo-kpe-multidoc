{
  "cells": [
    {
      "cell_type": "markdown",
      "metadata": {
        "id": "HZgXQPKlPiRp"
      },
      "source": [
        "# Imports"
      ]
    },
    {
      "cell_type": "code",
      "execution_count": 1,
      "metadata": {
        "id": "TwMDshtoJY8U"
      },
      "outputs": [],
      "source": [
        "import math\n",
        "import os\n",
        "import time\n",
        "from typing import Callable, Dict\n",
        "\n",
        "from os import path\n",
        "\n",
        "# # Analysis\n",
        "# import geopandas as gpd\n",
        "# from pysal.explore import esda\n",
        "# from pysal.lib import weights\n",
        "# from libpysal.weights import DistanceBand\n",
        "# from numpy.random import seed\n",
        "\n",
        "import joblib\n",
        "import matplotlib.pyplot as plt\n",
        "import seaborn as sb\n",
        "import numpy as np\n",
        "import pandas as pd\n",
        "from loguru import logger\n",
        "import re\n",
        "\n",
        "from pandas import IndexSlice, MultiIndex\n",
        "import itertools\n",
        "\n",
        "from geo_kpe_multidoc import (GEO_KPE_MULTIDOC_CACHE_PATH,\n",
        "                              GEO_KPE_MULTIDOC_DATA_PATH,\n",
        "                              GEO_KPE_MULTIDOC_OUTPUT_PATH)\n",
        "\n",
        "\n",
        "from geo_kpe_multidoc.geo.measures import (inv_dist,\n",
        "                                           exp_dist,\n",
        "                                           arc_dist,\n",
        "                                           )\n",
        "\n",
        "from geo_kpe_multidoc.geo.utils import process_geo_associations_for_topics\n",
        "\n",
        "from geo_kpe_multidoc.datasets.process_mordecai import load_topic_geo_locations"
      ]
    },
    {
      "cell_type": "code",
      "execution_count": 2,
      "metadata": {
        "id": "seAQQjd1-sF0"
      },
      "outputs": [],
      "source": [
        "def print_latex(df, caption=None):\n",
        "    print(df.style\n",
        "            .format(precision=2, escape=\"latex\")\n",
        "            .format_index(escape=\"latex\")\n",
        "            .format_index(lambda s: s.replace(\"_\", \" \").capitalize(), axis=1)\n",
        "            .to_latex(hrules=True, \n",
        "                      environment='table', \n",
        "                      position_float=\"centering\",\n",
        "                      # clines = \"all;data\",\n",
        "                      caption=caption))\n",
        "\n",
        "def print_fig_latex(filename, caption=\"Caption\", label='label'):\n",
        "    print(f\"\"\"\\\\begin{{figure}}\n",
        "    \\centering\n",
        "    \\includegraphics[width=\\\\textwidth]{{fig/{filename}}}\n",
        "    \\caption{{{caption}}}\n",
        "    \\label{{fig:{label}}}\n",
        "    \\end{{figure}}\n",
        "    \"\"\")\n",
        "\n",
        "def plot_dist(df, idx_filter, title = None, bins = 20, column='moran_i', by='gold'):\n",
        "    p = sb.histplot(\n",
        "        df.loc[idx_filter]\n",
        "          .groupby(by, group_keys=False)\n",
        "          .apply(lambda x: x.sample(min(len(x), min(np.unique(df.loc[idx_filter][by], return_counts=True)[1]))).sample(frac=1)),\n",
        "        x=column, hue=by, bins=bins\n",
        "    )\n",
        "    p.set_title(title)\n",
        "    return p\n",
        "\n",
        "def save_plot(p, name, caption=\"Caption\", label=\"label\"):\n",
        "    p.get_figure().savefig(os.path.join(GEO_KPE_MULTIDOC_OUTPUT_PATH, name), dpi=100)\n",
        "    print_fig_latex(name, caption, label)\n",
        "    return p\n",
        "\n",
        "def add_gold_label(df, gold):\n",
        "    \"\"\"\n",
        "    Mutate dataframe `df` adding a label column if candidate is in the gold set.\n",
        "    \"\"\"\n",
        "    gold_idx = MultiIndex.from_tuples(\n",
        "    itertools.chain.from_iterable(\n",
        "        df.index[df.index.isin([topic], level=0) \n",
        "                    & df.index.isin(gold[topic], level=1)] \n",
        "        for topic in df.index.get_level_values(0).unique()\n",
        "    ),\n",
        "    names=['topic', 'keyphrases']\n",
        "    )\n",
        "\n",
        "    not_gold_idx = MultiIndex.from_tuples(\n",
        "    itertools.chain.from_iterable(\n",
        "          df.index[df.index.isin([topic], level=0)\n",
        "                      & ~df.index.isin(gold[topic], level=1)] \n",
        "          for topic in df.index.get_level_values(0).unique()\n",
        "      ),\n",
        "      names=['topic', 'keyphrases']\n",
        "    )\n",
        "\n",
        "    df.loc[gold_idx, \"gold\"] = True\n",
        "    df.loc[not_gold_idx, \"gold\"] = False"
      ]
    },
    {
      "cell_type": "markdown",
      "metadata": {
        "id": "HGVcUTLjrtQc"
      },
      "source": [
        "# MDKPERank"
      ]
    },
    {
      "cell_type": "code",
      "execution_count": 4,
      "metadata": {
        "id": "j0-GdOSzJY8l"
      },
      "outputs": [],
      "source": [
        "def get_files(path: str):\n",
        "    geo_file_name_pattern = re.compile(r\"d\\d{2}-mdkpe-geo\\.pkl\")\n",
        "    for file in os.listdir(path):\n",
        "        if os.path.isfile(os.path.join(path, file)) and geo_file_name_pattern.match(file):\n",
        "            yield file"
      ]
    },
    {
      "cell_type": "code",
      "execution_count": null,
      "metadata": {
        "id": "bO67PZ410NVk"
      },
      "outputs": [],
      "source": [
        "# data = pd.DataFrame()\n",
        "# docs_data = pd.DataFrame()\n",
        "# # DELETE coordinates = {}\n",
        "# gold = {}\n",
        "\n",
        "# experiment = \"20230327\"\n",
        "\n",
        "# for filename in get_files(os.path.join(GEO_KPE_MULTIDOC_CACHE_PATH, experiment)):\n",
        "#     topic_id = filename[:3]\n",
        "\n",
        "#     if topic_id in [\"d08\",  # errors\n",
        "#             \"d14\",\n",
        "#             \"d22\",\n",
        "#             \"d28\",\n",
        "#             \"d34\",\n",
        "#             \"d50\",\n",
        "#             \"d53\",\n",
        "#             \"d59\",]:\n",
        "#             logger.info(f\"Skiping topic {topic_id} processing.\")\n",
        "#             continue\n",
        "\n",
        "\n",
        "#     (\n",
        "#         keyphrase_scores,\n",
        "#         candidates,\n",
        "#         keyphrase_document_matrix,\n",
        "#         # keyphrase_coordinates,\n",
        "#         ranking_p_doc, # new\n",
        "#         gold_kp,\n",
        "#     ) = joblib.load(os.path.join(GEO_KPE_MULTIDOC_CACHE_PATH, experiment, filename))\n",
        "\n",
        "#     N = {candidate: len(docs) for candidate, docs in keyphrase_document_matrix.items()}\n",
        "\n",
        "#     keyphrase_scores = {candidate: score for candidate, score in keyphrase_scores}\n",
        "\n",
        "#     topic_docs_data = pd.DataFrame.from_dict(\n",
        "#         {\n",
        "#             doc_id: {\n",
        "#                 candidate: float(score) for candidate, score in candidate_ranking\n",
        "#             }\n",
        "#             for doc_id, (candidate_ranking, _) in ranking_p_doc.items()\n",
        "#         }, \n",
        "#         orient=\"index\"\n",
        "#     ).stack()\n",
        "#     topic_docs_data.name = \"semantic_score\"\n",
        "#     topic_docs_data = topic_docs_data.to_frame()\n",
        "#     topic_docs_data.index.names = (\"doc\", \"keyphrase\")\n",
        "#     topic_docs_data[\"topic\"] = topic_id\n",
        "#     topic_docs_data = topic_docs_data.set_index([\"topic\", topic_docs_data.index])\n",
        "\n",
        "#     topic_data = pd.DataFrame.from_dict(\n",
        "#         keyphrase_scores, orient=\"index\", columns=[\"semantic_score\"]\n",
        "#     )\n",
        "#     topic_data[\"N\"] = pd.DataFrame.from_dict(N, orient=\"index\", columns=[\"N\"])\n",
        "#     topic_data[\"topic\"] = topic_id\n",
        "#     topic_data.index.name = \"keyphrase\"\n",
        "#     topic_data = topic_data.set_index([\"topic\", topic_data.index])\n",
        "\n",
        "#     # coordinates[topic_id] = keyphrase_coordinates\n",
        "#     gold[topic_id] = gold_kp\n",
        "\n",
        "#     docs_data = pd.concat([docs_data, topic_docs_data])\n",
        "#     data = pd.concat([data, topic_data])\n",
        "\n",
        "# joblib.dump(gold, os.path.join(GEO_KPE_MULTIDOC_CACHE_PATH, experiment, \"MKDUC01-gold-20230328.pkl\"))\n",
        "# docs_data.to_parquet(os.path.join(GEO_KPE_MULTIDOC_CACHE_PATH, experiment, \"MKDUC01-docs-data-20230328.parquet\"))\n",
        "# data.to_parquet(os.path.join(GEO_KPE_MULTIDOC_CACHE_PATH, experiment, \"MKDUC01-topic-data-20230328.parquet\"))"
      ]
    },
    {
      "cell_type": "code",
      "execution_count": 6,
      "metadata": {
        "id": "eMNHFXbAJ8wW"
      },
      "outputs": [],
      "source": [
        "experiment = \"MKDUC01-MDKPERank-Longformer-4096-128-130\""
      ]
    },
    {
      "cell_type": "code",
      "execution_count": null,
      "metadata": {
        "colab": {
          "base_uri": "https://localhost:8080/"
        },
        "id": "8JCGoDSN95By",
        "outputId": "ea6a665c-e4de-4db8-c93d-0e90ad4422de"
      },
      "outputs": [
        {
          "name": "stderr",
          "output_type": "stream",
          "text": [
            "\u001b[32m2023-05-01 16:56:02.434\u001b[0m | \u001b[1mINFO    \u001b[0m | \u001b[36m__main__\u001b[0m:\u001b[36m<cell line: 6>\u001b[0m:\u001b[36m17\u001b[0m - \u001b[1mSkiping topic d08 processing.\u001b[0m\n",
            "\u001b[32m2023-05-01 16:56:02.554\u001b[0m | \u001b[1mINFO    \u001b[0m | \u001b[36m__main__\u001b[0m:\u001b[36m<cell line: 6>\u001b[0m:\u001b[36m17\u001b[0m - \u001b[1mSkiping topic d14 processing.\u001b[0m\n",
            "\u001b[32m2023-05-01 16:56:02.649\u001b[0m | \u001b[1mINFO    \u001b[0m | \u001b[36m__main__\u001b[0m:\u001b[36m<cell line: 6>\u001b[0m:\u001b[36m17\u001b[0m - \u001b[1mSkiping topic d22 processing.\u001b[0m\n",
            "\u001b[32m2023-05-01 16:56:02.764\u001b[0m | \u001b[1mINFO    \u001b[0m | \u001b[36m__main__\u001b[0m:\u001b[36m<cell line: 6>\u001b[0m:\u001b[36m17\u001b[0m - \u001b[1mSkiping topic d28 processing.\u001b[0m\n",
            "\u001b[32m2023-05-01 16:56:02.976\u001b[0m | \u001b[1mINFO    \u001b[0m | \u001b[36m__main__\u001b[0m:\u001b[36m<cell line: 6>\u001b[0m:\u001b[36m17\u001b[0m - \u001b[1mSkiping topic d34 processing.\u001b[0m\n",
            "\u001b[32m2023-05-01 16:56:03.561\u001b[0m | \u001b[1mINFO    \u001b[0m | \u001b[36m__main__\u001b[0m:\u001b[36m<cell line: 6>\u001b[0m:\u001b[36m17\u001b[0m - \u001b[1mSkiping topic d50 processing.\u001b[0m\n",
            "\u001b[32m2023-05-01 16:56:03.564\u001b[0m | \u001b[1mINFO    \u001b[0m | \u001b[36m__main__\u001b[0m:\u001b[36m<cell line: 6>\u001b[0m:\u001b[36m17\u001b[0m - \u001b[1mSkiping topic d53 processing.\u001b[0m\n",
            "\u001b[32m2023-05-01 16:56:03.943\u001b[0m | \u001b[1mINFO    \u001b[0m | \u001b[36m__main__\u001b[0m:\u001b[36m<cell line: 6>\u001b[0m:\u001b[36m17\u001b[0m - \u001b[1mSkiping topic d59 processing.\u001b[0m\n"
          ]
        }
      ],
      "source": [
        "global_topic_data = pd.DataFrame()\n",
        "docs_data = pd.DataFrame()\n",
        "topic_candidate_document_matrix = dict()\n",
        "gold = dict()\n",
        "\n",
        "for filename in get_files(os.path.join(GEO_KPE_MULTIDOC_CACHE_PATH, experiment)):\n",
        "    topic_id = filename[:3]\n",
        "\n",
        "    if topic_id in [\"d08\",  # errors\n",
        "            \"d14\",\n",
        "            \"d22\",\n",
        "            \"d28\",\n",
        "            \"d34\",\n",
        "            \"d50\",\n",
        "            \"d53\",\n",
        "            \"d59\",]:\n",
        "            logger.info(f\"Skiping topic {topic_id} processing.\")\n",
        "            continue\n",
        "\n",
        "    # {\n",
        "    #     \"top_n_scores\": top_n_scores,\n",
        "    #     \"score_per_document\": score_per_document,\n",
        "    #     \"candidate_document_matrix\": candidate_document_matrix,\n",
        "    #     \"gold_kp\": gold_kp,\n",
        "    # }\n",
        "    topic_results = joblib.load(os.path.join(GEO_KPE_MULTIDOC_CACHE_PATH, experiment, filename))\n",
        "\n",
        "    N = topic_results[\"candidate_document_matrix\"].sum(axis=1)\n",
        "\n",
        "    topic_docs_data = topic_results[\"score_per_document\"].melt(var_name='document', value_name='semantic_score', ignore_index=False)\n",
        "    topic_docs_data[\"topic\"] = topic_id\n",
        "    topic_docs_data.index.name = \"keyphrase\"\n",
        "    topic_docs_data = topic_docs_data.set_index([\"topic\", \"document\", topic_docs_data.index])\n",
        "    topic_docs_data\n",
        "\n",
        "    topic_data = pd.DataFrame(topic_results[\"top_n_scores\"], columns=[\"semantic_score\"])\n",
        "    topic_data[\"N\"] = N\n",
        "    topic_data[\"topic\"] = topic_id\n",
        "    topic_data.index.name = \"keyphrase\"\n",
        "    topic_data = topic_data.set_index([\"topic\", topic_data.index])\n",
        "\n",
        "    # coordinates[topic_id] = keyphrase_coordinates\n",
        "    gold[topic_id] = topic_results[\"gold_kp\"]\n",
        "    topic_candidate_document_matrix[topic_id] = topic_results[\"candidate_document_matrix\"]\n",
        "    docs_data = pd.concat([docs_data, topic_docs_data])\n",
        "    global_topic_data = pd.concat([global_topic_data, topic_data])\n",
        "\n",
        "joblib.dump(topic_candidate_document_matrix, os.path.join(GEO_KPE_MULTIDOC_CACHE_PATH, experiment, \"MKDUC01-topic-cand-doc-matrix-20230501.pkl\"))\n",
        "joblib.dump(gold, os.path.join(GEO_KPE_MULTIDOC_CACHE_PATH, experiment, \"MKDUC01-gold-20230501.pkl\"))\n",
        "docs_data.to_parquet(os.path.join(GEO_KPE_MULTIDOC_CACHE_PATH, experiment, \"MKDUC01-docs-data-20230501.parquet\"))\n",
        "global_topic_data.to_parquet(os.path.join(GEO_KPE_MULTIDOC_CACHE_PATH, experiment, \"MKDUC01-topic-data-20230501.parquet\"))"
      ]
    },
    {
      "cell_type": "markdown",
      "metadata": {
        "id": "jmzGu-W9JY8w"
      },
      "source": [
        "# Plots\n",
        "\n"
      ]
    },
    {
      "cell_type": "code",
      "execution_count": null,
      "metadata": {
        "id": "MX5leDq6AhWH"
      },
      "outputs": [],
      "source": [
        "# select d45 - document coordinates are more clustered\n",
        "# select d57 - document coordinates are spread\n",
        "d45 = IndexSlice['d45', :]\n",
        "d57 = IndexSlice['d57', :]"
      ]
    },
    {
      "cell_type": "code",
      "execution_count": null,
      "metadata": {
        "colab": {
          "base_uri": "https://localhost:8080/",
          "height": 323
        },
        "id": "2scKYjScA6TV",
        "outputId": "b1976394-40ca-4366-9303-13c1a24e934f"
      },
      "outputs": [
        {
          "name": "stderr",
          "output_type": "stream",
          "text": [
            "<ipython-input-36-12c9bfd76fbc>:2: UserWarning: To output multiple subplots, the figure containing the passed axes is being cleared.\n",
            "  topic_geo_data_24.loc[d45].hist(column='moran_i', by='gold', density=True, ax=ax)\n"
          ]
        },
        {
          "data": {
            "image/png": "[encoded data removed]",
            "text/plain": [
              "<Figure size 432x288 with 2 Axes>"
            ]
          },
          "metadata": {},
          "output_type": "display_data"
        }
      ],
      "source": [
        "fig, ax = plt.subplots(1)\n",
        "topic_geo_data_24.loc[d45].hist(column='moran_i', by='gold', density=True, ax=ax)\n"
      ]
    },
    {
      "cell_type": "code",
      "execution_count": null,
      "metadata": {
        "colab": {
          "base_uri": "https://localhost:8080/",
          "height": 323
        },
        "id": "T1W13qKJB3Am",
        "outputId": "e0c0e351-7855-4e90-a23a-301e4116dca8"
      },
      "outputs": [
        {
          "data": {
            "text/plain": [
              "array([<Axes: title={'center': 'False'}>,\n",
              "       <Axes: title={'center': 'True'}>], dtype=object)"
            ]
          },
          "execution_count": 27,
          "metadata": {},
          "output_type": "execute_result"
        },
        {
          "data": {
            "image/png": "[encoded data removed]",
            "text/plain": [
              "<Figure size 432x288 with 2 Axes>"
            ]
          },
          "metadata": {},
          "output_type": "display_data"
        }
      ],
      "source": []
    },
    {
      "cell_type": "code",
      "execution_count": null,
      "metadata": {
        "colab": {
          "base_uri": "https://localhost:8080/",
          "height": 298
        },
        "id": "OuBoleiyEJy7",
        "outputId": "8d8ff83c-72de-4164-891a-65c8a67ace4a"
      },
      "outputs": [
        {
          "data": {
            "text/plain": [
              "<Axes: xlabel='moran_i', ylabel='Count'>"
            ]
          },
          "execution_count": 39,
          "metadata": {},
          "output_type": "execute_result"
        },
        {
          "data": {
            "image/png": "[encoded data removed]",
            "text/plain": [
              "<Figure size 432x288 with 1 Axes>"
            ]
          },
          "metadata": {},
          "output_type": "display_data"
        }
      ],
      "source": [
        "sb.histplot(topic_geo_data_24.loc[d45], x=\"moran_i\", hue=\"gold\", bins=40)"
      ]
    },
    {
      "cell_type": "code",
      "execution_count": null,
      "metadata": {
        "id": "jnbyP1BLGpSE"
      },
      "outputs": [],
      "source": []
    },
    {
      "cell_type": "code",
      "execution_count": null,
      "metadata": {
        "id": "COCnRtKjTuCk"
      },
      "outputs": [],
      "source": []
    },
    {
      "cell_type": "code",
      "execution_count": null,
      "metadata": {
        "colab": {
          "base_uri": "https://localhost:8080/",
          "height": 427
        },
        "id": "IxLrXkSsIhvx",
        "outputId": "29429aa0-7b66-46a0-c89a-e14bc4f88ce0"
      },
      "outputs": [
        {
          "name": "stdout",
          "output_type": "stream",
          "text": [
            "\\begin{figure}\n",
            "    \\centering\n",
            "    \\includegraphics[width=\\textwidth]{fig/plt-dist-moran-i-d45-exp20230324.pdf}\n",
            "    \\caption{d45 - document coordinates are more clustered}\n",
            "    \\label{fig:label}\n",
            "    \\end{figure}\n",
            "    \n"
          ]
        },
        {
          "data": {
            "text/plain": [
              "<Axes: xlabel='moran_i', ylabel='Count'>"
            ]
          },
          "execution_count": 104,
          "metadata": {},
          "output_type": "execute_result"
        },
        {
          "data": {
            "image/png": "[encoded data removed]",
            "text/plain": [
              "<Figure size 432x288 with 1 Axes>"
            ]
          },
          "metadata": {},
          "output_type": "display_data"
        }
      ],
      "source": [
        "save_plot(\n",
        "    plot_dist(topic_geo_data_24, d45, title=None),\n",
        "    name = \"plt-dist-moran-i-d45-exp20230324.pdf\",\n",
        "    caption = \"d45 - document coordinates are more clustered\")"
      ]
    },
    {
      "cell_type": "code",
      "execution_count": null,
      "metadata": {
        "colab": {
          "base_uri": "https://localhost:8080/",
          "height": 427
        },
        "id": "jeJJ8OevLw68",
        "outputId": "039b8f61-c333-497f-9eda-9866182f0a5b"
      },
      "outputs": [
        {
          "name": "stdout",
          "output_type": "stream",
          "text": [
            "\\begin{figure}\n",
            "    \\centering\n",
            "    \\includegraphics[width=\\textwidth]{fig/plt-dist-moran-i-d57-exp20230324.pdf}\n",
            "    \\caption{d57 - document coordinates are spread}\n",
            "    \\label{fig:label}\n",
            "    \\end{figure}\n",
            "    \n"
          ]
        },
        {
          "data": {
            "text/plain": [
              "<Axes: xlabel='moran_i', ylabel='Count'>"
            ]
          },
          "execution_count": 100,
          "metadata": {},
          "output_type": "execute_result"
        },
        {
          "data": {
            "image/png": "[encoded data removed]",
            "text/plain": [
              "<Figure size 432x288 with 1 Axes>"
            ]
          },
          "metadata": {},
          "output_type": "display_data"
        }
      ],
      "source": [
        "save_plot(\n",
        "    plot_dist(topic_geo_data_24, d57, title=None),\n",
        "    name = \"plt-dist-moran-i-d57-exp20230324.pdf\",\n",
        "    caption = \"d57 - document coordinates are spread\")"
      ]
    },
    {
      "cell_type": "code",
      "execution_count": null,
      "metadata": {
        "colab": {
          "base_uri": "https://localhost:8080/",
          "height": 427
        },
        "id": "p3jnze0LMDBR",
        "outputId": "5601c476-adec-4275-adee-8f83e5512c86"
      },
      "outputs": [
        {
          "name": "stdout",
          "output_type": "stream",
          "text": [
            "\\begin{figure}\n",
            "    \\centering\n",
            "    \\includegraphics[width=\\textwidth]{fig/plt-dist-moran-i-all-exp20230324.pdf}\n",
            "    \\caption{All topics}\n",
            "    \\label{fig:label}\n",
            "    \\end{figure}\n",
            "    \n"
          ]
        },
        {
          "data": {
            "text/plain": [
              "<Axes: xlabel='moran_i', ylabel='Count'>"
            ]
          },
          "execution_count": 105,
          "metadata": {},
          "output_type": "execute_result"
        },
        {
          "data": {
            "image/png": "[encoded data removed]",
            "text/plain": [
              "<Figure size 432x288 with 1 Axes>"
            ]
          },
          "metadata": {},
          "output_type": "display_data"
        }
      ],
      "source": [
        "save_plot(\n",
        "    plot_dist(topic_geo_data_24, IndexSlice[:, :], title=None),\n",
        "    name = \"plt-dist-moran-i-all-exp20230324.pdf\",\n",
        "    caption = \"All topics\")"
      ]
    },
    {
      "cell_type": "code",
      "execution_count": null,
      "metadata": {
        "colab": {
          "base_uri": "https://localhost:8080/",
          "height": 427
        },
        "id": "ufFqjVzLMc63",
        "outputId": "fe5b3ca7-c3aa-477b-cce1-272fbc41ee54"
      },
      "outputs": [
        {
          "name": "stdout",
          "output_type": "stream",
          "text": [
            "\\begin{figure}\n",
            "    \\centering\n",
            "    \\includegraphics[width=\\textwidth]{fig/plt-dist-Ngt1-all-exp20230324.pdf}\n",
            "    \\caption{All topics (only candidates in many docs N>1)}\n",
            "    \\label{fig:label}\n",
            "    \\end{figure}\n",
            "    \n"
          ]
        },
        {
          "data": {
            "text/plain": [
              "<Axes: xlabel='moran_i', ylabel='Count'>"
            ]
          },
          "execution_count": 107,
          "metadata": {},
          "output_type": "execute_result"
        },
        {
          "data": {
            "image/png": "[encoded data removed]",
            "text/plain": [
              "<Figure size 432x288 with 1 Axes>"
            ]
          },
          "metadata": {},
          "output_type": "display_data"
        }
      ],
      "source": [
        "save_plot(\n",
        "    plot_dist(topic_geo_data_24[topic_geo_data_24[\"N\"] > 1], IndexSlice[:, :], title=None),\n",
        "    name = \"plt-dist-Ngt1-all-exp20230324.pdf\",\n",
        "    caption = \"All topics (only candidates in many docs N>1)\")"
      ]
    },
    {
      "cell_type": "code",
      "execution_count": null,
      "metadata": {
        "colab": {
          "base_uri": "https://localhost:8080/",
          "height": 426
        },
        "id": "SD51yZd2SNju",
        "outputId": "d2b22bb9-285f-4afe-c736-06f03f066605"
      },
      "outputs": [
        {
          "name": "stdout",
          "output_type": "stream",
          "text": [
            "\\begin{figure}\n",
            "    \\centering\n",
            "    \\includegraphics[width=\\textwidth]{fig/plt-dist-N-all-exp20230324.pdf}\n",
            "    \\caption{Number of documents where each candidate is present}\n",
            "    \\label{fig:label}\n",
            "    \\end{figure}\n",
            "    \n"
          ]
        },
        {
          "data": {
            "text/plain": [
              "<Axes: xlabel='N', ylabel='Count'>"
            ]
          },
          "execution_count": 109,
          "metadata": {},
          "output_type": "execute_result"
        },
        {
          "data": {
            "image/png": "[encoded data removed]",
            "text/plain": [
              "<Figure size 432x288 with 1 Axes>"
            ]
          },
          "metadata": {},
          "output_type": "display_data"
        }
      ],
      "source": [
        "save_plot(\n",
        "    plot_dist(topic_geo_data_24, IndexSlice[:, :], column=\"N\",  title=None),\n",
        "    name = \"plt-dist-N-all-exp20230324.pdf\",\n",
        "    caption = \"Number of documents where each candidate is present\")"
      ]
    },
    {
      "cell_type": "code",
      "execution_count": null,
      "metadata": {
        "colab": {
          "base_uri": "https://localhost:8080/",
          "height": 297
        },
        "id": "YrYNKMB9SZoM",
        "outputId": "98232100-3412-481e-e10d-2941899276fb"
      },
      "outputs": [
        {
          "data": {
            "text/plain": [
              "<Axes: xlabel='N', ylabel='Count'>"
            ]
          },
          "execution_count": 108,
          "metadata": {},
          "output_type": "execute_result"
        },
        {
          "data": {
            "image/png": "[encoded data removed]",
            "text/plain": [
              "<Figure size 432x288 with 1 Axes>"
            ]
          },
          "metadata": {},
          "output_type": "display_data"
        }
      ],
      "source": []
    },
    {
      "cell_type": "markdown",
      "metadata": {
        "id": "unp9M4lNAkUc"
      },
      "source": [
        "# Comparison Geo Association (inv_func, [a=1, a=17000])"
      ]
    },
    {
      "cell_type": "code",
      "execution_count": null,
      "metadata": {
        "colab": {
          "base_uri": "https://localhost:8080/",
          "height": 575
        },
        "id": "cw9c8AAeYLLx",
        "outputId": "6603b83c-06c1-4793-83e3-405bf9c2f81f"
      },
      "outputs": [
        {
          "data": {
            "image/png": "[encoded data removed]",
            "text/plain": [
              "<Figure size 432x288 with 1 Axes>"
            ]
          },
          "metadata": {},
          "output_type": "display_data"
        },
        {
          "data": {
            "image/png": "[encoded data removed]",
            "text/plain": [
              "<Figure size 432x288 with 1 Axes>"
            ]
          },
          "metadata": {},
          "output_type": "display_data"
        }
      ],
      "source": [
        "#save_plot(\n",
        "plot_dist(topic_geo_data_24, d57, title=\"d57, a=1\")\n",
        "plt.show()\n",
        "#    name = \"plt-dist-moran-i-d57-exp20230324.pdf\",\n",
        "#    caption = \"d57 - document coordinates are spread\")\n",
        "plot_dist(topic_geo_data_inv_a17000, d57, title=\"d57, a=17000\")\n",
        "plt.show()"
      ]
    },
    {
      "cell_type": "code",
      "execution_count": null,
      "metadata": {
        "colab": {
          "base_uri": "https://localhost:8080/",
          "height": 298
        },
        "id": "y8SgPo7nBAQA",
        "outputId": "2ccef3ea-0393-4731-fe9e-f6529b945cd0"
      },
      "outputs": [
        {
          "data": {
            "text/plain": [
              "<Axes: xlabel='moran_i', ylabel='Count'>"
            ]
          },
          "execution_count": 17,
          "metadata": {},
          "output_type": "execute_result"
        },
        {
          "data": {
            "image/png": "[encoded data removed]",
            "text/plain": [
              "<Figure size 432x288 with 1 Axes>"
            ]
          },
          "metadata": {},
          "output_type": "display_data"
        }
      ],
      "source": [
        "plot_dist(topic_geo_data_inv_a17000, IndexSlice[:, :], title=None)"
      ]
    },
    {
      "cell_type": "markdown",
      "metadata": {
        "id": "Xj-eAVbDEN9c"
      },
      "source": [
        "# Ad-hoc"
      ]
    },
    {
      "cell_type": "code",
      "execution_count": 3,
      "metadata": {},
      "outputs": [],
      "source": [
        "\n",
        "experiment = \"MKDUC01-MDKPERank-Longformer-4096-128-130\"\n",
        "\n",
        "docs_data = pd.read_parquet(os.path.join(GEO_KPE_MULTIDOC_CACHE_PATH, experiment, \"MKDUC01-docs-data-20230501.parquet\"))\n",
        "topic_data = pd.read_parquet(os.path.join(GEO_KPE_MULTIDOC_CACHE_PATH,  experiment, \"MKDUC01-topic-data-20230501.parquet\"))\n",
        "topic_docs_coordinates = pd.read_parquet(os.path.join(GEO_KPE_MULTIDOC_CACHE_PATH, \"MKDUC01-topic-doc-coordinates-20230329.parquet\"))\n",
        "topic_candidate_document_matrix = joblib.load(os.path.join(GEO_KPE_MULTIDOC_CACHE_PATH, experiment, \"MKDUC01-topic-cand-doc-matrix-20230501.pkl\"))\n",
        "\n",
        "gold_24 = joblib.load(os.path.join(GEO_KPE_MULTIDOC_CACHE_PATH, experiment, \"MKDUC01-gold-20230501.pkl\"))\n",
        "add_gold_label(topic_data, gold_24)"
      ]
    },
    {
      "cell_type": "code",
      "execution_count": 7,
      "metadata": {},
      "outputs": [
        {
          "data": {
            "text/html": [
              "<div>\n",
              "<style scoped>\n",
              "    .dataframe tbody tr th:only-of-type {\n",
              "        vertical-align: middle;\n",
              "    }\n",
              "\n",
              "    .dataframe tbody tr th {\n",
              "        vertical-align: top;\n",
              "    }\n",
              "\n",
              "    .dataframe thead th {\n",
              "        text-align: right;\n",
              "    }\n",
              "</style>\n",
              "<table border=\"1\" class=\"dataframe\">\n",
              "  <thead>\n",
              "    <tr style=\"text-align: right;\">\n",
              "      <th></th>\n",
              "      <th></th>\n",
              "      <th>semantic_score</th>\n",
              "      <th>N</th>\n",
              "      <th>gold</th>\n",
              "      <th>moran_i</th>\n",
              "      <th>geary_c</th>\n",
              "      <th>getis_g</th>\n",
              "    </tr>\n",
              "    <tr>\n",
              "      <th>topic</th>\n",
              "      <th>keyphrase</th>\n",
              "      <th></th>\n",
              "      <th></th>\n",
              "      <th></th>\n",
              "      <th></th>\n",
              "      <th></th>\n",
              "      <th></th>\n",
              "    </tr>\n",
              "  </thead>\n",
              "  <tbody>\n",
              "    <tr>\n",
              "      <th rowspan=\"5\" valign=\"top\">d04</th>\n",
              "      <th>disaster loss</th>\n",
              "      <td>0.708538</td>\n",
              "      <td>1</td>\n",
              "      <td>True</td>\n",
              "      <td>1.0</td>\n",
              "      <td>0.0</td>\n",
              "      <td>0.071429</td>\n",
              "    </tr>\n",
              "    <tr>\n",
              "      <th>industry dollar</th>\n",
              "      <td>0.703703</td>\n",
              "      <td>1</td>\n",
              "      <td>False</td>\n",
              "      <td>1.0</td>\n",
              "      <td>0.0</td>\n",
              "      <td>0.071429</td>\n",
              "    </tr>\n",
              "    <tr>\n",
              "      <th>catastrophe</th>\n",
              "      <td>0.699115</td>\n",
              "      <td>1</td>\n",
              "      <td>False</td>\n",
              "      <td>1.0</td>\n",
              "      <td>0.0</td>\n",
              "      <td>0.111111</td>\n",
              "    </tr>\n",
              "    <tr>\n",
              "      <th>insurance industry analyst</th>\n",
              "      <td>0.698589</td>\n",
              "      <td>1</td>\n",
              "      <td>False</td>\n",
              "      <td>1.0</td>\n",
              "      <td>0.0</td>\n",
              "      <td>0.071429</td>\n",
              "    </tr>\n",
              "    <tr>\n",
              "      <th>catastrophe loss</th>\n",
              "      <td>0.698325</td>\n",
              "      <td>1</td>\n",
              "      <td>False</td>\n",
              "      <td>1.0</td>\n",
              "      <td>0.0</td>\n",
              "      <td>0.111111</td>\n",
              "    </tr>\n",
              "    <tr>\n",
              "      <th>...</th>\n",
              "      <th>...</th>\n",
              "      <td>...</td>\n",
              "      <td>...</td>\n",
              "      <td>...</td>\n",
              "      <td>...</td>\n",
              "      <td>...</td>\n",
              "      <td>...</td>\n",
              "    </tr>\n",
              "    <tr>\n",
              "      <th rowspan=\"5\" valign=\"top\">d57</th>\n",
              "      <th>window</th>\n",
              "      <td>0.128975</td>\n",
              "      <td>1</td>\n",
              "      <td>False</td>\n",
              "      <td>1.0</td>\n",
              "      <td>0.0</td>\n",
              "      <td>0.166667</td>\n",
              "    </tr>\n",
              "    <tr>\n",
              "      <th>day session</th>\n",
              "      <td>0.118611</td>\n",
              "      <td>1</td>\n",
              "      <td>False</td>\n",
              "      <td>1.0</td>\n",
              "      <td>0.0</td>\n",
              "      <td>0.166667</td>\n",
              "    </tr>\n",
              "    <tr>\n",
              "      <th>randall updike</th>\n",
              "      <td>0.091626</td>\n",
              "      <td>1</td>\n",
              "      <td>False</td>\n",
              "      <td>1.0</td>\n",
              "      <td>0.0</td>\n",
              "      <td>0.166667</td>\n",
              "    </tr>\n",
              "    <tr>\n",
              "      <th>corner</th>\n",
              "      <td>0.091019</td>\n",
              "      <td>1</td>\n",
              "      <td>False</td>\n",
              "      <td>1.0</td>\n",
              "      <td>0.0</td>\n",
              "      <td>0.166667</td>\n",
              "    </tr>\n",
              "    <tr>\n",
              "      <th>shirt</th>\n",
              "      <td>0.045794</td>\n",
              "      <td>1</td>\n",
              "      <td>False</td>\n",
              "      <td>1.0</td>\n",
              "      <td>0.0</td>\n",
              "      <td>0.166667</td>\n",
              "    </tr>\n",
              "  </tbody>\n",
              "</table>\n",
              "<p>20751 rows × 6 columns</p>\n",
              "</div>"
            ],
            "text/plain": [
              "                                  semantic_score  N   gold  moran_i  geary_c  \\\n",
              "topic keyphrase                                                                \n",
              "d04   disaster loss                     0.708538  1   True      1.0      0.0   \n",
              "      industry dollar                   0.703703  1  False      1.0      0.0   \n",
              "      catastrophe                       0.699115  1  False      1.0      0.0   \n",
              "      insurance industry analyst        0.698589  1  False      1.0      0.0   \n",
              "      catastrophe loss                  0.698325  1  False      1.0      0.0   \n",
              "...                                          ... ..    ...      ...      ...   \n",
              "d57   window                            0.128975  1  False      1.0      0.0   \n",
              "      day session                       0.118611  1  False      1.0      0.0   \n",
              "      randall updike                    0.091626  1  False      1.0      0.0   \n",
              "      corner                            0.091019  1  False      1.0      0.0   \n",
              "      shirt                             0.045794  1  False      1.0      0.0   \n",
              "\n",
              "                                   getis_g  \n",
              "topic keyphrase                             \n",
              "d04   disaster loss               0.071429  \n",
              "      industry dollar             0.071429  \n",
              "      catastrophe                 0.111111  \n",
              "      insurance industry analyst  0.071429  \n",
              "      catastrophe loss            0.111111  \n",
              "...                                    ...  \n",
              "d57   window                      0.166667  \n",
              "      day session                 0.166667  \n",
              "      randall updike              0.166667  \n",
              "      corner                      0.166667  \n",
              "      shirt                       0.166667  \n",
              "\n",
              "[20751 rows x 6 columns]"
            ]
          },
          "execution_count": 7,
          "metadata": {},
          "output_type": "execute_result"
        }
      ],
      "source": [
        "d45 = IndexSlice['d45', :]\n",
        "d57 = IndexSlice['d57', :]\n",
        "df = topic_data.copy()\n",
        "\n",
        "f_map = {\n",
        "    \"Inverse\": inv_dist,\n",
        "    \"Exponential\": exp_dist,\n",
        "    \"Arccot\": arc_dist,\n",
        "}\n",
        "\n",
        "w_function = f_map['Inverse']\n",
        "w_function_param = 500\n",
        "\n",
        "\n",
        "process_geo_associations_for_topics(df, \n",
        "                                    docs_data,\n",
        "                                    topic_candidate_document_matrix,\n",
        "                                    doc_coordinate_data = topic_docs_coordinates,\n",
        "                                    w_function = w_function, \n",
        "                                    w_function_param = w_function_param, \n",
        "                                    save_cache=False)"
      ]
    },
    {
      "cell_type": "code",
      "execution_count": 5,
      "metadata": {},
      "outputs": [],
      "source": [
        "\n",
        "    "
      ]
    },
    {
      "cell_type": "code",
      "execution_count": 6,
      "metadata": {},
      "outputs": [
        {
          "data": {
            "text/plain": [
              "<AxesSubplot:title={'center':'inv_dist, a = 1000, All topics'}, xlabel='moran_i', ylabel='Count'>"
            ]
          },
          "execution_count": 6,
          "metadata": {},
          "output_type": "execute_result"
        },
        {
          "data": {
            "image/png": "[encoded data removed]",
            "text/plain": [
              "<Figure size 460.8x345.6 with 1 Axes>"
            ]
          },
          "metadata": {
            "needs_background": "light"
          },
          "output_type": "display_data"
        },
        {
          "data": {
            "image/png": "[encoded data removed]",
            "text/plain": [
              "<Figure size 460.8x345.6 with 1 Axes>"
            ]
          },
          "metadata": {
            "needs_background": "light"
          },
          "output_type": "display_data"
        },
        {
          "data": {
            "image/png": "[encoded data removed]",
            "text/plain": [
              "<Figure size 460.8x345.6 with 1 Axes>"
            ]
          },
          "metadata": {
            "needs_background": "light"
          },
          "output_type": "display_data"
        }
      ],
      "source": [
        "plt.rcParams['figure.figsize'] = (6.4, 4.8)\n",
        "    \n",
        "fig1 = plt.figure(1)\n",
        "fig1.add_subplot(\n",
        "    plot_dist(df, d45, title=f\"{w_function.__name__}, a = {w_function_param}, d45\")\n",
        ")\n",
        "\n",
        "fig2 = plt.figure(2)\n",
        "fig2.add_subplot(\n",
        "    plot_dist(df, d57, title=f\"{w_function.__name__}, a = {w_function_param}, d57\")\n",
        ")\n",
        "\n",
        "\n",
        "fig3 = plt.figure(3)\n",
        "fig3.add_subplot(\n",
        "    plot_dist(df, IndexSlice[:, :], title=f\"{w_function.__name__}, a = {w_function_param}, All topics\")\n",
        ")"
      ]
    },
    {
      "cell_type": "code",
      "execution_count": null,
      "metadata": {
        "id": "qZ5zm-SXB4vv"
      },
      "outputs": [],
      "source": [
        "topic_geo_data_adhoc = pd.read_parquet(os.path.join(GEO_KPE_MULTIDOC_CACHE_PATH,  \"MKDUC01\", \"geo-measures-exp_dist-1-20230324-224344.parquet\"))\n",
        "add_gold_label(topic_geo_data_adhoc, gold_24)"
      ]
    },
    {
      "cell_type": "code",
      "execution_count": null,
      "metadata": {
        "colab": {
          "base_uri": "https://localhost:8080/",
          "height": 298
        },
        "id": "7sHjWZ0EEmJ1",
        "outputId": "e0e1c119-2840-4dd0-83a6-4e97be9ff08b"
      },
      "outputs": [],
      "source": [
        "plot_dist(topic_geo_data_adhoc, IndexSlice[:, :], title=None)\n",
        "# a = 10"
      ]
    },
    {
      "cell_type": "code",
      "execution_count": null,
      "metadata": {
        "colab": {
          "base_uri": "https://localhost:8080/",
          "height": 298
        },
        "id": "LCcDol5TGefc",
        "outputId": "38094fc5-4b99-43fa-a235-db3f94babaf8"
      },
      "outputs": [],
      "source": [
        "# geo-measures-inv_dist-100-20230329-111642\n",
        "# a = 100\n",
        "plot_dist(topic_geo_data_adhoc, IndexSlice[:, :], title=None)"
      ]
    },
    {
      "cell_type": "code",
      "execution_count": null,
      "metadata": {
        "colab": {
          "base_uri": "https://localhost:8080/",
          "height": 298
        },
        "id": "jkzcwLUiEpR_",
        "outputId": "047bea2f-799c-439c-b8b7-462a6d35caa3"
      },
      "outputs": [],
      "source": [
        "# geo-measures-inv_dist-1000-20230329-111757\n",
        "# a = 1000\n",
        "plot_dist(topic_geo_data_adhoc, IndexSlice[:, :], title=None)"
      ]
    },
    {
      "cell_type": "code",
      "execution_count": null,
      "metadata": {
        "id": "xYH_r7dhF32Q"
      },
      "outputs": [],
      "source": [
        "plot_dist(topic_geo_data_adhoc, IndexSlice[:, :], title=None)\n",
        "# a = 1000"
      ]
    },
    {
      "cell_type": "code",
      "execution_count": null,
      "metadata": {
        "colab": {
          "base_uri": "https://localhost:8080/",
          "height": 298
        },
        "id": "PyGAQravHOXm",
        "outputId": "b5f97849-591d-45c7-a420-e0b9cd6f6abd"
      },
      "outputs": [],
      "source": [
        "# geo-measures-exp_dist-1-20230324-224344\n",
        "plot_dist(topic_geo_data_adhoc, IndexSlice[:, :], title=None)"
      ]
    },
    {
      "cell_type": "code",
      "execution_count": null,
      "metadata": {
        "colab": {
          "base_uri": "https://localhost:8080/",
          "height": 298
        },
        "id": "O3lhKqowHRdE",
        "outputId": "2bffa596-5098-4177-a88a-27301cd8967c"
      },
      "outputs": [],
      "source": [
        "# geo-measures-exp_dist-0.1-20230324-223915\n",
        "plot_dist(topic_geo_data_adhoc, d57, title=None)"
      ]
    },
    {
      "cell_type": "code",
      "execution_count": null,
      "metadata": {
        "colab": {
          "base_uri": "https://localhost:8080/",
          "height": 280
        },
        "id": "4PUrPWXBHvG4",
        "outputId": "173ad2e2-590a-4833-a8e5-5ef578f00d5b"
      },
      "outputs": [],
      "source": [
        "plot_dist(topic_geo_data_adhoc, d57, title=None)\n",
        "plt.xlim = (0, 1)"
      ]
    },
    {
      "cell_type": "code",
      "execution_count": null,
      "metadata": {
        "colab": {
          "base_uri": "https://localhost:8080/",
          "height": 323
        },
        "id": "edew1kCUICTd",
        "outputId": "73acf81e-3c70-429a-b10b-958a79a5a97b"
      },
      "outputs": [],
      "source": [
        "topic_geo_data_adhoc.loc[d57].hist(column='moran_i', by='gold', density=True)"
      ]
    },
    {
      "cell_type": "markdown",
      "metadata": {
        "id": "dpCqVPIGPzkH"
      },
      "source": [
        "# Gradio APP"
      ]
    },
    {
      "cell_type": "code",
      "execution_count": 7,
      "metadata": {
        "id": "JOtgVzTLeMTE"
      },
      "outputs": [],
      "source": [
        "experiment = \"MKDUC01-MDKPERank-Longformer-4096-128-130\""
      ]
    },
    {
      "cell_type": "code",
      "execution_count": 8,
      "metadata": {
        "id": "MYz-B89NYnMG"
      },
      "outputs": [],
      "source": [
        "docs_data = pd.read_parquet(os.path.join(GEO_KPE_MULTIDOC_CACHE_PATH, experiment, \"MKDUC01-docs-data-20230501.parquet\"))\n",
        "topic_data = pd.read_parquet(os.path.join(GEO_KPE_MULTIDOC_CACHE_PATH,  experiment, \"MKDUC01-topic-data-20230501.parquet\"))\n",
        "topic_docs_coordinates = pd.read_parquet(os.path.join(GEO_KPE_MULTIDOC_CACHE_PATH, \"MKDUC01-topic-doc-coordinates-20230329.parquet\"))\n",
        "topic_candidate_document_matrix = joblib.load(os.path.join(GEO_KPE_MULTIDOC_CACHE_PATH, experiment, \"MKDUC01-topic-cand-doc-matrix-20230501.pkl\"))\n",
        "\n",
        "gold_24 = joblib.load(os.path.join(GEO_KPE_MULTIDOC_CACHE_PATH, experiment, \"MKDUC01-gold-20230501.pkl\"))\n",
        "add_gold_label(topic_data, gold_24)"
      ]
    },
    {
      "cell_type": "code",
      "execution_count": 10,
      "metadata": {
        "colab": {
          "base_uri": "https://localhost:8080/",
          "height": 1000
        },
        "id": "QXg47oIhLQjH",
        "outputId": "cfa6106f-0330-4230-ac21-7aa7f8b43ca9"
      },
      "outputs": [
        {
          "name": "stdout",
          "output_type": "stream",
          "text": [
            "Colab notebook detected. This cell will run indefinitely so that you can see errors and logs. To turn off, set debug=False in launch().\n",
            "Note: opening Chrome Inspector may crash demo inside Colab notebooks.\n",
            "\n",
            "To create a public link, set `share=True` in `launch()`.\n"
          ]
        },
        {
          "data": {
            "application/javascript": "(async (port, path, width, height, cache, element) => {\n                        if (!google.colab.kernel.accessAllowed && !cache) {\n                            return;\n                        }\n                        element.appendChild(document.createTextNode(''));\n                        const url = await google.colab.kernel.proxyPort(port, {cache});\n\n                        const external_link = document.createElement('div');\n                        external_link.innerHTML = `\n                            <div style=\"font-family: monospace; margin-bottom: 0.5rem\">\n                                Running on <a href=${new URL(path, url).toString()} target=\"_blank\">\n                                    https://localhost:${port}${path}\n                                </a>\n                            </div>\n                        `;\n                        element.appendChild(external_link);\n\n                        const iframe = document.createElement('iframe');\n                        iframe.src = new URL(path, url).toString();\n                        iframe.height = height;\n                        iframe.allow = \"autoplay; camera; microphone; clipboard-read; clipboard-write;\"\n                        iframe.width = width;\n                        iframe.style.border = 0;\n                        element.appendChild(iframe);\n                    })(7860, \"/\", \"100%\", 500, false, window.element)",
            "text/plain": [
              "<IPython.core.display.Javascript object>"
            ]
          },
          "metadata": {},
          "output_type": "display_data"
        },
        {
          "name": "stdout",
          "output_type": "stream",
          "text": [
            "Keyboard interruption in main thread... closing server.\n"
          ]
        },
        {
          "data": {
            "text/plain": []
          },
          "execution_count": 10,
          "metadata": {},
          "output_type": "execute_result"
        },
        {
          "data": {
            "image/png": "[encoded data removed]",
            "text/plain": [
              "<Figure size 640x480 with 1 Axes>"
            ]
          },
          "metadata": {},
          "output_type": "display_data"
        },
        {
          "data": {
            "image/png": "[encoded data removed]",
            "text/plain": [
              "<Figure size 640x480 with 1 Axes>"
            ]
          },
          "metadata": {},
          "output_type": "display_data"
        },
        {
          "data": {
            "image/png": "[encoded data removed]",
            "text/plain": [
              "<Figure size 640x480 with 1 Axes>"
            ]
          },
          "metadata": {},
          "output_type": "display_data"
        }
      ],
      "source": [
        "import gradio as gr\n",
        "\n",
        "def plot_gold_density(w_function_name: str, w_function_param: int):\n",
        "    # create a new plot\n",
        "    global topic_data\n",
        "    global docs_data\n",
        "    global topic_docs_coordinates\n",
        "    global topic_candidate_document_matrix\n",
        "\n",
        "    df = topic_data.copy()\n",
        "\n",
        "    f_map = {\n",
        "      \"Inverse\": inv_dist,\n",
        "      \"Exponential\": exp_dist,\n",
        "      \"Arccot\": arc_dist,\n",
        "    }\n",
        "\n",
        "    w_function = f_map[w_function_name]\n",
        "\n",
        "    process_geo_associations_for_topics(df, \n",
        "                                        docs_data,\n",
        "                                        topic_candidate_document_matrix,\n",
        "                                        doc_coordinate_data = topic_docs_coordinates,\n",
        "                                        w_function = w_function, \n",
        "                                        w_function_param = w_function_param, \n",
        "                                        save_cache=False)\n",
        "\n",
        "    # select d45 - document coordinates are more clustered\n",
        "    # select d57 - document coordinates are spread\n",
        "    d45 = IndexSlice['d45', :]\n",
        "    d57 = IndexSlice['d57', :]\n",
        "\n",
        "    plt.rcParams['figure.figsize'] = (6.4, 4.8)\n",
        "    \n",
        "    fig1 = plt.figure(1)\n",
        "    fig1.add_subplot(\n",
        "        plot_dist(df, d45, title=f\"{w_function.__name__}, a = {w_function_param}, d45\")\n",
        "    )\n",
        "\n",
        "    fig2 = plt.figure(2)\n",
        "    fig2.add_subplot(\n",
        "        plot_dist(df, d57, title=f\"{w_function.__name__}, a = {w_function_param}, d57\")\n",
        "    )\n",
        "    \n",
        "\n",
        "    fig3 = plt.figure(3)\n",
        "    fig3.add_subplot(\n",
        "        plot_dist(df, IndexSlice[:, :], title=f\"{w_function.__name__}, a = {w_function_param}, All topics\")\n",
        "    )\n",
        "\n",
        "    return fig1, fig2, fig3\n",
        "\n",
        "# show the results\n",
        "\n",
        "with gr.Blocks() as demo:\n",
        "    with gr.Row():\n",
        "        w_function_name = gr.Radio([\"Inverse\",  \"Exponential\", \"Arccot\"], value=\"Inverse\", label = \"Similarity transformation function\")\n",
        "        a_slider = gr.Number(value=1.0, info=\"Input 'a' parameter value, default 1.\", label=\"a\")\n",
        "        #a_slider = gr.Slider(0, 20000, value=1, label=\"gamma\", info=\"Choose betwen 0 and 1000\")\n",
        "\n",
        "        inputs = [w_function_name, a_slider]\n",
        "        submit_btn = gr.Button(\"Submit\")\n",
        "\n",
        "    with gr.Row():\n",
        "        # outputs = [gr.Gallery(label=\"Profiling\").style(grid=(1,3))]\n",
        "        outputs = [gr.Plot() for _ in range(3)]\n",
        "    \n",
        "    submit_btn.click(\n",
        "        plot_gold_density,\n",
        "        inputs,\n",
        "        outputs,\n",
        "    )\n",
        "\n",
        "#demo = gr.Interface(fn=plot_gold_density, inputs=[lambda_slicer, gamma_slicer], outputs=outputs)\n",
        "\n",
        "demo.launch(debug=True)"
      ]
    },
    {
      "cell_type": "markdown",
      "metadata": {
        "id": "3irMpw9AEFoJ"
      },
      "source": [
        "# Preprocess Doc coordinate Dataframe"
      ]
    },
    {
      "cell_type": "code",
      "execution_count": null,
      "metadata": {
        "id": "BxoQKrHQDAux"
      },
      "outputs": [],
      "source": [
        "experiment = \"MKDUC01\"\n",
        "\n",
        "topic_coordinates = pd.DataFrame()\n",
        "\n",
        "for filename in get_files(os.path.join(GEO_KPE_MULTIDOC_CACHE_PATH, experiment)):\n",
        "    topic_id = filename[:3]\n",
        "\n",
        "    if topic_id in [\"d08\",  # errors\n",
        "            \"d14\",\n",
        "            \"d22\",\n",
        "            \"d28\",\n",
        "            \"d34\",\n",
        "            \"d50\",\n",
        "            \"d53\",\n",
        "            \"d59\",]:\n",
        "            logger.info(f\"Skiping topic {topic_id} processing.\")\n",
        "            continue\n",
        "    \n",
        "    docs_locations = pd.DataFrame.from_dict(\n",
        "        {k: {\"lat_long\": v} \n",
        "              for k, v in load_topic_geo_locations(topic_id).items()\n",
        "        }, \n",
        "        orient='index').explode(\"lat_long\")\n",
        "    \n",
        "    docs_locations.index.name = \"doc\"\n",
        "    docs_locations[\"topic\"] = topic_id\n",
        "    docs_locations = docs_locations.set_index([\"topic\", docs_locations.index])\n",
        "\n",
        "    topic_coordinates = pd.concat( [ topic_coordinates, docs_locations ] )\n",
        "\n",
        "\n",
        "topic_coordinates.to_parquet(os.path.join(GEO_KPE_MULTIDOC_CACHE_PATH, \"MKDUC01-topic-doc-coordinates-20230329.parquet\"))\n",
        "topic_coordinates.head()"
      ]
    },
    {
      "cell_type": "code",
      "execution_count": null,
      "metadata": {
        "id": "2AhCIKrVD_Wp"
      },
      "outputs": [],
      "source": [
        "topic_docs_coordinates = pd.read_parquet(os.path.join(GEO_KPE_MULTIDOC_CACHE_PATH, \"MKDUC01-topic-doc-coordinates-20230329.parquet\"))"
      ]
    },
    {
      "cell_type": "code",
      "execution_count": null,
      "metadata": {
        "colab": {
          "base_uri": "https://localhost:8080/",
          "height": 455
        },
        "id": "dF6oUqhu_GEM",
        "outputId": "0fd5ce47-d11a-40da-9187-36b0510e5f86"
      },
      "outputs": [
        {
          "data": {
            "text/html": [
              "\n",
              "  <div id=\"df-bf5b5d73-fafa-4808-89f8-797ef5184ec5\">\n",
              "    <div class=\"colab-df-container\">\n",
              "      <div>\n",
              "<style scoped>\n",
              "    .dataframe tbody tr th:only-of-type {\n",
              "        vertical-align: middle;\n",
              "    }\n",
              "\n",
              "    .dataframe tbody tr th {\n",
              "        vertical-align: top;\n",
              "    }\n",
              "\n",
              "    .dataframe thead th {\n",
              "        text-align: right;\n",
              "    }\n",
              "</style>\n",
              "<table border=\"1\" class=\"dataframe\">\n",
              "  <thead>\n",
              "    <tr style=\"text-align: right;\">\n",
              "      <th></th>\n",
              "      <th></th>\n",
              "      <th>lat_long</th>\n",
              "    </tr>\n",
              "    <tr>\n",
              "      <th>topic</th>\n",
              "      <th>doc</th>\n",
              "      <th></th>\n",
              "    </tr>\n",
              "  </thead>\n",
              "  <tbody>\n",
              "    <tr>\n",
              "      <th rowspan=\"5\" valign=\"top\">d56</th>\n",
              "      <th>AP881126-0007</th>\n",
              "      <td>[43.00035, -75.4999]</td>\n",
              "    </tr>\n",
              "    <tr>\n",
              "      <th>AP881126-0007</th>\n",
              "      <td>[-42.0, 174.0]</td>\n",
              "    </tr>\n",
              "    <tr>\n",
              "      <th>AP881126-0007</th>\n",
              "      <td>[-33.86785, 151.20732]</td>\n",
              "    </tr>\n",
              "    <tr>\n",
              "      <th>AP881126-0007</th>\n",
              "      <td>[-25.0, 135.0]</td>\n",
              "    </tr>\n",
              "    <tr>\n",
              "      <th>AP890313-0198</th>\n",
              "      <td>[23.0, -102.0]</td>\n",
              "    </tr>\n",
              "    <tr>\n",
              "      <th>...</th>\n",
              "      <th>...</th>\n",
              "      <td>...</td>\n",
              "    </tr>\n",
              "    <tr>\n",
              "      <th rowspan=\"5\" valign=\"top\">d04</th>\n",
              "      <th>FT923-6455</th>\n",
              "      <td>[31.25044, -99.25061]</td>\n",
              "    </tr>\n",
              "    <tr>\n",
              "      <th>FT923-6455</th>\n",
              "      <td>[32.75041, -86.75026]</td>\n",
              "    </tr>\n",
              "    <tr>\n",
              "      <th>FT923-6455</th>\n",
              "      <td>[30.68515, -88.19753]</td>\n",
              "    </tr>\n",
              "    <tr>\n",
              "      <th>FT923-6455</th>\n",
              "      <td>[41.54357, -109.85903]</td>\n",
              "    </tr>\n",
              "    <tr>\n",
              "      <th>FT923-6455</th>\n",
              "      <td>[25.04082, -77.37122]</td>\n",
              "    </tr>\n",
              "  </tbody>\n",
              "</table>\n",
              "<p>1418 rows × 1 columns</p>\n",
              "</div>\n",
              "      <button class=\"colab-df-convert\" onclick=\"convertToInteractive('df-bf5b5d73-fafa-4808-89f8-797ef5184ec5')\"\n",
              "              title=\"Convert this dataframe to an interactive table.\"\n",
              "              style=\"display:none;\">\n",
              "        \n",
              "  <svg xmlns=\"http://www.w3.org/2000/svg\" height=\"24px\"viewBox=\"0 0 24 24\"\n",
              "       width=\"24px\">\n",
              "    <path d=\"M0 0h24v24H0V0z\" fill=\"none\"/>\n",
              "    <path d=\"M18.56 5.44l.94 2.06.94-2.06 2.06-.94-2.06-.94-.94-2.06-.94 2.06-2.06.94zm-11 1L8.5 8.5l.94-2.06 2.06-.94-2.06-.94L8.5 2.5l-.94 2.06-2.06.94zm10 10l.94 2.06.94-2.06 2.06-.94-2.06-.94-.94-2.06-.94 2.06-2.06.94z\"/><path d=\"M17.41 7.96l-1.37-1.37c-.4-.4-.92-.59-1.43-.59-.52 0-1.04.2-1.43.59L10.3 9.45l-7.72 7.72c-.78.78-.78 2.05 0 2.83L4 21.41c.39.39.9.59 1.41.59.51 0 1.02-.2 1.41-.59l7.78-7.78 2.81-2.81c.8-.78.8-2.07 0-2.86zM5.41 20L4 18.59l7.72-7.72 1.47 1.35L5.41 20z\"/>\n",
              "  </svg>\n",
              "      </button>\n",
              "      \n",
              "  <style>\n",
              "    .colab-df-container {\n",
              "      display:flex;\n",
              "      flex-wrap:wrap;\n",
              "      gap: 12px;\n",
              "    }\n",
              "\n",
              "    .colab-df-convert {\n",
              "      background-color: #E8F0FE;\n",
              "      border: none;\n",
              "      border-radius: 50%;\n",
              "      cursor: pointer;\n",
              "      display: none;\n",
              "      fill: #1967D2;\n",
              "      height: 32px;\n",
              "      padding: 0 0 0 0;\n",
              "      width: 32px;\n",
              "    }\n",
              "\n",
              "    .colab-df-convert:hover {\n",
              "      background-color: #E2EBFA;\n",
              "      box-shadow: 0px 1px 2px rgba(60, 64, 67, 0.3), 0px 1px 3px 1px rgba(60, 64, 67, 0.15);\n",
              "      fill: #174EA6;\n",
              "    }\n",
              "\n",
              "    [theme=dark] .colab-df-convert {\n",
              "      background-color: #3B4455;\n",
              "      fill: #D2E3FC;\n",
              "    }\n",
              "\n",
              "    [theme=dark] .colab-df-convert:hover {\n",
              "      background-color: #434B5C;\n",
              "      box-shadow: 0px 1px 3px 1px rgba(0, 0, 0, 0.15);\n",
              "      filter: drop-shadow(0px 1px 2px rgba(0, 0, 0, 0.3));\n",
              "      fill: #FFFFFF;\n",
              "    }\n",
              "  </style>\n",
              "\n",
              "      <script>\n",
              "        const buttonEl =\n",
              "          document.querySelector('#df-bf5b5d73-fafa-4808-89f8-797ef5184ec5 button.colab-df-convert');\n",
              "        buttonEl.style.display =\n",
              "          google.colab.kernel.accessAllowed ? 'block' : 'none';\n",
              "\n",
              "        async function convertToInteractive(key) {\n",
              "          const element = document.querySelector('#df-bf5b5d73-fafa-4808-89f8-797ef5184ec5');\n",
              "          const dataTable =\n",
              "            await google.colab.kernel.invokeFunction('convertToInteractive',\n",
              "                                                     [key], {});\n",
              "          if (!dataTable) return;\n",
              "\n",
              "          const docLinkHtml = 'Like what you see? Visit the ' +\n",
              "            '<a target=\"_blank\" href=https://colab.research.google.com/notebooks/data_table.ipynb>data table notebook</a>'\n",
              "            + ' to learn more about interactive tables.';\n",
              "          element.innerHTML = '';\n",
              "          dataTable['output_type'] = 'display_data';\n",
              "          await google.colab.output.renderOutput(dataTable, element);\n",
              "          const docLink = document.createElement('div');\n",
              "          docLink.innerHTML = docLinkHtml;\n",
              "          element.appendChild(docLink);\n",
              "        }\n",
              "      </script>\n",
              "    </div>\n",
              "  </div>\n",
              "  "
            ],
            "text/plain": [
              "                                   lat_long\n",
              "topic doc                                  \n",
              "d56   AP881126-0007    [43.00035, -75.4999]\n",
              "      AP881126-0007          [-42.0, 174.0]\n",
              "      AP881126-0007  [-33.86785, 151.20732]\n",
              "      AP881126-0007          [-25.0, 135.0]\n",
              "      AP890313-0198          [23.0, -102.0]\n",
              "...                                     ...\n",
              "d04   FT923-6455      [31.25044, -99.25061]\n",
              "      FT923-6455      [32.75041, -86.75026]\n",
              "      FT923-6455      [30.68515, -88.19753]\n",
              "      FT923-6455     [41.54357, -109.85903]\n",
              "      FT923-6455      [25.04082, -77.37122]\n",
              "\n",
              "[1418 rows x 1 columns]"
            ]
          },
          "execution_count": 8,
          "metadata": {},
          "output_type": "execute_result"
        }
      ],
      "source": [
        "topic_docs_coordinates"
      ]
    },
    {
      "cell_type": "code",
      "execution_count": null,
      "metadata": {
        "id": "7cNpNcek_3yA"
      },
      "outputs": [],
      "source": []
    }
  ],
  "metadata": {
    "colab": {
      "provenance": []
    },
    "kernelspec": {
      "display_name": "nlp",
      "language": "python",
      "name": "python3"
    },
    "language_info": {
      "codemirror_mode": {
        "name": "ipython",
        "version": 3
      },
      "file_extension": ".py",
      "mimetype": "text/x-python",
      "name": "python",
      "nbconvert_exporter": "python",
      "pygments_lexer": "ipython3",
      "version": "3.10.9"
    },
    "vscode": {
      "interpreter": {
        "hash": "6192d2b8519ba1dc6668f1bfbce40557ee186aa5dae8ab284b50dd4471395d02"
      }
    }
  },
  "nbformat": 4,
  "nbformat_minor": 0
}
