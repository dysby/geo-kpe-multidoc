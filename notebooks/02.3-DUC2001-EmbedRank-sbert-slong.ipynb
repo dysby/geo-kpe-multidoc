{
 "cells": [
  {
   "attachments": {},
   "cell_type": "markdown",
   "metadata": {},
   "source": [
    "# Keyphrase Extraction in multi-documents accounting with geospacial associations\n",
    "\n",
    "This is a exploratory notebook."
   ]
  },
  {
   "cell_type": "code",
   "execution_count": 2,
   "metadata": {},
   "outputs": [
    {
     "name": "stderr",
     "output_type": "stream",
     "text": [
      "2023-04-26 16:39:44.724939: I tensorflow/core/platform/cpu_feature_guard.cc:193] This TensorFlow binary is optimized with oneAPI Deep Neural Network Library (oneDNN) to use the following CPU instructions in performance-critical operations:  AVX2 FMA\n",
      "To enable them in other operations, rebuild TensorFlow with the appropriate compiler flags.\n",
      "2023-04-26 16:39:44.900116: W tensorflow/compiler/xla/stream_executor/platform/default/dso_loader.cc:64] Could not load dynamic library 'libcudart.so.11.0'; dlerror: libcudart.so.11.0: cannot open shared object file: No such file or directory\n",
      "2023-04-26 16:39:44.900144: I tensorflow/compiler/xla/stream_executor/cuda/cudart_stub.cc:29] Ignore above cudart dlerror if you do not have a GPU set up on your machine.\n",
      "2023-04-26 16:39:45.813126: W tensorflow/compiler/xla/stream_executor/platform/default/dso_loader.cc:64] Could not load dynamic library 'libnvinfer.so.7'; dlerror: libnvinfer.so.7: cannot open shared object file: No such file or directory\n",
      "2023-04-26 16:39:45.813313: W tensorflow/compiler/xla/stream_executor/platform/default/dso_loader.cc:64] Could not load dynamic library 'libnvinfer_plugin.so.7'; dlerror: libnvinfer_plugin.so.7: cannot open shared object file: No such file or directory\n",
      "2023-04-26 16:39:45.813327: W tensorflow/compiler/tf2tensorrt/utils/py_utils.cc:38] TF-TRT Warning: Cannot dlopen some TensorRT libraries. If you would like to use Nvidia GPU with TensorRT, please make sure the missing libraries mentioned above are installed properly.\n",
      "2023-04-26 16:39:47.010472: W tensorflow/compiler/xla/stream_executor/platform/default/dso_loader.cc:64] Could not load dynamic library 'libcuda.so.1'; dlerror: libcuda.so.1: cannot open shared object file: No such file or directory\n",
      "2023-04-26 16:39:47.010508: W tensorflow/compiler/xla/stream_executor/cuda/cuda_driver.cc:265] failed call to cuInit: UNKNOWN ERROR (303)\n",
      "2023-04-26 16:39:47.010542: I tensorflow/compiler/xla/stream_executor/cuda/cuda_diagnostics.cc:156] kernel driver does not appear to be running on this host (darkstar): /proc/driver/nvidia/version does not exist\n"
     ]
    }
   ],
   "source": [
    "import os\n",
    "\n",
    "import joblib\n",
    "import pandas as pd\n",
    "from nltk.stem import PorterStemmer\n",
    "import simplemma\n",
    "\n",
    "from geo_kpe_multidoc import (GEO_KPE_MULTIDOC_CACHE_PATH,\n",
    "                              GEO_KPE_MULTIDOC_OUTPUT_PATH)\n",
    "from geo_kpe_multidoc.evaluation.evaluation_tools import (\n",
    "    evaluate_kp_extraction, postprocess_dataset_labels, postprocess_res_labels)\n",
    "from geo_kpe_multidoc.models.pre_processing.pre_processing_utils import \\\n",
    "    lemmatize\n",
    "\n",
    "import matplotlib.pyplot as plt"
   ]
  },
  {
   "cell_type": "code",
   "execution_count": 3,
   "metadata": {},
   "outputs": [],
   "source": [
    "lemmer = \"en\"\n",
    "stemmer = PorterStemmer()"
   ]
  },
  {
   "cell_type": "code",
   "execution_count": 3,
   "metadata": {},
   "outputs": [],
   "source": [
    "def load_results_filter(path, filter_ = \"*\"):\n",
    "    results, true_labels = {}, {}\n",
    "    with os.scandir(path) as it:\n",
    "        for entry in it:\n",
    "            if not entry.name.startswith('.') and entry.is_file() and entry.name.startswith(filter_):\n",
    "                r = joblib.load(entry)\n",
    "                results[r[\"doc\"]] = [(r[\"top_n_scores\"], [name for name, score in r[\"top_n_scores\"]])]\n",
    "                true_labels[r[\"doc\"]] = [r[\"gold\"]]\n",
    "    return results, true_labels"
   ]
  },
  {
   "cell_type": "code",
   "execution_count": 4,
   "metadata": {},
   "outputs": [],
   "source": [
    "def load_results(path):\n",
    "    results, true_labels = {}, {}\n",
    "    with os.scandir(path) as it:\n",
    "        for entry in it:\n",
    "            if not entry.name.startswith('.') and entry.is_file():\n",
    "                r = joblib.load(entry)\n",
    "                results[r[\"doc\"]] = [(r[\"top_n_scores\"], [name for name, score in r[\"top_n_scores\"]])]\n",
    "                true_labels[r[\"doc\"]] = [r[\"gold\"]]\n",
    "    return results, true_labels"
   ]
  },
  {
   "cell_type": "code",
   "execution_count": 5,
   "metadata": {},
   "outputs": [],
   "source": [
    "results_sbert, true_labels_sbert = load_results(os.path.join(GEO_KPE_MULTIDOC_CACHE_PATH, \"DUC2001-EmbedRank-sbert\"))\n",
    "results_long, true_labels_long = load_results(os.path.join(GEO_KPE_MULTIDOC_CACHE_PATH, \"DUC2001-EmbedRankManual-ToLong-T4\"))"
   ]
  },
  {
   "cell_type": "code",
   "execution_count": 6,
   "metadata": {},
   "outputs": [],
   "source": [
    "def stem_phrase(phrase, stemmer):\n",
    "    return \" \".join(\n",
    "        [stemmer.stem(w) for w in simplemma.simple_tokenizer(phrase)]\n",
    "    ).lower()\n"
   ]
  },
  {
   "cell_type": "code",
   "execution_count": 7,
   "metadata": {},
   "outputs": [],
   "source": [
    "def build_model_scores_dataframe(results, true_labels):\n",
    "    df = pd.DataFrame()\n",
    "    for doc, candidade_values in results.items():\n",
    "        candidates_score, _ = candidade_values[0]\n",
    "        gold_kp = [stem_phrase(kp, stemmer) for kp in true_labels[doc][0]]\n",
    "\n",
    "        rows = [\n",
    "            {\n",
    "                \"doc\": doc,\n",
    "                \"candidate\": stem_phrase(candidate, stemmer),\n",
    "                \"score\": score,\n",
    "                \"in_gold\": stem_phrase(candidate, stemmer) in gold_kp,\n",
    "            }\n",
    "            for candidate, score in candidates_score\n",
    "        ]\n",
    "\n",
    "        df = pd.concat([df, pd.DataFrame.from_records(rows)])\n",
    "\n",
    "    return df\n"
   ]
  },
  {
   "cell_type": "code",
   "execution_count": 8,
   "metadata": {},
   "outputs": [],
   "source": [
    "sbert_results = build_model_scores_dataframe(results_sbert, true_labels_sbert)\n",
    "long_results = build_model_scores_dataframe(results_long, true_labels_long)\n"
   ]
  },
  {
   "cell_type": "code",
   "execution_count": 9,
   "metadata": {},
   "outputs": [
    {
     "data": {
      "text/plain": [
       "0                                      degre\n",
       "1                                 rescu crew\n",
       "2                                 r c porter\n",
       "3     nation transport safeti board investig\n",
       "4                                    showeri\n",
       "                       ...                  \n",
       "45                                    mexico\n",
       "46                                    sunday\n",
       "47                                  era ship\n",
       "48                           seat t-2 buckey\n",
       "49                             old lexington\n",
       "Name: candidate, Length: 36271, dtype: object"
      ]
     },
     "execution_count": 9,
     "metadata": {},
     "output_type": "execute_result"
    }
   ],
   "source": [
    "long_results[\"candidate\"]"
   ]
  },
  {
   "cell_type": "code",
   "execution_count": 36,
   "metadata": {},
   "outputs": [
    {
     "data": {
      "text/plain": [
       "Text(0.5, 1.0, 'DUC2001 Longformer - similarity scores - Gold vs Not Gold ')"
      ]
     },
     "execution_count": 36,
     "metadata": {},
     "output_type": "execute_result"
    },
    {
     "data": {
      "image/png": "[encoded data removed]",
      "text/plain": [
       "<Figure size 432x288 with 1 Axes>"
      ]
     },
     "metadata": {
      "needs_background": "light"
     },
     "output_type": "display_data"
    }
   ],
   "source": [
    "fig, ax = plt.subplots()\n",
    "ax = long_results['score'].plot.hist(density=True)\n",
    "ax = long_results[long_results['in_gold'] == True]['score'].plot.hist(density=True, alpha=0.5)\n",
    "plt.title(\"DUC2001 Longformer - similarity scores - Gold vs Not Gold \")"
   ]
  },
  {
   "cell_type": "code",
   "execution_count": 37,
   "metadata": {},
   "outputs": [
    {
     "data": {
      "text/plain": [
       "Text(0.5, 1.0, 'DUC2001 Sbert Original - similarity scores - Gold vs Not Gold ')"
      ]
     },
     "execution_count": 37,
     "metadata": {},
     "output_type": "execute_result"
    },
    {
     "data": {
      "image/png": "[encoded data removed]",
      "text/plain": [
       "<Figure size 432x288 with 1 Axes>"
      ]
     },
     "metadata": {
      "needs_background": "light"
     },
     "output_type": "display_data"
    }
   ],
   "source": [
    "fig, ax = plt.subplots()\n",
    "ax = sbert_results['score'].plot.hist(density=True)\n",
    "ax = sbert_results[sbert_results['in_gold'] == True]['score'].plot.hist(density=True, alpha=0.5)\n",
    "plt.title(\"DUC2001 Sbert Original - similarity scores - Gold vs Not Gold \")"
   ]
  },
  {
   "cell_type": "code",
   "execution_count": 23,
   "metadata": {},
   "outputs": [
    {
     "data": {
      "text/plain": [
       "array([[<matplotlib.axes._subplots.AxesSubplot object at 0x7f4fdc1bb820>,\n",
       "        <matplotlib.axes._subplots.AxesSubplot object at 0x7f4fdb940520>]],\n",
       "      dtype=object)"
      ]
     },
     "execution_count": 23,
     "metadata": {},
     "output_type": "execute_result"
    },
    {
     "data": {
      "image/png": "[encoded data removed]",
      "text/plain": [
       "<Figure size 640x480 with 2 Axes>"
      ]
     },
     "metadata": {},
     "output_type": "display_data"
    }
   ],
   "source": [
    "longformer_DUC2001_EmbedRank_F1[\"model\"] = 'long'\n",
    "sbert_DUC2001_EmbedRank_F1[\"model\"] = 'sbert'\n",
    "pd.concat([longformer_DUC2001_EmbedRank_F1.set_index('model', append=True), sbert_DUC2001_EmbedRank_F1.set_index('model', append=True) ]).unstack(level=1).loc[:, \"F1_10\"].hist()\n",
    "\n",
    "\n"
   ]
  },
  {
   "cell_type": "code",
   "execution_count": null,
   "metadata": {},
   "outputs": [],
   "source": []
  }
 ],
 "metadata": {
  "kernelspec": {
   "display_name": "nlp",
   "language": "python",
   "name": "python3"
  },
  "language_info": {
   "codemirror_mode": {
    "name": "ipython",
    "version": 3
   },
   "file_extension": ".py",
   "mimetype": "text/x-python",
   "name": "python",
   "nbconvert_exporter": "python",
   "pygments_lexer": "ipython3",
   "version": "3.10.9"
  },
  "orig_nbformat": 4,
  "vscode": {
   "interpreter": {
    "hash": "6192d2b8519ba1dc6668f1bfbce40557ee186aa5dae8ab284b50dd4471395d02"
   }
  }
 },
 "nbformat": 4,
 "nbformat_minor": 2
}
