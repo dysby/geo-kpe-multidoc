{
 "cells": [
  {
   "attachments": {},
   "cell_type": "markdown",
   "metadata": {},
   "source": [
    "# Keyphrase Extraction in multi-documents accounting with geospacial associations\n",
    "\n",
    "This is a exploratory notebook."
   ]
  },
  {
   "attachments": {},
   "cell_type": "markdown",
   "metadata": {},
   "source": [
    "## Requirements\n",
    "\n",
    "Make sure geo-kpe-multidoc environment variables are set.\n",
    "\n",
    "```bash\n",
    "GEO_KPE_MULTIDOC_DATA_PATH=\"data-path\"\n",
    "GEO_KPE_MULTIDOC_MODELS_PATH=\"models-path\"\n",
    "GEO_KPE_MULTIDOC_OUTPUT_PATH=\"output-path\"\n",
    "\n",
    "GEO_KPE_MULTIDOC_MORDECAI_ES_URL=\"ec-instance.compute.amazonaws.com\"\n",
    "\n",
    "GEO_KPE_MULTIDOC_MAPBOX_TOKEN=\"thekey\"\n",
    "```"
   ]
  },
  {
   "cell_type": "code",
   "execution_count": 1,
   "metadata": {},
   "outputs": [],
   "source": [
    "BACKEND_MODEL_NAME = 'longformer-paraphrase-multilingual-mpnet-base-v2'"
   ]
  },
  {
   "cell_type": "code",
   "execution_count": 4,
   "metadata": {},
   "outputs": [],
   "source": [
    "from keybert.backend._sentencetransformers import SentenceTransformerBackend\n",
    "from sentence_transformers import SentenceTransformer\n",
    "\n",
    "import os\n",
    "\n",
    "from geo_kpe_multidoc import GEO_KPE_MULTIDOC_DATA_PATH, GEO_KPE_MULTIDOC_MODELS_PATH"
   ]
  },
  {
   "cell_type": "code",
   "execution_count": 5,
   "metadata": {},
   "outputs": [
    {
     "name": "stderr",
     "output_type": "stream",
     "text": [
      "No sentence-transformers model found with name /home/helder/doc/mecd/thesis/models/longformer-paraphrase-multilingual-mpnet-base-v2. Creating a new one with MEAN pooling.\n"
     ]
    }
   ],
   "source": [
    "base = SentenceTransformer(os.path.join(GEO_KPE_MULTIDOC_MODELS_PATH, BACKEND_MODEL_NAME))\n",
    "# A KeyBert Model...\n",
    "model = SentenceTransformerBackend(base)"
   ]
  },
  {
   "cell_type": "code",
   "execution_count": 14,
   "metadata": {},
   "outputs": [
    {
     "name": "stderr",
     "output_type": "stream",
     "text": [
      "2023-03-31 14:25:07.405 | INFO     | geo_kpe_multidoc.datasets.datasets:_read_mdkpe:137 - Load json with 30 topics\n"
     ]
    }
   ],
   "source": [
    "from geo_kpe_multidoc.datasets.datasets import load_data\n",
    "from geo_kpe_multidoc.document import Document\n",
    "\n",
    "mkduc01 = load_data(\"MKDUC01\", GEO_KPE_MULTIDOC_DATA_PATH)"
   ]
  },
  {
   "cell_type": "code",
   "execution_count": 15,
   "metadata": {},
   "outputs": [
    {
     "name": "stdout",
     "output_type": "stream",
     "text": [
      "topic d04 with 7 docs\n"
     ]
    }
   ],
   "source": [
    "\n",
    "topic_id, docs, gold_kp = mkduc01[0]\n",
    "\n",
    "docs = [\n",
    "                Document(txt, doc_name, mkduc01.name, topic_id)\n",
    "                for doc_name, txt in docs\n",
    "]\n",
    "\n",
    "print(f\"topic {topic_id} with {len(docs)} docs\")"
   ]
  },
  {
   "cell_type": "code",
   "execution_count": 21,
   "metadata": {},
   "outputs": [
    {
     "data": {
      "text/plain": [
       "['FT923-5089',\n",
       " 'FT923-5267',\n",
       " 'FT923-5797',\n",
       " 'FT923-5835',\n",
       " 'FT923-6038',\n",
       " 'FT923-6110',\n",
       " 'FT923-6455']"
      ]
     },
     "execution_count": 21,
     "metadata": {},
     "output_type": "execute_result"
    }
   ],
   "source": [
    "# FT923-5267\n",
    "# {'casualty industry'} -> property-causalty industry not found by spacy PoS \"-\":PUNC...\n",
    "# {'casualty insurers'}\n",
    "# FT923-5797\n",
    "# {'eastern US'} -> fail from \"north-eastern US\", spacy PoS \"\":PUNC...\n",
    "# {'cane crops'} -> same fail \"sugar-cane\"\n",
    "# FT923-6038\n",
    "# {'mile band'} -> fail \"10-mile\"\n",
    "# FT923-6110\n",
    "# {'casualty'}\n",
    "# {'Pounds'}\n",
    "# FT923-6455\n",
    "# {'Non - Marine Association'} - \n",
    "#       ('Underwriters', 'NOUN')\n",
    "#       (\"'\", 'PART')\n",
    "#       ('Non', 'PROPN')\n",
    "#       ('-', 'PROPN')\n",
    "#       ('Marine', 'PROPN')\n",
    "#       ('Association', 'PROPN')\n",
    "# {'Texas border'}\n",
    "# {'Roberts'}\n",
    "\n",
    "[d.id for d in docs]\n"
   ]
  },
  {
   "cell_type": "code",
   "execution_count": 24,
   "metadata": {},
   "outputs": [
    {
     "data": {
      "text/plain": [
       "2679"
      ]
     },
     "execution_count": 24,
     "metadata": {},
     "output_type": "execute_result"
    }
   ],
   "source": [
    "d = docs[1]\n",
    "d.id\n",
    "\n",
    "d.raw_text.index(\"casualty industry\")"
   ]
  },
  {
   "cell_type": "code",
   "execution_count": null,
   "metadata": {},
   "outputs": [],
   "source": []
  }
 ],
 "metadata": {
  "kernelspec": {
   "display_name": "nlp",
   "language": "python",
   "name": "python3"
  },
  "language_info": {
   "codemirror_mode": {
    "name": "ipython",
    "version": 3
   },
   "file_extension": ".py",
   "mimetype": "text/x-python",
   "name": "python",
   "nbconvert_exporter": "python",
   "pygments_lexer": "ipython3",
   "version": "3.10.9"
  },
  "orig_nbformat": 4,
  "vscode": {
   "interpreter": {
    "hash": "6192d2b8519ba1dc6668f1bfbce40557ee186aa5dae8ab284b50dd4471395d02"
   }
  }
 },
 "nbformat": 4,
 "nbformat_minor": 2
}
