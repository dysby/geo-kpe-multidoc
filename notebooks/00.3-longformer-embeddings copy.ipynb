{
 "cells": [
  {
   "attachments": {},
   "cell_type": "markdown",
   "metadata": {},
   "source": [
    "### Comparação de Similaridade do Embedding dos Documentos com as key-phrase Gold.\n",
    "\n",
    "Setup\n",
    "\n",
    "* Dataset: DUC2001\n",
    "* Modelo sbert = “paraphrase-multilingual-mpnet-base-v2”\n",
    "* Modelo slong = to_longformer(“paraphrase-multilingual-mpnet-base-v2”, max_lenght=4096, attention_window=512)\n",
    "\n",
    "DOC \t1:n \t\tGold_Kp\n",
    "\n",
    "\n"
   ]
  },
  {
   "cell_type": "code",
   "execution_count": 5,
   "metadata": {},
   "outputs": [
    {
     "name": "stderr",
     "output_type": "stream",
     "text": [
      "2023-04-26 11:06:20.322 | INFO     | geo_kpe_multidoc.models.backend._longmodels:to_longformer_t_v4:195 - Transform SentenceTransformer to longformer using Transformers v 4.26\n"
     ]
    }
   ],
   "source": [
    "dataset = load_data(\"DUC2001\", geo_kpe_multidoc.GEO_KPE_MULTIDOC_DATA_PATH)\n",
    "sbert = SentenceTransformer(\n",
    "    \"paraphrase-multilingual-mpnet-base-v2\"\n",
    ")\n",
    "slong = SentenceEmbedder(\n",
    "    *to_longformer_t_v4(SentenceTransformer(\"paraphrase-multilingual-mpnet-base-v2\"))\n",
    ")\n",
    "del slong.model.embeddings.token_type_ids\n"
   ]
  },
  {
   "attachments": {},
   "cell_type": "markdown",
   "metadata": {},
   "source": [
    "doc_sim = similaridade embedding do documento via sbert com embedding via slong\n",
    "\n",
    "sbert_sim = similaridade embedding documento com embedding do candidato (sbert)\n",
    "\n",
    "long_sim = similaridade embedding documento com embedding do candidato (long)\n",
    "\n",
    "mean_in_doc_sim = similaridade embedding documento (slong) com a media dos embeddings dos tokens do candidato quando existe no documento."
   ]
  },
  {
   "cell_type": "code",
   "execution_count": 6,
   "metadata": {},
   "outputs": [
    {
     "data": {
      "text/html": [
       "<div>\n",
       "<style scoped>\n",
       "    .dataframe tbody tr th:only-of-type {\n",
       "        vertical-align: middle;\n",
       "    }\n",
       "\n",
       "    .dataframe tbody tr th {\n",
       "        vertical-align: top;\n",
       "    }\n",
       "\n",
       "    .dataframe thead th {\n",
       "        text-align: right;\n",
       "    }\n",
       "</style>\n",
       "<table border=\"1\" class=\"dataframe\">\n",
       "  <thead>\n",
       "    <tr style=\"text-align: right;\">\n",
       "      <th></th>\n",
       "      <th>doc_len</th>\n",
       "      <th>doc_sim</th>\n",
       "      <th>candidate</th>\n",
       "      <th>sbert_sim</th>\n",
       "      <th>long_sim</th>\n",
       "      <th>mean_in_doc_sim</th>\n",
       "    </tr>\n",
       "  </thead>\n",
       "  <tbody>\n",
       "    <tr>\n",
       "      <th>0</th>\n",
       "      <td>352</td>\n",
       "      <td>0.748711</td>\n",
       "      <td>illegal aliens</td>\n",
       "      <td>0.531638</td>\n",
       "      <td>0.439952</td>\n",
       "      <td>0.653616</td>\n",
       "    </tr>\n",
       "    <tr>\n",
       "      <th>1</th>\n",
       "      <td>352</td>\n",
       "      <td>0.748711</td>\n",
       "      <td>1990 census</td>\n",
       "      <td>0.409954</td>\n",
       "      <td>0.421071</td>\n",
       "      <td>NaN</td>\n",
       "    </tr>\n",
       "    <tr>\n",
       "      <th>2</th>\n",
       "      <td>352</td>\n",
       "      <td>0.748711</td>\n",
       "      <td>census bureau</td>\n",
       "      <td>0.549789</td>\n",
       "      <td>0.462613</td>\n",
       "      <td>NaN</td>\n",
       "    </tr>\n",
       "    <tr>\n",
       "      <th>3</th>\n",
       "      <td>352</td>\n",
       "      <td>0.748711</td>\n",
       "      <td>american immigration reform</td>\n",
       "      <td>0.554424</td>\n",
       "      <td>0.534275</td>\n",
       "      <td>NaN</td>\n",
       "    </tr>\n",
       "    <tr>\n",
       "      <th>4</th>\n",
       "      <td>352</td>\n",
       "      <td>0.748711</td>\n",
       "      <td>house apportionment</td>\n",
       "      <td>0.342412</td>\n",
       "      <td>0.354594</td>\n",
       "      <td>NaN</td>\n",
       "    </tr>\n",
       "    <tr>\n",
       "      <th>5</th>\n",
       "      <td>352</td>\n",
       "      <td>0.748711</td>\n",
       "      <td>national head count</td>\n",
       "      <td>0.425025</td>\n",
       "      <td>0.333445</td>\n",
       "      <td>0.721379</td>\n",
       "    </tr>\n",
       "  </tbody>\n",
       "</table>\n",
       "</div>"
      ],
      "text/plain": [
       "   doc_len   doc_sim  ...  long_sim  mean_in_doc_sim\n",
       "0      352  0.748711  ...  0.439952         0.653616\n",
       "1      352  0.748711  ...  0.421071              NaN\n",
       "2      352  0.748711  ...  0.462613              NaN\n",
       "3      352  0.748711  ...  0.534275              NaN\n",
       "4      352  0.748711  ...  0.354594              NaN\n",
       "5      352  0.748711  ...  0.333445         0.721379\n",
       "\n",
       "[6 rows x 6 columns]"
      ]
     },
     "execution_count": 6,
     "metadata": {},
     "output_type": "execute_result"
    }
   ],
   "source": [
    "sim(doc, gold)"
   ]
  },
  {
   "attachments": {},
   "cell_type": "markdown",
   "metadata": {},
   "source": [
    "Tamanho dos Documentos (n_tokens). Foram definidas 3 categorias. Vemos que há poucos documentos pequenos “<128” tokens, e a maioria são grandes com mais de 512 tokens."
   ]
  },
  {
   "cell_type": "code",
   "execution_count": 43,
   "metadata": {},
   "outputs": [
    {
     "data": {
      "text/plain": [
       "<AxesSubplot:>"
      ]
     },
     "execution_count": 43,
     "metadata": {},
     "output_type": "execute_result"
    },
    {
     "data": {
      "image/png": "[encoded data removed]",
      "text/plain": [
       "<Figure size 432x288 with 1 Axes>"
      ]
     },
     "metadata": {
      "needs_background": "light"
     },
     "output_type": "display_data"
    }
   ],
   "source": [
    "doc_size_bins = [0, 128, 512, np.inf]\n",
    "doc_size_names = [\"<128\", \"128<512\", \"512>\"]\n",
    "\n",
    "(\n",
    "    results.assign(sim_diff=results[\"long_sim\"] - results[\"sbert_sim\"])\n",
    "    .assign(doc_size=pd.cut(results[\"doc_len\"], doc_size_bins, labels=doc_size_names))[\n",
    "        \"doc_size\"\n",
    "    ]\n",
    "    .value_counts()\n",
    "    .sort_index()\n",
    "    .plot(kind=\"bar\")\n",
    ")\n"
   ]
  },
  {
   "attachments": {},
   "cell_type": "markdown",
   "metadata": {},
   "source": [
    "Para cada modelo (sbert, slong) é calculada a semelhança (cos_sim) entre o Embedding do Doc e embedding de cada Key-Phrase. O embedding das keyphrase gold é calculado sem o contexto do documento, apenas o.\n",
    "\n",
    "Se um dos modelos conseguir representar bem o documento e as keyphrases reais na mesma região do espaço de embedding, então obtemos semelhanças predominantemente maiores que as obtidas com base no outro modelo.\n",
    "\n",
    "Calculando a diferença entre das duas similaridades obtidas com base nos dois modelos, no caso (sim_via_slong - sim_via_sbert), obtemos o gráfico. \n",
    "\n",
    "* Vermelho semelhança via slong menor que semelhança via sbert\n",
    "* Verde semelhança via slong menor que semelhança via sbert\n",
    "\n",
    "Mais vermelhos que verdes. Mais de 50% das similaridades entre cada documento e as suas keyphrases calculadas com base no modelo sbert são maiores que as calculadas com base no modelo slong.\n"
   ]
  },
  {
   "cell_type": "code",
   "execution_count": 65,
   "metadata": {},
   "outputs": [
    {
     "data": {
      "image/png": "[encoded data removed]",
      "text/plain": [
       "<Figure size 432x288 with 1 Axes>"
      ]
     },
     "metadata": {
      "needs_background": "light"
     },
     "output_type": "display_data"
    }
   ],
   "source": [
    "results['sim_diff'] = results[\"long_sim\"] - results[\"sbert_sim\"]\n",
    "results = results.sort_values('sim_diff')\n",
    "results['perf_color'] = results['sim_diff'].map(lambda z: \"green\" if z > 0 else \"red\")\n",
    "results.plot(kind='bar', y='sim_diff', color=results['perf_color'], xticks=None)\n",
    "plt.xticks([])\n",
    "plt.legend('', frameon=False)\n",
    "plt.show()"
   ]
  },
  {
   "attachments": {},
   "cell_type": "markdown",
   "metadata": {},
   "source": [
    "### Comparação de Embeddings em dois textos exemplo não relacionados"
   ]
  },
  {
   "cell_type": "code",
   "execution_count": 66,
   "metadata": {},
   "outputs": [],
   "source": [
    "doc1 = \"Humans evolved as hunters and gatherers where we all worked for ourselves. It’s only at the beginning of agriculture we became more hierarchical. The Industrial Revolution and factories made us extremely hierarchical because one individual couldn’t necessarily own orbuild a factory, but now, thanks to the internet, we’re going back to an age where more and more people can work for themselves. I would rather be a failed entrepreneur than someone who never tried. Because even a failed entrepreneur has the skill set to make it on their own\"\n",
    "\n",
    "doc2 = \"He remembered how once he had been walking down a crowded street when a tremendous shout of hundreds of voices women's voices—hadburst from a side-street a little way ahead. It was a great formidable cry of anger and despair, a deep, loud 'Oh-o-o-o-oh!' that went humming on like the reverberation of a bell. His heart had leapt. It's started! he had thought. A riot! The proles are breaking loose at last! When he had reached the spot it was to see a mob of two or three hundred women crowding round the stalls of a street market, with facesas tragic as though they had been the doomed passengers on a sinking ship. But at this moment the general despair broke down into a multitude of individual quarrels. It appeared that one of the stalls had been selling tin saucepans. They were wretched, flimsy things, but cooking-pots of any kind were always difficult to get. Now the supply had unexpectedly given out. The successful women, bumped and jostled bythe rest, were trying to make off with their saucepans while dozens of others clamoured round the stall, accusing the stall-keeper of favouritism and of having more saucepans somewhere in reserve. There was a fresh outburst of yells. Two bloated women, one of them with her hair coming down, had got hold of the same saucepan and were trying to tear it out of one another's hands. For a moment they were both tugging, and then the handle came off. Winston watched them disgustedly. And yet, just for a moment, what almost frightening power had soundedin that cry from only a few hundred throats! Why was it that they could never shout like that about anything that mattered?\"\n"
   ]
  },
  {
   "cell_type": "code",
   "execution_count": 73,
   "metadata": {},
   "outputs": [
    {
     "data": {
      "text/plain": [
       "(0.1974828690290451, 0.08310921490192413)"
      ]
     },
     "execution_count": 73,
     "metadata": {},
     "output_type": "execute_result"
    }
   ],
   "source": [
    "sim_docs(doc1, doc2, slong), sim_docs(doc1, doc2, sbert)"
   ]
  },
  {
   "attachments": {},
   "cell_type": "markdown",
   "metadata": {},
   "source": [
    "Similaridade da junção dos dois textos."
   ]
  },
  {
   "cell_type": "code",
   "execution_count": 74,
   "metadata": {},
   "outputs": [
    {
     "data": {
      "text/plain": [
       "(0.900473415851593, 0.9357936978340149)"
      ]
     },
     "execution_count": 74,
     "metadata": {},
     "output_type": "execute_result"
    }
   ],
   "source": [
    "sim_docs(doc1+doc2, doc2, slong), sim_docs(doc2+doc1, doc2, slong)"
   ]
  },
  {
   "attachments": {},
   "cell_type": "markdown",
   "metadata": {},
   "source": [
    "Comparação entre embeddings do mesmo documento com conceitos que surgem alem do limite 128 tokens."
   ]
  },
  {
   "cell_type": "code",
   "execution_count": 76,
   "metadata": {},
   "outputs": [
    {
     "data": {
      "text/plain": [
       "(0.21294032037258148, 0.25201719999313354)"
      ]
     },
     "execution_count": 76,
     "metadata": {},
     "output_type": "execute_result"
    }
   ],
   "source": [
    "sim_docs(\"Winston\", doc2, slong), sim_docs(\"Winston\", doc2, sbert)"
   ]
  },
  {
   "cell_type": "code",
   "execution_count": 79,
   "metadata": {},
   "outputs": [
    {
     "data": {
      "text/plain": [
       "(0.20602044463157654, 0.2406032383441925)"
      ]
     },
     "execution_count": 79,
     "metadata": {},
     "output_type": "execute_result"
    }
   ],
   "source": [
    "sim_docs(\"Winston watched them disgustedly.\", doc2, slong), sim_docs(\"Winston watched them disgustedly.\", doc2, sbert)"
   ]
  },
  {
   "cell_type": "code",
   "execution_count": 82,
   "metadata": {},
   "outputs": [
    {
     "data": {
      "text/plain": [
       "\"He remembered how once he had been walking down a crowded street when a tremendous shout of hundreds of voices women's voices—hadburst from a side-street a little way ahead. It was a great formidable cry of anger and despair, a deep, loud 'Oh-o-o-o-oh!' that went humming on like the reverberation of a bell. His heart had leapt. It's started! he had thought. A riot! \""
      ]
     },
     "execution_count": 82,
     "metadata": {},
     "output_type": "execute_result"
    }
   ],
   "source": [
    "doc2[:368]"
   ]
  },
  {
   "cell_type": "code",
   "execution_count": 83,
   "metadata": {},
   "outputs": [
    {
     "data": {
      "text/plain": [
       "'a mob of two or three hundred women crowding round the stalls of a street market, with facesas tragic as though they had been the doomed passengers on'"
      ]
     },
     "execution_count": 83,
     "metadata": {},
     "output_type": "execute_result"
    }
   ],
   "source": [
    "doc2[450:600]"
   ]
  },
  {
   "cell_type": "code",
   "execution_count": 85,
   "metadata": {},
   "outputs": [
    {
     "data": {
      "text/plain": [
       "(0.1831817328929901, 0.11783720552921295)"
      ]
     },
     "execution_count": 85,
     "metadata": {},
     "output_type": "execute_result"
    }
   ],
   "source": [
    "sim_docs(\"doomed\", doc2[:600], slong), sim_docs(\"doomed\", doc2[:600], sbert)"
   ]
  },
  {
   "attachments": {},
   "cell_type": "markdown",
   "metadata": {},
   "source": [
    "Comparação com texto não relacionado."
   ]
  },
  {
   "cell_type": "code",
   "execution_count": 86,
   "metadata": {},
   "outputs": [
    {
     "data": {
      "text/plain": [
       "(0.08899366855621338, 0.06737534701824188)"
      ]
     },
     "execution_count": 86,
     "metadata": {},
     "output_type": "execute_result"
    }
   ],
   "source": [
    "sim_docs(\"Lisboa\", doc2[:600], slong), sim_docs(\"Lisboa\", doc2[:600], sbert)"
   ]
  },
  {
   "cell_type": "code",
   "execution_count": 87,
   "metadata": {},
   "outputs": [
    {
     "data": {
      "text/plain": [
       "(0.05912849307060242, 0.05912855267524719)"
      ]
     },
     "execution_count": 87,
     "metadata": {},
     "output_type": "execute_result"
    }
   ],
   "source": [
    "sim_docs(\"Lisboa\", doc2[:368], slong), sim_docs(\"Lisboa\", doc2[:368], sbert)"
   ]
  }
 ],
 "metadata": {
  "kernelspec": {
   "display_name": "nlp",
   "language": "python",
   "name": "python3"
  },
  "language_info": {
   "codemirror_mode": {
    "name": "ipython",
    "version": 3
   },
   "file_extension": ".py",
   "mimetype": "text/x-python",
   "name": "python",
   "nbconvert_exporter": "python",
   "pygments_lexer": "ipython3",
   "version": "3.10.9"
  },
  "orig_nbformat": 4
 },
 "nbformat": 4,
 "nbformat_minor": 2
}
