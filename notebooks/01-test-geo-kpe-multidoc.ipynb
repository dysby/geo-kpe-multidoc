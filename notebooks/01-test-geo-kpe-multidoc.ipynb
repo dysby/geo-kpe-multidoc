{
 "cells": [
  {
   "attachments": {},
   "cell_type": "markdown",
   "metadata": {},
   "source": [
    "# Keyphrase Extraction in multi-documents accounting with geospacial associations\n",
    "\n",
    "This is a exploratory notebook."
   ]
  },
  {
   "attachments": {},
   "cell_type": "markdown",
   "metadata": {},
   "source": [
    "## Requirements\n",
    "\n",
    "Make sure geo-kpe-multidoc environment variables are set.\n",
    "\n",
    "```bash\n",
    "GEO_KPE_MULTIDOC_DATA_PATH=\"data-path\"\n",
    "GEO_KPE_MULTIDOC_MODELS_PATH=\"models-path\"\n",
    "GEO_KPE_MULTIDOC_OUTPUT_PATH=\"output-path\"\n",
    "\n",
    "GEO_KPE_MULTIDOC_MORDECAI_ES_URL=\"ec-instance.compute.amazonaws.com\"\n",
    "\n",
    "GEO_KPE_MULTIDOC_MAPBOX_TOKEN=\"thekey\"\n",
    "```"
   ]
  },
  {
   "cell_type": "code",
   "execution_count": 2,
   "metadata": {},
   "outputs": [
    {
     "name": "stderr",
     "output_type": "stream",
     "text": [
      "2023-03-06 17:20:31.306697: I tensorflow/core/platform/cpu_feature_guard.cc:193] This TensorFlow binary is optimized with oneAPI Deep Neural Network Library (oneDNN) to use the following CPU instructions in performance-critical operations:  AVX2 FMA\n",
      "To enable them in other operations, rebuild TensorFlow with the appropriate compiler flags.\n",
      "2023-03-06 17:20:31.771476: W tensorflow/compiler/xla/stream_executor/platform/default/dso_loader.cc:64] Could not load dynamic library 'libcudart.so.11.0'; dlerror: libcudart.so.11.0: cannot open shared object file: No such file or directory\n",
      "2023-03-06 17:20:31.771501: I tensorflow/compiler/xla/stream_executor/cuda/cudart_stub.cc:29] Ignore above cudart dlerror if you do not have a GPU set up on your machine.\n",
      "2023-03-06 17:20:33.195862: W tensorflow/compiler/xla/stream_executor/platform/default/dso_loader.cc:64] Could not load dynamic library 'libnvinfer.so.7'; dlerror: libnvinfer.so.7: cannot open shared object file: No such file or directory\n",
      "2023-03-06 17:20:33.196431: W tensorflow/compiler/xla/stream_executor/platform/default/dso_loader.cc:64] Could not load dynamic library 'libnvinfer_plugin.so.7'; dlerror: libnvinfer_plugin.so.7: cannot open shared object file: No such file or directory\n",
      "2023-03-06 17:20:33.196446: W tensorflow/compiler/tf2tensorrt/utils/py_utils.cc:38] TF-TRT Warning: Cannot dlopen some TensorRT libraries. If you would like to use Nvidia GPU with TensorRT, please make sure the missing libraries mentioned above are installed properly.\n",
      "2023-03-06 17:20:35.308252: W tensorflow/compiler/xla/stream_executor/platform/default/dso_loader.cc:64] Could not load dynamic library 'libcuda.so.1'; dlerror: libcuda.so.1: cannot open shared object file: No such file or directory\n",
      "2023-03-06 17:20:35.308583: W tensorflow/compiler/xla/stream_executor/cuda/cuda_driver.cc:265] failed call to cuInit: UNKNOWN ERROR (303)\n",
      "2023-03-06 17:20:35.308629: I tensorflow/compiler/xla/stream_executor/cuda/cuda_diagnostics.cc:156] kernel driver does not appear to be running on this host (darkstar): /proc/driver/nvidia/version does not exist\n"
     ]
    }
   ],
   "source": [
    "from geo_kpe_multidoc.models import EmbedRank, MaskRank"
   ]
  },
  {
   "cell_type": "code",
   "execution_count": 2,
   "metadata": {},
   "outputs": [],
   "source": [
    "BACKEND_MODEL_NAME = 'longformer-paraphrase-multilingual-mpnet-base-v2'\n",
    "PARSER_NAME = 'en_core_web_trf'"
   ]
  },
  {
   "cell_type": "code",
   "execution_count": 3,
   "metadata": {},
   "outputs": [],
   "source": [
    "doc = \"\"\"INDUSTRIAL SOCIETY AND ITS FUTURE\n",
    "\n",
    "Introduction\n",
    "\n",
    "1. The Industrial Revolution and its consequences have been a disaster for the human race. They have greatly increased the life-expectancy of those of us who live in \"advanced\" countries, but they have destabilized society, have made life unfulfilling, have subjected human beings to indignities, have led to widespread psychological suffering (in the Third World to physical suffering as well) and have inflicted severe damage on the natural world. The continued development of technology will worsen the situation. It will certainly subject human beings to greater indignities and inflict greater damage on the natural world, it will probably lead to greater social disruption and psychological suffering, and it may lead to increased physical suffering even in \"advanced\" countries.\n",
    "\n",
    "2. The industrial-technological system may survive or it may break down. If it survives, it MAY eventually achieve a low level of physical and psychological suffering, but only after passing through a long and very painful period of adjustment and only at the cost of permanently reducing human beings and many other living organisms to engineered products and mere cogs in the social machine. Furthermore, if the system survives, the consequences will be inevitable: There is no way of reforming or modifying the system so as to prevent it from depriving people of dignity and autonomy.\n",
    "\n",
    "3. If the system breaks down the consequences will still be very painful. But the bigger the system grows the more disastrous the results of its breakdown will be, so if it is to break down it had best break down sooner rather than later.\n",
    "\n",
    "4. We therefore advocate a revolution against the industrial system. This revolution may or may not make use of violence; it may be sudden or it may be a relatively gradual process spanning a few decades. We can't predict any of that. But we do outline in a very general way the measures that those who hate the industrial system should take in order to prepare the way for a revolution against that form of society. This is not to be a POLITICAL revolution. Its object will be to overthrow not governments but the economic and technological basis of the present society.\n",
    "\n",
    "5. In this article we give attention to only some of the negative developments that have grown out of the industrial-technological system. Other such developments we mention only briefly or ignore altogether. This does not mean that we regard these other developments as unimportant. For practical reasons we have to confine our discussion to areas that have received insufficient public attention or in which we have something new to say. For example, since there are well-developed environmental and wilderness movements, we have written very little about environmental degradation or the destruction of wild nature, even though we consider these to be highly important.\n",
    "\"\"\""
   ]
  },
  {
   "cell_type": "code",
   "execution_count": 3,
   "metadata": {},
   "outputs": [],
   "source": [
    "doc = \"\"\"Sou do Benfica\n",
    "Isso me envaidece\n",
    "Tenho a genica\n",
    "Que a qualquer engrandece\n",
    "Sou de um clube lutador\n",
    "Que na luta com fervor\n",
    "Nunca encontrou rival\n",
    "Neste nosso Portugal\n",
    "Ser benfiquista\n",
    "É ter na alma\n",
    "A chama imensa\n",
    "Que nos conquista\n",
    "E leva à palma\n",
    "A luz intensa\n",
    "Do Sol que lá no céu\n",
    "Risonho vem beijar\n",
    "Com orgulho muito seu\n",
    "As camisolas berrantes\n",
    "Que nos campos a vibrar\n",
    "São papoilas saltitantes\n",
    "Ser benfiquista\n",
    "É ter na alma\n",
    "A chama imensa\n",
    "Que nos conquista\n",
    "E leva à palma\n",
    "A luz intensa\n",
    "Do Sol que lá no céu\n",
    "Risonho vem beijar\n",
    "Com orgulho muito seu\n",
    "As camisolas berrantes\n",
    "Que nos campos a vibrar\n",
    "São papoilas saltitantes\n",
    "Que nos campos a vibrar\n",
    "São papoilas saltitantes\"\"\""
   ]
  },
  {
   "cell_type": "code",
   "execution_count": null,
   "metadata": {},
   "outputs": [],
   "source": [
    "kpe_embed = EmbedRank( BACKEND_MODEL_NAME, PARSER_NAME)\n",
    "\n",
    "top_n, candidate_set = kpe_embed.extract_kp_from_doc(doc=doc, top_n=5, min_len=2)\n",
    "print(\"Embed Rank\")\n",
    "print(top_n)\n",
    "print(\"===========================================\")\n",
    "print(candidate_set)"
   ]
  },
  {
   "cell_type": "code",
   "execution_count": null,
   "metadata": {},
   "outputs": [],
   "source": [
    "kpe_mask = MaskRank( BACKEND_MODEL_NAME, PARSER_NAME)\n",
    "top_n, candidate_set = kpe_mask.extract_kp_from_doc(doc=doc, top_n=5, min_len=2)\n",
    "print(\"Mask Rank\")\n",
    "print(top_n)\n",
    "print(\"===========================================\")\n",
    "print(candidate_set)"
   ]
  },
  {
   "cell_type": "code",
   "execution_count": null,
   "metadata": {},
   "outputs": [],
   "source": [
    "from geo_kpe_multidoc.models.mdkperank.mdkperank_model import MDKPERank\n",
    "\n",
    "kpe_model = MDKPERank(BACKEND_MODEL_NAME, PARSER_NAME)"
   ]
  },
  {
   "cell_type": "code",
   "execution_count": 5,
   "metadata": {},
   "outputs": [
    {
     "name": "stderr",
     "output_type": "stream",
     "text": [
      "2023-02-23 17:01:00.390 | INFO     | geo_kpe_multidoc.datasets.dataset:extract_from_dataset:70 - Reading from picked cache file: /home/helder/doc/mecd/thesis/data/processed_data/MKDUC01/MKDUC01_processed\n"
     ]
    }
   ],
   "source": [
    "from geo_kpe_multidoc.datasets import Dataset\n",
    "\n",
    "corpus = Dataset.build_dataset([\"MKDUC01\"])"
   ]
  },
  {
   "cell_type": "code",
   "execution_count": null,
   "metadata": {},
   "outputs": [],
   "source": [
    "kpe_model.extract_kp_from_corpus(corpus=corpus.content)"
   ]
  },
  {
   "cell_type": "code",
   "execution_count": 1,
   "metadata": {},
   "outputs": [],
   "source": [
    "import pandas as pd"
   ]
  },
  {
   "cell_type": "code",
   "execution_count": 4,
   "metadata": {},
   "outputs": [],
   "source": [
    "df = pd.read_csv(\"/home/helder/doc/mecd/thesis/outputs/results-KPE-PT-KP-20230302-165430.csv\", index_col=0)"
   ]
  },
  {
   "cell_type": "code",
   "execution_count": 8,
   "metadata": {},
   "outputs": [
    {
     "data": {
      "text/html": [
       "<div>\n",
       "<style scoped>\n",
       "    .dataframe tbody tr th:only-of-type {\n",
       "        vertical-align: middle;\n",
       "    }\n",
       "\n",
       "    .dataframe tbody tr th {\n",
       "        vertical-align: top;\n",
       "    }\n",
       "\n",
       "    .dataframe thead th {\n",
       "        text-align: right;\n",
       "    }\n",
       "</style>\n",
       "<table border=\"1\" class=\"dataframe\">\n",
       "  <thead>\n",
       "    <tr style=\"text-align: right;\">\n",
       "      <th></th>\n",
       "      <th>F1_5</th>\n",
       "      <th>F1_10</th>\n",
       "      <th>F1_15</th>\n",
       "    </tr>\n",
       "  </thead>\n",
       "  <tbody>\n",
       "    <tr>\n",
       "      <th>110-PT-BN-KP</th>\n",
       "      <td>4.0</td>\n",
       "      <td>9.0</td>\n",
       "      <td>12.0</td>\n",
       "    </tr>\n",
       "  </tbody>\n",
       "</table>\n",
       "</div>"
      ],
      "text/plain": [
       "              F1_5  F1_10  F1_15\n",
       "110-PT-BN-KP   4.0    9.0   12.0"
      ]
     },
     "execution_count": 8,
     "metadata": {},
     "output_type": "execute_result"
    }
   ],
   "source": [
    "df[[\"F1_5\", \"F1_10\", \"F1_15\"]].round(decimals=2)*100"
   ]
  },
  {
   "cell_type": "code",
   "execution_count": 2,
   "metadata": {},
   "outputs": [
    {
     "data": {
      "text/html": [
       "<div>\n",
       "<style scoped>\n",
       "    .dataframe tbody tr th:only-of-type {\n",
       "        vertical-align: middle;\n",
       "    }\n",
       "\n",
       "    .dataframe tbody tr th {\n",
       "        vertical-align: top;\n",
       "    }\n",
       "\n",
       "    .dataframe thead th {\n",
       "        text-align: right;\n",
       "    }\n",
       "</style>\n",
       "<table border=\"1\" class=\"dataframe\">\n",
       "  <thead>\n",
       "    <tr style=\"text-align: right;\">\n",
       "      <th></th>\n",
       "      <th>F1_5</th>\n",
       "      <th>F1_10</th>\n",
       "      <th>F1_15</th>\n",
       "    </tr>\n",
       "  </thead>\n",
       "  <tbody>\n",
       "    <tr>\n",
       "      <th>110-PT-BN-KP</th>\n",
       "      <td>14.0</td>\n",
       "      <td>24.0</td>\n",
       "      <td>31.0</td>\n",
       "    </tr>\n",
       "  </tbody>\n",
       "</table>\n",
       "</div>"
      ],
      "text/plain": [
       "              F1_5  F1_10  F1_15\n",
       "110-PT-BN-KP  14.0   24.0   31.0"
      ]
     },
     "execution_count": 2,
     "metadata": {},
     "output_type": "execute_result"
    }
   ],
   "source": [
    "# ls -lt | sed -n 2p | cut -d \" \" -f 11 | wl-copy\n",
    "df = pd.read_csv(\"/home/helder/doc/mecd/thesis/outputs/results-KPE-110-PT-BN-KP-20230307-111324.csv\", index_col=0)\n",
    "df[[\"F1_5\", \"F1_10\", \"F1_15\"]].round(decimals=2)*100"
   ]
  },
  {
   "cell_type": "code",
   "execution_count": 2,
   "metadata": {},
   "outputs": [
    {
     "data": {
      "text/html": [
       "<div>\n",
       "<style scoped>\n",
       "    .dataframe tbody tr th:only-of-type {\n",
       "        vertical-align: middle;\n",
       "    }\n",
       "\n",
       "    .dataframe tbody tr th {\n",
       "        vertical-align: top;\n",
       "    }\n",
       "\n",
       "    .dataframe thead th {\n",
       "        text-align: right;\n",
       "    }\n",
       "</style>\n",
       "<table border=\"1\" class=\"dataframe\">\n",
       "  <thead>\n",
       "    <tr style=\"text-align: right;\">\n",
       "      <th></th>\n",
       "      <th>F1_5</th>\n",
       "      <th>F1_10</th>\n",
       "      <th>F1_15</th>\n",
       "    </tr>\n",
       "  </thead>\n",
       "  <tbody>\n",
       "    <tr>\n",
       "      <th>MKDUC01</th>\n",
       "      <td>6.0</td>\n",
       "      <td>9.0</td>\n",
       "      <td>12.0</td>\n",
       "    </tr>\n",
       "  </tbody>\n",
       "</table>\n",
       "</div>"
      ],
      "text/plain": [
       "         F1_5  F1_10  F1_15\n",
       "MKDUC01   6.0    9.0   12.0"
      ]
     },
     "execution_count": 2,
     "metadata": {},
     "output_type": "execute_result"
    }
   ],
   "source": [
    "# ls -lt | sed -n 2p | cut -d \" \" -f 11 | wl-copy\n",
    "df = pd.read_csv(\"/home/helder/doc/mecd/thesis/outputs/results-MDKPERank-MKDUC01-GEO-20230321-145646.csv\", index_col=0)\n",
    "df[[\"F1_5\", \"F1_10\", \"F1_15\"]].round(decimals=2)*100"
   ]
  },
  {
   "cell_type": "code",
   "execution_count": 3,
   "metadata": {},
   "outputs": [
    {
     "data": {
      "text/html": [
       "<div>\n",
       "<style scoped>\n",
       "    .dataframe tbody tr th:only-of-type {\n",
       "        vertical-align: middle;\n",
       "    }\n",
       "\n",
       "    .dataframe tbody tr th {\n",
       "        vertical-align: top;\n",
       "    }\n",
       "\n",
       "    .dataframe thead th {\n",
       "        text-align: right;\n",
       "    }\n",
       "</style>\n",
       "<table border=\"1\" class=\"dataframe\">\n",
       "  <thead>\n",
       "    <tr style=\"text-align: right;\">\n",
       "      <th></th>\n",
       "      <th>F1_5</th>\n",
       "      <th>F1_10</th>\n",
       "      <th>F1_15</th>\n",
       "    </tr>\n",
       "  </thead>\n",
       "  <tbody>\n",
       "    <tr>\n",
       "      <th>MKDUC01</th>\n",
       "      <td>2.0</td>\n",
       "      <td>4.0</td>\n",
       "      <td>5.0</td>\n",
       "    </tr>\n",
       "  </tbody>\n",
       "</table>\n",
       "</div>"
      ],
      "text/plain": [
       "         F1_5  F1_10  F1_15\n",
       "MKDUC01   2.0    4.0    5.0"
      ]
     },
     "execution_count": 3,
     "metadata": {},
     "output_type": "execute_result"
    }
   ],
   "source": [
    "# ls -lt | sed -n 2p | cut -d \" \" -f 11 | wl-copy\n",
    "df = pd.read_csv(\"/home/helder/doc/mecd/thesis/outputs/results-MDKPERank-MKDUC01-GEO-20230324-123948.csv\", index_col=0)\n",
    "df[[\"F1_5\", \"F1_10\", \"F1_15\"]].round(decimals=2)*100"
   ]
  },
  {
   "cell_type": "code",
   "execution_count": null,
   "metadata": {},
   "outputs": [],
   "source": []
  }
 ],
 "metadata": {
  "kernelspec": {
   "display_name": "nlp",
   "language": "python",
   "name": "python3"
  },
  "language_info": {
   "codemirror_mode": {
    "name": "ipython",
    "version": 3
   },
   "file_extension": ".py",
   "mimetype": "text/x-python",
   "name": "python",
   "nbconvert_exporter": "python",
   "pygments_lexer": "ipython3",
   "version": "3.10.9"
  },
  "orig_nbformat": 4,
  "vscode": {
   "interpreter": {
    "hash": "6192d2b8519ba1dc6668f1bfbce40557ee186aa5dae8ab284b50dd4471395d02"
   }
  }
 },
 "nbformat": 4,
 "nbformat_minor": 2
}
