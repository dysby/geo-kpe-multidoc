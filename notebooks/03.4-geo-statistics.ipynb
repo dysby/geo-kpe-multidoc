{
 "cells": [
  {
   "cell_type": "code",
   "execution_count": 4,
   "metadata": {},
   "outputs": [],
   "source": [
    "import pandas as pd\n",
    "from pandas import MultiIndex\n",
    "from geo_kpe_multidoc import GEO_KPE_MULTIDOC_OUTPUT_PATH, GEO_KPE_MULTIDOC_CACHE_PATH\n",
    "import os\n",
    "from matplotlib import pyplot as plt\n",
    "import joblib"
   ]
  },
  {
   "cell_type": "code",
   "execution_count": 2,
   "metadata": {},
   "outputs": [],
   "source": [
    "# geo.parquet.gzip -> longformer_4096_128_130 -> MKDUC01 -> inv_dis(a=17000)\n",
    "df = pd.read_parquet(os.path.join(GEO_KPE_MULTIDOC_OUTPUT_PATH, \"geo.parquet.gzip\"))"
   ]
  },
  {
   "cell_type": "code",
   "execution_count": 4,
   "metadata": {},
   "outputs": [
    {
     "data": {
      "text/html": [
       "<div>\n",
       "<style scoped>\n",
       "    .dataframe tbody tr th:only-of-type {\n",
       "        vertical-align: middle;\n",
       "    }\n",
       "\n",
       "    .dataframe tbody tr th {\n",
       "        vertical-align: top;\n",
       "    }\n",
       "\n",
       "    .dataframe thead th {\n",
       "        text-align: right;\n",
       "    }\n",
       "</style>\n",
       "<table border=\"1\" class=\"dataframe\">\n",
       "  <thead>\n",
       "    <tr style=\"text-align: right;\">\n",
       "      <th></th>\n",
       "      <th>N</th>\n",
       "      <th>moran_i</th>\n",
       "      <th>geary_c</th>\n",
       "      <th>getis_g</th>\n",
       "    </tr>\n",
       "  </thead>\n",
       "  <tbody>\n",
       "    <tr>\n",
       "      <th>N</th>\n",
       "      <td>1.000000</td>\n",
       "      <td>-0.115987</td>\n",
       "      <td>0.218137</td>\n",
       "      <td>-0.297767</td>\n",
       "    </tr>\n",
       "    <tr>\n",
       "      <th>moran_i</th>\n",
       "      <td>-0.115987</td>\n",
       "      <td>1.000000</td>\n",
       "      <td>-0.926880</td>\n",
       "      <td>0.422043</td>\n",
       "    </tr>\n",
       "    <tr>\n",
       "      <th>geary_c</th>\n",
       "      <td>0.218137</td>\n",
       "      <td>-0.926880</td>\n",
       "      <td>1.000000</td>\n",
       "      <td>-0.691570</td>\n",
       "    </tr>\n",
       "    <tr>\n",
       "      <th>getis_g</th>\n",
       "      <td>-0.297767</td>\n",
       "      <td>0.422043</td>\n",
       "      <td>-0.691570</td>\n",
       "      <td>1.000000</td>\n",
       "    </tr>\n",
       "  </tbody>\n",
       "</table>\n",
       "</div>"
      ],
      "text/plain": [
       "                N   moran_i   geary_c   getis_g\n",
       "N        1.000000 -0.115987  0.218137 -0.297767\n",
       "moran_i -0.115987  1.000000 -0.926880  0.422043\n",
       "geary_c  0.218137 -0.926880  1.000000 -0.691570\n",
       "getis_g -0.297767  0.422043 -0.691570  1.000000"
      ]
     },
     "execution_count": 4,
     "metadata": {},
     "output_type": "execute_result"
    }
   ],
   "source": [
    "df.loc[df.N > 1, [\"N\",\"moran_i\", 'geary_c', 'getis_g']].corr()"
   ]
  },
  {
   "cell_type": "code",
   "execution_count": 5,
   "metadata": {},
   "outputs": [
    {
     "data": {
      "text/html": [
       "<div>\n",
       "<style scoped>\n",
       "    .dataframe tbody tr th:only-of-type {\n",
       "        vertical-align: middle;\n",
       "    }\n",
       "\n",
       "    .dataframe tbody tr th {\n",
       "        vertical-align: top;\n",
       "    }\n",
       "\n",
       "    .dataframe thead th {\n",
       "        text-align: right;\n",
       "    }\n",
       "</style>\n",
       "<table border=\"1\" class=\"dataframe\">\n",
       "  <thead>\n",
       "    <tr style=\"text-align: right;\">\n",
       "      <th></th>\n",
       "      <th>N</th>\n",
       "      <th>moran_i</th>\n",
       "      <th>geary_c</th>\n",
       "      <th>getis_g</th>\n",
       "    </tr>\n",
       "  </thead>\n",
       "  <tbody>\n",
       "    <tr>\n",
       "      <th>N</th>\n",
       "      <td>1.000000</td>\n",
       "      <td>-0.735276</td>\n",
       "      <td>0.748792</td>\n",
       "      <td>-0.253315</td>\n",
       "    </tr>\n",
       "    <tr>\n",
       "      <th>moran_i</th>\n",
       "      <td>-0.735276</td>\n",
       "      <td>1.000000</td>\n",
       "      <td>-0.996745</td>\n",
       "      <td>0.289871</td>\n",
       "    </tr>\n",
       "    <tr>\n",
       "      <th>geary_c</th>\n",
       "      <td>0.748792</td>\n",
       "      <td>-0.996745</td>\n",
       "      <td>1.000000</td>\n",
       "      <td>-0.305792</td>\n",
       "    </tr>\n",
       "    <tr>\n",
       "      <th>getis_g</th>\n",
       "      <td>-0.253315</td>\n",
       "      <td>0.289871</td>\n",
       "      <td>-0.305792</td>\n",
       "      <td>1.000000</td>\n",
       "    </tr>\n",
       "  </tbody>\n",
       "</table>\n",
       "</div>"
      ],
      "text/plain": [
       "                N   moran_i   geary_c   getis_g\n",
       "N        1.000000 -0.735276  0.748792 -0.253315\n",
       "moran_i -0.735276  1.000000 -0.996745  0.289871\n",
       "geary_c  0.748792 -0.996745  1.000000 -0.305792\n",
       "getis_g -0.253315  0.289871 -0.305792  1.000000"
      ]
     },
     "execution_count": 5,
     "metadata": {},
     "output_type": "execute_result"
    }
   ],
   "source": [
    "df.loc[:, [\"N\",\"moran_i\", 'geary_c', 'getis_g']].corr()"
   ]
  },
  {
   "cell_type": "code",
   "execution_count": 19,
   "metadata": {},
   "outputs": [
    {
     "data": {
      "image/png": "[encoded data removed]",
      "text/plain": [
       "<Figure size 921.6x345.6 with 2 Axes>"
      ]
     },
     "metadata": {
      "needs_background": "light"
     },
     "output_type": "display_data"
    }
   ],
   "source": [
    "plt.rcParams['figure.figsize'] = (12.8, 4.8)\n",
    "\n",
    "_, ax = plt.subplots(1, 2, sharey='row')\n",
    "df.loc[:, [\"N\",\"moran_i\"]].plot(kind='scatter', x='moran_i', y='N', ax=ax[1], title=\"All\")\n",
    "df.loc[df.N > 1, [\"N\",\"moran_i\"]].plot(kind='scatter', x='moran_i', y='N', ax=ax[0], title=\"N > 1\")\n",
    "plt.show()"
   ]
  },
  {
   "cell_type": "code",
   "execution_count": 21,
   "metadata": {},
   "outputs": [
    {
     "data": {
      "image/png": "[encoded data removed]",
      "text/plain": [
       "<Figure size 921.6x345.6 with 2 Axes>"
      ]
     },
     "metadata": {
      "needs_background": "light"
     },
     "output_type": "display_data"
    }
   ],
   "source": [
    "plt.rcParams['figure.figsize'] = (12.8, 4.8)\n",
    "\n",
    "_, ax = plt.subplots(1, 2, sharey='row')\n",
    "df.loc[:, [\"N\",\"getis_g\"]].plot(kind='scatter', x='getis_g', y='N', ax=ax[1], title=\"All\", color=\"orange\")\n",
    "df.loc[df.N > 1, [\"N\",\"getis_g\"]].plot(kind='scatter', x='getis_g', y='N', ax=ax[0], title=\"N > 1\", color='orange')\n",
    "plt.show()\n"
   ]
  },
  {
   "cell_type": "code",
   "execution_count": 40,
   "metadata": {},
   "outputs": [
    {
     "data": {
      "image/png": "[encoded data removed]",
      "text/plain": [
       "<Figure size 921.6x691.2 with 4 Axes>"
      ]
     },
     "metadata": {
      "needs_background": "light"
     },
     "output_type": "display_data"
    }
   ],
   "source": [
    "plt.rcParams['figure.figsize'] = (12.8, 4.8*2)\n",
    "\n",
    "_, ax = plt.subplots(2, 2, sharey='row')\n",
    "\n",
    "df.loc[df.gold == False, [\"N\",\"moran_i\"]].plot(kind='scatter', x='moran_i', y='N', ax=ax[0,1], title=\"All (gold=False)\")\n",
    "df.loc[df.N.gt(1) & (df.gold==False), [\"N\",\"moran_i\"]].plot(kind='scatter', x='moran_i', y='N', ax=ax[0, 0], title=\"N > 1 (gold=False)\")\n",
    "df.loc[df.gold ==True, [\"N\",\"moran_i\"]].plot(kind='scatter', x='moran_i', y='N', ax=ax[1,1], title=\"All (gold=True)\")\n",
    "df.loc[df.N.gt(1) & (df.gold==True), [\"N\",\"moran_i\"]].plot(kind='scatter', x='moran_i', y='N', ax=ax[1, 0], title=\"N > 1(gold=True)\")\n",
    "plt.show()"
   ]
  },
  {
   "cell_type": "code",
   "execution_count": 41,
   "metadata": {},
   "outputs": [
    {
     "data": {
      "text/html": [
       "<div>\n",
       "<style scoped>\n",
       "    .dataframe tbody tr th:only-of-type {\n",
       "        vertical-align: middle;\n",
       "    }\n",
       "\n",
       "    .dataframe tbody tr th {\n",
       "        vertical-align: top;\n",
       "    }\n",
       "\n",
       "    .dataframe thead th {\n",
       "        text-align: right;\n",
       "    }\n",
       "</style>\n",
       "<table border=\"1\" class=\"dataframe\">\n",
       "  <thead>\n",
       "    <tr style=\"text-align: right;\">\n",
       "      <th></th>\n",
       "      <th>N</th>\n",
       "      <th>moran_i</th>\n",
       "    </tr>\n",
       "  </thead>\n",
       "  <tbody>\n",
       "    <tr>\n",
       "      <th>N</th>\n",
       "      <td>1.000000</td>\n",
       "      <td>-0.111324</td>\n",
       "    </tr>\n",
       "    <tr>\n",
       "      <th>moran_i</th>\n",
       "      <td>-0.111324</td>\n",
       "      <td>1.000000</td>\n",
       "    </tr>\n",
       "  </tbody>\n",
       "</table>\n",
       "</div>"
      ],
      "text/plain": [
       "                N   moran_i\n",
       "N        1.000000 -0.111324\n",
       "moran_i -0.111324  1.000000"
      ]
     },
     "execution_count": 41,
     "metadata": {},
     "output_type": "execute_result"
    }
   ],
   "source": [
    "df.loc[df.N.gt(1) & (df.gold==False), [\"N\",\"moran_i\"]].corr()"
   ]
  },
  {
   "cell_type": "code",
   "execution_count": 42,
   "metadata": {},
   "outputs": [
    {
     "data": {
      "text/html": [
       "<div>\n",
       "<style scoped>\n",
       "    .dataframe tbody tr th:only-of-type {\n",
       "        vertical-align: middle;\n",
       "    }\n",
       "\n",
       "    .dataframe tbody tr th {\n",
       "        vertical-align: top;\n",
       "    }\n",
       "\n",
       "    .dataframe thead th {\n",
       "        text-align: right;\n",
       "    }\n",
       "</style>\n",
       "<table border=\"1\" class=\"dataframe\">\n",
       "  <thead>\n",
       "    <tr style=\"text-align: right;\">\n",
       "      <th></th>\n",
       "      <th>N</th>\n",
       "      <th>moran_i</th>\n",
       "    </tr>\n",
       "  </thead>\n",
       "  <tbody>\n",
       "    <tr>\n",
       "      <th>N</th>\n",
       "      <td>1.000000</td>\n",
       "      <td>-0.168392</td>\n",
       "    </tr>\n",
       "    <tr>\n",
       "      <th>moran_i</th>\n",
       "      <td>-0.168392</td>\n",
       "      <td>1.000000</td>\n",
       "    </tr>\n",
       "  </tbody>\n",
       "</table>\n",
       "</div>"
      ],
      "text/plain": [
       "                N   moran_i\n",
       "N        1.000000 -0.168392\n",
       "moran_i -0.168392  1.000000"
      ]
     },
     "execution_count": 42,
     "metadata": {},
     "output_type": "execute_result"
    }
   ],
   "source": [
    "df.loc[df.N.gt(1) & (df.gold==True), [\"N\",\"moran_i\"]].corr()"
   ]
  },
  {
   "cell_type": "code",
   "execution_count": 43,
   "metadata": {},
   "outputs": [
    {
     "data": {
      "text/html": [
       "<div>\n",
       "<style scoped>\n",
       "    .dataframe tbody tr th:only-of-type {\n",
       "        vertical-align: middle;\n",
       "    }\n",
       "\n",
       "    .dataframe tbody tr th {\n",
       "        vertical-align: top;\n",
       "    }\n",
       "\n",
       "    .dataframe thead th {\n",
       "        text-align: right;\n",
       "    }\n",
       "</style>\n",
       "<table border=\"1\" class=\"dataframe\">\n",
       "  <thead>\n",
       "    <tr style=\"text-align: right;\">\n",
       "      <th></th>\n",
       "      <th>N</th>\n",
       "      <th>moran_i</th>\n",
       "    </tr>\n",
       "  </thead>\n",
       "  <tbody>\n",
       "    <tr>\n",
       "      <th>N</th>\n",
       "      <td>1.000000</td>\n",
       "      <td>-0.712475</td>\n",
       "    </tr>\n",
       "    <tr>\n",
       "      <th>moran_i</th>\n",
       "      <td>-0.712475</td>\n",
       "      <td>1.000000</td>\n",
       "    </tr>\n",
       "  </tbody>\n",
       "</table>\n",
       "</div>"
      ],
      "text/plain": [
       "                N   moran_i\n",
       "N        1.000000 -0.712475\n",
       "moran_i -0.712475  1.000000"
      ]
     },
     "execution_count": 43,
     "metadata": {},
     "output_type": "execute_result"
    }
   ],
   "source": [
    "df.loc[(df.gold==True), [\"N\",\"moran_i\"]].corr()"
   ]
  },
  {
   "cell_type": "code",
   "execution_count": 50,
   "metadata": {},
   "outputs": [
    {
     "data": {
      "text/plain": [
       "(0.49380147, 0.56003606)"
      ]
     },
     "execution_count": 50,
     "metadata": {},
     "output_type": "execute_result"
    }
   ],
   "source": [
    "df.loc[(df.moran_i < 0.2), \"semantic_score\"].mean(), df.loc[(df.moran_i < 0.2) & df.gold == True, \"semantic_score\"].mean()"
   ]
  },
  {
   "cell_type": "code",
   "execution_count": 49,
   "metadata": {},
   "outputs": [
    {
     "data": {
      "text/plain": [
       "(0.43134874, 0.49912134)"
      ]
     },
     "execution_count": 49,
     "metadata": {},
     "output_type": "execute_result"
    }
   ],
   "source": [
    "df.loc[(df.moran_i > 0.2), \"semantic_score\"].mean(), df.loc[(df.moran_i > 0.2) & df.gold == True, \"semantic_score\"].mean()"
   ]
  },
  {
   "cell_type": "code",
   "execution_count": 76,
   "metadata": {},
   "outputs": [
    {
     "data": {
      "image/png": "[encoded data removed]",
      "text/plain": [
       "<Figure size 460.8x345.6 with 1 Axes>"
      ]
     },
     "metadata": {
      "needs_background": "light"
     },
     "output_type": "display_data"
    }
   ],
   "source": [
    "plt.rcParams['figure.figsize'] = (6.4, 4.8)\n",
    "df.loc[(df.moran_i < 0.2) & (df.gold == True), \"semantic_score\"].hist(density=True)\n",
    "df.loc[(df.moran_i < 0.2) & (df.gold == False), \"semantic_score\"].hist(alpha=0.5, density=True)\n",
    "plt.title(\"Semantic Scores (Moran's I < 0.2 | Gold / Not Gold)\")\n",
    "plt.show()"
   ]
  },
  {
   "cell_type": "code",
   "execution_count": 75,
   "metadata": {},
   "outputs": [
    {
     "data": {
      "image/png": "[encoded data removed]",
      "text/plain": [
       "<Figure size 460.8x345.6 with 1 Axes>"
      ]
     },
     "metadata": {
      "needs_background": "light"
     },
     "output_type": "display_data"
    }
   ],
   "source": [
    "plt.rcParams['figure.figsize'] = (6.4, 4.8)\n",
    "df.loc[(df.moran_i < 0.2) & (df.gold == True), \"moran_i\"].hist(density=True)\n",
    "df.loc[(df.moran_i < 0.2) & (df.gold == False), \"moran_i\"].hist(alpha=0.5, density=True)\n",
    "plt.title(\"Moran's I (Moran's I < 0.2 | Gold / Not Gold)\")\n",
    "plt.show()"
   ]
  },
  {
   "cell_type": "code",
   "execution_count": 74,
   "metadata": {},
   "outputs": [
    {
     "data": {
      "text/plain": [
       "<AxesSubplot:>"
      ]
     },
     "execution_count": 74,
     "metadata": {},
     "output_type": "execute_result"
    },
    {
     "data": {
      "image/png": "[encoded data removed]",
      "text/plain": [
       "<Figure size 460.8x345.6 with 1 Axes>"
      ]
     },
     "metadata": {
      "needs_background": "light"
     },
     "output_type": "display_data"
    }
   ],
   "source": [
    "df.loc[(df.moran_i > 0.2) & df.gold == True, \"semantic_score\"].hist(density=True)\n",
    "df.loc[(df.moran_i > 0.2) & df.gold == False, \"semantic_score\"].hist(alpha=0.5, density=True)"
   ]
  },
  {
   "attachments": {},
   "cell_type": "markdown",
   "metadata": {},
   "source": [
    "# KPE Performance with Moran'I"
   ]
  },
  {
   "cell_type": "code",
   "execution_count": 5,
   "metadata": {},
   "outputs": [],
   "source": [
    "experiment = \"MKDUC01-MDKPERank-Longformer-4096-128-130\"\n",
    "df = pd.read_parquet(os.path.join(GEO_KPE_MULTIDOC_OUTPUT_PATH, \"geo.parquet.gzip\"))\n",
    "gold = joblib.load(os.path.join(GEO_KPE_MULTIDOC_CACHE_PATH, experiment, \"MKDUC01-gold-20230501.pkl\"))"
   ]
  },
  {
   "cell_type": "code",
   "execution_count": 43,
   "metadata": {},
   "outputs": [
    {
     "name": "stdout",
     "output_type": "stream",
     "text": [
      "                       Precision    Recall       F1        MAP      nDCG    Precision_5    Recall_5       F1_5    Precision_10    Recall_10      F1_10    Precision_15    Recall_15     F1_15\n",
      "-------------------  -----------  --------  -------  ---------  --------  -------------  ----------  ---------  --------------  -----------  ---------  --------------  -----------  --------\n",
      "MKDUC01-moran_i<0.2      0.09085  0.261599  0.13031  0.0636596  0.235991       0.254545   0.0282955  0.0503488        0.227778     0.053082  0.0840504        0.206277    0.0704347  0.102053\n"
     ]
    }
   ],
   "source": [
    "from geo_kpe_multidoc.evaluation.evaluation_tools import postprocess_res_labels, postprocess_dataset_labels, evaluate_kp_extraction\n",
    "import nltk\n",
    "\n",
    "stemmer = nltk.stem.PorterStemmer()\n",
    "lemmer = \"en\"\n",
    "\n",
    "\n",
    "def df_to_model_results(df, gold_df, dataset_name):\n",
    "    model_results = {dataset_name: []}\n",
    "    true_labels = {dataset_name: []}\n",
    "    for topic in df.index.get_level_values(0).unique():\n",
    "        model_results[dataset_name].append((df.loc[topic, [\"semantic_score\"]].sort_values(\"semantic_score\", ascending=False).to_records(), df.loc[topic].index.to_list()))\n",
    "        true_labels[dataset_name].append(gold_df[topic])\n",
    "    return model_results, true_labels\n"
   ]
  },
  {
   "cell_type": "code",
   "execution_count": 52,
   "metadata": {},
   "outputs": [
    {
     "name": "stdout",
     "output_type": "stream",
     "text": [
      "           Precision    Recall         F1        MAP      nDCG    Precision_5    Recall_5       F1_5    Precision_10    Recall_10      F1_10    Precision_15    Recall_15      F1_15\n",
      "-------  -----------  --------  ---------  ---------  --------  -------------  ----------  ---------  --------------  -----------  ---------  --------------  -----------  ---------\n",
      "MKDUC01    0.0470261  0.836295  0.0886334  0.0982698  0.487083       0.190909   0.0217844  0.0384132        0.177273    0.0376205  0.0605507        0.172727    0.0549484  0.0806836\n"
     ]
    },
    {
     "data": {
      "text/html": [
       "<div>\n",
       "<style scoped>\n",
       "    .dataframe tbody tr th:only-of-type {\n",
       "        vertical-align: middle;\n",
       "    }\n",
       "\n",
       "    .dataframe tbody tr th {\n",
       "        vertical-align: top;\n",
       "    }\n",
       "\n",
       "    .dataframe thead th {\n",
       "        text-align: right;\n",
       "    }\n",
       "</style>\n",
       "<table border=\"1\" class=\"dataframe\">\n",
       "  <thead>\n",
       "    <tr style=\"text-align: right;\">\n",
       "      <th></th>\n",
       "      <th>Recall</th>\n",
       "      <th>MAP</th>\n",
       "      <th>nDCG</th>\n",
       "      <th>F1_5</th>\n",
       "      <th>F1_10</th>\n",
       "      <th>F1_15</th>\n",
       "    </tr>\n",
       "  </thead>\n",
       "  <tbody>\n",
       "    <tr>\n",
       "      <th>MKDUC01</th>\n",
       "      <td>83.63</td>\n",
       "      <td>9.83</td>\n",
       "      <td>48.71</td>\n",
       "      <td>3.84</td>\n",
       "      <td>6.06</td>\n",
       "      <td>8.07</td>\n",
       "    </tr>\n",
       "  </tbody>\n",
       "</table>\n",
       "</div>"
      ],
      "text/plain": [
       "         Recall   MAP   nDCG  F1_5  F1_10  F1_15\n",
       "MKDUC01   83.63  9.83  48.71  3.84   6.06   8.07"
      ]
     },
     "execution_count": 52,
     "metadata": {},
     "output_type": "execute_result"
    }
   ],
   "source": [
    "model_results, true_labels = df_to_model_results(df, gold, \"MKDUC01\")\n",
    "\n",
    "results = evaluate_kp_extraction(postprocess_res_labels(model_results=model_results, stemmer=stemmer, lemmer=lemmer),\n",
    "\n",
    "                                 postprocess_dataset_labels(true_labels, stemmer=stemmer, lemmer=lemmer), \n",
    "                                 model_name=\"teste\")\n",
    "\n",
    "(results[[\"Recall\", \"MAP\", \"nDCG\",\"F1_5\", \"F1_10\", \"F1_15\"]].round(decimals=4)*100)"
   ]
  },
  {
   "cell_type": "code",
   "execution_count": 53,
   "metadata": {},
   "outputs": [
    {
     "name": "stdout",
     "output_type": "stream",
     "text": [
      "                       Precision    Recall       F1        MAP      nDCG    Precision_5    Recall_5       F1_5    Precision_10    Recall_10      F1_10    Precision_15    Recall_15     F1_15\n",
      "-------------------  -----------  --------  -------  ---------  --------  -------------  ----------  ---------  --------------  -----------  ---------  --------------  -----------  --------\n",
      "MKDUC01-moran_i<0.2      0.09085  0.261599  0.13031  0.0636596  0.235991       0.254545   0.0282955  0.0503488        0.227778     0.053082  0.0840504        0.206277    0.0704347  0.102053\n"
     ]
    },
    {
     "data": {
      "text/html": [
       "<div>\n",
       "<style scoped>\n",
       "    .dataframe tbody tr th:only-of-type {\n",
       "        vertical-align: middle;\n",
       "    }\n",
       "\n",
       "    .dataframe tbody tr th {\n",
       "        vertical-align: top;\n",
       "    }\n",
       "\n",
       "    .dataframe thead th {\n",
       "        text-align: right;\n",
       "    }\n",
       "</style>\n",
       "<table border=\"1\" class=\"dataframe\">\n",
       "  <thead>\n",
       "    <tr style=\"text-align: right;\">\n",
       "      <th></th>\n",
       "      <th>Recall</th>\n",
       "      <th>MAP</th>\n",
       "      <th>nDCG</th>\n",
       "      <th>F1_5</th>\n",
       "      <th>F1_10</th>\n",
       "      <th>F1_15</th>\n",
       "    </tr>\n",
       "  </thead>\n",
       "  <tbody>\n",
       "    <tr>\n",
       "      <th>MKDUC01-moran_i&lt;0.2</th>\n",
       "      <td>26.16</td>\n",
       "      <td>6.37</td>\n",
       "      <td>23.6</td>\n",
       "      <td>5.03</td>\n",
       "      <td>8.41</td>\n",
       "      <td>10.21</td>\n",
       "    </tr>\n",
       "  </tbody>\n",
       "</table>\n",
       "</div>"
      ],
      "text/plain": [
       "                     Recall   MAP  nDCG  F1_5  F1_10  F1_15\n",
       "MKDUC01-moran_i<0.2   26.16  6.37  23.6  5.03   8.41  10.21"
      ]
     },
     "execution_count": 53,
     "metadata": {},
     "output_type": "execute_result"
    }
   ],
   "source": [
    "df_moran_i = df[df.moran_i.lt(0.2)]\n",
    "\n",
    "model_results, true_labels = df_to_model_results(df_moran_i, gold, \"MKDUC01-moran_i<0.2\")\n",
    "\n",
    "results_i = evaluate_kp_extraction(postprocess_res_labels(model_results=model_results, stemmer=stemmer, lemmer=lemmer), postprocess_dataset_labels(true_labels, stemmer=stemmer, lemmer=lemmer), model_name=\"teste\")\n",
    "\n",
    "results_i[[\"Recall\", \"MAP\", \"nDCG\",\"F1_5\", \"F1_10\", \"F1_15\"]].round(decimals=4)*100"
   ]
  },
  {
   "cell_type": "code",
   "execution_count": 58,
   "metadata": {},
   "outputs": [
    {
     "data": {
      "text/html": [
       "<div>\n",
       "<style scoped>\n",
       "    .dataframe tbody tr th:only-of-type {\n",
       "        vertical-align: middle;\n",
       "    }\n",
       "\n",
       "    .dataframe tbody tr th {\n",
       "        vertical-align: top;\n",
       "    }\n",
       "\n",
       "    .dataframe thead th {\n",
       "        text-align: right;\n",
       "    }\n",
       "</style>\n",
       "<table border=\"1\" class=\"dataframe\">\n",
       "  <thead>\n",
       "    <tr style=\"text-align: right;\">\n",
       "      <th></th>\n",
       "      <th>Precision</th>\n",
       "      <th>Recall</th>\n",
       "      <th>F1</th>\n",
       "      <th>MAP</th>\n",
       "      <th>nDCG</th>\n",
       "      <th>F1_5</th>\n",
       "      <th>F1_10</th>\n",
       "      <th>F1_15</th>\n",
       "    </tr>\n",
       "  </thead>\n",
       "  <tbody>\n",
       "    <tr>\n",
       "      <th>MKDUC01</th>\n",
       "      <td>4.70</td>\n",
       "      <td>83.63</td>\n",
       "      <td>8.86</td>\n",
       "      <td>9.83</td>\n",
       "      <td>48.71</td>\n",
       "      <td>3.84</td>\n",
       "      <td>6.06</td>\n",
       "      <td>8.07</td>\n",
       "    </tr>\n",
       "    <tr>\n",
       "      <th>MKDUC01-moran_i&lt;0.2</th>\n",
       "      <td>9.08</td>\n",
       "      <td>26.16</td>\n",
       "      <td>13.03</td>\n",
       "      <td>6.37</td>\n",
       "      <td>23.60</td>\n",
       "      <td>5.03</td>\n",
       "      <td>8.41</td>\n",
       "      <td>10.21</td>\n",
       "    </tr>\n",
       "  </tbody>\n",
       "</table>\n",
       "</div>"
      ],
      "text/plain": [
       "                     Precision  Recall     F1   MAP   nDCG  F1_5  F1_10  F1_15\n",
       "MKDUC01                   4.70   83.63   8.86  9.83  48.71  3.84   6.06   8.07\n",
       "MKDUC01-moran_i<0.2       9.08   26.16  13.03  6.37  23.60  5.03   8.41  10.21"
      ]
     },
     "execution_count": 58,
     "metadata": {},
     "output_type": "execute_result"
    }
   ],
   "source": [
    "\n",
    "pd.concat([results, results_i])[[\"Precision\", \"Recall\", \"F1\", \"MAP\", \"nDCG\",\"F1_5\", \"F1_10\", \"F1_15\"]].round(decimals=4)*100\n"
   ]
  },
  {
   "cell_type": "code",
   "execution_count": 60,
   "metadata": {},
   "outputs": [
    {
     "data": {
      "text/html": [
       "<div>\n",
       "<style scoped>\n",
       "    .dataframe tbody tr th:only-of-type {\n",
       "        vertical-align: middle;\n",
       "    }\n",
       "\n",
       "    .dataframe tbody tr th {\n",
       "        vertical-align: top;\n",
       "    }\n",
       "\n",
       "    .dataframe thead th {\n",
       "        text-align: right;\n",
       "    }\n",
       "</style>\n",
       "<table border=\"1\" class=\"dataframe\">\n",
       "  <thead>\n",
       "    <tr style=\"text-align: right;\">\n",
       "      <th></th>\n",
       "      <th>Precision</th>\n",
       "      <th>Recall</th>\n",
       "      <th>F1</th>\n",
       "      <th>MAP</th>\n",
       "      <th>nDCG</th>\n",
       "      <th>F1_5</th>\n",
       "      <th>F1_10</th>\n",
       "      <th>F1_15</th>\n",
       "    </tr>\n",
       "  </thead>\n",
       "  <tbody>\n",
       "    <tr>\n",
       "      <th>results-DUC2001-EmbedRankManual-Longformer-max4096-attw256-cpmaxpos130-20230505-180030.csv</th>\n",
       "      <td>7.94</td>\n",
       "      <td>80.56</td>\n",
       "      <td>13.56</td>\n",
       "      <td>13.58</td>\n",
       "      <td>39.47</td>\n",
       "      <td>9.53</td>\n",
       "      <td>13.95</td>\n",
       "      <td>14.89</td>\n",
       "    </tr>\n",
       "    <tr>\n",
       "      <th>results-debug-20230505-120301.csv</th>\n",
       "      <td>7.94</td>\n",
       "      <td>80.56</td>\n",
       "      <td>13.56</td>\n",
       "      <td>15.77</td>\n",
       "      <td>42.14</td>\n",
       "      <td>11.98</td>\n",
       "      <td>15.42</td>\n",
       "      <td>17.61</td>\n",
       "    </tr>\n",
       "    <tr>\n",
       "      <th>results-DUC2001-EmbedRankManual-Longformer-max4096-attw64-cpmaxpos130-20230505-181030.csv</th>\n",
       "      <td>7.94</td>\n",
       "      <td>80.56</td>\n",
       "      <td>13.56</td>\n",
       "      <td>16.09</td>\n",
       "      <td>42.49</td>\n",
       "      <td>12.35</td>\n",
       "      <td>16.39</td>\n",
       "      <td>17.88</td>\n",
       "    </tr>\n",
       "  </tbody>\n",
       "</table>\n",
       "</div>"
      ],
      "text/plain": [
       "                                                    Precision  Recall     F1  \\\n",
       "results-DUC2001-EmbedRankManual-Longformer-max4...       7.94   80.56  13.56   \n",
       "results-debug-20230505-120301.csv                        7.94   80.56  13.56   \n",
       "results-DUC2001-EmbedRankManual-Longformer-max4...       7.94   80.56  13.56   \n",
       "\n",
       "                                                      MAP   nDCG   F1_5  \\\n",
       "results-DUC2001-EmbedRankManual-Longformer-max4...  13.58  39.47   9.53   \n",
       "results-debug-20230505-120301.csv                   15.77  42.14  11.98   \n",
       "results-DUC2001-EmbedRankManual-Longformer-max4...  16.09  42.49  12.35   \n",
       "\n",
       "                                                    F1_10  F1_15  \n",
       "results-DUC2001-EmbedRankManual-Longformer-max4...  13.95  14.89  \n",
       "results-debug-20230505-120301.csv                   15.42  17.61  \n",
       "results-DUC2001-EmbedRankManual-Longformer-max4...  16.39  17.88  "
      ]
     },
     "execution_count": 60,
     "metadata": {},
     "output_type": "execute_result"
    }
   ],
   "source": [
    "results = pd.DataFrame()\n",
    "for f in [\"results-DUC2001-EmbedRankManual-Longformer-max4096-attw256-cpmaxpos130-20230505-180030.csv\", \n",
    "          \"results-debug-20230505-120301.csv\", \n",
    "          \"results-DUC2001-EmbedRankManual-Longformer-max4096-attw64-cpmaxpos130-20230505-181030.csv\"]:\n",
    "    \n",
    "    r = pd.read_csv(os.path.join(GEO_KPE_MULTIDOC_OUTPUT_PATH, f))\n",
    "    r.index = [f]\n",
    "\n",
    "    results = pd.concat([results, r])\n",
    "\n",
    "results[[\"Precision\", \"Recall\", \"F1\", \"MAP\", \"nDCG\",\"F1_5\", \"F1_10\", \"F1_15\"]].round(decimals=4)*100 \n"
   ]
  },
  {
   "cell_type": "code",
   "execution_count": null,
   "metadata": {},
   "outputs": [],
   "source": []
  }
 ],
 "metadata": {
  "kernelspec": {
   "display_name": "nlp",
   "language": "python",
   "name": "python3"
  },
  "language_info": {
   "codemirror_mode": {
    "name": "ipython",
    "version": 3
   },
   "file_extension": ".py",
   "mimetype": "text/x-python",
   "name": "python",
   "nbconvert_exporter": "python",
   "pygments_lexer": "ipython3",
   "version": "3.10.9"
  },
  "orig_nbformat": 4
 },
 "nbformat": 4,
 "nbformat_minor": 2
}
