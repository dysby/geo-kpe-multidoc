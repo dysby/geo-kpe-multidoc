{
 "cells": [
  {
   "cell_type": "code",
   "execution_count": null,
   "metadata": {},
   "outputs": [],
   "source": [
    "import torch\n",
    "from sentence_transformers import SentenceTransformer\n",
    "from transformers.models.longformer.modeling_longformer import create_position_ids_from_input_ids"
   ]
  },
  {
   "cell_type": "code",
   "execution_count": null,
   "metadata": {},
   "outputs": [],
   "source": [
    "olong = SentenceTransformer(\"/home/helder/doc/mecd/thesis/models/longformer-paraphrase-multilingual-mpnet-base-v2\")\n",
    "sbert = SentenceTransformer(\"paraphrase-multilingual-mpnet-base-v2\")\n",
    "inputs = olong.tokenize([\"helder\"])"
   ]
  },
  {
   "cell_type": "code",
   "execution_count": null,
   "metadata": {},
   "outputs": [],
   "source": [
    "olong_inputs_embeds = olong._modules['0'].auto_model.embeddings.word_embeddings(inputs['input_ids'])\n",
    "sbert_inputs_embeds = sbert._modules['0'].auto_model.embeddings.word_embeddings(inputs['input_ids'])\n",
    "torch.allclose(sbert_inputs_embeds, olong_inputs_embeds)\n"
   ]
  },
  {
   "cell_type": "code",
   "execution_count": null,
   "metadata": {},
   "outputs": [],
   "source": [
    "olong_token_type_ids = torch.zeros(inputs['input_ids'].size(), dtype=torch.long)\n",
    "sbert_token_type_ids = sbert._modules['0'].auto_model.embeddings.token_type_ids[:, :inputs['input_ids'].size()[1]]\n",
    "\n",
    "sbert_token_type_embeddings = sbert._modules['0'].auto_model.embeddings.token_type_embeddings(sbert_token_type_ids)\n",
    "olong_token_type_embeddings = olong._modules['0'].auto_model.embeddings.token_type_embeddings(olong_token_type_ids)\n",
    "torch.allclose(sbert_token_type_embeddings, olong_token_type_embeddings)\n"
   ]
  },
  {
   "cell_type": "code",
   "execution_count": null,
   "metadata": {},
   "outputs": [],
   "source": [
    "\n",
    "olong_position_ids = create_position_ids_from_input_ids(inputs['input_ids'], padding_idx=1)\n",
    "sbert_position_ids = create_position_ids_from_input_ids(inputs['input_ids'], padding_idx=1)\n",
    "olong_position_embeddings = olong._modules['0'].auto_model.embeddings.position_embeddings(olong_position_ids)\n",
    "sbert_position_embeddings = sbert._modules['0'].auto_model.embeddings.position_embeddings(sbert_position_ids)\n",
    "torch.allclose(olong_position_embeddings, sbert_position_embeddings)\n"
   ]
  },
  {
   "cell_type": "code",
   "execution_count": null,
   "metadata": {},
   "outputs": [],
   "source": [
    "\n",
    "olong_embeddings_in = olong_inputs_embeds + olong_token_type_embeddings + olong_position_embeddings\n",
    "sbert_embeddings_in = sbert_inputs_embeds + sbert_token_type_embeddings + sbert_position_embeddings\n",
    "torch.allclose(olong_embeddings_in, sbert_embeddings_in)\n"
   ]
  },
  {
   "cell_type": "code",
   "execution_count": null,
   "metadata": {},
   "outputs": [],
   "source": [
    "\n",
    "olong_embeddings = olong._modules['0'].auto_model.embeddings.LayerNorm(olong_embeddings_in)\n",
    "sbert_embeddings = sbert._modules['0'].auto_model.embeddings.LayerNorm(sbert_embeddings_in)\n",
    "torch.allclose(olong_embeddings, sbert_embeddings)\n"
   ]
  },
  {
   "cell_type": "code",
   "execution_count": null,
   "metadata": {},
   "outputs": [],
   "source": [
    "original_sbert_embeddings = sbert._modules['0'].auto_model.embeddings(inputs['input_ids'])\n",
    "\n",
    "sbert_embeddings == original_sbert_embeddings\n",
    "\n",
    "olong_embeddings == original_sbert_embeddings\n",
    "\n",
    "torch.allclose(olong_embeddings, original_sbert_embeddings)\n"
   ]
  },
  {
   "cell_type": "code",
   "execution_count": null,
   "metadata": {},
   "outputs": [],
   "source": [
    "original_olong_embeddings = olong._modules['0'].auto_model.embeddings(inputs['input_ids'])\n",
    "torch.allclose(original_olong_embeddings, original_sbert_embeddings)\n"
   ]
  },
  {
   "cell_type": "code",
   "execution_count": null,
   "metadata": {},
   "outputs": [],
   "source": [
    "torch.allclose(original_olong_embeddings, olong_embeddings)\n"
   ]
  }
 ],
 "metadata": {
  "language_info": {
   "name": "python"
  },
  "orig_nbformat": 4
 },
 "nbformat": 4,
 "nbformat_minor": 2
}
