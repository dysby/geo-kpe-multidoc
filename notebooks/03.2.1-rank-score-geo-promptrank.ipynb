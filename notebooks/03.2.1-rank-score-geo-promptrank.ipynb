{
 "cells": [
  {
   "cell_type": "code",
   "execution_count": 1,
   "metadata": {
    "scrolled": true
   },
   "outputs": [
    {
     "name": "stderr",
     "output_type": "stream",
     "text": [
      "/cfs/home/u021406/miniconda3/envs/nlp/lib/python3.10/site-packages/umap/distances.py:1063: NumbaDeprecationWarning: \u001b[1mThe 'nopython' keyword argument was not supplied to the 'numba.jit' decorator. The implicit default value for this argument is currently False, but it will be changed to True in Numba 0.59.0. See https://numba.readthedocs.io/en/stable/reference/deprecation.html#deprecation-of-object-mode-fall-back-behaviour-when-using-jit for details.\u001b[0m\n",
      "  @numba.jit()\n",
      "/cfs/home/u021406/miniconda3/envs/nlp/lib/python3.10/site-packages/umap/distances.py:1071: NumbaDeprecationWarning: \u001b[1mThe 'nopython' keyword argument was not supplied to the 'numba.jit' decorator. The implicit default value for this argument is currently False, but it will be changed to True in Numba 0.59.0. See https://numba.readthedocs.io/en/stable/reference/deprecation.html#deprecation-of-object-mode-fall-back-behaviour-when-using-jit for details.\u001b[0m\n",
      "  @numba.jit()\n",
      "/cfs/home/u021406/miniconda3/envs/nlp/lib/python3.10/site-packages/umap/distances.py:1086: NumbaDeprecationWarning: \u001b[1mThe 'nopython' keyword argument was not supplied to the 'numba.jit' decorator. The implicit default value for this argument is currently False, but it will be changed to True in Numba 0.59.0. See https://numba.readthedocs.io/en/stable/reference/deprecation.html#deprecation-of-object-mode-fall-back-behaviour-when-using-jit for details.\u001b[0m\n",
      "  @numba.jit()\n",
      "/cfs/home/u021406/miniconda3/envs/nlp/lib/python3.10/site-packages/umap/umap_.py:660: NumbaDeprecationWarning: \u001b[1mThe 'nopython' keyword argument was not supplied to the 'numba.jit' decorator. The implicit default value for this argument is currently False, but it will be changed to True in Numba 0.59.0. See https://numba.readthedocs.io/en/stable/reference/deprecation.html#deprecation-of-object-mode-fall-back-behaviour-when-using-jit for details.\u001b[0m\n",
      "  @numba.jit()\n",
      "/cfs/home/u021406/miniconda3/envs/nlp/lib/python3.10/site-packages/libpysal/cg/alpha_shapes.py:39: NumbaDeprecationWarning: \u001b[1mThe 'nopython' keyword argument was not supplied to the 'numba.jit' decorator. The implicit default value for this argument is currently False, but it will be changed to True in Numba 0.59.0. See https://numba.readthedocs.io/en/stable/reference/deprecation.html#deprecation-of-object-mode-fall-back-behaviour-when-using-jit for details.\u001b[0m\n",
      "  def nb_dist(x, y):\n",
      "/cfs/home/u021406/miniconda3/envs/nlp/lib/python3.10/site-packages/libpysal/cg/alpha_shapes.py:165: NumbaDeprecationWarning: \u001b[1mThe 'nopython' keyword argument was not supplied to the 'numba.jit' decorator. The implicit default value for this argument is currently False, but it will be changed to True in Numba 0.59.0. See https://numba.readthedocs.io/en/stable/reference/deprecation.html#deprecation-of-object-mode-fall-back-behaviour-when-using-jit for details.\u001b[0m\n",
      "  def get_faces(triangle):\n",
      "/cfs/home/u021406/miniconda3/envs/nlp/lib/python3.10/site-packages/libpysal/cg/alpha_shapes.py:199: NumbaDeprecationWarning: \u001b[1mThe 'nopython' keyword argument was not supplied to the 'numba.jit' decorator. The implicit default value for this argument is currently False, but it will be changed to True in Numba 0.59.0. See https://numba.readthedocs.io/en/stable/reference/deprecation.html#deprecation-of-object-mode-fall-back-behaviour-when-using-jit for details.\u001b[0m\n",
      "  def build_faces(faces, triangles_is, num_triangles, num_faces_single):\n",
      "/cfs/home/u021406/miniconda3/envs/nlp/lib/python3.10/site-packages/libpysal/cg/alpha_shapes.py:261: NumbaDeprecationWarning: \u001b[1mThe 'nopython' keyword argument was not supplied to the 'numba.jit' decorator. The implicit default value for this argument is currently False, but it will be changed to True in Numba 0.59.0. See https://numba.readthedocs.io/en/stable/reference/deprecation.html#deprecation-of-object-mode-fall-back-behaviour-when-using-jit for details.\u001b[0m\n",
      "  def nb_mask_faces(mask, faces):\n"
     ]
    }
   ],
   "source": [
    "import pandas as pd\n",
    "import numpy as np\n",
    "from pandas import MultiIndex\n",
    "import itertools\n",
    "from operator import itemgetter\n",
    "from geo_kpe_multidoc import GEO_KPE_MULTIDOC_CACHE_PATH\n",
    "import re\n",
    "import os\n",
    "import joblib\n",
    "\n",
    "from IPython.display import display\n",
    "from matplotlib import pyplot as plt\n",
    "\n",
    "from geo_kpe_multidoc.models.mdgeorank.mdgeorank import MdGeoRank, compute_weights_matrix, MoranI, GearyC, GetisOrdG\n",
    "from geo_kpe_multidoc.geo.measures import cached_vincenty, inv_dist, exp_dist\n",
    "from nltk.stem.porter import PorterStemmer\n",
    "\n",
    "from geo_kpe_multidoc.datasets import load_dataset\n",
    "from geo_kpe_multidoc.models.pre_processing.pre_processing_utils import (\n",
    "    remove_new_lines_and_tabs,\n",
    "    remove_whitespaces\n",
    ")\n",
    "from geo_kpe_multidoc.evaluation.evaluation_tools import (\n",
    "    postprocess_model_outputs,\n",
    "    evaluate_kp_extraction,\n",
    "    evaluate_kp_extraction_base\n",
    ")\n",
    "\n",
    "from geo_kpe_multidoc.models.pre_processing.pre_processing_utils import (\n",
    "    remove_hyphens_and_dots,\n",
    "    stemming,\n",
    ")\n",
    "\n",
    "from functools import partial\n",
    "\n",
    "import math\n",
    "import geopandas as gpd\n",
    "from tqdm import tqdm\n",
    "from sklearn.metrics.pairwise import cosine_similarity"
   ]
  },
  {
   "cell_type": "code",
   "execution_count": 2,
   "metadata": {},
   "outputs": [
    {
     "name": "stderr",
     "output_type": "stream",
     "text": [
      "\u001b[32m2023-10-27 18:15:45.156\u001b[0m | \u001b[1mINFO    \u001b[0m | \u001b[36mgeo_kpe_multidoc.datasets.datasets\u001b[0m:\u001b[36m_read_mdkpe\u001b[0m:\u001b[36m133\u001b[0m - \u001b[1mLoad json with 30 topics\u001b[0m\n"
     ]
    }
   ],
   "source": [
    "# Get Dataset and Labels\n",
    "mkduc01 = load_dataset(\"MKDUC01-Trunk-20\")\n",
    "\n",
    "true_labels = dict()\n",
    "\n",
    "for _, _, gold_kp in mkduc01:\n",
    "    true_labels.setdefault(\"dataset\", []).append(gold_kp)"
   ]
  },
  {
   "cell_type": "code",
   "execution_count": 3,
   "metadata": {},
   "outputs": [],
   "source": [
    "\"\"\"\n",
    "    def __init__(\n",
    "        self,\n",
    "        experiment: str,\n",
    "        stemmer: StemmerI,\n",
    "        d_threshold=1000,\n",
    "        weight_function: Callable = inv_dist,\n",
    "        weight_function_param=500,\n",
    "        **kwargs\n",
    "    ) -> None:\n",
    "\"\"\"\n",
    "\n",
    "# best_EmbedRank = \"MKDUC01-MDKPERank-1788625193\"\n",
    "# best_EmbedRank = \"MKDUC01-Trunc20-MdEmbedRank-best\"\n",
    "best_PromptRank = \"MKDUC01-20-MdPromptRank-cross-999926626\"\n",
    "\n",
    "experiment = best_PromptRank\n",
    "\n",
    "ranker = MdGeoRank(experiment=experiment, stemmer=PorterStemmer(), weight_function = inv_dist, weight_function_param=0)\n",
    "# ranker = MdGeoRank(experiment=experiment, stemmer=PorterStemmer(), weight_function = exp_dist, weight_function_param=1/(17000/10))\n",
    "\n",
    "#results = ranker.geospacial_association()"
   ]
  },
  {
   "cell_type": "markdown",
   "metadata": {},
   "source": [
    "## Functions"
   ]
  },
  {
   "cell_type": "code",
   "execution_count": 4,
   "metadata": {},
   "outputs": [],
   "source": [
    "\n",
    "def performance(model_output, stemmer, show=False):\n",
    "    model_results = model_output\n",
    "    model_results = postprocess_model_outputs(\n",
    "                    model_results, stemmer, None, [remove_new_lines_and_tabs, remove_whitespaces]\n",
    "                )\n",
    "\n",
    "    #performance_metrics = evaluate_kp_extraction_base(model_results, true_labels)\n",
    "    performance_metrics = evaluate_kp_extraction(model_results, true_labels)\n",
    "    # performance_metrics = pd.concat(\n",
    "    #     [performance_metrics, evaluate_kp_extraction(model_results, true_labels)]\n",
    "    # )\n",
    "    if show:\n",
    "        display(\n",
    "            performance_metrics[[\"nDCG\",\"F1_5\", \"F1_10\", \"F1_15\"]].style.format('{:.2%}')\n",
    "        )\n",
    "    return performance_metrics.iloc[0][\"F1_15\"]\n",
    "\n",
    "\n",
    "def plot_metrics(results, top_fp=100, normalize=True):\n",
    "    metric_list = ['moran_i','geary_c', 'getisord_g']\n",
    "    \n",
    "    fig, ax = plt.subplots(nrows=1, ncols=len(metric_list), figsize=(16,5))\n",
    "    fig.figure.set_size_inches \n",
    "    \n",
    "    show_legend = True\n",
    "    for g, idx in zip(ax, metric_list):\n",
    "            not_gold_scores = (\n",
    "                results[~results.in_gold]\n",
    "                .reset_index()\n",
    "                .sort_values([\"topic\", \"semantic_score\"], ascending=False)\n",
    "                .groupby(\"topic\")\n",
    "                .head(top_fp)[idx]\n",
    "            )\n",
    "            not_gold_scores.plot.hist(density=normalize, alpha=0.8, ax=g)\n",
    "            results[results.in_gold][idx].plot.hist(density=normalize, alpha=0.5, ax=g)\n",
    "            #g.set_xlim((0, 1))\n",
    "            if  idx == \"getisord_g\":\n",
    "                idx = \"Getis Ord G\"\n",
    "                g.legend([\"False Positive\", \"True Keyphrase\"])\n",
    "                # temp_min = min(not_gold_scores.min(), results[results.in_gold][idx].min()))\n",
    "                # temp_max = min(not_gold_scores.min(), results[results.in_gold][idx].min()))\n",
    "                # xmin = min(not_gold_scores) if min(not_gold_scores) 0 else 0\n",
    "                # xmax = min(not_gold_scores) if min(not_gold_scores) 0 else 0\n",
    "            g.set(ylabel=None)\n",
    "            g.set(yticks=[])\n",
    "            g.set_title(idx.replace(\"_\", \" \").title(), fontsize=12)\n",
    "            # if show_legend:\n",
    "            #     g.legend([\"False Positive\", \"True Keyphrase\"])\n",
    "            #     show_legend = False\n",
    "\n",
    "    for x in ax:\n",
    "        x.spines['top'].set_visible(False)\n",
    "        x.spines['right'].set_visible(False)\n",
    "        if normalize:\n",
    "            x.spines['left'].set_visible(False)\n",
    "    plt.show()\n",
    "\n",
    "\n",
    "def plot_score(results, top_fp=100, normalize=True):\n",
    "    idx = 'semantic_score'\n",
    "    \n",
    "    fig, ax = plt.subplots(nrows=1, ncols=1, figsize=(6.4, 4.8))\n",
    "    # fig.figure.set_size_inches\n",
    "    \n",
    "    show_legend = True\n",
    "    not_gold_scores = (\n",
    "        results[~results.in_gold]\n",
    "        .reset_index()\n",
    "        .sort_values([\"topic\", \"semantic_score\"], ascending=False)\n",
    "        .groupby(\"topic\")\n",
    "        .head(top_fp)[idx]\n",
    "    )\n",
    "    not_gold_scores.plot.hist(density=normalize, alpha=0.8, ax=ax)\n",
    "    results[results.in_gold][idx].plot.hist(density=normalize, alpha=0.5, ax=ax)\n",
    "    ax.set(ylabel=None)\n",
    "    ax.set(yticks=[])\n",
    "    ax.set_title(idx.replace(\"_\", \" \").title(), fontsize=12)\n",
    "    if show_legend:\n",
    "        ax.legend([\"False Positive\", \"True Keyphrase\"])\n",
    "        show_legend = False\n",
    "    plt.show()"
   ]
  },
  {
   "cell_type": "markdown",
   "metadata": {},
   "source": [
    "# Tests"
   ]
  },
  {
   "cell_type": "code",
   "execution_count": 7,
   "metadata": {},
   "outputs": [],
   "source": [
    "topic_doc_coordinates = ranker._load_md_coordinates()\n",
    "semantic_rank_model_outputs = ranker._load_semantic_rank_model_outputs()"
   ]
  },
  {
   "cell_type": "code",
   "execution_count": 592,
   "metadata": {},
   "outputs": [],
   "source": [
    "def compute_weights_matrix(\n",
    "    points,\n",
    "    weight_function,\n",
    "    weight_function_param,\n",
    "):\n",
    "    # cord_list (lat, long)\n",
    "    coordinates = [(y, x) for x, y in zip(points.x, points.y)]\n",
    "    n = len(coordinates)\n",
    "\n",
    "    weight_matrix = np.zeros((n, n))\n",
    "    inds = np.triu_indices_from(weight_matrix, k=1)  # k=1 don't compute diagonal\n",
    "    for i, j in zip(*inds):\n",
    "        weight_matrix[i, j] = (\n",
    "            # To exploit caching the function parameter order must be the same.\n",
    "            # Fortunatly, distance is simetric so we keep always the smallest value first,\n",
    "            # by comparison on the sum (lat+long vs lat+long).\n",
    "            cached_vincenty(coordinates[i], coordinates[j])\n",
    "            if sum(coordinates[i]) <= sum(coordinates[j])\n",
    "            else cached_vincenty(coordinates[i], coordinates[j])\n",
    "        )\n",
    "    weight_matrix = weight_matrix + weight_matrix.T  # - np.diag(0, n)\n",
    "\n",
    "    weight_matrix = weight_function(weight_matrix, weight_function_param)\n",
    "\n",
    "    # row standartize\n",
    "    weight_matrix = weight_matrix / weight_matrix.sum(axis=1)\n",
    "\n",
    "    return weight_matrix"
   ]
  },
  {
   "cell_type": "code",
   "execution_count": null,
   "metadata": {},
   "outputs": [],
   "source": []
  },
  {
   "cell_type": "code",
   "execution_count": null,
   "metadata": {},
   "outputs": [],
   "source": []
  },
  {
   "cell_type": "code",
   "execution_count": null,
   "metadata": {},
   "outputs": [],
   "source": []
  },
  {
   "cell_type": "code",
   "execution_count": null,
   "metadata": {},
   "outputs": [],
   "source": []
  },
  {
   "cell_type": "code",
   "execution_count": null,
   "metadata": {},
   "outputs": [],
   "source": []
  },
  {
   "cell_type": "code",
   "execution_count": null,
   "metadata": {},
   "outputs": [],
   "source": []
  },
  {
   "cell_type": "code",
   "execution_count": null,
   "metadata": {},
   "outputs": [],
   "source": []
  },
  {
   "cell_type": "code",
   "execution_count": null,
   "metadata": {},
   "outputs": [],
   "source": []
  },
  {
   "cell_type": "code",
   "execution_count": null,
   "metadata": {},
   "outputs": [],
   "source": []
  },
  {
   "cell_type": "code",
   "execution_count": null,
   "metadata": {},
   "outputs": [],
   "source": []
  },
  {
   "cell_type": "code",
   "execution_count": null,
   "metadata": {},
   "outputs": [],
   "source": []
  },
  {
   "cell_type": "markdown",
   "metadata": {},
   "source": [
    "## Do test"
   ]
  },
  {
   "cell_type": "markdown",
   "metadata": {},
   "source": [
    "# Spacial Association Plots"
   ]
  },
  {
   "cell_type": "code",
   "execution_count": null,
   "metadata": {},
   "outputs": [],
   "source": [
    "for func_, func_param in zip(\n",
    "            # [inv_dist, inv_dist, inv_dist, inv_dist, exp_dist, exp_dist, exp_dist, exp_dist],\n",
    "            [exp_dist, exp_dist, exp_dist, exp_dist, exp_dist],\n",
    "            [1/2, 1/3, 1/5, 1/10, 1/100]):\n",
    "    ranker.weight_function = func_\n",
    "    ranker.weight_function_param = func_param\n",
    "\n",
    "    results = geospatial_association()\n",
    "\n",
    "    display(func_, func_param)\n",
    "    plot_metrics(results)"
   ]
  },
  {
   "cell_type": "code",
   "execution_count": null,
   "metadata": {},
   "outputs": [],
   "source": [
    "for func_, func_param in zip(\n",
    "            # [inv_dist, inv_dist, inv_dist, inv_dist, exp_dist, exp_dist, exp_dist, exp_dist],\n",
    "            [inv_dist, inv_dist, inv_dist, inv_dist],\n",
    "            [1, 100, 500, 1000]):\n",
    "    ranker.weight_function = func_\n",
    "    ranker.weight_function_param = func_param\n",
    "\n",
    "    results = geospatial_association()\n",
    "\n",
    "    display(func_, func_param)\n",
    "    plot_metrics(results)"
   ]
  },
  {
   "cell_type": "markdown",
   "metadata": {},
   "source": [
    "# Test Rank with code base\n",
    "\n",
    "### Local Geospatial Association Function"
   ]
  },
  {
   "cell_type": "code",
   "execution_count": 9,
   "metadata": {},
   "outputs": [],
   "source": [
    "def local_geospatial_association(topic_doc_coordinates, semantic_rank_model_outputs, weight_function, weight_function_param, stemmer):\n",
    "    results = pd.DataFrame()\n",
    "    for topic_id, topic_model_outputs in tqdm(semantic_rank_model_outputs.items()):\n",
    "        candidate_scores_per_doc = pd.DataFrame(\n",
    "            [\n",
    "                {\"doc\": doc_id, \"candidate\": candidate, \"score\": score}\n",
    "                for doc_id, doc_scores in topic_model_outputs[\n",
    "                    \"score_per_document\"\n",
    "                ].items()\n",
    "                for candidate, score in doc_scores[0]\n",
    "            ]\n",
    "        ).pivot(index=\"doc\", columns=\"candidate\", values=\"score\")\n",
    "\n",
    "        candidate_scores = pd.DataFrame(\n",
    "            topic_model_outputs[\"top_n_scores\"],\n",
    "            columns=[\"candidate\", \"semantic_score\"],\n",
    "        ).set_index(\"candidate\")\n",
    "\n",
    "        gold_stem = topic_model_outputs[\"gold_kp\"]\n",
    "\n",
    "        candidate_scores[\"in_gold\"] = False\n",
    "        for i, kp in enumerate(candidate_scores.index):\n",
    "            if (\n",
    "                stemming(remove_hyphens_and_dots(kp), stemmer=stemmer)\n",
    "                in gold_stem\n",
    "            ):\n",
    "                candidate_scores.loc[kp, \"in_gold\"] = True\n",
    "\n",
    "        candidate_scores[\"N\"] = topic_model_outputs[\n",
    "            \"candidate_document_matrix\"\n",
    "        ].sum(axis=1)\n",
    "        candidate_scores.index.name = \"candidate\"\n",
    "\n",
    "        topic_point_scores = (\n",
    "            gpd.GeoDataFrame(\n",
    "                candidate_scores_per_doc.join(topic_doc_coordinates.loc[topic_id])\n",
    "            )\n",
    "            .dropna()  # dropna for documents without any location\n",
    "            .reset_index(drop=True)\n",
    "        )\n",
    "        # when the same location apears in multiple documents, the semantic score\n",
    "        # for that location is the mean of values for that location\n",
    "        topic_point_scores = (\n",
    "            topic_point_scores.groupby(\"_geometry\").mean().reset_index()\n",
    "        )\n",
    "        topic_point_scores = gpd.GeoDataFrame(\n",
    "            topic_point_scores, geometry=\"_geometry\"\n",
    "        )\n",
    "\n",
    "        # print(f\"{topic_id}: topic_point_scores: {len(topic_point_scores)}\n",
    "        # observations.\")\n",
    "        topic_point_scores = topic_point_scores[\n",
    "            ~topic_point_scores[\"_geometry\"].is_empty\n",
    "        ]\n",
    "        # print(f\"{topic_id}: topic_point_scores: {len(topic_point_scores)} without\n",
    "        # empty observations\")\n",
    "\n",
    "        weights = compute_weights_matrix(\n",
    "            topic_point_scores[\"_geometry\"],\n",
    "            weight_function,\n",
    "            weight_function_param,\n",
    "        )\n",
    "\n",
    "        topic_point_scores = topic_point_scores.drop(\"_geometry\", axis=1)\n",
    "\n",
    "        __moran_i = partial(MoranI, weight_matrix=weights)\n",
    "        # only a few values maybe not usefull to move to GPU\n",
    "        # __moran_i = partial(MoranI, weight_matrix=weights, device=self.device)\n",
    "        __geary_c = partial(GearyC, weight_matrix=weights)\n",
    "        __getisord_g = partial(GetisOrdG, weight_matrix=weights)\n",
    "\n",
    "        geo_associations = pd.DataFrame()\n",
    "        geo_associations[\"moran_i\"] = topic_point_scores.agg(__moran_i)\n",
    "        geo_associations[\"geary_c\"] = topic_point_scores.agg(__geary_c)\n",
    "        geo_associations[\"getisord_g\"] = topic_point_scores.agg(__getisord_g)\n",
    "\n",
    "        topic_scores = candidate_scores.join(geo_associations)\n",
    "        # topic_scores[\"N\"] = N\n",
    "        # topic_scores.index.name = \"candidate\"\n",
    "        topic_scores[\"topic\"] = topic_id\n",
    "        topic_scores.set_index([\"topic\", topic_scores.index])\n",
    "        results = pd.concat([results, topic_scores])\n",
    "\n",
    "    geo_association_results = results.set_index([\"topic\", results.index])\n",
    "    return geo_association_results\n",
    "    "
   ]
  },
  {
   "cell_type": "code",
   "execution_count": 86,
   "metadata": {},
   "outputs": [
    {
     "data": {
      "image/png": "[encoded data removed]",
      "text/plain": [
       "<Figure size 640x480 with 1 Axes>"
      ]
     },
     "metadata": {},
     "output_type": "display_data"
    }
   ],
   "source": [
    "def plot_score(results, top_fp=100, normalize=True):\n",
    "    idx = 'semantic_score'\n",
    "    \n",
    "    # fig, ax = plt.subplots(nrows=1, ncols=1, figsize=(4.4, 4.8))\n",
    "    fig, ax = plt.subplots()\n",
    "    fig.figure.set_size_inches\n",
    "    \n",
    "    show_legend = True\n",
    "    not_gold_scores = (\n",
    "        results[~results.in_gold]\n",
    "        .reset_index()\n",
    "        .sort_values([\"topic\", \"semantic_score\"], ascending=False)\n",
    "        .groupby(\"topic\")\n",
    "        .head(top_fp)[idx]\n",
    "    )\n",
    "    not_gold_scores.plot.hist(density=normalize, alpha=0.8, ax=ax)\n",
    "    results[results.in_gold][idx].plot.hist(density=normalize, alpha=0.5, ax=ax)\n",
    "    ax.set(ylabel=None)\n",
    "    ax.set(yticks=[])\n",
    "    ax.set_title(idx.replace(\"_\", \" \").title(), fontsize=12)\n",
    "    if show_legend:\n",
    "        ax.legend([\"False Positive\", \"True Keyphrase\"])\n",
    "        show_legend = False\n",
    "    plt.show()\n",
    "\n",
    "plot_score(results, 20, normalize=False)"
   ]
  },
  {
   "cell_type": "markdown",
   "metadata": {},
   "source": [
    "### Compute Geo Associations -> results"
   ]
  },
  {
   "cell_type": "code",
   "execution_count": 137,
   "metadata": {},
   "outputs": [
    {
     "name": "stderr",
     "output_type": "stream",
     "text": [
      "100%|████████████████████████████████████████████████████████| 30/30 [00:55<00:00,  1.86s/it]\n"
     ]
    }
   ],
   "source": [
    "\n",
    "# results = ranker.geospacial_association()\n",
    "results = local_geospatial_association(topic_doc_coordinates, semantic_rank_model_outputs, \n",
    "                                       # weight_function = inv_dist, weight_function_param=0,\n",
    "                                       weight_function = exp_dist, weight_function_param=1/170,\n",
    "                                       stemmer=PorterStemmer())"
   ]
  },
  {
   "cell_type": "markdown",
   "metadata": {},
   "source": [
    "### Plot Geospatial Association Top 20, 40 False Positives"
   ]
  },
  {
   "cell_type": "code",
   "execution_count": 138,
   "metadata": {},
   "outputs": [
    {
     "data": {
      "image/png": "[encoded data removed]",
      "text/plain": [
       "<Figure size 1600x500 with 3 Axes>"
      ]
     },
     "metadata": {},
     "output_type": "display_data"
    }
   ],
   "source": [
    "# inv_dist\n",
    "plot_metrics(results, 10000, normalize=True)"
   ]
  },
  {
   "cell_type": "code",
   "execution_count": 132,
   "metadata": {},
   "outputs": [
    {
     "data": {
      "image/png": "[encoded data removed]",
      "text/plain": [
       "<Figure size 1600x500 with 3 Axes>"
      ]
     },
     "metadata": {},
     "output_type": "display_data"
    }
   ],
   "source": [
    "# exp_dist\n",
    "plot_metrics(results, 10000, normalize=True)"
   ]
  },
  {
   "cell_type": "markdown",
   "metadata": {},
   "source": [
    "### Plot Semantic Score Distribution"
   ]
  },
  {
   "cell_type": "markdown",
   "metadata": {},
   "source": [
    "### Correlation Table"
   ]
  },
  {
   "cell_type": "code",
   "execution_count": 139,
   "metadata": {},
   "outputs": [
    {
     "data": {
      "text/html": [
       "<style type=\"text/css\">\n",
       "#T_de7a6_row0_col0, #T_de7a6_row0_col4 {\n",
       "  background-color: #e9d5cb;\n",
       "  color: #000000;\n",
       "}\n",
       "#T_de7a6_row0_col1, #T_de7a6_row0_col3 {\n",
       "  background-color: #dddcdc;\n",
       "  color: #000000;\n",
       "}\n",
       "#T_de7a6_row0_col2, #T_de7a6_row1_col1, #T_de7a6_row2_col4, #T_de7a6_row4_col4 {\n",
       "  background-color: #dbdcde;\n",
       "  color: #000000;\n",
       "}\n",
       "#T_de7a6_row1_col0, #T_de7a6_row2_col0, #T_de7a6_row2_col1, #T_de7a6_row3_col0, #T_de7a6_row3_col1, #T_de7a6_row3_col2, #T_de7a6_row4_col0, #T_de7a6_row4_col1, #T_de7a6_row4_col2, #T_de7a6_row4_col3 {\n",
       "  background-color: #000000;\n",
       "  color: #f1f1f1;\n",
       "  background-color: #f1f1f1;\n",
       "}\n",
       "#T_de7a6_row1_col2 {\n",
       "  background-color: #dedcdb;\n",
       "  color: #000000;\n",
       "}\n",
       "#T_de7a6_row1_col3 {\n",
       "  background-color: #cad8ef;\n",
       "  color: #000000;\n",
       "}\n",
       "#T_de7a6_row1_col4 {\n",
       "  background-color: #f2cbb7;\n",
       "  color: #000000;\n",
       "}\n",
       "#T_de7a6_row2_col2 {\n",
       "  background-color: #4f69d9;\n",
       "  color: #f1f1f1;\n",
       "}\n",
       "#T_de7a6_row2_col3 {\n",
       "  background-color: #f2cab5;\n",
       "  color: #000000;\n",
       "}\n",
       "#T_de7a6_row3_col3 {\n",
       "  background-color: #cbd8ee;\n",
       "  color: #000000;\n",
       "}\n",
       "#T_de7a6_row3_col4 {\n",
       "  background-color: #e1dad6;\n",
       "  color: #000000;\n",
       "}\n",
       "</style>\n",
       "<table id=\"T_de7a6\">\n",
       "  <thead>\n",
       "    <tr>\n",
       "      <th class=\"blank level0\" >&nbsp;</th>\n",
       "      <th id=\"T_de7a6_level0_col0\" class=\"col_heading level0 col0\" >Semantic score</th>\n",
       "      <th id=\"T_de7a6_level0_col1\" class=\"col_heading level0 col1\" >Moran I</th>\n",
       "      <th id=\"T_de7a6_level0_col2\" class=\"col_heading level0 col2\" >Geary C</th>\n",
       "      <th id=\"T_de7a6_level0_col3\" class=\"col_heading level0 col3\" >Getis Ord G</th>\n",
       "      <th id=\"T_de7a6_level0_col4\" class=\"col_heading level0 col4\" >N docs</th>\n",
       "    </tr>\n",
       "  </thead>\n",
       "  <tbody>\n",
       "    <tr>\n",
       "      <th id=\"T_de7a6_level0_row0\" class=\"row_heading level0 row0\" >True Keyphrase</th>\n",
       "      <td id=\"T_de7a6_row0_col0\" class=\"data row0 col0\" >0.09</td>\n",
       "      <td id=\"T_de7a6_row0_col1\" class=\"data row0 col1\" >0.01</td>\n",
       "      <td id=\"T_de7a6_row0_col2\" class=\"data row0 col2\" >-0.01</td>\n",
       "      <td id=\"T_de7a6_row0_col3\" class=\"data row0 col3\" >0.01</td>\n",
       "      <td id=\"T_de7a6_row0_col4\" class=\"data row0 col4\" >0.10</td>\n",
       "    </tr>\n",
       "    <tr>\n",
       "      <th id=\"T_de7a6_level0_row1\" class=\"row_heading level0 row1\" >Semantic score</th>\n",
       "      <td id=\"T_de7a6_row1_col0\" class=\"data row1 col0\" >nan</td>\n",
       "      <td id=\"T_de7a6_row1_col1\" class=\"data row1 col1\" >-0.02</td>\n",
       "      <td id=\"T_de7a6_row1_col2\" class=\"data row1 col2\" >0.01</td>\n",
       "      <td id=\"T_de7a6_row1_col3\" class=\"data row1 col3\" >-0.13</td>\n",
       "      <td id=\"T_de7a6_row1_col4\" class=\"data row1 col4\" >0.20</td>\n",
       "    </tr>\n",
       "    <tr>\n",
       "      <th id=\"T_de7a6_level0_row2\" class=\"row_heading level0 row2\" >Moran I</th>\n",
       "      <td id=\"T_de7a6_row2_col0\" class=\"data row2 col0\" >nan</td>\n",
       "      <td id=\"T_de7a6_row2_col1\" class=\"data row2 col1\" >nan</td>\n",
       "      <td id=\"T_de7a6_row2_col2\" class=\"data row2 col2\" >-0.86</td>\n",
       "      <td id=\"T_de7a6_row2_col3\" class=\"data row2 col3\" >0.21</td>\n",
       "      <td id=\"T_de7a6_row2_col4\" class=\"data row2 col4\" >-0.02</td>\n",
       "    </tr>\n",
       "    <tr>\n",
       "      <th id=\"T_de7a6_level0_row3\" class=\"row_heading level0 row3\" >Geary C</th>\n",
       "      <td id=\"T_de7a6_row3_col0\" class=\"data row3 col0\" >nan</td>\n",
       "      <td id=\"T_de7a6_row3_col1\" class=\"data row3 col1\" >nan</td>\n",
       "      <td id=\"T_de7a6_row3_col2\" class=\"data row3 col2\" >nan</td>\n",
       "      <td id=\"T_de7a6_row3_col3\" class=\"data row3 col3\" >-0.13</td>\n",
       "      <td id=\"T_de7a6_row3_col4\" class=\"data row3 col4\" >0.03</td>\n",
       "    </tr>\n",
       "    <tr>\n",
       "      <th id=\"T_de7a6_level0_row4\" class=\"row_heading level0 row4\" >Getis Ord G</th>\n",
       "      <td id=\"T_de7a6_row4_col0\" class=\"data row4 col0\" >nan</td>\n",
       "      <td id=\"T_de7a6_row4_col1\" class=\"data row4 col1\" >nan</td>\n",
       "      <td id=\"T_de7a6_row4_col2\" class=\"data row4 col2\" >nan</td>\n",
       "      <td id=\"T_de7a6_row4_col3\" class=\"data row4 col3\" >nan</td>\n",
       "      <td id=\"T_de7a6_row4_col4\" class=\"data row4 col4\" >-0.01</td>\n",
       "    </tr>\n",
       "  </tbody>\n",
       "</table>\n"
      ],
      "text/plain": [
       "<pandas.io.formats.style.Styler at 0x7fd3bb3ac6a0>"
      ]
     },
     "metadata": {},
     "output_type": "display_data"
    },
    {
     "name": "stdout",
     "output_type": "stream",
     "text": [
      "\\begin{tabular}{lrrrrr}\n",
      " & Semantic score & Moran I & Geary C & Getis Ord G & N docs \\\\\n",
      "True Keyphrase & {\\cellcolor[HTML]{E9D5CB}} \\color[HTML]{000000} 0.09 & {\\cellcolor[HTML]{DDDCDC}} \\color[HTML]{000000} 0.01 & {\\cellcolor[HTML]{DBDCDE}} \\color[HTML]{000000} -0.01 & {\\cellcolor[HTML]{DDDCDC}} \\color[HTML]{000000} 0.01 & {\\cellcolor[HTML]{E9D5CB}} \\color[HTML]{000000} 0.10 \\\\\n",
      "Semantic score & {\\cellcolor[HTML]{000000}} \\color[HTML]{F1F1F1} {\\cellcolor[HTML]{F1F1F1}} nan & {\\cellcolor[HTML]{DBDCDE}} \\color[HTML]{000000} -0.02 & {\\cellcolor[HTML]{DEDCDB}} \\color[HTML]{000000} 0.01 & {\\cellcolor[HTML]{CAD8EF}} \\color[HTML]{000000} -0.13 & {\\cellcolor[HTML]{F2CBB7}} \\color[HTML]{000000} 0.20 \\\\\n",
      "Moran I & {\\cellcolor[HTML]{000000}} \\color[HTML]{F1F1F1} {\\cellcolor[HTML]{F1F1F1}} nan & {\\cellcolor[HTML]{000000}} \\color[HTML]{F1F1F1} {\\cellcolor[HTML]{F1F1F1}} nan & {\\cellcolor[HTML]{4F69D9}} \\color[HTML]{F1F1F1} -0.86 & {\\cellcolor[HTML]{F2CAB5}} \\color[HTML]{000000} 0.21 & {\\cellcolor[HTML]{DBDCDE}} \\color[HTML]{000000} -0.02 \\\\\n",
      "Geary C & {\\cellcolor[HTML]{000000}} \\color[HTML]{F1F1F1} {\\cellcolor[HTML]{F1F1F1}} nan & {\\cellcolor[HTML]{000000}} \\color[HTML]{F1F1F1} {\\cellcolor[HTML]{F1F1F1}} nan & {\\cellcolor[HTML]{000000}} \\color[HTML]{F1F1F1} {\\cellcolor[HTML]{F1F1F1}} nan & {\\cellcolor[HTML]{CBD8EE}} \\color[HTML]{000000} -0.13 & {\\cellcolor[HTML]{E1DAD6}} \\color[HTML]{000000} 0.03 \\\\\n",
      "Getis Ord G & {\\cellcolor[HTML]{000000}} \\color[HTML]{F1F1F1} {\\cellcolor[HTML]{F1F1F1}} nan & {\\cellcolor[HTML]{000000}} \\color[HTML]{F1F1F1} {\\cellcolor[HTML]{F1F1F1}} nan & {\\cellcolor[HTML]{000000}} \\color[HTML]{F1F1F1} {\\cellcolor[HTML]{F1F1F1}} nan & {\\cellcolor[HTML]{000000}} \\color[HTML]{F1F1F1} {\\cellcolor[HTML]{F1F1F1}} nan & {\\cellcolor[HTML]{DBDCDE}} \\color[HTML]{000000} -0.01 \\\\\n",
      "\\end{tabular}\n",
      "\n"
     ]
    }
   ],
   "source": [
    "# inv dist\n",
    "# results = r_inv_dist\n",
    "\n",
    "top_fp = 1000\n",
    "\n",
    "not_gold_scores = (\n",
    "                results[~results.in_gold]\n",
    "                .reset_index()\n",
    "                .sort_values([\"topic\", \"semantic_score\"], ascending=False)\n",
    "                .groupby(\"topic\")\n",
    "                .head(top_fp)\n",
    "            )\n",
    "in_gold_scores = results[results.in_gold]\n",
    "\n",
    "r =  pd.concat([not_gold_scores, in_gold_scores]).rename(\n",
    "        columns={\n",
    "            \"in_gold\": \"True Keyphrase\",\n",
    "            \"semantic_score\": \"Semantic score\",\n",
    "            \"moran_i\": \"Moran I\",\n",
    "            \"geary_c\": \"Geary C\",\n",
    "            \"getisord_g\": \"Getis Ord G\",\n",
    "            \"N\": \"N docs\"\n",
    "            # \"_base_Recall\": \"Recall\",\n",
    "        }\n",
    "    )\n",
    "\n",
    "corr = (r\n",
    "        .loc[ : , ['True Keyphrase', \"Semantic score\", \"Moran I\", \"Geary C\", \"Getis Ord G\" ,\"N docs\", ]].corr()\n",
    "       )\n",
    "# Fill diagonal and upper half with NaNs\n",
    "mask = np.zeros_like(corr, dtype=bool)\n",
    "mask[np.tril_indices_from(mask)] = True\n",
    "corr[mask] = np.nan\n",
    "#(corr.iloc[:1, 1:]\n",
    "#print(\n",
    "\n",
    "display(corr.iloc[:-1, 1:] \n",
    " .style\n",
    " .background_gradient(cmap='coolwarm', axis=None, vmin=-1, vmax=1)\n",
    " .highlight_null(color='#f1f1f1')  # Color NaNs grey\n",
    " .format(precision=2))\n",
    " #.to_latex(convert_css=True)\n",
    "#)\n",
    "\n",
    "print(\n",
    "(corr.iloc[:-1, 1:] \n",
    " .style\n",
    " .background_gradient(cmap='coolwarm', axis=None, vmin=-1, vmax=1)\n",
    " .highlight_null(color='#f1f1f1')  # Color NaNs grey\n",
    " .format(precision=2))\n",
    " .to_latex(convert_css=True)\n",
    ")\n",
    "\n"
   ]
  },
  {
   "cell_type": "code",
   "execution_count": 134,
   "metadata": {},
   "outputs": [
    {
     "data": {
      "image/png": "[encoded data removed]",
      "text/plain": [
       "<Figure size 1600x500 with 3 Axes>"
      ]
     },
     "metadata": {},
     "output_type": "display_data"
    }
   ],
   "source": [
    "# not_gold_scores['semantic_score'].plot.hist()\n",
    "\n",
    "fig, ax = plt.subplots(nrows=1, ncols=3, figsize=(16,5))\n",
    "fig.figure.set_size_inches \n",
    "\n",
    "ax[0].scatter(not_gold_scores['semantic_score'] + 0.12 * np.log(not_gold_scores['N']), not_gold_scores['moran_i'])\n",
    "ax[0].scatter(in_gold_scores['semantic_score'] + 0.12 * np.log(in_gold_scores['N']), in_gold_scores['moran_i'])\n",
    "#ax[0].set_xlabel(\"Semantic Score\")\n",
    "ax[0].legend([\"False Positive\", \"True Keyphrase\"])\n",
    "ax[0].set_title(\"Moran I\")\n",
    "\n",
    "ax[1].scatter(not_gold_scores['semantic_score'] + 0.12 * np.log(not_gold_scores['N']), np.log(not_gold_scores['geary_c']))\n",
    "ax[1].scatter(in_gold_scores['semantic_score']+ 0.12 * np.log(in_gold_scores['N']), np.log(in_gold_scores['geary_c']))\n",
    "ax[1].set_xlabel(\"Semantic Score\")\n",
    "ax[1].set_title(\"Geary C\")\n",
    "\n",
    "ax[2].scatter(not_gold_scores['semantic_score'] + 0.12 * np.log(not_gold_scores['N']), np.log(not_gold_scores['getisord_g']))\n",
    "ax[2].scatter(in_gold_scores['semantic_score'] + 0.12 * np.log(in_gold_scores['N']), np.log(in_gold_scores['getisord_g']))\n",
    "# ax[2].set_xlabel(\"Semantic Score\")\n",
    "ax[2].set_title(\"Getis Ord G\")\n",
    "plt.show()\n",
    "\n",
    "#in_gold_scores['semantic_score'].plot.hist()"
   ]
  },
  {
   "cell_type": "code",
   "execution_count": 37,
   "metadata": {},
   "outputs": [
    {
     "data": {
      "image/png": "[encoded data removed]",
      "text/plain": [
       "<Figure size 1600x500 with 3 Axes>"
      ]
     },
     "metadata": {},
     "output_type": "display_data"
    }
   ],
   "source": [
    "# not_gold_scores['semantic_score'].plot.hist()\n",
    "\n",
    "fig, ax = plt.subplots(nrows=1, ncols=3, figsize=(16,5))\n",
    "fig.figure.set_size_inches \n",
    "\n",
    "ax[1].scatter(not_gold_scores['semantic_score'], not_gold_scores['semantic_score'] + 2 * np.log(not_gold_scores['N']))\n",
    "ax[1].scatter(in_gold_scores['semantic_score'], in_gold_scores['semantic_score'] + 2 * np.log(in_gold_scores['N']))\n",
    "ax[1].set_xlabel(\"Semantic Score (S)\")\n",
    "ax[1].legend([\"False Positive\", \"True Keyphrase\"])\n",
    "ax[1].set_title(\"S + 0.118*log(N)\")\n",
    "\n",
    "ax[0].scatter(not_gold_scores['semantic_score'], np.log(not_gold_scores['N']))\n",
    "ax[0].scatter(in_gold_scores['semantic_score'], np.log(in_gold_scores['N']))\n",
    "ax[0].set_xlabel(\"Semantic Score\")\n",
    "#ax[0].legend([\"False Positive\", \"True Keyphrase\"])\n",
    "ax[0].set_title(\"N\")\n",
    "\n",
    "# ax[2].scatter(not_gold_scores['semantic_score'], not_gold_scores['getisord_g'])\n",
    "# ax[2].scatter(in_gold_scores['semantic_score'], in_gold_scores['getisord_g'])\n",
    "# # ax[2].set_xlabel(\"Semantic Score\")\n",
    "# ax[2].set_title(\"Getis Ord G\")\n",
    "plt.show()\n",
    "\n",
    "#in_gold_scores['semantic_score"
   ]
  },
  {
   "cell_type": "code",
   "execution_count": 149,
   "metadata": {},
   "outputs": [
    {
     "data": {
      "image/png": "[encoded data removed]",
      "text/plain": [
       "<Figure size 1600x500 with 3 Axes>"
      ]
     },
     "metadata": {},
     "output_type": "display_data"
    }
   ],
   "source": [
    "# not_gold_scores['semantic_score'].plot.hist()\n",
    "\n",
    "fig, ax = plt.subplots(nrows=1, ncols=3, figsize=(16,5))\n",
    "fig.figure.set_size_inches \n",
    "\n",
    "ax[0].scatter(not_gold_scores['semantic_score'], not_gold_scores['moran_i'])\n",
    "ax[0].scatter(in_gold_scores['semantic_score'], in_gold_scores['moran_i'])\n",
    "#ax[0].set_xlabel(\"Semantic Score\")\n",
    "ax[0].scatter(not_gold_scores[ not_gold_scores['getisord_g'] > 0.07 ]['semantic_score'], not_gold_scores[not_gold_scores['getisord_g'] > 0.07]['moran_i'],\n",
    "              color='black',\n",
    "            alpha=0.6)\n",
    "#ax[0].scatter(in_gold_scores[ in_gold_scores['getisord_g'] > 0.07 ]['semantic_score'], in_gold_scores[in_gold_scores['getisord_g'] > 0.07]['moran_i'], color='black')\n",
    "ax[0].set_title(\"Moran I\")\n",
    "# ax.spines['left'].set_visible(False)\n",
    "\n",
    "ax[1].scatter(not_gold_scores['semantic_score'] , not_gold_scores['geary_c'])\n",
    "ax[1].scatter(in_gold_scores['semantic_score'] , in_gold_scores['geary_c'])\n",
    "ax[1].set_xlabel(\"Semantic Score\")\n",
    "ax[1].set_title(\"Geary C\")\n",
    "\n",
    "ax[2].scatter(not_gold_scores['semantic_score'] , not_gold_scores['getisord_g'])\n",
    "ax[2].scatter(in_gold_scores['semantic_score'] , in_gold_scores['getisord_g'])\n",
    "# ax[2].set_xlabel(\"Semantic Score\")\n",
    "ax[2].set_title(\"Getis Ord G\")\n",
    "\n",
    "ax[2].legend([\"False Positive\", \"True Keyphrase\"])\n",
    "for x in ax:\n",
    "    x.spines['top'].set_visible(False)\n",
    "    x.spines['right'].set_visible(False)\n",
    "\n",
    "plt.show()\n",
    "\n",
    "#in_gold_scores['semantic_score'].plot.hist()"
   ]
  },
  {
   "cell_type": "code",
   "execution_count": null,
   "metadata": {},
   "outputs": [],
   "source": [
    "\n",
    "\n",
    "#   \t                                                      nDCG \tF1_5 \tF1_10 \tF1_15\n",
    "# promptrank    exp 170                                   45.51% \t8.58% \t12.06% \t14.91%\n",
    "# results.moran_i > -0.07) & (results.moran_i < 0.89      44.19% \t8.85% \t11.84% \t15.67%\n",
    "# results.geary_c > 0.24) & (results.geary_c < 1.3        44.46% \t8.85% \t12.06% \t14.91%\n",
    "# results.getisord_g > 0) & (results.getisord_g < 0.07    45.53% \t9.15% \t12.71% \t15.82%\n",
    "#  exp 1700\n",
    "# results.moran_i > -0.12) & (results.moran_i < 0.59     no improvement\n",
    "# results.geary_c > 0.37) & (results.geary_c < 1.12      no improvement\n",
    "# results.getisord_g > 0) & (results.getisord_g < 0.07   no improvement"
   ]
  },
  {
   "cell_type": "code",
   "execution_count": 39,
   "metadata": {},
   "outputs": [
    {
     "data": {
      "text/html": [
       "<style type=\"text/css\">\n",
       "</style>\n",
       "<table id=\"T_45f7e\">\n",
       "  <thead>\n",
       "    <tr>\n",
       "      <th class=\"blank level0\" >&nbsp;</th>\n",
       "      <th id=\"T_45f7e_level0_col0\" class=\"col_heading level0 col0\" >nDCG</th>\n",
       "      <th id=\"T_45f7e_level0_col1\" class=\"col_heading level0 col1\" >F1_5</th>\n",
       "      <th id=\"T_45f7e_level0_col2\" class=\"col_heading level0 col2\" >F1_10</th>\n",
       "      <th id=\"T_45f7e_level0_col3\" class=\"col_heading level0 col3\" >F1_15</th>\n",
       "    </tr>\n",
       "  </thead>\n",
       "  <tbody>\n",
       "    <tr>\n",
       "      <th id=\"T_45f7e_level0_row0\" class=\"row_heading level0 row0\" >dataset</th>\n",
       "      <td id=\"T_45f7e_row0_col0\" class=\"data row0 col0\" >45.51%</td>\n",
       "      <td id=\"T_45f7e_row0_col1\" class=\"data row0 col1\" >8.58%</td>\n",
       "      <td id=\"T_45f7e_row0_col2\" class=\"data row0 col2\" >12.06%</td>\n",
       "      <td id=\"T_45f7e_row0_col3\" class=\"data row0 col3\" >14.91%</td>\n",
       "    </tr>\n",
       "  </tbody>\n",
       "</table>\n"
      ],
      "text/plain": [
       "<pandas.io.formats.style.Styler at 0x7fd3d0fc75b0>"
      ]
     },
     "metadata": {},
     "output_type": "display_data"
    },
    {
     "data": {
      "text/plain": [
       "0.14908581614463967"
      ]
     },
     "execution_count": 39,
     "metadata": {},
     "output_type": "execute_result"
    }
   ],
   "source": [
    "performance(local_rank(results, None, None,  None),  PorterStemmer(), True)  "
   ]
  },
  {
   "cell_type": "code",
   "execution_count": 106,
   "metadata": {},
   "outputs": [
    {
     "data": {
      "text/html": [
       "<style type=\"text/css\">\n",
       "</style>\n",
       "<table id=\"T_5fc25\">\n",
       "  <thead>\n",
       "    <tr>\n",
       "      <th class=\"blank level0\" >&nbsp;</th>\n",
       "      <th id=\"T_5fc25_level0_col0\" class=\"col_heading level0 col0\" >nDCG</th>\n",
       "      <th id=\"T_5fc25_level0_col1\" class=\"col_heading level0 col1\" >F1_5</th>\n",
       "      <th id=\"T_5fc25_level0_col2\" class=\"col_heading level0 col2\" >F1_10</th>\n",
       "      <th id=\"T_5fc25_level0_col3\" class=\"col_heading level0 col3\" >F1_15</th>\n",
       "    </tr>\n",
       "  </thead>\n",
       "  <tbody>\n",
       "    <tr>\n",
       "      <th id=\"T_5fc25_level0_row0\" class=\"row_heading level0 row0\" >dataset</th>\n",
       "      <td id=\"T_5fc25_row0_col0\" class=\"data row0 col0\" >45.35%</td>\n",
       "      <td id=\"T_5fc25_row0_col1\" class=\"data row0 col1\" >8.58%</td>\n",
       "      <td id=\"T_5fc25_row0_col2\" class=\"data row0 col2\" >12.29%</td>\n",
       "      <td id=\"T_5fc25_row0_col3\" class=\"data row0 col3\" >14.91%</td>\n",
       "    </tr>\n",
       "  </tbody>\n",
       "</table>\n"
      ],
      "text/plain": [
       "<pandas.io.formats.style.Styler at 0x7fd3c6461ba0>"
      ]
     },
     "metadata": {},
     "output_type": "display_data"
    },
    {
     "data": {
      "text/plain": [
       "0.14908581614463967"
      ]
     },
     "execution_count": 106,
     "metadata": {},
     "output_type": "execute_result"
    }
   ],
   "source": [
    "performance(local_rank(results[(results.moran_i > -0.07) & (results.moran_i < 0.89)], None, None,  None),  PorterStemmer(), True)"
   ]
  },
  {
   "cell_type": "code",
   "execution_count": 148,
   "metadata": {},
   "outputs": [
    {
     "data": {
      "text/html": [
       "<style type=\"text/css\">\n",
       "</style>\n",
       "<table id=\"T_0e584\">\n",
       "  <thead>\n",
       "    <tr>\n",
       "      <th class=\"blank level0\" >&nbsp;</th>\n",
       "      <th id=\"T_0e584_level0_col0\" class=\"col_heading level0 col0\" >nDCG</th>\n",
       "      <th id=\"T_0e584_level0_col1\" class=\"col_heading level0 col1\" >F1_5</th>\n",
       "      <th id=\"T_0e584_level0_col2\" class=\"col_heading level0 col2\" >F1_10</th>\n",
       "      <th id=\"T_0e584_level0_col3\" class=\"col_heading level0 col3\" >F1_15</th>\n",
       "    </tr>\n",
       "  </thead>\n",
       "  <tbody>\n",
       "    <tr>\n",
       "      <th id=\"T_0e584_level0_row0\" class=\"row_heading level0 row0\" >dataset</th>\n",
       "      <td id=\"T_0e584_row0_col0\" class=\"data row0 col0\" >43.49%</td>\n",
       "      <td id=\"T_0e584_row0_col1\" class=\"data row0 col1\" >9.43%</td>\n",
       "      <td id=\"T_0e584_row0_col2\" class=\"data row0 col2\" >12.25%</td>\n",
       "      <td id=\"T_0e584_row0_col3\" class=\"data row0 col3\" >15.62%</td>\n",
       "    </tr>\n",
       "  </tbody>\n",
       "</table>\n"
      ],
      "text/plain": [
       "<pandas.io.formats.style.Styler at 0x7fd3bdf694e0>"
      ]
     },
     "metadata": {},
     "output_type": "display_data"
    },
    {
     "data": {
      "text/plain": [
       "0.1561971497062775"
      ]
     },
     "execution_count": 148,
     "metadata": {},
     "output_type": "execute_result"
    }
   ],
   "source": [
    "performance(local_rank(results[(results.geary_c > 0.24) & (results.geary_c < 1.3) & (results.getisord_g > 0) & (results.getisord_g < 0.07) & (results.moran_i > -0.07) & (results.moran_i < 0.89)], None, None,  None),  PorterStemmer(), True)"
   ]
  },
  {
   "cell_type": "code",
   "execution_count": 145,
   "metadata": {},
   "outputs": [
    {
     "data": {
      "text/html": [
       "<style type=\"text/css\">\n",
       "</style>\n",
       "<table id=\"T_b96ce\">\n",
       "  <thead>\n",
       "    <tr>\n",
       "      <th class=\"blank level0\" >&nbsp;</th>\n",
       "      <th id=\"T_b96ce_level0_col0\" class=\"col_heading level0 col0\" >nDCG</th>\n",
       "      <th id=\"T_b96ce_level0_col1\" class=\"col_heading level0 col1\" >F1_5</th>\n",
       "      <th id=\"T_b96ce_level0_col2\" class=\"col_heading level0 col2\" >F1_10</th>\n",
       "      <th id=\"T_b96ce_level0_col3\" class=\"col_heading level0 col3\" >F1_15</th>\n",
       "    </tr>\n",
       "  </thead>\n",
       "  <tbody>\n",
       "    <tr>\n",
       "      <th id=\"T_b96ce_level0_row0\" class=\"row_heading level0 row0\" >dataset</th>\n",
       "      <td id=\"T_b96ce_row0_col0\" class=\"data row0 col0\" >44.14%</td>\n",
       "      <td id=\"T_b96ce_row0_col1\" class=\"data row0 col1\" >9.43%</td>\n",
       "      <td id=\"T_b96ce_row0_col2\" class=\"data row0 col2\" >12.71%</td>\n",
       "      <td id=\"T_b96ce_row0_col3\" class=\"data row0 col3\" >16.41%</td>\n",
       "    </tr>\n",
       "  </tbody>\n",
       "</table>\n"
      ],
      "text/plain": [
       "<pandas.io.formats.style.Styler at 0x7fd3b9042b30>"
      ]
     },
     "metadata": {},
     "output_type": "display_data"
    },
    {
     "data": {
      "text/plain": [
       "0.16407892310529226"
      ]
     },
     "execution_count": 145,
     "metadata": {},
     "output_type": "execute_result"
    }
   ],
   "source": [
    "performance(local_rank(results[(results.getisord_g > 0) & (results.getisord_g < 0.07) & ], None, None,  None),  PorterStemmer(), True)"
   ]
  },
  {
   "cell_type": "code",
   "execution_count": 13,
   "metadata": {},
   "outputs": [
    {
     "data": {
      "text/html": [
       "<style type=\"text/css\">\n",
       "#T_5559d_row0_col0, #T_5559d_row1_col0, #T_5559d_row1_col1, #T_5559d_row2_col0, #T_5559d_row2_col1, #T_5559d_row2_col2, #T_5559d_row3_col0, #T_5559d_row3_col1, #T_5559d_row3_col2, #T_5559d_row3_col3, #T_5559d_row4_col0, #T_5559d_row4_col1, #T_5559d_row4_col2, #T_5559d_row4_col3, #T_5559d_row4_col4, #T_5559d_row5_col0, #T_5559d_row5_col1, #T_5559d_row5_col2, #T_5559d_row5_col3, #T_5559d_row5_col4, #T_5559d_row5_col5 {\n",
       "  background-color: #000000;\n",
       "  color: #f1f1f1;\n",
       "  background-color: #f1f1f1;\n",
       "}\n",
       "#T_5559d_row0_col1 {\n",
       "  background-color: #f1ccb8;\n",
       "  color: #000000;\n",
       "}\n",
       "#T_5559d_row0_col2 {\n",
       "  background-color: #dddcdc;\n",
       "  color: #000000;\n",
       "}\n",
       "#T_5559d_row0_col3, #T_5559d_row1_col2, #T_5559d_row2_col5 {\n",
       "  background-color: #dcdddd;\n",
       "  color: #000000;\n",
       "}\n",
       "#T_5559d_row0_col4 {\n",
       "  background-color: #e0dbd8;\n",
       "  color: #000000;\n",
       "}\n",
       "#T_5559d_row0_col5 {\n",
       "  background-color: #ead5c9;\n",
       "  color: #000000;\n",
       "}\n",
       "#T_5559d_row1_col3, #T_5559d_row3_col5, #T_5559d_row4_col5 {\n",
       "  background-color: #dfdbd9;\n",
       "  color: #000000;\n",
       "}\n",
       "#T_5559d_row1_col4 {\n",
       "  background-color: #edd1c2;\n",
       "  color: #000000;\n",
       "}\n",
       "#T_5559d_row1_col5 {\n",
       "  background-color: #ead4c8;\n",
       "  color: #000000;\n",
       "}\n",
       "#T_5559d_row2_col3 {\n",
       "  background-color: #536edd;\n",
       "  color: #f1f1f1;\n",
       "}\n",
       "#T_5559d_row2_col4 {\n",
       "  background-color: #cedaeb;\n",
       "  color: #000000;\n",
       "}\n",
       "#T_5559d_row3_col4 {\n",
       "  background-color: #f0cdbb;\n",
       "  color: #000000;\n",
       "}\n",
       "</style>\n",
       "<table id=\"T_5559d\">\n",
       "  <thead>\n",
       "    <tr>\n",
       "      <th class=\"blank level0\" >&nbsp;</th>\n",
       "      <th id=\"T_5559d_level0_col0\" class=\"col_heading level0 col0\" >in_gold</th>\n",
       "      <th id=\"T_5559d_level0_col1\" class=\"col_heading level0 col1\" >semantic_score</th>\n",
       "      <th id=\"T_5559d_level0_col2\" class=\"col_heading level0 col2\" >moran_i</th>\n",
       "      <th id=\"T_5559d_level0_col3\" class=\"col_heading level0 col3\" >geary_c</th>\n",
       "      <th id=\"T_5559d_level0_col4\" class=\"col_heading level0 col4\" >getisord_g</th>\n",
       "      <th id=\"T_5559d_level0_col5\" class=\"col_heading level0 col5\" >N</th>\n",
       "    </tr>\n",
       "  </thead>\n",
       "  <tbody>\n",
       "    <tr>\n",
       "      <th id=\"T_5559d_level0_row0\" class=\"row_heading level0 row0\" >in_gold</th>\n",
       "      <td id=\"T_5559d_row0_col0\" class=\"data row0 col0\" >nan</td>\n",
       "      <td id=\"T_5559d_row0_col1\" class=\"data row0 col1\" >0.20</td>\n",
       "      <td id=\"T_5559d_row0_col2\" class=\"data row0 col2\" >0.00</td>\n",
       "      <td id=\"T_5559d_row0_col3\" class=\"data row0 col3\" >-0.00</td>\n",
       "      <td id=\"T_5559d_row0_col4\" class=\"data row0 col4\" >0.03</td>\n",
       "      <td id=\"T_5559d_row0_col5\" class=\"data row0 col5\" >0.10</td>\n",
       "    </tr>\n",
       "    <tr>\n",
       "      <th id=\"T_5559d_level0_row1\" class=\"row_heading level0 row1\" >semantic_score</th>\n",
       "      <td id=\"T_5559d_row1_col0\" class=\"data row1 col0\" >nan</td>\n",
       "      <td id=\"T_5559d_row1_col1\" class=\"data row1 col1\" >nan</td>\n",
       "      <td id=\"T_5559d_row1_col2\" class=\"data row1 col2\" >-0.01</td>\n",
       "      <td id=\"T_5559d_row1_col3\" class=\"data row1 col3\" >0.02</td>\n",
       "      <td id=\"T_5559d_row1_col4\" class=\"data row1 col4\" >0.14</td>\n",
       "      <td id=\"T_5559d_row1_col5\" class=\"data row1 col5\" >0.11</td>\n",
       "    </tr>\n",
       "    <tr>\n",
       "      <th id=\"T_5559d_level0_row2\" class=\"row_heading level0 row2\" >moran_i</th>\n",
       "      <td id=\"T_5559d_row2_col0\" class=\"data row2 col0\" >nan</td>\n",
       "      <td id=\"T_5559d_row2_col1\" class=\"data row2 col1\" >nan</td>\n",
       "      <td id=\"T_5559d_row2_col2\" class=\"data row2 col2\" >nan</td>\n",
       "      <td id=\"T_5559d_row2_col3\" class=\"data row2 col3\" >-0.84</td>\n",
       "      <td id=\"T_5559d_row2_col4\" class=\"data row2 col4\" >-0.11</td>\n",
       "      <td id=\"T_5559d_row2_col5\" class=\"data row2 col5\" >-0.00</td>\n",
       "    </tr>\n",
       "    <tr>\n",
       "      <th id=\"T_5559d_level0_row3\" class=\"row_heading level0 row3\" >geary_c</th>\n",
       "      <td id=\"T_5559d_row3_col0\" class=\"data row3 col0\" >nan</td>\n",
       "      <td id=\"T_5559d_row3_col1\" class=\"data row3 col1\" >nan</td>\n",
       "      <td id=\"T_5559d_row3_col2\" class=\"data row3 col2\" >nan</td>\n",
       "      <td id=\"T_5559d_row3_col3\" class=\"data row3 col3\" >nan</td>\n",
       "      <td id=\"T_5559d_row3_col4\" class=\"data row3 col4\" >0.17</td>\n",
       "      <td id=\"T_5559d_row3_col5\" class=\"data row3 col5\" >0.02</td>\n",
       "    </tr>\n",
       "    <tr>\n",
       "      <th id=\"T_5559d_level0_row4\" class=\"row_heading level0 row4\" >getisord_g</th>\n",
       "      <td id=\"T_5559d_row4_col0\" class=\"data row4 col0\" >nan</td>\n",
       "      <td id=\"T_5559d_row4_col1\" class=\"data row4 col1\" >nan</td>\n",
       "      <td id=\"T_5559d_row4_col2\" class=\"data row4 col2\" >nan</td>\n",
       "      <td id=\"T_5559d_row4_col3\" class=\"data row4 col3\" >nan</td>\n",
       "      <td id=\"T_5559d_row4_col4\" class=\"data row4 col4\" >nan</td>\n",
       "      <td id=\"T_5559d_row4_col5\" class=\"data row4 col5\" >0.02</td>\n",
       "    </tr>\n",
       "    <tr>\n",
       "      <th id=\"T_5559d_level0_row5\" class=\"row_heading level0 row5\" >N</th>\n",
       "      <td id=\"T_5559d_row5_col0\" class=\"data row5 col0\" >nan</td>\n",
       "      <td id=\"T_5559d_row5_col1\" class=\"data row5 col1\" >nan</td>\n",
       "      <td id=\"T_5559d_row5_col2\" class=\"data row5 col2\" >nan</td>\n",
       "      <td id=\"T_5559d_row5_col3\" class=\"data row5 col3\" >nan</td>\n",
       "      <td id=\"T_5559d_row5_col4\" class=\"data row5 col4\" >nan</td>\n",
       "      <td id=\"T_5559d_row5_col5\" class=\"data row5 col5\" >nan</td>\n",
       "    </tr>\n",
       "  </tbody>\n",
       "</table>\n"
      ],
      "text/plain": [
       "<pandas.io.formats.style.Styler at 0x7fc2a8f3d930>"
      ]
     },
     "execution_count": 13,
     "metadata": {},
     "output_type": "execute_result"
    }
   ],
   "source": [
    "# corr = (r\n",
    "#         .loc[ : , ['topic', \"semantic_score\", \"moran_i\", \"geary_c\", \"getisord_g\" ,\"N\", ]].corr()\n",
    "#        )\n",
    "\n",
    "from scipy.stats import boxcox\n",
    "r = results.copy()\n",
    "\n",
    "# \"semantic_score\", \n",
    "#for col in [\"moran_i\", \"geary_c\", \"getisord_g\", \"N\"]:\n",
    "#    r[col], _ = boxcox(r[col])\n",
    "\n",
    "r['semantic_score'] = np.exp(r['semantic_score'])\n",
    "\n",
    "corr = (r\n",
    "        .loc[ : , ['in_gold', \"semantic_score\", \"moran_i\", \"geary_c\", \"getisord_g\" ,\"N\", ]].corr()\n",
    "       )\n",
    "# Fill diagonal and upper half with NaNs\n",
    "mask = np.zeros_like(corr, dtype=bool)\n",
    "mask[np.tril_indices_from(mask)] = True\n",
    "corr[mask] = np.nan\n",
    "#(corr.iloc[:1, 1:]\n",
    "#print(\n",
    "(corr \n",
    " .style\n",
    " .background_gradient(cmap='coolwarm', axis=None, vmin=-1, vmax=1)\n",
    " .highlight_null(color='#f1f1f1')  # Color NaNs grey\n",
    " .format(precision=2))\n",
    " #.to_latex(convert_css=True)\n",
    "#)"
   ]
  },
  {
   "cell_type": "code",
   "execution_count": 36,
   "metadata": {},
   "outputs": [
    {
     "name": "stdout",
     "output_type": "stream",
     "text": [
      "alpha = 2.0\n"
     ]
    },
    {
     "data": {
      "text/html": [
       "<style type=\"text/css\">\n",
       "</style>\n",
       "<table id=\"T_28882\">\n",
       "  <thead>\n",
       "    <tr>\n",
       "      <th class=\"blank level0\" >&nbsp;</th>\n",
       "      <th id=\"T_28882_level0_col0\" class=\"col_heading level0 col0\" >nDCG</th>\n",
       "      <th id=\"T_28882_level0_col1\" class=\"col_heading level0 col1\" >F1_5</th>\n",
       "      <th id=\"T_28882_level0_col2\" class=\"col_heading level0 col2\" >F1_10</th>\n",
       "      <th id=\"T_28882_level0_col3\" class=\"col_heading level0 col3\" >F1_15</th>\n",
       "    </tr>\n",
       "  </thead>\n",
       "  <tbody>\n",
       "    <tr>\n",
       "      <th id=\"T_28882_level0_row0\" class=\"row_heading level0 row0\" >dataset</th>\n",
       "      <td id=\"T_28882_row0_col0\" class=\"data row0 col0\" >43.01%</td>\n",
       "      <td id=\"T_28882_row0_col1\" class=\"data row0 col1\" >6.16%</td>\n",
       "      <td id=\"T_28882_row0_col2\" class=\"data row0 col2\" >10.28%</td>\n",
       "      <td id=\"T_28882_row0_col3\" class=\"data row0 col3\" >12.05%</td>\n",
       "    </tr>\n",
       "  </tbody>\n",
       "</table>\n"
      ],
      "text/plain": [
       "<pandas.io.formats.style.Styler at 0x7fd3bffbd150>"
      ]
     },
     "metadata": {},
     "output_type": "display_data"
    },
    {
     "name": "stdout",
     "output_type": "stream",
     "text": [
      "alpha = 2.888888888888889\n"
     ]
    },
    {
     "data": {
      "text/html": [
       "<style type=\"text/css\">\n",
       "</style>\n",
       "<table id=\"T_c0e36\">\n",
       "  <thead>\n",
       "    <tr>\n",
       "      <th class=\"blank level0\" >&nbsp;</th>\n",
       "      <th id=\"T_c0e36_level0_col0\" class=\"col_heading level0 col0\" >nDCG</th>\n",
       "      <th id=\"T_c0e36_level0_col1\" class=\"col_heading level0 col1\" >F1_5</th>\n",
       "      <th id=\"T_c0e36_level0_col2\" class=\"col_heading level0 col2\" >F1_10</th>\n",
       "      <th id=\"T_c0e36_level0_col3\" class=\"col_heading level0 col3\" >F1_15</th>\n",
       "    </tr>\n",
       "  </thead>\n",
       "  <tbody>\n",
       "    <tr>\n",
       "      <th id=\"T_c0e36_level0_row0\" class=\"row_heading level0 row0\" >dataset</th>\n",
       "      <td id=\"T_c0e36_row0_col0\" class=\"data row0 col0\" >41.95%</td>\n",
       "      <td id=\"T_c0e36_row0_col1\" class=\"data row0 col1\" >5.90%</td>\n",
       "      <td id=\"T_c0e36_row0_col2\" class=\"data row0 col2\" >8.93%</td>\n",
       "      <td id=\"T_c0e36_row0_col3\" class=\"data row0 col3\" >11.46%</td>\n",
       "    </tr>\n",
       "  </tbody>\n",
       "</table>\n"
      ],
      "text/plain": [
       "<pandas.io.formats.style.Styler at 0x7fd3bfe17be0>"
      ]
     },
     "metadata": {},
     "output_type": "display_data"
    },
    {
     "name": "stdout",
     "output_type": "stream",
     "text": [
      "alpha = 3.7777777777777777\n"
     ]
    },
    {
     "data": {
      "text/html": [
       "<style type=\"text/css\">\n",
       "</style>\n",
       "<table id=\"T_77d38\">\n",
       "  <thead>\n",
       "    <tr>\n",
       "      <th class=\"blank level0\" >&nbsp;</th>\n",
       "      <th id=\"T_77d38_level0_col0\" class=\"col_heading level0 col0\" >nDCG</th>\n",
       "      <th id=\"T_77d38_level0_col1\" class=\"col_heading level0 col1\" >F1_5</th>\n",
       "      <th id=\"T_77d38_level0_col2\" class=\"col_heading level0 col2\" >F1_10</th>\n",
       "      <th id=\"T_77d38_level0_col3\" class=\"col_heading level0 col3\" >F1_15</th>\n",
       "    </tr>\n",
       "  </thead>\n",
       "  <tbody>\n",
       "    <tr>\n",
       "      <th id=\"T_77d38_level0_row0\" class=\"row_heading level0 row0\" >dataset</th>\n",
       "      <td id=\"T_77d38_row0_col0\" class=\"data row0 col0\" >41.37%</td>\n",
       "      <td id=\"T_77d38_row0_col1\" class=\"data row0 col1\" >5.63%</td>\n",
       "      <td id=\"T_77d38_row0_col2\" class=\"data row0 col2\" >9.15%</td>\n",
       "      <td id=\"T_77d38_row0_col3\" class=\"data row0 col3\" >11.08%</td>\n",
       "    </tr>\n",
       "  </tbody>\n",
       "</table>\n"
      ],
      "text/plain": [
       "<pandas.io.formats.style.Styler at 0x7fd3bfe17c10>"
      ]
     },
     "metadata": {},
     "output_type": "display_data"
    },
    {
     "name": "stdout",
     "output_type": "stream",
     "text": [
      "alpha = 4.666666666666666\n"
     ]
    },
    {
     "ename": "KeyboardInterrupt",
     "evalue": "",
     "output_type": "error",
     "traceback": [
      "\u001b[0;31m---------------------------------------------------------------------------\u001b[0m",
      "\u001b[0;31mKeyboardInterrupt\u001b[0m                         Traceback (most recent call last)",
      "Cell \u001b[0;32mIn[36], line 14\u001b[0m\n\u001b[1;32m     12\u001b[0m \u001b[38;5;28;01mfor\u001b[39;00m alpha \u001b[38;5;129;01min\u001b[39;00m \u001b[38;5;28mlist\u001b[39m(np\u001b[38;5;241m.\u001b[39mlinspace(\u001b[38;5;241m2\u001b[39m, \u001b[38;5;241m10\u001b[39m, \u001b[38;5;241m10\u001b[39m)):\n\u001b[1;32m     13\u001b[0m     \u001b[38;5;28mprint\u001b[39m(\u001b[38;5;124mf\u001b[39m\u001b[38;5;124m\"\u001b[39m\u001b[38;5;124malpha = \u001b[39m\u001b[38;5;132;01m{\u001b[39;00malpha\u001b[38;5;132;01m}\u001b[39;00m\u001b[38;5;124m\"\u001b[39m)\n\u001b[0;32m---> 14\u001b[0m     \u001b[43mperformance\u001b[49m\u001b[43m(\u001b[49m\u001b[43mlocal_rank\u001b[49m\u001b[43m(\u001b[49m\u001b[43mresults\u001b[49m\u001b[43m,\u001b[49m\u001b[43m \u001b[49m\u001b[43malpha\u001b[49m\u001b[43m,\u001b[49m\u001b[43m \u001b[49m\u001b[38;5;28;43;01mNone\u001b[39;49;00m\u001b[43m,\u001b[49m\u001b[43m  \u001b[49m\u001b[38;5;28;43;01mNone\u001b[39;49;00m\u001b[43m)\u001b[49m\u001b[43m,\u001b[49m\u001b[43m  \u001b[49m\u001b[43mPorterStemmer\u001b[49m\u001b[43m(\u001b[49m\u001b[43m)\u001b[49m\u001b[43m,\u001b[49m\u001b[43m \u001b[49m\u001b[38;5;28;43;01mTrue\u001b[39;49;00m\u001b[43m)\u001b[49m  \n\u001b[1;32m     15\u001b[0m \u001b[38;5;66;03m# performance(local_rank(results, 0.1, None,  None),  PorterStemmer(), True)\u001b[39;00m\n\u001b[1;32m     16\u001b[0m \u001b[38;5;66;03m# 55.69% \t14.78% \t22.35% \t25.45%\u001b[39;00m\n\u001b[1;32m     17\u001b[0m \u001b[38;5;66;03m# 55.69% \t15.05% \t22.35% \t25.45%\u001b[39;00m\n",
      "Cell \u001b[0;32mIn[4], line 3\u001b[0m, in \u001b[0;36mperformance\u001b[0;34m(model_output, stemmer, show)\u001b[0m\n\u001b[1;32m      1\u001b[0m \u001b[38;5;28;01mdef\u001b[39;00m \u001b[38;5;21mperformance\u001b[39m(model_output, stemmer, show\u001b[38;5;241m=\u001b[39m\u001b[38;5;28;01mFalse\u001b[39;00m):\n\u001b[1;32m      2\u001b[0m     model_results \u001b[38;5;241m=\u001b[39m model_output\n\u001b[0;32m----> 3\u001b[0m     model_results \u001b[38;5;241m=\u001b[39m \u001b[43mpostprocess_model_outputs\u001b[49m\u001b[43m(\u001b[49m\n\u001b[1;32m      4\u001b[0m \u001b[43m                    \u001b[49m\u001b[43mmodel_results\u001b[49m\u001b[43m,\u001b[49m\u001b[43m \u001b[49m\u001b[43mstemmer\u001b[49m\u001b[43m,\u001b[49m\u001b[43m \u001b[49m\u001b[38;5;28;43;01mNone\u001b[39;49;00m\u001b[43m,\u001b[49m\u001b[43m \u001b[49m\u001b[43m[\u001b[49m\u001b[43mremove_new_lines_and_tabs\u001b[49m\u001b[43m,\u001b[49m\u001b[43m \u001b[49m\u001b[43mremove_whitespaces\u001b[49m\u001b[43m]\u001b[49m\n\u001b[1;32m      5\u001b[0m \u001b[43m                \u001b[49m\u001b[43m)\u001b[49m\n\u001b[1;32m      7\u001b[0m     \u001b[38;5;66;03m#performance_metrics = evaluate_kp_extraction_base(model_results, true_labels)\u001b[39;00m\n\u001b[1;32m      8\u001b[0m     performance_metrics \u001b[38;5;241m=\u001b[39m evaluate_kp_extraction(model_results, true_labels)\n",
      "File \u001b[0;32m~/thesis/code/geo-kpe-multidoc/src/geo_kpe_multidoc/evaluation/evaluation_tools.py:86\u001b[0m, in \u001b[0;36mpostprocess_model_outputs\u001b[0;34m(model_results, stemmer, lemmer, preprocessing)\u001b[0m\n\u001b[1;32m     66\u001b[0m             doc \u001b[38;5;241m=\u001b[39m (cand_score, cand)\n\u001b[1;32m     68\u001b[0m         \u001b[38;5;28;01mif\u001b[39;00m stemmer:\n\u001b[1;32m     69\u001b[0m             res[dataset]\u001b[38;5;241m.\u001b[39mappend(\n\u001b[1;32m     70\u001b[0m                 (\n\u001b[1;32m     71\u001b[0m                     \u001b[38;5;66;03m# each (kp, score)\u001b[39;00m\n\u001b[1;32m     72\u001b[0m                     [\n\u001b[1;32m     73\u001b[0m                         (\n\u001b[1;32m     74\u001b[0m                             \u001b[38;5;124m\"\u001b[39m\u001b[38;5;124m \u001b[39m\u001b[38;5;124m\"\u001b[39m\u001b[38;5;241m.\u001b[39mjoin(\n\u001b[1;32m     75\u001b[0m                                 [\n\u001b[1;32m     76\u001b[0m                                     stemmer\u001b[38;5;241m.\u001b[39mstem(w)\n\u001b[1;32m     77\u001b[0m                                     \u001b[38;5;28;01mfor\u001b[39;00m w \u001b[38;5;129;01min\u001b[39;00m kp\u001b[38;5;241m.\u001b[39msplit()\n\u001b[1;32m     78\u001b[0m                                     \u001b[38;5;66;03m# for w in simplemma.simple_tokenizer(kp)\u001b[39;00m\n\u001b[1;32m     79\u001b[0m                                 ]\n\u001b[1;32m     80\u001b[0m                             )\u001b[38;5;241m.\u001b[39mlower(),\n\u001b[1;32m     81\u001b[0m                             score,\n\u001b[1;32m     82\u001b[0m                         )\n\u001b[1;32m     83\u001b[0m                         \u001b[38;5;28;01mfor\u001b[39;00m kp, score \u001b[38;5;129;01min\u001b[39;00m doc[\u001b[38;5;241m0\u001b[39m]\n\u001b[1;32m     84\u001b[0m                     ],\n\u001b[1;32m     85\u001b[0m                     \u001b[38;5;66;03m# each kp candidate\u001b[39;00m\n\u001b[0;32m---> 86\u001b[0m                     [\n\u001b[1;32m     87\u001b[0m                         \u001b[38;5;124m\"\u001b[39m\u001b[38;5;124m \u001b[39m\u001b[38;5;124m\"\u001b[39m\u001b[38;5;241m.\u001b[39mjoin(\n\u001b[1;32m     88\u001b[0m                             [\n\u001b[1;32m     89\u001b[0m                                 stemmer\u001b[38;5;241m.\u001b[39mstem(w)\n\u001b[1;32m     90\u001b[0m                                 \u001b[38;5;28;01mfor\u001b[39;00m w \u001b[38;5;129;01min\u001b[39;00m kp\u001b[38;5;241m.\u001b[39msplit()\n\u001b[1;32m     91\u001b[0m                                 \u001b[38;5;66;03m# for w in simplemma.simple_tokenizer(kp)\u001b[39;00m\n\u001b[1;32m     92\u001b[0m                             ]\n\u001b[1;32m     93\u001b[0m                         )\u001b[38;5;241m.\u001b[39mlower()\n\u001b[1;32m     94\u001b[0m                         \u001b[38;5;28;01mfor\u001b[39;00m kp \u001b[38;5;129;01min\u001b[39;00m doc[\u001b[38;5;241m1\u001b[39m]\n\u001b[1;32m     95\u001b[0m                     ],\n\u001b[1;32m     96\u001b[0m                 )\n\u001b[1;32m     97\u001b[0m             )\n\u001b[1;32m     98\u001b[0m \u001b[38;5;28;01mreturn\u001b[39;00m res\n",
      "File \u001b[0;32m~/thesis/code/geo-kpe-multidoc/src/geo_kpe_multidoc/evaluation/evaluation_tools.py:88\u001b[0m, in \u001b[0;36m<listcomp>\u001b[0;34m(.0)\u001b[0m\n\u001b[1;32m     66\u001b[0m             doc \u001b[38;5;241m=\u001b[39m (cand_score, cand)\n\u001b[1;32m     68\u001b[0m         \u001b[38;5;28;01mif\u001b[39;00m stemmer:\n\u001b[1;32m     69\u001b[0m             res[dataset]\u001b[38;5;241m.\u001b[39mappend(\n\u001b[1;32m     70\u001b[0m                 (\n\u001b[1;32m     71\u001b[0m                     \u001b[38;5;66;03m# each (kp, score)\u001b[39;00m\n\u001b[1;32m     72\u001b[0m                     [\n\u001b[1;32m     73\u001b[0m                         (\n\u001b[1;32m     74\u001b[0m                             \u001b[38;5;124m\"\u001b[39m\u001b[38;5;124m \u001b[39m\u001b[38;5;124m\"\u001b[39m\u001b[38;5;241m.\u001b[39mjoin(\n\u001b[1;32m     75\u001b[0m                                 [\n\u001b[1;32m     76\u001b[0m                                     stemmer\u001b[38;5;241m.\u001b[39mstem(w)\n\u001b[1;32m     77\u001b[0m                                     \u001b[38;5;28;01mfor\u001b[39;00m w \u001b[38;5;129;01min\u001b[39;00m kp\u001b[38;5;241m.\u001b[39msplit()\n\u001b[1;32m     78\u001b[0m                                     \u001b[38;5;66;03m# for w in simplemma.simple_tokenizer(kp)\u001b[39;00m\n\u001b[1;32m     79\u001b[0m                                 ]\n\u001b[1;32m     80\u001b[0m                             )\u001b[38;5;241m.\u001b[39mlower(),\n\u001b[1;32m     81\u001b[0m                             score,\n\u001b[1;32m     82\u001b[0m                         )\n\u001b[1;32m     83\u001b[0m                         \u001b[38;5;28;01mfor\u001b[39;00m kp, score \u001b[38;5;129;01min\u001b[39;00m doc[\u001b[38;5;241m0\u001b[39m]\n\u001b[1;32m     84\u001b[0m                     ],\n\u001b[1;32m     85\u001b[0m                     \u001b[38;5;66;03m# each kp candidate\u001b[39;00m\n\u001b[1;32m     86\u001b[0m                     [\n\u001b[1;32m     87\u001b[0m                         \u001b[38;5;124m\"\u001b[39m\u001b[38;5;124m \u001b[39m\u001b[38;5;124m\"\u001b[39m\u001b[38;5;241m.\u001b[39mjoin(\n\u001b[0;32m---> 88\u001b[0m                             [\n\u001b[1;32m     89\u001b[0m                                 stemmer\u001b[38;5;241m.\u001b[39mstem(w)\n\u001b[1;32m     90\u001b[0m                                 \u001b[38;5;28;01mfor\u001b[39;00m w \u001b[38;5;129;01min\u001b[39;00m kp\u001b[38;5;241m.\u001b[39msplit()\n\u001b[1;32m     91\u001b[0m                                 \u001b[38;5;66;03m# for w in simplemma.simple_tokenizer(kp)\u001b[39;00m\n\u001b[1;32m     92\u001b[0m                             ]\n\u001b[1;32m     93\u001b[0m                         )\u001b[38;5;241m.\u001b[39mlower()\n\u001b[1;32m     94\u001b[0m                         \u001b[38;5;28;01mfor\u001b[39;00m kp \u001b[38;5;129;01min\u001b[39;00m doc[\u001b[38;5;241m1\u001b[39m]\n\u001b[1;32m     95\u001b[0m                     ],\n\u001b[1;32m     96\u001b[0m                 )\n\u001b[1;32m     97\u001b[0m             )\n\u001b[1;32m     98\u001b[0m \u001b[38;5;28;01mreturn\u001b[39;00m res\n",
      "File \u001b[0;32m~/thesis/code/geo-kpe-multidoc/src/geo_kpe_multidoc/evaluation/evaluation_tools.py:89\u001b[0m, in \u001b[0;36m<listcomp>\u001b[0;34m(.0)\u001b[0m\n\u001b[1;32m     66\u001b[0m             doc \u001b[38;5;241m=\u001b[39m (cand_score, cand)\n\u001b[1;32m     68\u001b[0m         \u001b[38;5;28;01mif\u001b[39;00m stemmer:\n\u001b[1;32m     69\u001b[0m             res[dataset]\u001b[38;5;241m.\u001b[39mappend(\n\u001b[1;32m     70\u001b[0m                 (\n\u001b[1;32m     71\u001b[0m                     \u001b[38;5;66;03m# each (kp, score)\u001b[39;00m\n\u001b[1;32m     72\u001b[0m                     [\n\u001b[1;32m     73\u001b[0m                         (\n\u001b[1;32m     74\u001b[0m                             \u001b[38;5;124m\"\u001b[39m\u001b[38;5;124m \u001b[39m\u001b[38;5;124m\"\u001b[39m\u001b[38;5;241m.\u001b[39mjoin(\n\u001b[1;32m     75\u001b[0m                                 [\n\u001b[1;32m     76\u001b[0m                                     stemmer\u001b[38;5;241m.\u001b[39mstem(w)\n\u001b[1;32m     77\u001b[0m                                     \u001b[38;5;28;01mfor\u001b[39;00m w \u001b[38;5;129;01min\u001b[39;00m kp\u001b[38;5;241m.\u001b[39msplit()\n\u001b[1;32m     78\u001b[0m                                     \u001b[38;5;66;03m# for w in simplemma.simple_tokenizer(kp)\u001b[39;00m\n\u001b[1;32m     79\u001b[0m                                 ]\n\u001b[1;32m     80\u001b[0m                             )\u001b[38;5;241m.\u001b[39mlower(),\n\u001b[1;32m     81\u001b[0m                             score,\n\u001b[1;32m     82\u001b[0m                         )\n\u001b[1;32m     83\u001b[0m                         \u001b[38;5;28;01mfor\u001b[39;00m kp, score \u001b[38;5;129;01min\u001b[39;00m doc[\u001b[38;5;241m0\u001b[39m]\n\u001b[1;32m     84\u001b[0m                     ],\n\u001b[1;32m     85\u001b[0m                     \u001b[38;5;66;03m# each kp candidate\u001b[39;00m\n\u001b[1;32m     86\u001b[0m                     [\n\u001b[1;32m     87\u001b[0m                         \u001b[38;5;124m\"\u001b[39m\u001b[38;5;124m \u001b[39m\u001b[38;5;124m\"\u001b[39m\u001b[38;5;241m.\u001b[39mjoin(\n\u001b[1;32m     88\u001b[0m                             [\n\u001b[0;32m---> 89\u001b[0m                                 \u001b[43mstemmer\u001b[49m\u001b[38;5;241;43m.\u001b[39;49m\u001b[43mstem\u001b[49m\u001b[43m(\u001b[49m\u001b[43mw\u001b[49m\u001b[43m)\u001b[49m\n\u001b[1;32m     90\u001b[0m                                 \u001b[38;5;28;01mfor\u001b[39;00m w \u001b[38;5;129;01min\u001b[39;00m kp\u001b[38;5;241m.\u001b[39msplit()\n\u001b[1;32m     91\u001b[0m                                 \u001b[38;5;66;03m# for w in simplemma.simple_tokenizer(kp)\u001b[39;00m\n\u001b[1;32m     92\u001b[0m                             ]\n\u001b[1;32m     93\u001b[0m                         )\u001b[38;5;241m.\u001b[39mlower()\n\u001b[1;32m     94\u001b[0m                         \u001b[38;5;28;01mfor\u001b[39;00m kp \u001b[38;5;129;01min\u001b[39;00m doc[\u001b[38;5;241m1\u001b[39m]\n\u001b[1;32m     95\u001b[0m                     ],\n\u001b[1;32m     96\u001b[0m                 )\n\u001b[1;32m     97\u001b[0m             )\n\u001b[1;32m     98\u001b[0m \u001b[38;5;28;01mreturn\u001b[39;00m res\n",
      "File \u001b[0;32m~/miniconda3/envs/nlp/lib/python3.10/site-packages/nltk/stem/porter.py:674\u001b[0m, in \u001b[0;36mPorterStemmer.stem\u001b[0;34m(self, word, to_lowercase)\u001b[0m\n\u001b[1;32m    672\u001b[0m stem \u001b[38;5;241m=\u001b[39m \u001b[38;5;28mself\u001b[39m\u001b[38;5;241m.\u001b[39m_step2(stem)\n\u001b[1;32m    673\u001b[0m stem \u001b[38;5;241m=\u001b[39m \u001b[38;5;28mself\u001b[39m\u001b[38;5;241m.\u001b[39m_step3(stem)\n\u001b[0;32m--> 674\u001b[0m stem \u001b[38;5;241m=\u001b[39m \u001b[38;5;28;43mself\u001b[39;49m\u001b[38;5;241;43m.\u001b[39;49m\u001b[43m_step4\u001b[49m\u001b[43m(\u001b[49m\u001b[43mstem\u001b[49m\u001b[43m)\u001b[49m\n\u001b[1;32m    675\u001b[0m stem \u001b[38;5;241m=\u001b[39m \u001b[38;5;28mself\u001b[39m\u001b[38;5;241m.\u001b[39m_step5a(stem)\n\u001b[1;32m    676\u001b[0m stem \u001b[38;5;241m=\u001b[39m \u001b[38;5;28mself\u001b[39m\u001b[38;5;241m.\u001b[39m_step5b(stem)\n",
      "File \u001b[0;32m~/miniconda3/envs/nlp/lib/python3.10/site-packages/nltk/stem/porter.py:573\u001b[0m, in \u001b[0;36mPorterStemmer._step4\u001b[0;34m(self, word)\u001b[0m\n\u001b[1;32m    544\u001b[0m \u001b[38;5;250m\u001b[39m\u001b[38;5;124;03m\"\"\"Implements Step 4 from \"An algorithm for suffix stripping\"\u001b[39;00m\n\u001b[1;32m    545\u001b[0m \n\u001b[1;32m    546\u001b[0m \u001b[38;5;124;03mStep 4\u001b[39;00m\n\u001b[0;32m   (...)\u001b[0m\n\u001b[1;32m    569\u001b[0m \u001b[38;5;124;03mtidying up.\u001b[39;00m\n\u001b[1;32m    570\u001b[0m \u001b[38;5;124;03m\"\"\"\u001b[39;00m\n\u001b[1;32m    571\u001b[0m measure_gt_1 \u001b[38;5;241m=\u001b[39m \u001b[38;5;28;01mlambda\u001b[39;00m stem: \u001b[38;5;28mself\u001b[39m\u001b[38;5;241m.\u001b[39m_measure(stem) \u001b[38;5;241m>\u001b[39m \u001b[38;5;241m1\u001b[39m\n\u001b[0;32m--> 573\u001b[0m \u001b[38;5;28;01mreturn\u001b[39;00m \u001b[38;5;28;43mself\u001b[39;49m\u001b[38;5;241;43m.\u001b[39;49m\u001b[43m_apply_rule_list\u001b[49m\u001b[43m(\u001b[49m\n\u001b[1;32m    574\u001b[0m \u001b[43m    \u001b[49m\u001b[43mword\u001b[49m\u001b[43m,\u001b[49m\n\u001b[1;32m    575\u001b[0m \u001b[43m    \u001b[49m\u001b[43m[\u001b[49m\n\u001b[1;32m    576\u001b[0m \u001b[43m        \u001b[49m\u001b[43m(\u001b[49m\u001b[38;5;124;43m\"\u001b[39;49m\u001b[38;5;124;43mal\u001b[39;49m\u001b[38;5;124;43m\"\u001b[39;49m\u001b[43m,\u001b[49m\u001b[43m \u001b[49m\u001b[38;5;124;43m\"\u001b[39;49m\u001b[38;5;124;43m\"\u001b[39;49m\u001b[43m,\u001b[49m\u001b[43m \u001b[49m\u001b[43mmeasure_gt_1\u001b[49m\u001b[43m)\u001b[49m\u001b[43m,\u001b[49m\n\u001b[1;32m    577\u001b[0m \u001b[43m        \u001b[49m\u001b[43m(\u001b[49m\u001b[38;5;124;43m\"\u001b[39;49m\u001b[38;5;124;43mance\u001b[39;49m\u001b[38;5;124;43m\"\u001b[39;49m\u001b[43m,\u001b[49m\u001b[43m \u001b[49m\u001b[38;5;124;43m\"\u001b[39;49m\u001b[38;5;124;43m\"\u001b[39;49m\u001b[43m,\u001b[49m\u001b[43m \u001b[49m\u001b[43mmeasure_gt_1\u001b[49m\u001b[43m)\u001b[49m\u001b[43m,\u001b[49m\n\u001b[1;32m    578\u001b[0m \u001b[43m        \u001b[49m\u001b[43m(\u001b[49m\u001b[38;5;124;43m\"\u001b[39;49m\u001b[38;5;124;43mence\u001b[39;49m\u001b[38;5;124;43m\"\u001b[39;49m\u001b[43m,\u001b[49m\u001b[43m \u001b[49m\u001b[38;5;124;43m\"\u001b[39;49m\u001b[38;5;124;43m\"\u001b[39;49m\u001b[43m,\u001b[49m\u001b[43m \u001b[49m\u001b[43mmeasure_gt_1\u001b[49m\u001b[43m)\u001b[49m\u001b[43m,\u001b[49m\n\u001b[1;32m    579\u001b[0m \u001b[43m        \u001b[49m\u001b[43m(\u001b[49m\u001b[38;5;124;43m\"\u001b[39;49m\u001b[38;5;124;43mer\u001b[39;49m\u001b[38;5;124;43m\"\u001b[39;49m\u001b[43m,\u001b[49m\u001b[43m \u001b[49m\u001b[38;5;124;43m\"\u001b[39;49m\u001b[38;5;124;43m\"\u001b[39;49m\u001b[43m,\u001b[49m\u001b[43m \u001b[49m\u001b[43mmeasure_gt_1\u001b[49m\u001b[43m)\u001b[49m\u001b[43m,\u001b[49m\n\u001b[1;32m    580\u001b[0m \u001b[43m        \u001b[49m\u001b[43m(\u001b[49m\u001b[38;5;124;43m\"\u001b[39;49m\u001b[38;5;124;43mic\u001b[39;49m\u001b[38;5;124;43m\"\u001b[39;49m\u001b[43m,\u001b[49m\u001b[43m \u001b[49m\u001b[38;5;124;43m\"\u001b[39;49m\u001b[38;5;124;43m\"\u001b[39;49m\u001b[43m,\u001b[49m\u001b[43m \u001b[49m\u001b[43mmeasure_gt_1\u001b[49m\u001b[43m)\u001b[49m\u001b[43m,\u001b[49m\n\u001b[1;32m    581\u001b[0m \u001b[43m        \u001b[49m\u001b[43m(\u001b[49m\u001b[38;5;124;43m\"\u001b[39;49m\u001b[38;5;124;43mable\u001b[39;49m\u001b[38;5;124;43m\"\u001b[39;49m\u001b[43m,\u001b[49m\u001b[43m \u001b[49m\u001b[38;5;124;43m\"\u001b[39;49m\u001b[38;5;124;43m\"\u001b[39;49m\u001b[43m,\u001b[49m\u001b[43m \u001b[49m\u001b[43mmeasure_gt_1\u001b[49m\u001b[43m)\u001b[49m\u001b[43m,\u001b[49m\n\u001b[1;32m    582\u001b[0m \u001b[43m        \u001b[49m\u001b[43m(\u001b[49m\u001b[38;5;124;43m\"\u001b[39;49m\u001b[38;5;124;43mible\u001b[39;49m\u001b[38;5;124;43m\"\u001b[39;49m\u001b[43m,\u001b[49m\u001b[43m \u001b[49m\u001b[38;5;124;43m\"\u001b[39;49m\u001b[38;5;124;43m\"\u001b[39;49m\u001b[43m,\u001b[49m\u001b[43m \u001b[49m\u001b[43mmeasure_gt_1\u001b[49m\u001b[43m)\u001b[49m\u001b[43m,\u001b[49m\n\u001b[1;32m    583\u001b[0m \u001b[43m        \u001b[49m\u001b[43m(\u001b[49m\u001b[38;5;124;43m\"\u001b[39;49m\u001b[38;5;124;43mant\u001b[39;49m\u001b[38;5;124;43m\"\u001b[39;49m\u001b[43m,\u001b[49m\u001b[43m \u001b[49m\u001b[38;5;124;43m\"\u001b[39;49m\u001b[38;5;124;43m\"\u001b[39;49m\u001b[43m,\u001b[49m\u001b[43m \u001b[49m\u001b[43mmeasure_gt_1\u001b[49m\u001b[43m)\u001b[49m\u001b[43m,\u001b[49m\n\u001b[1;32m    584\u001b[0m \u001b[43m        \u001b[49m\u001b[43m(\u001b[49m\u001b[38;5;124;43m\"\u001b[39;49m\u001b[38;5;124;43mement\u001b[39;49m\u001b[38;5;124;43m\"\u001b[39;49m\u001b[43m,\u001b[49m\u001b[43m \u001b[49m\u001b[38;5;124;43m\"\u001b[39;49m\u001b[38;5;124;43m\"\u001b[39;49m\u001b[43m,\u001b[49m\u001b[43m \u001b[49m\u001b[43mmeasure_gt_1\u001b[49m\u001b[43m)\u001b[49m\u001b[43m,\u001b[49m\n\u001b[1;32m    585\u001b[0m \u001b[43m        \u001b[49m\u001b[43m(\u001b[49m\u001b[38;5;124;43m\"\u001b[39;49m\u001b[38;5;124;43mment\u001b[39;49m\u001b[38;5;124;43m\"\u001b[39;49m\u001b[43m,\u001b[49m\u001b[43m \u001b[49m\u001b[38;5;124;43m\"\u001b[39;49m\u001b[38;5;124;43m\"\u001b[39;49m\u001b[43m,\u001b[49m\u001b[43m \u001b[49m\u001b[43mmeasure_gt_1\u001b[49m\u001b[43m)\u001b[49m\u001b[43m,\u001b[49m\n\u001b[1;32m    586\u001b[0m \u001b[43m        \u001b[49m\u001b[43m(\u001b[49m\u001b[38;5;124;43m\"\u001b[39;49m\u001b[38;5;124;43ment\u001b[39;49m\u001b[38;5;124;43m\"\u001b[39;49m\u001b[43m,\u001b[49m\u001b[43m \u001b[49m\u001b[38;5;124;43m\"\u001b[39;49m\u001b[38;5;124;43m\"\u001b[39;49m\u001b[43m,\u001b[49m\u001b[43m \u001b[49m\u001b[43mmeasure_gt_1\u001b[49m\u001b[43m)\u001b[49m\u001b[43m,\u001b[49m\n\u001b[1;32m    587\u001b[0m \u001b[43m        \u001b[49m\u001b[38;5;66;43;03m# (m>1 and (*S or *T)) ION ->\u001b[39;49;00m\n\u001b[1;32m    588\u001b[0m \u001b[43m        \u001b[49m\u001b[43m(\u001b[49m\n\u001b[1;32m    589\u001b[0m \u001b[43m            \u001b[49m\u001b[38;5;124;43m\"\u001b[39;49m\u001b[38;5;124;43mion\u001b[39;49m\u001b[38;5;124;43m\"\u001b[39;49m\u001b[43m,\u001b[49m\n\u001b[1;32m    590\u001b[0m \u001b[43m            \u001b[49m\u001b[38;5;124;43m\"\u001b[39;49m\u001b[38;5;124;43m\"\u001b[39;49m\u001b[43m,\u001b[49m\n\u001b[1;32m    591\u001b[0m \u001b[43m            \u001b[49m\u001b[38;5;28;43;01mlambda\u001b[39;49;00m\u001b[43m \u001b[49m\u001b[43mstem\u001b[49m\u001b[43m:\u001b[49m\u001b[43m \u001b[49m\u001b[38;5;28;43mself\u001b[39;49m\u001b[38;5;241;43m.\u001b[39;49m\u001b[43m_measure\u001b[49m\u001b[43m(\u001b[49m\u001b[43mstem\u001b[49m\u001b[43m)\u001b[49m\u001b[43m \u001b[49m\u001b[38;5;241;43m>\u001b[39;49m\u001b[43m \u001b[49m\u001b[38;5;241;43m1\u001b[39;49m\u001b[43m \u001b[49m\u001b[38;5;129;43;01mand\u001b[39;49;00m\u001b[43m \u001b[49m\u001b[43mstem\u001b[49m\u001b[43m[\u001b[49m\u001b[38;5;241;43m-\u001b[39;49m\u001b[38;5;241;43m1\u001b[39;49m\u001b[43m]\u001b[49m\u001b[43m \u001b[49m\u001b[38;5;129;43;01min\u001b[39;49;00m\u001b[43m \u001b[49m\u001b[43m(\u001b[49m\u001b[38;5;124;43m\"\u001b[39;49m\u001b[38;5;124;43ms\u001b[39;49m\u001b[38;5;124;43m\"\u001b[39;49m\u001b[43m,\u001b[49m\u001b[43m \u001b[49m\u001b[38;5;124;43m\"\u001b[39;49m\u001b[38;5;124;43mt\u001b[39;49m\u001b[38;5;124;43m\"\u001b[39;49m\u001b[43m)\u001b[49m\u001b[43m,\u001b[49m\n\u001b[1;32m    592\u001b[0m \u001b[43m        \u001b[49m\u001b[43m)\u001b[49m\u001b[43m,\u001b[49m\n\u001b[1;32m    593\u001b[0m \u001b[43m        \u001b[49m\u001b[43m(\u001b[49m\u001b[38;5;124;43m\"\u001b[39;49m\u001b[38;5;124;43mou\u001b[39;49m\u001b[38;5;124;43m\"\u001b[39;49m\u001b[43m,\u001b[49m\u001b[43m \u001b[49m\u001b[38;5;124;43m\"\u001b[39;49m\u001b[38;5;124;43m\"\u001b[39;49m\u001b[43m,\u001b[49m\u001b[43m \u001b[49m\u001b[43mmeasure_gt_1\u001b[49m\u001b[43m)\u001b[49m\u001b[43m,\u001b[49m\n\u001b[1;32m    594\u001b[0m \u001b[43m        \u001b[49m\u001b[43m(\u001b[49m\u001b[38;5;124;43m\"\u001b[39;49m\u001b[38;5;124;43mism\u001b[39;49m\u001b[38;5;124;43m\"\u001b[39;49m\u001b[43m,\u001b[49m\u001b[43m \u001b[49m\u001b[38;5;124;43m\"\u001b[39;49m\u001b[38;5;124;43m\"\u001b[39;49m\u001b[43m,\u001b[49m\u001b[43m \u001b[49m\u001b[43mmeasure_gt_1\u001b[49m\u001b[43m)\u001b[49m\u001b[43m,\u001b[49m\n\u001b[1;32m    595\u001b[0m \u001b[43m        \u001b[49m\u001b[43m(\u001b[49m\u001b[38;5;124;43m\"\u001b[39;49m\u001b[38;5;124;43mate\u001b[39;49m\u001b[38;5;124;43m\"\u001b[39;49m\u001b[43m,\u001b[49m\u001b[43m \u001b[49m\u001b[38;5;124;43m\"\u001b[39;49m\u001b[38;5;124;43m\"\u001b[39;49m\u001b[43m,\u001b[49m\u001b[43m \u001b[49m\u001b[43mmeasure_gt_1\u001b[49m\u001b[43m)\u001b[49m\u001b[43m,\u001b[49m\n\u001b[1;32m    596\u001b[0m \u001b[43m        \u001b[49m\u001b[43m(\u001b[49m\u001b[38;5;124;43m\"\u001b[39;49m\u001b[38;5;124;43miti\u001b[39;49m\u001b[38;5;124;43m\"\u001b[39;49m\u001b[43m,\u001b[49m\u001b[43m \u001b[49m\u001b[38;5;124;43m\"\u001b[39;49m\u001b[38;5;124;43m\"\u001b[39;49m\u001b[43m,\u001b[49m\u001b[43m \u001b[49m\u001b[43mmeasure_gt_1\u001b[49m\u001b[43m)\u001b[49m\u001b[43m,\u001b[49m\n\u001b[1;32m    597\u001b[0m \u001b[43m        \u001b[49m\u001b[43m(\u001b[49m\u001b[38;5;124;43m\"\u001b[39;49m\u001b[38;5;124;43mous\u001b[39;49m\u001b[38;5;124;43m\"\u001b[39;49m\u001b[43m,\u001b[49m\u001b[43m \u001b[49m\u001b[38;5;124;43m\"\u001b[39;49m\u001b[38;5;124;43m\"\u001b[39;49m\u001b[43m,\u001b[49m\u001b[43m \u001b[49m\u001b[43mmeasure_gt_1\u001b[49m\u001b[43m)\u001b[49m\u001b[43m,\u001b[49m\n\u001b[1;32m    598\u001b[0m \u001b[43m        \u001b[49m\u001b[43m(\u001b[49m\u001b[38;5;124;43m\"\u001b[39;49m\u001b[38;5;124;43mive\u001b[39;49m\u001b[38;5;124;43m\"\u001b[39;49m\u001b[43m,\u001b[49m\u001b[43m \u001b[49m\u001b[38;5;124;43m\"\u001b[39;49m\u001b[38;5;124;43m\"\u001b[39;49m\u001b[43m,\u001b[49m\u001b[43m \u001b[49m\u001b[43mmeasure_gt_1\u001b[49m\u001b[43m)\u001b[49m\u001b[43m,\u001b[49m\n\u001b[1;32m    599\u001b[0m \u001b[43m        \u001b[49m\u001b[43m(\u001b[49m\u001b[38;5;124;43m\"\u001b[39;49m\u001b[38;5;124;43mize\u001b[39;49m\u001b[38;5;124;43m\"\u001b[39;49m\u001b[43m,\u001b[49m\u001b[43m \u001b[49m\u001b[38;5;124;43m\"\u001b[39;49m\u001b[38;5;124;43m\"\u001b[39;49m\u001b[43m,\u001b[49m\u001b[43m \u001b[49m\u001b[43mmeasure_gt_1\u001b[49m\u001b[43m)\u001b[49m\u001b[43m,\u001b[49m\n\u001b[1;32m    600\u001b[0m \u001b[43m    \u001b[49m\u001b[43m]\u001b[49m\u001b[43m,\u001b[49m\n\u001b[1;32m    601\u001b[0m \u001b[43m\u001b[49m\u001b[43m)\u001b[49m\n",
      "File \u001b[0;32m~/miniconda3/envs/nlp/lib/python3.10/site-packages/nltk/stem/porter.py:266\u001b[0m, in \u001b[0;36mPorterStemmer._apply_rule_list\u001b[0;34m(self, word, rules)\u001b[0m\n\u001b[1;32m    263\u001b[0m     \u001b[38;5;28;01melse\u001b[39;00m:\n\u001b[1;32m    264\u001b[0m         \u001b[38;5;66;03m# Don't try any further rules\u001b[39;00m\n\u001b[1;32m    265\u001b[0m         \u001b[38;5;28;01mreturn\u001b[39;00m word\n\u001b[0;32m--> 266\u001b[0m \u001b[38;5;28;01mif\u001b[39;00m word\u001b[38;5;241m.\u001b[39mendswith(suffix):\n\u001b[1;32m    267\u001b[0m     stem \u001b[38;5;241m=\u001b[39m \u001b[38;5;28mself\u001b[39m\u001b[38;5;241m.\u001b[39m_replace_suffix(word, suffix, \u001b[38;5;124m\"\u001b[39m\u001b[38;5;124m\"\u001b[39m)\n\u001b[1;32m    268\u001b[0m     \u001b[38;5;28;01mif\u001b[39;00m condition \u001b[38;5;129;01mis\u001b[39;00m \u001b[38;5;28;01mNone\u001b[39;00m \u001b[38;5;129;01mor\u001b[39;00m condition(stem):\n",
      "\u001b[0;31mKeyboardInterrupt\u001b[0m: "
     ]
    }
   ],
   "source": [
    "# Best PromptRank\n",
    "#                                            45.51% \t8.58% \t12.06% \t14.91%\n",
    "#\n",
    "#                                          \tnDCG \tF1_5 \tF1_10 \tF1_15\n",
    "# alpha = 0.86 , softmax                     53.97% \t12.90% \t20.79% \t25.27%\n",
    "# alpha = 0.86 , N / 14  -                   53.82% \t12.60% \t21.22% \t25.26%  \n",
    "# alpha = 0.11 log(N)                        55.48% \t14.51% \t22.35% \t25.45%\n",
    "# alpha = 0.118 log(N)                       55.69% \t14.78% \t22.35% \t25.45%\n",
    "# alpha = 0.13  log(N)                       55.19% \t14.51% \t21.89% \t25.64%\n",
    "#                      Geary C\n",
    "\n",
    "for alpha in list(np.linspace(2, 10, 10)):\n",
    "    print(f\"alpha = {alpha}\")\n",
    "    performance(local_rank(results, alpha, None,  None),  PorterStemmer(), True)  \n",
    "# performance(local_rank(results, 0.1, None,  None),  PorterStemmer(), True)\n",
    "# 55.69% \t14.78% \t22.35% \t25.45%\n",
    "# 55.69% \t15.05% \t22.35% \t25.45%"
   ]
  },
  {
   "cell_type": "markdown",
   "metadata": {},
   "source": [
    "### Final Score Function"
   ]
  },
  {
   "cell_type": "code",
   "execution_count": 35,
   "metadata": {},
   "outputs": [],
   "source": [
    "# from scipy.special import softmax\n",
    "\n",
    "def local_rank(geo_association_results, alpha, beta, gamma):\n",
    "        final_score = pd.DataFrame().reindex_like(geo_association_results)\n",
    "\n",
    "        #\n",
    "        if alpha is not None:\n",
    "            # final_score[\"score\"] = geo_association_results[\"semantic_score\"] * np.log((1 - geo_association_results[\"moran_i\"]) ** alpha)\n",
    "            # score for N\n",
    "            \n",
    "            # final_score[\"N_2\"] = geo_association_results.groupby('topic')['N'].transform(softmax)\n",
    "                   #final_score[\"N_2\"] = geo_association_results['N'].transform(softmax)\n",
    "            # final_score[\"score\"] = geo_association_results[\"semantic_score\"] + alpha*final_score[\"N_2\"]\n",
    "            final_score[\"score\"] = geo_association_results[\"semantic_score\"] + alpha*geo_association_results[\"N\"].transform(math.log)\n",
    "            \n",
    "            # final_score[\"score\"] = geo_association_results[\"semantic_score\"] + alpha*geo_association_results[\"geary_c\"].transform(math.log)\n",
    "            # final_score[\"score\"] = geo_association_results[\"semantic_score\"] + alpha*geo_association_results[\"moran_i\"] #+ 0.118*np.log(geo_association_results[\"N\"])\n",
    "            # final_score[\"score\"] = geo_association_results[\"semantic_score\"] + alpha*np.log(np.abs(geo_association_results[\"geary_c\"]  - 0.7)) # + 0.1188*geo_association_results[\"N\"].transform(math.log)\n",
    "            # final_score[\"score\"] = geo_association_results[\"semantic_score\"] + geo_association_results[\"moran_i\"] * alpha\n",
    "        else:\n",
    "            final_score[\"score\"] = geo_association_results[\"semantic_score\"]\n",
    "\n",
    "        # final_score[\"N_2\"].plot.hist()\n",
    "        # final_score[\"score\"].plot.hist()\n",
    "        \n",
    "        # final_score[\"score\"] = geo_association_results[\"semantic_score\"] - np.log(geo_association_results[\"geary_c\"] ** (alpha))\n",
    "        # final_score[\"score\"] = geo_association_results[\"semantic_score\"] - np.log(geo_association_results[\"geary_c\"] ** (alpha))\n",
    "        # final_score[\"score\"] = 0.33*geo_association_results['semantic_score'] - 0.02*geo_association_results[\"moran_i\"] + 0.07*geo_association_results[\"N\"]\n",
    "        # final_score[\"score\"] = alpha*np.exp(geo_association_results['semantic_score']) + beta*geo_association_results[\"moran_i\"] + gamma*geo_association_results[\"N\"]/14\n",
    "        rankings = {}\n",
    "        for dataset in [\"dataset\"]:\n",
    "            for topic in sorted(final_score.index.get_level_values(0).unique()):\n",
    "                top_n_scores = sorted(\n",
    "                    list(final_score.loc[topic][\"score\"].items()),\n",
    "                    key=itemgetter(1),\n",
    "                    reverse=True,\n",
    "                )\n",
    "                candidates = final_score.loc[topic].index.to_list()\n",
    "                rankings.setdefault(dataset, []).append((top_n_scores, candidates))\n",
    "\n",
    "        return rankings\n"
   ]
  },
  {
   "cell_type": "code",
   "execution_count": 141,
   "metadata": {},
   "outputs": [
    {
     "ename": "KeyError",
     "evalue": "'N_2'",
     "output_type": "error",
     "traceback": [
      "\u001b[0;31m---------------------------------------------------------------------------\u001b[0m",
      "\u001b[0;31mKeyError\u001b[0m                                  Traceback (most recent call last)",
      "File \u001b[0;32m~/miniconda3/envs/nlp/lib/python3.10/site-packages/pandas/core/indexes/base.py:3652\u001b[0m, in \u001b[0;36mIndex.get_loc\u001b[0;34m(self, key)\u001b[0m\n\u001b[1;32m   3651\u001b[0m \u001b[38;5;28;01mtry\u001b[39;00m:\n\u001b[0;32m-> 3652\u001b[0m     \u001b[38;5;28;01mreturn\u001b[39;00m \u001b[38;5;28;43mself\u001b[39;49m\u001b[38;5;241;43m.\u001b[39;49m\u001b[43m_engine\u001b[49m\u001b[38;5;241;43m.\u001b[39;49m\u001b[43mget_loc\u001b[49m\u001b[43m(\u001b[49m\u001b[43mcasted_key\u001b[49m\u001b[43m)\u001b[49m\n\u001b[1;32m   3653\u001b[0m \u001b[38;5;28;01mexcept\u001b[39;00m \u001b[38;5;167;01mKeyError\u001b[39;00m \u001b[38;5;28;01mas\u001b[39;00m err:\n",
      "File \u001b[0;32m~/miniconda3/envs/nlp/lib/python3.10/site-packages/pandas/_libs/index.pyx:147\u001b[0m, in \u001b[0;36mpandas._libs.index.IndexEngine.get_loc\u001b[0;34m()\u001b[0m\n",
      "File \u001b[0;32m~/miniconda3/envs/nlp/lib/python3.10/site-packages/pandas/_libs/index.pyx:176\u001b[0m, in \u001b[0;36mpandas._libs.index.IndexEngine.get_loc\u001b[0;34m()\u001b[0m\n",
      "File \u001b[0;32mpandas/_libs/hashtable_class_helper.pxi:7080\u001b[0m, in \u001b[0;36mpandas._libs.hashtable.PyObjectHashTable.get_item\u001b[0;34m()\u001b[0m\n",
      "File \u001b[0;32mpandas/_libs/hashtable_class_helper.pxi:7088\u001b[0m, in \u001b[0;36mpandas._libs.hashtable.PyObjectHashTable.get_item\u001b[0;34m()\u001b[0m\n",
      "\u001b[0;31mKeyError\u001b[0m: 'N_2'",
      "\nThe above exception was the direct cause of the following exception:\n",
      "\u001b[0;31mKeyError\u001b[0m                                  Traceback (most recent call last)",
      "Cell \u001b[0;32mIn[141], line 1\u001b[0m\n\u001b[0;32m----> 1\u001b[0m performance(\u001b[43mlocal_rank\u001b[49m\u001b[43m(\u001b[49m\u001b[43mresults\u001b[49m\u001b[43m,\u001b[49m\u001b[43m \u001b[49m\u001b[38;5;28;43;01mNone\u001b[39;49;00m\u001b[43m,\u001b[49m\u001b[43m \u001b[49m\u001b[38;5;28;43;01mNone\u001b[39;49;00m\u001b[43m,\u001b[49m\u001b[43m  \u001b[49m\u001b[38;5;28;43;01mNone\u001b[39;49;00m\u001b[43m)\u001b[49m, \u001b[38;5;28;01mTrue\u001b[39;00m)\n",
      "Cell \u001b[0;32mIn[140], line 17\u001b[0m, in \u001b[0;36mlocal_rank\u001b[0;34m(geo_association_results, alpha, beta, gamma)\u001b[0m\n\u001b[1;32m     13\u001b[0m         \u001b[38;5;66;03m# final_score[\"score\"] = geo_association_results[\"semantic_score\"] + geo_association_results[\"moran_i\"] * alpha\u001b[39;00m\n\u001b[1;32m     14\u001b[0m \u001b[38;5;28;01melse\u001b[39;00m:\n\u001b[1;32m     15\u001b[0m     final_score[\u001b[38;5;124m\"\u001b[39m\u001b[38;5;124mscore\u001b[39m\u001b[38;5;124m\"\u001b[39m] \u001b[38;5;241m=\u001b[39m geo_association_results[\u001b[38;5;124m\"\u001b[39m\u001b[38;5;124msemantic_score\u001b[39m\u001b[38;5;124m\"\u001b[39m]\n\u001b[0;32m---> 17\u001b[0m \u001b[43mfinal_score\u001b[49m\u001b[43m[\u001b[49m\u001b[38;5;124;43m\"\u001b[39;49m\u001b[38;5;124;43mN_2\u001b[39;49m\u001b[38;5;124;43m\"\u001b[39;49m\u001b[43m]\u001b[49m\u001b[38;5;241m.\u001b[39mplot\u001b[38;5;241m.\u001b[39mhist()\n\u001b[1;32m     18\u001b[0m \u001b[38;5;66;03m# final_score[\"score\"] = geo_association_results[\"semantic_score\"] - np.log(geo_association_results[\"geary_c\"] ** (alpha))\u001b[39;00m\n\u001b[1;32m     19\u001b[0m \u001b[38;5;66;03m# final_score[\"score\"] = geo_association_results[\"semantic_score\"] - np.log(geo_association_results[\"geary_c\"] ** (alpha))\u001b[39;00m\n\u001b[1;32m     20\u001b[0m \u001b[38;5;66;03m# final_score[\"score\"] = 0.33*geo_association_results['semantic_score'] - 0.02*geo_association_results[\"moran_i\"] + 0.07*geo_association_results[\"N\"]\u001b[39;00m\n\u001b[1;32m     21\u001b[0m \u001b[38;5;66;03m# final_score[\"score\"] = alpha*np.exp(geo_association_results['semantic_score']) + beta*geo_association_results[\"moran_i\"] + gamma*geo_association_results[\"N\"]/14\u001b[39;00m\n\u001b[1;32m     22\u001b[0m rankings \u001b[38;5;241m=\u001b[39m {}\n",
      "File \u001b[0;32m~/miniconda3/envs/nlp/lib/python3.10/site-packages/pandas/core/frame.py:3761\u001b[0m, in \u001b[0;36mDataFrame.__getitem__\u001b[0;34m(self, key)\u001b[0m\n\u001b[1;32m   3759\u001b[0m \u001b[38;5;28;01mif\u001b[39;00m \u001b[38;5;28mself\u001b[39m\u001b[38;5;241m.\u001b[39mcolumns\u001b[38;5;241m.\u001b[39mnlevels \u001b[38;5;241m>\u001b[39m \u001b[38;5;241m1\u001b[39m:\n\u001b[1;32m   3760\u001b[0m     \u001b[38;5;28;01mreturn\u001b[39;00m \u001b[38;5;28mself\u001b[39m\u001b[38;5;241m.\u001b[39m_getitem_multilevel(key)\n\u001b[0;32m-> 3761\u001b[0m indexer \u001b[38;5;241m=\u001b[39m \u001b[38;5;28;43mself\u001b[39;49m\u001b[38;5;241;43m.\u001b[39;49m\u001b[43mcolumns\u001b[49m\u001b[38;5;241;43m.\u001b[39;49m\u001b[43mget_loc\u001b[49m\u001b[43m(\u001b[49m\u001b[43mkey\u001b[49m\u001b[43m)\u001b[49m\n\u001b[1;32m   3762\u001b[0m \u001b[38;5;28;01mif\u001b[39;00m is_integer(indexer):\n\u001b[1;32m   3763\u001b[0m     indexer \u001b[38;5;241m=\u001b[39m [indexer]\n",
      "File \u001b[0;32m~/miniconda3/envs/nlp/lib/python3.10/site-packages/pandas/core/indexes/base.py:3654\u001b[0m, in \u001b[0;36mIndex.get_loc\u001b[0;34m(self, key)\u001b[0m\n\u001b[1;32m   3652\u001b[0m     \u001b[38;5;28;01mreturn\u001b[39;00m \u001b[38;5;28mself\u001b[39m\u001b[38;5;241m.\u001b[39m_engine\u001b[38;5;241m.\u001b[39mget_loc(casted_key)\n\u001b[1;32m   3653\u001b[0m \u001b[38;5;28;01mexcept\u001b[39;00m \u001b[38;5;167;01mKeyError\u001b[39;00m \u001b[38;5;28;01mas\u001b[39;00m err:\n\u001b[0;32m-> 3654\u001b[0m     \u001b[38;5;28;01mraise\u001b[39;00m \u001b[38;5;167;01mKeyError\u001b[39;00m(key) \u001b[38;5;28;01mfrom\u001b[39;00m \u001b[38;5;21;01merr\u001b[39;00m\n\u001b[1;32m   3655\u001b[0m \u001b[38;5;28;01mexcept\u001b[39;00m \u001b[38;5;167;01mTypeError\u001b[39;00m:\n\u001b[1;32m   3656\u001b[0m     \u001b[38;5;66;03m# If we have a listlike key, _check_indexing_error will raise\u001b[39;00m\n\u001b[1;32m   3657\u001b[0m     \u001b[38;5;66;03m#  InvalidIndexError. Otherwise we fall through and re-raise\u001b[39;00m\n\u001b[1;32m   3658\u001b[0m     \u001b[38;5;66;03m#  the TypeError.\u001b[39;00m\n\u001b[1;32m   3659\u001b[0m     \u001b[38;5;28mself\u001b[39m\u001b[38;5;241m.\u001b[39m_check_indexing_error(key)\n",
      "\u001b[0;31mKeyError\u001b[0m: 'N_2'"
     ]
    }
   ],
   "source": [
    "performance(local_rank(results, None, None,  None), True)"
   ]
  },
  {
   "cell_type": "code",
   "execution_count": 65,
   "metadata": {},
   "outputs": [
    {
     "data": {
      "text/html": [
       "<style type=\"text/css\">\n",
       "</style>\n",
       "<table id=\"T_dfc7c\">\n",
       "  <thead>\n",
       "    <tr>\n",
       "      <th class=\"blank level0\" >&nbsp;</th>\n",
       "      <th id=\"T_dfc7c_level0_col0\" class=\"col_heading level0 col0\" >nDCG</th>\n",
       "      <th id=\"T_dfc7c_level0_col1\" class=\"col_heading level0 col1\" >F1_5</th>\n",
       "      <th id=\"T_dfc7c_level0_col2\" class=\"col_heading level0 col2\" >F1_10</th>\n",
       "      <th id=\"T_dfc7c_level0_col3\" class=\"col_heading level0 col3\" >F1_15</th>\n",
       "    </tr>\n",
       "  </thead>\n",
       "  <tbody>\n",
       "    <tr>\n",
       "      <th id=\"T_dfc7c_level0_row0\" class=\"row_heading level0 row0\" >dataset_base_eval</th>\n",
       "      <td id=\"T_dfc7c_row0_col0\" class=\"data row0 col0\" >59.77%</td>\n",
       "      <td id=\"T_dfc7c_row0_col1\" class=\"data row0 col1\" >6.81%</td>\n",
       "      <td id=\"T_dfc7c_row0_col2\" class=\"data row0 col2\" >11.18%</td>\n",
       "      <td id=\"T_dfc7c_row0_col3\" class=\"data row0 col3\" >14.99%</td>\n",
       "    </tr>\n",
       "  </tbody>\n",
       "</table>\n"
      ],
      "text/plain": [
       "<pandas.io.formats.style.Styler at 0x7fe49fbd2b30>"
      ]
     },
     "metadata": {},
     "output_type": "display_data"
    },
    {
     "data": {
      "text/plain": [
       "0.14988274512307395"
      ]
     },
     "execution_count": 65,
     "metadata": {},
     "output_type": "execute_result"
    }
   ],
   "source": [
    "performance(local_rank(r, 2, None,  None), True)"
   ]
  },
  {
   "cell_type": "code",
   "execution_count": 394,
   "metadata": {},
   "outputs": [
    {
     "data": {
      "text/html": [
       "<style type=\"text/css\">\n",
       "</style>\n",
       "<table id=\"T_1d015\">\n",
       "  <thead>\n",
       "    <tr>\n",
       "      <th class=\"blank level0\" >&nbsp;</th>\n",
       "      <th id=\"T_1d015_level0_col0\" class=\"col_heading level0 col0\" >Recall</th>\n",
       "      <th id=\"T_1d015_level0_col1\" class=\"col_heading level0 col1\" >nDCG</th>\n",
       "      <th id=\"T_1d015_level0_col2\" class=\"col_heading level0 col2\" >F1_5</th>\n",
       "      <th id=\"T_1d015_level0_col3\" class=\"col_heading level0 col3\" >F1_10</th>\n",
       "      <th id=\"T_1d015_level0_col4\" class=\"col_heading level0 col4\" >F1_15</th>\n",
       "    </tr>\n",
       "  </thead>\n",
       "  <tbody>\n",
       "    <tr>\n",
       "      <th id=\"T_1d015_level0_row0\" class=\"row_heading level0 row0\" >dataset_base_eval</th>\n",
       "      <td id=\"T_1d015_row0_col0\" class=\"data row0 col0\" >90.33%</td>\n",
       "      <td id=\"T_1d015_row0_col1\" class=\"data row0 col1\" >49.82%</td>\n",
       "      <td id=\"T_1d015_row0_col2\" class=\"data row0 col2\" >3.49%</td>\n",
       "      <td id=\"T_1d015_row0_col3\" class=\"data row0 col3\" >6.09%</td>\n",
       "      <td id=\"T_1d015_row0_col4\" class=\"data row0 col4\" >7.12%</td>\n",
       "    </tr>\n",
       "  </tbody>\n",
       "</table>\n"
      ],
      "text/plain": [
       "<pandas.io.formats.style.Styler at 0x7f60dc33ba00>"
      ]
     },
     "metadata": {},
     "output_type": "display_data"
    },
    {
     "data": {
      "text/plain": [
       "0.07123055587712232"
      ]
     },
     "execution_count": 394,
     "metadata": {},
     "output_type": "execute_result"
    }
   ],
   "source": [
    "performance(local_rank(results, 51.46738654, 1029.18641968,   96.89047523), True)"
   ]
  },
  {
   "cell_type": "code",
   "execution_count": 365,
   "metadata": {},
   "outputs": [
    {
     "data": {
      "text/html": [
       "<style type=\"text/css\">\n",
       "</style>\n",
       "<table id=\"T_6d7fd\">\n",
       "  <thead>\n",
       "    <tr>\n",
       "      <th class=\"blank level0\" >&nbsp;</th>\n",
       "      <th id=\"T_6d7fd_level0_col0\" class=\"col_heading level0 col0\" >Recall</th>\n",
       "      <th id=\"T_6d7fd_level0_col1\" class=\"col_heading level0 col1\" >nDCG</th>\n",
       "      <th id=\"T_6d7fd_level0_col2\" class=\"col_heading level0 col2\" >F1_5</th>\n",
       "      <th id=\"T_6d7fd_level0_col3\" class=\"col_heading level0 col3\" >F1_10</th>\n",
       "      <th id=\"T_6d7fd_level0_col4\" class=\"col_heading level0 col4\" >F1_15</th>\n",
       "    </tr>\n",
       "  </thead>\n",
       "  <tbody>\n",
       "    <tr>\n",
       "      <th id=\"T_6d7fd_level0_row0\" class=\"row_heading level0 row0\" >dataset_base_eval</th>\n",
       "      <td id=\"T_6d7fd_row0_col0\" class=\"data row0 col0\" >90.33%</td>\n",
       "      <td id=\"T_6d7fd_row0_col1\" class=\"data row0 col1\" >65.55%</td>\n",
       "      <td id=\"T_6d7fd_row0_col2\" class=\"data row0 col2\" >8.87%</td>\n",
       "      <td id=\"T_6d7fd_row0_col3\" class=\"data row0 col3\" >14.73%</td>\n",
       "      <td id=\"T_6d7fd_row0_col4\" class=\"data row0 col4\" >19.98%</td>\n",
       "    </tr>\n",
       "  </tbody>\n",
       "</table>\n"
      ],
      "text/plain": [
       "<pandas.io.formats.style.Styler at 0x7f60cbefcdc0>"
      ]
     },
     "metadata": {},
     "output_type": "display_data"
    },
    {
     "data": {
      "text/html": [
       "<style type=\"text/css\">\n",
       "</style>\n",
       "<table id=\"T_ff8e1\">\n",
       "  <thead>\n",
       "    <tr>\n",
       "      <th class=\"blank level0\" >&nbsp;</th>\n",
       "      <th id=\"T_ff8e1_level0_col0\" class=\"col_heading level0 col0\" >Recall</th>\n",
       "      <th id=\"T_ff8e1_level0_col1\" class=\"col_heading level0 col1\" >nDCG</th>\n",
       "      <th id=\"T_ff8e1_level0_col2\" class=\"col_heading level0 col2\" >F1_5</th>\n",
       "      <th id=\"T_ff8e1_level0_col3\" class=\"col_heading level0 col3\" >F1_10</th>\n",
       "      <th id=\"T_ff8e1_level0_col4\" class=\"col_heading level0 col4\" >F1_15</th>\n",
       "    </tr>\n",
       "  </thead>\n",
       "  <tbody>\n",
       "    <tr>\n",
       "      <th id=\"T_ff8e1_level0_row0\" class=\"row_heading level0 row0\" >dataset_base_eval</th>\n",
       "      <td id=\"T_ff8e1_row0_col0\" class=\"data row0 col0\" >90.33%</td>\n",
       "      <td id=\"T_ff8e1_row0_col1\" class=\"data row0 col1\" >56.53%</td>\n",
       "      <td id=\"T_ff8e1_row0_col2\" class=\"data row0 col2\" >4.02%</td>\n",
       "      <td id=\"T_ff8e1_row0_col3\" class=\"data row0 col3\" >6.27%</td>\n",
       "      <td id=\"T_ff8e1_row0_col4\" class=\"data row0 col4\" >9.08%</td>\n",
       "    </tr>\n",
       "  </tbody>\n",
       "</table>\n"
      ],
      "text/plain": [
       "<pandas.io.formats.style.Styler at 0x7f60cbefcdc0>"
      ]
     },
     "metadata": {},
     "output_type": "display_data"
    },
    {
     "data": {
      "text/html": [
       "<style type=\"text/css\">\n",
       "</style>\n",
       "<table id=\"T_5c13a\">\n",
       "  <thead>\n",
       "    <tr>\n",
       "      <th class=\"blank level0\" >&nbsp;</th>\n",
       "      <th id=\"T_5c13a_level0_col0\" class=\"col_heading level0 col0\" >Recall</th>\n",
       "      <th id=\"T_5c13a_level0_col1\" class=\"col_heading level0 col1\" >nDCG</th>\n",
       "      <th id=\"T_5c13a_level0_col2\" class=\"col_heading level0 col2\" >F1_5</th>\n",
       "      <th id=\"T_5c13a_level0_col3\" class=\"col_heading level0 col3\" >F1_10</th>\n",
       "      <th id=\"T_5c13a_level0_col4\" class=\"col_heading level0 col4\" >F1_15</th>\n",
       "    </tr>\n",
       "  </thead>\n",
       "  <tbody>\n",
       "    <tr>\n",
       "      <th id=\"T_5c13a_level0_row0\" class=\"row_heading level0 row0\" >dataset_base_eval</th>\n",
       "      <td id=\"T_5c13a_row0_col0\" class=\"data row0 col0\" >90.33%</td>\n",
       "      <td id=\"T_5c13a_row0_col1\" class=\"data row0 col1\" >47.44%</td>\n",
       "      <td id=\"T_5c13a_row0_col2\" class=\"data row0 col2\" >2.85%</td>\n",
       "      <td id=\"T_5c13a_row0_col3\" class=\"data row0 col3\" >4.27%</td>\n",
       "      <td id=\"T_5c13a_row0_col4\" class=\"data row0 col4\" >5.72%</td>\n",
       "    </tr>\n",
       "  </tbody>\n",
       "</table>\n"
      ],
      "text/plain": [
       "<pandas.io.formats.style.Styler at 0x7f60caf7ae00>"
      ]
     },
     "metadata": {},
     "output_type": "display_data"
    },
    {
     "data": {
      "text/html": [
       "<style type=\"text/css\">\n",
       "</style>\n",
       "<table id=\"T_cb3ee\">\n",
       "  <thead>\n",
       "    <tr>\n",
       "      <th class=\"blank level0\" >&nbsp;</th>\n",
       "      <th id=\"T_cb3ee_level0_col0\" class=\"col_heading level0 col0\" >Recall</th>\n",
       "      <th id=\"T_cb3ee_level0_col1\" class=\"col_heading level0 col1\" >nDCG</th>\n",
       "      <th id=\"T_cb3ee_level0_col2\" class=\"col_heading level0 col2\" >F1_5</th>\n",
       "      <th id=\"T_cb3ee_level0_col3\" class=\"col_heading level0 col3\" >F1_10</th>\n",
       "      <th id=\"T_cb3ee_level0_col4\" class=\"col_heading level0 col4\" >F1_15</th>\n",
       "    </tr>\n",
       "  </thead>\n",
       "  <tbody>\n",
       "    <tr>\n",
       "      <th id=\"T_cb3ee_level0_row0\" class=\"row_heading level0 row0\" >dataset_base_eval</th>\n",
       "      <td id=\"T_cb3ee_row0_col0\" class=\"data row0 col0\" >90.33%</td>\n",
       "      <td id=\"T_cb3ee_row0_col1\" class=\"data row0 col1\" >51.96%</td>\n",
       "      <td id=\"T_cb3ee_row0_col2\" class=\"data row0 col2\" >3.09%</td>\n",
       "      <td id=\"T_cb3ee_row0_col3\" class=\"data row0 col3\" >4.42%</td>\n",
       "      <td id=\"T_cb3ee_row0_col4\" class=\"data row0 col4\" >6.50%</td>\n",
       "    </tr>\n",
       "  </tbody>\n",
       "</table>\n"
      ],
      "text/plain": [
       "<pandas.io.formats.style.Styler at 0x7f60caf62ce0>"
      ]
     },
     "metadata": {},
     "output_type": "display_data"
    },
    {
     "data": {
      "text/plain": [
       "0.06502312911981378"
      ]
     },
     "execution_count": 365,
     "metadata": {},
     "output_type": "execute_result"
    }
   ],
   "source": [
    "performance(local_rank(results, 1, 0, 0), True)\n",
    "performance(local_rank(results, 1, 0, 1), True)\n",
    "performance(local_rank(results, 0, 1, 1), True)\n",
    "performance(local_rank(results, 0, 0, 1), True)"
   ]
  },
  {
   "cell_type": "markdown",
   "metadata": {},
   "source": [
    "# Optimize"
   ]
  },
  {
   "cell_type": "code",
   "execution_count": 392,
   "metadata": {},
   "outputs": [],
   "source": [
    "Xg = (results\n",
    "     .copy()\n",
    "     .assign(semantic_score = lambda df: np.exp(df.semantic_score))\n",
    "     .assign(N= lambda df: df.N/df.N.max())\n",
    "     .loc[results.in_gold, [\"semantic_score\", \"moran_i\", 'N']]\n",
    "    )\n",
    "\n",
    "Xng = (results\n",
    "     .copy()\n",
    "     .assign(semantic_score = lambda df: np.exp(df.semantic_score))\n",
    "     .assign(N= lambda df: df.N/df.N.max())\n",
    "     .loc[~results.in_gold, [\"semantic_score\", \"moran_i\", 'N']]\n",
    "    )"
   ]
  },
  {
   "cell_type": "code",
   "execution_count": 388,
   "metadata": {},
   "outputs": [
    {
     "data": {
      "text/plain": [
       "(1406, 3)"
      ]
     },
     "execution_count": 388,
     "metadata": {},
     "output_type": "execute_result"
    }
   ],
   "source": [
    "X.shape"
   ]
  },
  {
   "cell_type": "code",
   "execution_count": 400,
   "metadata": {},
   "outputs": [
    {
     "data": {
      "text/plain": [
       "array([  54.73448105, 1027.92774501,  103.55355852])"
      ]
     },
     "execution_count": 400,
     "metadata": {},
     "output_type": "execute_result"
    }
   ],
   "source": [
    "from scipy.optimize import minimize\n",
    "\n",
    "initial_B = np.random.rand(X.shape[-1])  # Replace with your initial guess for B\n",
    "\n",
    "# Define the objective function to maximize the L2 norm of X·B\n",
    "def objective_function(B):\n",
    "    return - (np.linalg.norm(np.dot(Xng, B), 2)  -  np.linalg.norm(np.dot(Xg, B), 2))  # Negative since we want to maximize\n",
    "\n",
    "# Define any constraints on B, if necessary\n",
    "# For example, you can set bounds on the elements of B:\n",
    "# constraints = ({'type': 'ineq', 'fun': lambda B: B - lower_bound},\n",
    "#                {'type': 'ineq', 'fun': lambda B: upper_bound - B})\n",
    "\n",
    "# Solve the optimization problem\n",
    "# result = minimize(objective_function, initial_B, constraints=constraints, method='SLSQP')\n",
    "result = minimize(objective_function, initial_B)\n",
    "\n",
    "# The optimal solution B is in result.x\n",
    "optimal_B = result.x\n",
    "optimal_B"
   ]
  },
  {
   "cell_type": "code",
   "execution_count": 404,
   "metadata": {},
   "outputs": [
    {
     "data": {
      "text/plain": [
       "((33127, 3), (1406, 3))"
      ]
     },
     "execution_count": 404,
     "metadata": {},
     "output_type": "execute_result"
    }
   ],
   "source": [
    "Xng.shape, Xg.shape"
   ]
  },
  {
   "cell_type": "code",
   "execution_count": null,
   "metadata": {},
   "outputs": [],
   "source": [
    "performance(local_rank(results, 51.46738654, 1029.18641968,   96.89047523), True)"
   ]
  },
  {
   "cell_type": "code",
   "execution_count": 57,
   "metadata": {},
   "outputs": [
    {
     "data": {
      "text/plain": [
       "-0.2105263157894739"
      ]
     },
     "metadata": {},
     "output_type": "display_data"
    },
    {
     "data": {
      "text/plain": [
       "19.950000000000003"
      ]
     },
     "metadata": {},
     "output_type": "display_data"
    },
    {
     "data": {
      "image/png": "[encoded data removed]",
      "text/plain": [
       "<Figure size 640x480 with 1 Axes>"
      ]
     },
     "metadata": {},
     "output_type": "display_data"
    }
   ],
   "source": [
    "import numpy as np\n",
    "from tqdm import tqdm \n",
    "alphas = list(np.linspace(-4, 4, 20))\n",
    "\n",
    "f1_15 = []\n",
    "\n",
    "for alpha in alphas:\n",
    "    # print(f\"alpha = {alpha}\")\n",
    "    f1_15_measure = performance(local_rank(r, alpha, 0, 0))\n",
    "    f1_15.append(f1_15_measure)\n",
    "\n",
    "display(alphas[f1_15.index(max(f1_15))], round(max(f1_15), 4)*100)\n",
    "plt.plot(alphas, f1_15)\n",
    "plt.show()"
   ]
  },
  {
   "cell_type": "code",
   "execution_count": null,
   "metadata": {},
   "outputs": [],
   "source": []
  },
  {
   "cell_type": "code",
   "execution_count": 336,
   "metadata": {},
   "outputs": [
    {
     "data": {
      "text/plain": [
       "0.02631578947368418"
      ]
     },
     "metadata": {},
     "output_type": "display_data"
    },
    {
     "data": {
      "text/plain": [
       "20.119999999999997"
      ]
     },
     "metadata": {},
     "output_type": "display_data"
    },
    {
     "data": {
      "image/png": "[encoded data removed]",
      "text/plain": [
       "<Figure size 640x480 with 1 Axes>"
      ]
     },
     "metadata": {},
     "output_type": "display_data"
    }
   ],
   "source": [
    "# Geary C\n",
    "\n",
    "import numpy as np\n",
    "from tqdm import tqdm \n",
    "alphas = list(np.linspace(-0.5, 0.5, 20))\n",
    "\n",
    "f1_15 = []\n",
    "\n",
    "for alpha in alphas:\n",
    "    # print(f\"alpha = {alpha}\")\n",
    "    f1_15_measure = performance(local_rank(results, alpha, 0, 0))\n",
    "    f1_15.append(f1_15_measure)\n",
    "\n",
    "display(alphas[f1_15.index(max(f1_15))], round(max(f1_15), 4)*100)\n",
    "plt.plot(alphas, f1_15)\n",
    "plt.show()"
   ]
  },
  {
   "cell_type": "code",
   "execution_count": null,
   "metadata": {},
   "outputs": [],
   "source": []
  },
  {
   "cell_type": "code",
   "execution_count": null,
   "metadata": {},
   "outputs": [],
   "source": []
  },
  {
   "cell_type": "code",
   "execution_count": null,
   "metadata": {},
   "outputs": [],
   "source": []
  },
  {
   "cell_type": "code",
   "execution_count": null,
   "metadata": {},
   "outputs": [],
   "source": []
  },
  {
   "cell_type": "code",
   "execution_count": null,
   "metadata": {},
   "outputs": [],
   "source": []
  },
  {
   "cell_type": "code",
   "execution_count": null,
   "metadata": {},
   "outputs": [],
   "source": []
  },
  {
   "cell_type": "code",
   "execution_count": 294,
   "metadata": {},
   "outputs": [],
   "source": [
    "class GridIterator:\n",
    "    def __init__(self):\n",
    "        self.grid_size = 10\n",
    "        self.current_x = 0\n",
    "        self.current_y = 0\n",
    "        self.current_z = 0\n",
    "\n",
    "    def __iter__(self):\n",
    "        return self\n",
    "\n",
    "    def __next__(self):\n",
    "        if self.current_x == self.grid_size:\n",
    "            raise StopIteration\n",
    "\n",
    "        triplet = (\n",
    "            self.current_x / self.grid_size,\n",
    "            self.current_y / self.grid_size,\n",
    "            self.current_z / self.grid_size\n",
    "        )\n",
    "\n",
    "        self.current_z += 1\n",
    "        if self.current_z == self.grid_size:\n",
    "            self.current_z = 0\n",
    "            self.current_y += 1\n",
    "            if self.current_y == self.grid_size:\n",
    "                self.current_y = 0\n",
    "                self.current_x += 1\n",
    "\n",
    "        if sum(triplet) == 1:\n",
    "            return triplet\n",
    "        else:\n",
    "            return self.__next__()\n",
    "\n",
    "# # Usage\n",
    "# grid_iterator = GridIterator()\n",
    "# for triplet in grid_iterator:\n",
    "#     print(triplet)"
   ]
  },
  {
   "cell_type": "code",
   "execution_count": 348,
   "metadata": {},
   "outputs": [
    {
     "data": {
      "text/plain": [
       "(0.0, 0.1, 0.9)"
      ]
     },
     "metadata": {},
     "output_type": "display_data"
    },
    {
     "data": {
      "text/html": [
       "<style type=\"text/css\">\n",
       "</style>\n",
       "<table id=\"T_d036b\">\n",
       "  <thead>\n",
       "    <tr>\n",
       "      <th class=\"blank level0\" >&nbsp;</th>\n",
       "      <th id=\"T_d036b_level0_col0\" class=\"col_heading level0 col0\" >Recall</th>\n",
       "      <th id=\"T_d036b_level0_col1\" class=\"col_heading level0 col1\" >nDCG</th>\n",
       "      <th id=\"T_d036b_level0_col2\" class=\"col_heading level0 col2\" >F1_5</th>\n",
       "      <th id=\"T_d036b_level0_col3\" class=\"col_heading level0 col3\" >F1_10</th>\n",
       "      <th id=\"T_d036b_level0_col4\" class=\"col_heading level0 col4\" >F1_15</th>\n",
       "    </tr>\n",
       "  </thead>\n",
       "  <tbody>\n",
       "    <tr>\n",
       "      <th id=\"T_d036b_level0_row0\" class=\"row_heading level0 row0\" >dataset_base_eval</th>\n",
       "      <td id=\"T_d036b_row0_col0\" class=\"data row0 col0\" >90.33%</td>\n",
       "      <td id=\"T_d036b_row0_col1\" class=\"data row0 col1\" >65.55%</td>\n",
       "      <td id=\"T_d036b_row0_col2\" class=\"data row0 col2\" >8.87%</td>\n",
       "      <td id=\"T_d036b_row0_col3\" class=\"data row0 col3\" >14.73%</td>\n",
       "      <td id=\"T_d036b_row0_col4\" class=\"data row0 col4\" >19.98%</td>\n",
       "    </tr>\n",
       "  </tbody>\n",
       "</table>\n"
      ],
      "text/plain": [
       "<pandas.io.formats.style.Styler at 0x7f60c93e2b30>"
      ]
     },
     "metadata": {},
     "output_type": "display_data"
    },
    {
     "data": {
      "text/plain": [
       "(0.0, 0.2, 0.8)"
      ]
     },
     "metadata": {},
     "output_type": "display_data"
    },
    {
     "data": {
      "text/html": [
       "<style type=\"text/css\">\n",
       "</style>\n",
       "<table id=\"T_22440\">\n",
       "  <thead>\n",
       "    <tr>\n",
       "      <th class=\"blank level0\" >&nbsp;</th>\n",
       "      <th id=\"T_22440_level0_col0\" class=\"col_heading level0 col0\" >Recall</th>\n",
       "      <th id=\"T_22440_level0_col1\" class=\"col_heading level0 col1\" >nDCG</th>\n",
       "      <th id=\"T_22440_level0_col2\" class=\"col_heading level0 col2\" >F1_5</th>\n",
       "      <th id=\"T_22440_level0_col3\" class=\"col_heading level0 col3\" >F1_10</th>\n",
       "      <th id=\"T_22440_level0_col4\" class=\"col_heading level0 col4\" >F1_15</th>\n",
       "    </tr>\n",
       "  </thead>\n",
       "  <tbody>\n",
       "    <tr>\n",
       "      <th id=\"T_22440_level0_row0\" class=\"row_heading level0 row0\" >dataset_base_eval</th>\n",
       "      <td id=\"T_22440_row0_col0\" class=\"data row0 col0\" >90.33%</td>\n",
       "      <td id=\"T_22440_row0_col1\" class=\"data row0 col1\" >65.55%</td>\n",
       "      <td id=\"T_22440_row0_col2\" class=\"data row0 col2\" >8.87%</td>\n",
       "      <td id=\"T_22440_row0_col3\" class=\"data row0 col3\" >14.73%</td>\n",
       "      <td id=\"T_22440_row0_col4\" class=\"data row0 col4\" >19.98%</td>\n",
       "    </tr>\n",
       "  </tbody>\n",
       "</table>\n"
      ],
      "text/plain": [
       "<pandas.io.formats.style.Styler at 0x7f60c93e2b30>"
      ]
     },
     "metadata": {},
     "output_type": "display_data"
    },
    {
     "data": {
      "text/plain": [
       "(0.0, 0.3, 0.7)"
      ]
     },
     "metadata": {},
     "output_type": "display_data"
    },
    {
     "data": {
      "text/html": [
       "<style type=\"text/css\">\n",
       "</style>\n",
       "<table id=\"T_0839d\">\n",
       "  <thead>\n",
       "    <tr>\n",
       "      <th class=\"blank level0\" >&nbsp;</th>\n",
       "      <th id=\"T_0839d_level0_col0\" class=\"col_heading level0 col0\" >Recall</th>\n",
       "      <th id=\"T_0839d_level0_col1\" class=\"col_heading level0 col1\" >nDCG</th>\n",
       "      <th id=\"T_0839d_level0_col2\" class=\"col_heading level0 col2\" >F1_5</th>\n",
       "      <th id=\"T_0839d_level0_col3\" class=\"col_heading level0 col3\" >F1_10</th>\n",
       "      <th id=\"T_0839d_level0_col4\" class=\"col_heading level0 col4\" >F1_15</th>\n",
       "    </tr>\n",
       "  </thead>\n",
       "  <tbody>\n",
       "    <tr>\n",
       "      <th id=\"T_0839d_level0_row0\" class=\"row_heading level0 row0\" >dataset_base_eval</th>\n",
       "      <td id=\"T_0839d_row0_col0\" class=\"data row0 col0\" >90.33%</td>\n",
       "      <td id=\"T_0839d_row0_col1\" class=\"data row0 col1\" >65.55%</td>\n",
       "      <td id=\"T_0839d_row0_col2\" class=\"data row0 col2\" >8.87%</td>\n",
       "      <td id=\"T_0839d_row0_col3\" class=\"data row0 col3\" >14.73%</td>\n",
       "      <td id=\"T_0839d_row0_col4\" class=\"data row0 col4\" >19.98%</td>\n",
       "    </tr>\n",
       "  </tbody>\n",
       "</table>\n"
      ],
      "text/plain": [
       "<pandas.io.formats.style.Styler at 0x7f60b0024e20>"
      ]
     },
     "metadata": {},
     "output_type": "display_data"
    },
    {
     "data": {
      "text/plain": [
       "(0.0, 0.4, 0.6)"
      ]
     },
     "metadata": {},
     "output_type": "display_data"
    },
    {
     "data": {
      "text/html": [
       "<style type=\"text/css\">\n",
       "</style>\n",
       "<table id=\"T_b66b9\">\n",
       "  <thead>\n",
       "    <tr>\n",
       "      <th class=\"blank level0\" >&nbsp;</th>\n",
       "      <th id=\"T_b66b9_level0_col0\" class=\"col_heading level0 col0\" >Recall</th>\n",
       "      <th id=\"T_b66b9_level0_col1\" class=\"col_heading level0 col1\" >nDCG</th>\n",
       "      <th id=\"T_b66b9_level0_col2\" class=\"col_heading level0 col2\" >F1_5</th>\n",
       "      <th id=\"T_b66b9_level0_col3\" class=\"col_heading level0 col3\" >F1_10</th>\n",
       "      <th id=\"T_b66b9_level0_col4\" class=\"col_heading level0 col4\" >F1_15</th>\n",
       "    </tr>\n",
       "  </thead>\n",
       "  <tbody>\n",
       "    <tr>\n",
       "      <th id=\"T_b66b9_level0_row0\" class=\"row_heading level0 row0\" >dataset_base_eval</th>\n",
       "      <td id=\"T_b66b9_row0_col0\" class=\"data row0 col0\" >90.33%</td>\n",
       "      <td id=\"T_b66b9_row0_col1\" class=\"data row0 col1\" >65.55%</td>\n",
       "      <td id=\"T_b66b9_row0_col2\" class=\"data row0 col2\" >8.87%</td>\n",
       "      <td id=\"T_b66b9_row0_col3\" class=\"data row0 col3\" >14.73%</td>\n",
       "      <td id=\"T_b66b9_row0_col4\" class=\"data row0 col4\" >19.98%</td>\n",
       "    </tr>\n",
       "  </tbody>\n",
       "</table>\n"
      ],
      "text/plain": [
       "<pandas.io.formats.style.Styler at 0x7f60b5b28df0>"
      ]
     },
     "metadata": {},
     "output_type": "display_data"
    },
    {
     "data": {
      "text/plain": [
       "(0.0, 0.5, 0.5)"
      ]
     },
     "metadata": {},
     "output_type": "display_data"
    },
    {
     "ename": "KeyboardInterrupt",
     "evalue": "",
     "output_type": "error",
     "traceback": [
      "\u001b[0;31m---------------------------------------------------------------------------\u001b[0m",
      "\u001b[0;31mKeyboardInterrupt\u001b[0m                         Traceback (most recent call last)",
      "Cell \u001b[0;32mIn[348], line 6\u001b[0m\n\u001b[1;32m      4\u001b[0m \u001b[38;5;28;01mfor\u001b[39;00m alpha, beta, gamma \u001b[38;5;129;01min\u001b[39;00m GridIterator():\n\u001b[1;32m      5\u001b[0m     display((alpha, beta, gamma))\n\u001b[0;32m----> 6\u001b[0m     f1_15_measure \u001b[38;5;241m=\u001b[39m \u001b[43mperformance\u001b[49m\u001b[43m(\u001b[49m\u001b[43mlocal_rank\u001b[49m\u001b[43m(\u001b[49m\u001b[43mr\u001b[49m\u001b[43m,\u001b[49m\u001b[43m \u001b[49m\u001b[43malpha\u001b[49m\u001b[43m,\u001b[49m\u001b[43m \u001b[49m\u001b[43mbeta\u001b[49m\u001b[43m,\u001b[49m\u001b[43m \u001b[49m\u001b[43mgamma\u001b[49m\u001b[43m)\u001b[49m\u001b[43m,\u001b[49m\u001b[43m \u001b[49m\u001b[38;5;28;43;01mTrue\u001b[39;49;00m\u001b[43m)\u001b[49m\n\u001b[1;32m      7\u001b[0m     f1_15\u001b[38;5;241m.\u001b[39mappend(f1_15_measure)\n\u001b[1;32m      8\u001b[0m     points\u001b[38;5;241m.\u001b[39mappend((alpha, beta, gamma))\n",
      "Cell \u001b[0;32mIn[343], line 24\u001b[0m, in \u001b[0;36mperformance\u001b[0;34m(model_output, show)\u001b[0m\n\u001b[1;32m     22\u001b[0m \u001b[38;5;28;01mdef\u001b[39;00m \u001b[38;5;21mperformance\u001b[39m(model_output, show\u001b[38;5;241m=\u001b[39m\u001b[38;5;28;01mFalse\u001b[39;00m):\n\u001b[1;32m     23\u001b[0m     model_results \u001b[38;5;241m=\u001b[39m model_output\n\u001b[0;32m---> 24\u001b[0m     model_results \u001b[38;5;241m=\u001b[39m \u001b[43mpostprocess_model_outputs\u001b[49m\u001b[43m(\u001b[49m\n\u001b[1;32m     25\u001b[0m \u001b[43m                    \u001b[49m\u001b[43mmodel_results\u001b[49m\u001b[43m,\u001b[49m\u001b[43m \u001b[49m\u001b[43mranker\u001b[49m\u001b[38;5;241;43m.\u001b[39;49m\u001b[43mstemmer\u001b[49m\u001b[43m,\u001b[49m\u001b[43m \u001b[49m\u001b[38;5;28;43;01mNone\u001b[39;49;00m\u001b[43m,\u001b[49m\u001b[43m \u001b[49m\u001b[43m[\u001b[49m\u001b[43mremove_new_lines_and_tabs\u001b[49m\u001b[43m,\u001b[49m\u001b[43m \u001b[49m\u001b[43mremove_whitespaces\u001b[49m\u001b[43m]\u001b[49m\n\u001b[1;32m     26\u001b[0m \u001b[43m                \u001b[49m\u001b[43m)\u001b[49m\n\u001b[1;32m     28\u001b[0m     performance_metrics \u001b[38;5;241m=\u001b[39m evaluate_kp_extraction_base(model_results, true_labels)\n\u001b[1;32m     29\u001b[0m     \u001b[38;5;66;03m# performance_metrics = pd.concat(\u001b[39;00m\n\u001b[1;32m     30\u001b[0m     \u001b[38;5;66;03m#     [performance_metrics, evaluate_kp_extraction(model_results, true_labels)]\u001b[39;00m\n\u001b[1;32m     31\u001b[0m     \u001b[38;5;66;03m# )\u001b[39;00m\n",
      "File \u001b[0;32m~/thesis/code/geo-kpe-multidoc/src/geo_kpe_multidoc/evaluation/evaluation_tools.py:64\u001b[0m, in \u001b[0;36mpostprocess_model_outputs\u001b[0;34m(model_results, stemmer, lemmer, preprocessing)\u001b[0m\n\u001b[1;32m     60\u001b[0m     cand_score, cand \u001b[38;5;241m=\u001b[39m doc\n\u001b[1;32m     61\u001b[0m     cand_score \u001b[38;5;241m=\u001b[39m [\n\u001b[1;32m     62\u001b[0m         (postprocess(kp, preprocessing), score) \u001b[38;5;28;01mfor\u001b[39;00m kp, score \u001b[38;5;129;01min\u001b[39;00m cand_score\n\u001b[1;32m     63\u001b[0m     ]\n\u001b[0;32m---> 64\u001b[0m     cand \u001b[38;5;241m=\u001b[39m [postprocess(kp, preprocessing) \u001b[38;5;28;01mfor\u001b[39;00m kp \u001b[38;5;129;01min\u001b[39;00m cand]\n\u001b[1;32m     65\u001b[0m     doc \u001b[38;5;241m=\u001b[39m (cand_score, cand)\n\u001b[1;32m     67\u001b[0m \u001b[38;5;28;01mif\u001b[39;00m stemmer:\n",
      "File \u001b[0;32m~/thesis/code/geo-kpe-multidoc/src/geo_kpe_multidoc/evaluation/evaluation_tools.py:64\u001b[0m, in \u001b[0;36m<listcomp>\u001b[0;34m(.0)\u001b[0m\n\u001b[1;32m     60\u001b[0m     cand_score, cand \u001b[38;5;241m=\u001b[39m doc\n\u001b[1;32m     61\u001b[0m     cand_score \u001b[38;5;241m=\u001b[39m [\n\u001b[1;32m     62\u001b[0m         (postprocess(kp, preprocessing), score) \u001b[38;5;28;01mfor\u001b[39;00m kp, score \u001b[38;5;129;01min\u001b[39;00m cand_score\n\u001b[1;32m     63\u001b[0m     ]\n\u001b[0;32m---> 64\u001b[0m     cand \u001b[38;5;241m=\u001b[39m [\u001b[43mpostprocess\u001b[49m\u001b[43m(\u001b[49m\u001b[43mkp\u001b[49m\u001b[43m,\u001b[49m\u001b[43m \u001b[49m\u001b[43mpreprocessing\u001b[49m\u001b[43m)\u001b[49m \u001b[38;5;28;01mfor\u001b[39;00m kp \u001b[38;5;129;01min\u001b[39;00m cand]\n\u001b[1;32m     65\u001b[0m     doc \u001b[38;5;241m=\u001b[39m (cand_score, cand)\n\u001b[1;32m     67\u001b[0m \u001b[38;5;28;01mif\u001b[39;00m stemmer:\n",
      "File \u001b[0;32m~/thesis/code/geo-kpe-multidoc/src/geo_kpe_multidoc/evaluation/evaluation_tools.py:31\u001b[0m, in \u001b[0;36mpostprocess\u001b[0;34m(kp, preprocessing)\u001b[0m\n\u001b[1;32m     29\u001b[0m kp \u001b[38;5;241m=\u001b[39m remove_hyphens_and_dots(kp\u001b[38;5;241m.\u001b[39mlower())\n\u001b[1;32m     30\u001b[0m \u001b[38;5;28;01mfor\u001b[39;00m transformation \u001b[38;5;129;01min\u001b[39;00m preprocessing:\n\u001b[0;32m---> 31\u001b[0m     kp \u001b[38;5;241m=\u001b[39m \u001b[43mtransformation\u001b[49m\u001b[43m(\u001b[49m\u001b[43mkp\u001b[49m\u001b[43m)\u001b[49m\n\u001b[1;32m     32\u001b[0m \u001b[38;5;28;01mreturn\u001b[39;00m kp\n",
      "File \u001b[0;32m~/thesis/code/geo-kpe-multidoc/src/geo_kpe_multidoc/models/pre_processing/pre_processing_utils.py:85\u001b[0m, in \u001b[0;36mremove_whitespaces\u001b[0;34m(text)\u001b[0m\n\u001b[1;32m     81\u001b[0m \u001b[38;5;250m\u001b[39m\u001b[38;5;124;03m\"\"\"\u001b[39;00m\n\u001b[1;32m     82\u001b[0m \u001b[38;5;124;03mQuick snippet to remove whitespaces\u001b[39;00m\n\u001b[1;32m     83\u001b[0m \u001b[38;5;124;03m\"\"\"\u001b[39;00m\n\u001b[1;32m     84\u001b[0m \u001b[38;5;66;03m# text = re.sub(\"\\n\", \" \", text)\u001b[39;00m\n\u001b[0;32m---> 85\u001b[0m \u001b[38;5;28;01mreturn\u001b[39;00m \u001b[43mre\u001b[49m\u001b[38;5;241;43m.\u001b[39;49m\u001b[43msub\u001b[49m\u001b[43m(\u001b[49m\u001b[38;5;124;43m\"\u001b[39;49m\u001b[38;5;124;43m\\\u001b[39;49m\u001b[38;5;124;43ms\u001b[39;49m\u001b[38;5;124;43m{\u001b[39;49m\u001b[38;5;124;43m2,}\u001b[39;49m\u001b[38;5;124;43m\"\u001b[39;49m\u001b[43m,\u001b[49m\u001b[43m \u001b[49m\u001b[38;5;124;43m\"\u001b[39;49m\u001b[38;5;124;43m \u001b[39;49m\u001b[38;5;124;43m\"\u001b[39;49m\u001b[43m,\u001b[49m\u001b[43m \u001b[49m\u001b[43mtext\u001b[49m\u001b[43m)\u001b[49m\n",
      "File \u001b[0;32m~/miniconda3/envs/nlp/lib/python3.10/re.py:209\u001b[0m, in \u001b[0;36msub\u001b[0;34m(pattern, repl, string, count, flags)\u001b[0m\n\u001b[1;32m    202\u001b[0m \u001b[38;5;28;01mdef\u001b[39;00m \u001b[38;5;21msub\u001b[39m(pattern, repl, string, count\u001b[38;5;241m=\u001b[39m\u001b[38;5;241m0\u001b[39m, flags\u001b[38;5;241m=\u001b[39m\u001b[38;5;241m0\u001b[39m):\n\u001b[1;32m    203\u001b[0m \u001b[38;5;250m    \u001b[39m\u001b[38;5;124;03m\"\"\"Return the string obtained by replacing the leftmost\u001b[39;00m\n\u001b[1;32m    204\u001b[0m \u001b[38;5;124;03m    non-overlapping occurrences of the pattern in string by the\u001b[39;00m\n\u001b[1;32m    205\u001b[0m \u001b[38;5;124;03m    replacement repl.  repl can be either a string or a callable;\u001b[39;00m\n\u001b[1;32m    206\u001b[0m \u001b[38;5;124;03m    if a string, backslash escapes in it are processed.  If it is\u001b[39;00m\n\u001b[1;32m    207\u001b[0m \u001b[38;5;124;03m    a callable, it's passed the Match object and must return\u001b[39;00m\n\u001b[1;32m    208\u001b[0m \u001b[38;5;124;03m    a replacement string to be used.\"\"\"\u001b[39;00m\n\u001b[0;32m--> 209\u001b[0m     \u001b[38;5;28;01mreturn\u001b[39;00m \u001b[43m_compile\u001b[49m\u001b[43m(\u001b[49m\u001b[43mpattern\u001b[49m\u001b[43m,\u001b[49m\u001b[43m \u001b[49m\u001b[43mflags\u001b[49m\u001b[43m)\u001b[49m\u001b[38;5;241;43m.\u001b[39;49m\u001b[43msub\u001b[49m\u001b[43m(\u001b[49m\u001b[43mrepl\u001b[49m\u001b[43m,\u001b[49m\u001b[43m \u001b[49m\u001b[43mstring\u001b[49m\u001b[43m,\u001b[49m\u001b[43m \u001b[49m\u001b[43mcount\u001b[49m\u001b[43m)\u001b[49m\n",
      "\u001b[0;31mKeyboardInterrupt\u001b[0m: "
     ]
    }
   ],
   "source": [
    "grid_iterator = GridIterator()\n",
    "f1_15 = []\n",
    "points = []\n",
    "for alpha, beta, gamma in GridIterator():\n",
    "    display((alpha, beta, gamma))\n",
    "    f1_15_measure = performance(local_rank(r, alpha, beta, gamma), True)\n",
    "    f1_15.append(f1_15_measure)\n",
    "    points.append((alpha, beta, gamma))\n",
    "\n",
    "plt.plot(points, f1_15)\n",
    "plt.show()\n",
    "\n",
    "display(points[f1_15.index(max(f1_15))], round(max(f1_15), 4)*100)"
   ]
  },
  {
   "cell_type": "code",
   "execution_count": 299,
   "metadata": {},
   "outputs": [
    {
     "data": {
      "text/plain": [
       "((0.6, 0.1, 0.3), 20.27)"
      ]
     },
     "execution_count": 299,
     "metadata": {},
     "output_type": "execute_result"
    }
   ],
   "source": [
    "points[f1_15.index(max(f1_15))], round(max(f1_15), 4)*100"
   ]
  },
  {
   "cell_type": "code",
   "execution_count": 306,
   "metadata": {},
   "outputs": [
    {
     "data": {
      "image/png": "[encoded data removed]",
      "text/plain": [
       "<Figure size 640x480 with 1 Axes>"
      ]
     },
     "metadata": {},
     "output_type": "display_data"
    }
   ],
   "source": [
    "fig = plt.figure()\n",
    "ax = fig.add_subplot(111, projection='3d')\n",
    "\n",
    "x, y, z = list(zip(*points))\n",
    "\n",
    "# Plot the data points in 3D\n",
    "ax.scatter(x, y, z, c=f1_15, cmap='Greens')\n",
    "\n",
    "# Set labels for the axes\n",
    "ax.set_xlabel('alpha (semantic score)')\n",
    "ax.set_ylabel('beta (geospatial association)')\n",
    "ax.set_zlabel('gamma (documents)')\n",
    "\n",
    "# Show the plot\n",
    "plt.show()"
   ]
  },
  {
   "cell_type": "code",
   "execution_count": 169,
   "metadata": {},
   "outputs": [
    {
     "data": {
      "text/html": [
       "<style type=\"text/css\">\n",
       "</style>\n",
       "<table id=\"T_ece73\">\n",
       "  <thead>\n",
       "    <tr>\n",
       "      <th class=\"blank level0\" >&nbsp;</th>\n",
       "      <th id=\"T_ece73_level0_col0\" class=\"col_heading level0 col0\" >Recall</th>\n",
       "      <th id=\"T_ece73_level0_col1\" class=\"col_heading level0 col1\" >nDCG</th>\n",
       "      <th id=\"T_ece73_level0_col2\" class=\"col_heading level0 col2\" >F1_5</th>\n",
       "      <th id=\"T_ece73_level0_col3\" class=\"col_heading level0 col3\" >F1_10</th>\n",
       "      <th id=\"T_ece73_level0_col4\" class=\"col_heading level0 col4\" >F1_15</th>\n",
       "    </tr>\n",
       "  </thead>\n",
       "  <tbody>\n",
       "    <tr>\n",
       "      <th id=\"T_ece73_level0_row0\" class=\"row_heading level0 row0\" >dataset_base_eval</th>\n",
       "      <td id=\"T_ece73_row0_col0\" class=\"data row0 col0\" >90.33%</td>\n",
       "      <td id=\"T_ece73_row0_col1\" class=\"data row0 col1\" >65.47%</td>\n",
       "      <td id=\"T_ece73_row0_col2\" class=\"data row0 col2\" >9.82%</td>\n",
       "      <td id=\"T_ece73_row0_col3\" class=\"data row0 col3\" >15.45%</td>\n",
       "      <td id=\"T_ece73_row0_col4\" class=\"data row0 col4\" >19.73%</td>\n",
       "    </tr>\n",
       "  </tbody>\n",
       "</table>\n"
      ],
      "text/plain": [
       "<pandas.io.formats.style.Styler at 0x7f60c2a43ac0>"
      ]
     },
     "metadata": {},
     "output_type": "display_data"
    },
    {
     "data": {
      "text/html": [
       "<style type=\"text/css\">\n",
       "</style>\n",
       "<table id=\"T_a96a4\">\n",
       "  <thead>\n",
       "    <tr>\n",
       "      <th class=\"blank level0\" >&nbsp;</th>\n",
       "      <th id=\"T_a96a4_level0_col0\" class=\"col_heading level0 col0\" >Recall</th>\n",
       "      <th id=\"T_a96a4_level0_col1\" class=\"col_heading level0 col1\" >nDCG</th>\n",
       "      <th id=\"T_a96a4_level0_col2\" class=\"col_heading level0 col2\" >F1_5</th>\n",
       "      <th id=\"T_a96a4_level0_col3\" class=\"col_heading level0 col3\" >F1_10</th>\n",
       "      <th id=\"T_a96a4_level0_col4\" class=\"col_heading level0 col4\" >F1_15</th>\n",
       "    </tr>\n",
       "  </thead>\n",
       "  <tbody>\n",
       "    <tr>\n",
       "      <th id=\"T_a96a4_level0_row0\" class=\"row_heading level0 row0\" >dataset_base_eval</th>\n",
       "      <td id=\"T_a96a4_row0_col0\" class=\"data row0 col0\" >90.33%</td>\n",
       "      <td id=\"T_a96a4_row0_col1\" class=\"data row0 col1\" >65.46%</td>\n",
       "      <td id=\"T_a96a4_row0_col2\" class=\"data row0 col2\" >9.82%</td>\n",
       "      <td id=\"T_a96a4_row0_col3\" class=\"data row0 col3\" >15.25%</td>\n",
       "      <td id=\"T_a96a4_row0_col4\" class=\"data row0 col4\" >19.62%</td>\n",
       "    </tr>\n",
       "  </tbody>\n",
       "</table>\n"
      ],
      "text/plain": [
       "<pandas.io.formats.style.Styler at 0x7f60c030f790>"
      ]
     },
     "metadata": {},
     "output_type": "display_data"
    },
    {
     "data": {
      "text/html": [
       "<style type=\"text/css\">\n",
       "</style>\n",
       "<table id=\"T_095d3\">\n",
       "  <thead>\n",
       "    <tr>\n",
       "      <th class=\"blank level0\" >&nbsp;</th>\n",
       "      <th id=\"T_095d3_level0_col0\" class=\"col_heading level0 col0\" >Recall</th>\n",
       "      <th id=\"T_095d3_level0_col1\" class=\"col_heading level0 col1\" >nDCG</th>\n",
       "      <th id=\"T_095d3_level0_col2\" class=\"col_heading level0 col2\" >F1_5</th>\n",
       "      <th id=\"T_095d3_level0_col3\" class=\"col_heading level0 col3\" >F1_10</th>\n",
       "      <th id=\"T_095d3_level0_col4\" class=\"col_heading level0 col4\" >F1_15</th>\n",
       "    </tr>\n",
       "  </thead>\n",
       "  <tbody>\n",
       "    <tr>\n",
       "      <th id=\"T_095d3_level0_row0\" class=\"row_heading level0 row0\" >dataset_base_eval</th>\n",
       "      <td id=\"T_095d3_row0_col0\" class=\"data row0 col0\" >90.33%</td>\n",
       "      <td id=\"T_095d3_row0_col1\" class=\"data row0 col1\" >65.53%</td>\n",
       "      <td id=\"T_095d3_row0_col2\" class=\"data row0 col2\" >9.98%</td>\n",
       "      <td id=\"T_095d3_row0_col3\" class=\"data row0 col3\" >15.25%</td>\n",
       "      <td id=\"T_095d3_row0_col4\" class=\"data row0 col4\" >19.99%</td>\n",
       "    </tr>\n",
       "  </tbody>\n",
       "</table>\n"
      ],
      "text/plain": [
       "<pandas.io.formats.style.Styler at 0x7f60c2a43ac0>"
      ]
     },
     "metadata": {},
     "output_type": "display_data"
    },
    {
     "data": {
      "text/html": [
       "<style type=\"text/css\">\n",
       "</style>\n",
       "<table id=\"T_5bcd0\">\n",
       "  <thead>\n",
       "    <tr>\n",
       "      <th class=\"blank level0\" >&nbsp;</th>\n",
       "      <th id=\"T_5bcd0_level0_col0\" class=\"col_heading level0 col0\" >Recall</th>\n",
       "      <th id=\"T_5bcd0_level0_col1\" class=\"col_heading level0 col1\" >nDCG</th>\n",
       "      <th id=\"T_5bcd0_level0_col2\" class=\"col_heading level0 col2\" >F1_5</th>\n",
       "      <th id=\"T_5bcd0_level0_col3\" class=\"col_heading level0 col3\" >F1_10</th>\n",
       "      <th id=\"T_5bcd0_level0_col4\" class=\"col_heading level0 col4\" >F1_15</th>\n",
       "    </tr>\n",
       "  </thead>\n",
       "  <tbody>\n",
       "    <tr>\n",
       "      <th id=\"T_5bcd0_level0_row0\" class=\"row_heading level0 row0\" >dataset_base_eval</th>\n",
       "      <td id=\"T_5bcd0_row0_col0\" class=\"data row0 col0\" >90.33%</td>\n",
       "      <td id=\"T_5bcd0_row0_col1\" class=\"data row0 col1\" >65.55%</td>\n",
       "      <td id=\"T_5bcd0_row0_col2\" class=\"data row0 col2\" >10.21%</td>\n",
       "      <td id=\"T_5bcd0_row0_col3\" class=\"data row0 col3\" >15.32%</td>\n",
       "      <td id=\"T_5bcd0_row0_col4\" class=\"data row0 col4\" >20.09%</td>\n",
       "    </tr>\n",
       "  </tbody>\n",
       "</table>\n"
      ],
      "text/plain": [
       "<pandas.io.formats.style.Styler at 0x7f60d7db5780>"
      ]
     },
     "metadata": {},
     "output_type": "display_data"
    },
    {
     "data": {
      "text/html": [
       "<style type=\"text/css\">\n",
       "</style>\n",
       "<table id=\"T_9bead\">\n",
       "  <thead>\n",
       "    <tr>\n",
       "      <th class=\"blank level0\" >&nbsp;</th>\n",
       "      <th id=\"T_9bead_level0_col0\" class=\"col_heading level0 col0\" >Recall</th>\n",
       "      <th id=\"T_9bead_level0_col1\" class=\"col_heading level0 col1\" >nDCG</th>\n",
       "      <th id=\"T_9bead_level0_col2\" class=\"col_heading level0 col2\" >F1_5</th>\n",
       "      <th id=\"T_9bead_level0_col3\" class=\"col_heading level0 col3\" >F1_10</th>\n",
       "      <th id=\"T_9bead_level0_col4\" class=\"col_heading level0 col4\" >F1_15</th>\n",
       "    </tr>\n",
       "  </thead>\n",
       "  <tbody>\n",
       "    <tr>\n",
       "      <th id=\"T_9bead_level0_row0\" class=\"row_heading level0 row0\" >dataset_base_eval</th>\n",
       "      <td id=\"T_9bead_row0_col0\" class=\"data row0 col0\" >90.33%</td>\n",
       "      <td id=\"T_9bead_row0_col1\" class=\"data row0 col1\" >65.58%</td>\n",
       "      <td id=\"T_9bead_row0_col2\" class=\"data row0 col2\" >10.09%</td>\n",
       "      <td id=\"T_9bead_row0_col3\" class=\"data row0 col3\" >15.31%</td>\n",
       "      <td id=\"T_9bead_row0_col4\" class=\"data row0 col4\" >20.18%</td>\n",
       "    </tr>\n",
       "  </tbody>\n",
       "</table>\n"
      ],
      "text/plain": [
       "<pandas.io.formats.style.Styler at 0x7f60c273e0e0>"
      ]
     },
     "metadata": {},
     "output_type": "display_data"
    },
    {
     "data": {
      "text/html": [
       "<style type=\"text/css\">\n",
       "</style>\n",
       "<table id=\"T_fa870\">\n",
       "  <thead>\n",
       "    <tr>\n",
       "      <th class=\"blank level0\" >&nbsp;</th>\n",
       "      <th id=\"T_fa870_level0_col0\" class=\"col_heading level0 col0\" >Recall</th>\n",
       "      <th id=\"T_fa870_level0_col1\" class=\"col_heading level0 col1\" >nDCG</th>\n",
       "      <th id=\"T_fa870_level0_col2\" class=\"col_heading level0 col2\" >F1_5</th>\n",
       "      <th id=\"T_fa870_level0_col3\" class=\"col_heading level0 col3\" >F1_10</th>\n",
       "      <th id=\"T_fa870_level0_col4\" class=\"col_heading level0 col4\" >F1_15</th>\n",
       "    </tr>\n",
       "  </thead>\n",
       "  <tbody>\n",
       "    <tr>\n",
       "      <th id=\"T_fa870_level0_row0\" class=\"row_heading level0 row0\" >dataset_base_eval</th>\n",
       "      <td id=\"T_fa870_row0_col0\" class=\"data row0 col0\" >90.33%</td>\n",
       "      <td id=\"T_fa870_row0_col1\" class=\"data row0 col1\" >65.64%</td>\n",
       "      <td id=\"T_fa870_row0_col2\" class=\"data row0 col2\" >10.19%</td>\n",
       "      <td id=\"T_fa870_row0_col3\" class=\"data row0 col3\" >15.31%</td>\n",
       "      <td id=\"T_fa870_row0_col4\" class=\"data row0 col4\" >20.05%</td>\n",
       "    </tr>\n",
       "  </tbody>\n",
       "</table>\n"
      ],
      "text/plain": [
       "<pandas.io.formats.style.Styler at 0x7f60cefdd240>"
      ]
     },
     "metadata": {},
     "output_type": "display_data"
    },
    {
     "data": {
      "text/html": [
       "<style type=\"text/css\">\n",
       "</style>\n",
       "<table id=\"T_6623c\">\n",
       "  <thead>\n",
       "    <tr>\n",
       "      <th class=\"blank level0\" >&nbsp;</th>\n",
       "      <th id=\"T_6623c_level0_col0\" class=\"col_heading level0 col0\" >Recall</th>\n",
       "      <th id=\"T_6623c_level0_col1\" class=\"col_heading level0 col1\" >nDCG</th>\n",
       "      <th id=\"T_6623c_level0_col2\" class=\"col_heading level0 col2\" >F1_5</th>\n",
       "      <th id=\"T_6623c_level0_col3\" class=\"col_heading level0 col3\" >F1_10</th>\n",
       "      <th id=\"T_6623c_level0_col4\" class=\"col_heading level0 col4\" >F1_15</th>\n",
       "    </tr>\n",
       "  </thead>\n",
       "  <tbody>\n",
       "    <tr>\n",
       "      <th id=\"T_6623c_level0_row0\" class=\"row_heading level0 row0\" >dataset_base_eval</th>\n",
       "      <td id=\"T_6623c_row0_col0\" class=\"data row0 col0\" >90.33%</td>\n",
       "      <td id=\"T_6623c_row0_col1\" class=\"data row0 col1\" >65.64%</td>\n",
       "      <td id=\"T_6623c_row0_col2\" class=\"data row0 col2\" >10.03%</td>\n",
       "      <td id=\"T_6623c_row0_col3\" class=\"data row0 col3\" >15.21%</td>\n",
       "      <td id=\"T_6623c_row0_col4\" class=\"data row0 col4\" >19.89%</td>\n",
       "    </tr>\n",
       "  </tbody>\n",
       "</table>\n"
      ],
      "text/plain": [
       "<pandas.io.formats.style.Styler at 0x7f60d7dd4280>"
      ]
     },
     "metadata": {},
     "output_type": "display_data"
    },
    {
     "data": {
      "text/html": [
       "<style type=\"text/css\">\n",
       "</style>\n",
       "<table id=\"T_85a29\">\n",
       "  <thead>\n",
       "    <tr>\n",
       "      <th class=\"blank level0\" >&nbsp;</th>\n",
       "      <th id=\"T_85a29_level0_col0\" class=\"col_heading level0 col0\" >Recall</th>\n",
       "      <th id=\"T_85a29_level0_col1\" class=\"col_heading level0 col1\" >nDCG</th>\n",
       "      <th id=\"T_85a29_level0_col2\" class=\"col_heading level0 col2\" >F1_5</th>\n",
       "      <th id=\"T_85a29_level0_col3\" class=\"col_heading level0 col3\" >F1_10</th>\n",
       "      <th id=\"T_85a29_level0_col4\" class=\"col_heading level0 col4\" >F1_15</th>\n",
       "    </tr>\n",
       "  </thead>\n",
       "  <tbody>\n",
       "    <tr>\n",
       "      <th id=\"T_85a29_level0_row0\" class=\"row_heading level0 row0\" >dataset_base_eval</th>\n",
       "      <td id=\"T_85a29_row0_col0\" class=\"data row0 col0\" >90.33%</td>\n",
       "      <td id=\"T_85a29_row0_col1\" class=\"data row0 col1\" >65.63%</td>\n",
       "      <td id=\"T_85a29_row0_col2\" class=\"data row0 col2\" >10.03%</td>\n",
       "      <td id=\"T_85a29_row0_col3\" class=\"data row0 col3\" >15.28%</td>\n",
       "      <td id=\"T_85a29_row0_col4\" class=\"data row0 col4\" >19.89%</td>\n",
       "    </tr>\n",
       "  </tbody>\n",
       "</table>\n"
      ],
      "text/plain": [
       "<pandas.io.formats.style.Styler at 0x7f60c2a43ac0>"
      ]
     },
     "metadata": {},
     "output_type": "display_data"
    },
    {
     "data": {
      "text/html": [
       "<style type=\"text/css\">\n",
       "</style>\n",
       "<table id=\"T_db489\">\n",
       "  <thead>\n",
       "    <tr>\n",
       "      <th class=\"blank level0\" >&nbsp;</th>\n",
       "      <th id=\"T_db489_level0_col0\" class=\"col_heading level0 col0\" >Recall</th>\n",
       "      <th id=\"T_db489_level0_col1\" class=\"col_heading level0 col1\" >nDCG</th>\n",
       "      <th id=\"T_db489_level0_col2\" class=\"col_heading level0 col2\" >F1_5</th>\n",
       "      <th id=\"T_db489_level0_col3\" class=\"col_heading level0 col3\" >F1_10</th>\n",
       "      <th id=\"T_db489_level0_col4\" class=\"col_heading level0 col4\" >F1_15</th>\n",
       "    </tr>\n",
       "  </thead>\n",
       "  <tbody>\n",
       "    <tr>\n",
       "      <th id=\"T_db489_level0_row0\" class=\"row_heading level0 row0\" >dataset_base_eval</th>\n",
       "      <td id=\"T_db489_row0_col0\" class=\"data row0 col0\" >90.33%</td>\n",
       "      <td id=\"T_db489_row0_col1\" class=\"data row0 col1\" >65.64%</td>\n",
       "      <td id=\"T_db489_row0_col2\" class=\"data row0 col2\" >10.06%</td>\n",
       "      <td id=\"T_db489_row0_col3\" class=\"data row0 col3\" >15.28%</td>\n",
       "      <td id=\"T_db489_row0_col4\" class=\"data row0 col4\" >19.89%</td>\n",
       "    </tr>\n",
       "  </tbody>\n",
       "</table>\n"
      ],
      "text/plain": [
       "<pandas.io.formats.style.Styler at 0x7f60c210bb80>"
      ]
     },
     "metadata": {},
     "output_type": "display_data"
    },
    {
     "data": {
      "text/html": [
       "<style type=\"text/css\">\n",
       "</style>\n",
       "<table id=\"T_9ac96\">\n",
       "  <thead>\n",
       "    <tr>\n",
       "      <th class=\"blank level0\" >&nbsp;</th>\n",
       "      <th id=\"T_9ac96_level0_col0\" class=\"col_heading level0 col0\" >Recall</th>\n",
       "      <th id=\"T_9ac96_level0_col1\" class=\"col_heading level0 col1\" >nDCG</th>\n",
       "      <th id=\"T_9ac96_level0_col2\" class=\"col_heading level0 col2\" >F1_5</th>\n",
       "      <th id=\"T_9ac96_level0_col3\" class=\"col_heading level0 col3\" >F1_10</th>\n",
       "      <th id=\"T_9ac96_level0_col4\" class=\"col_heading level0 col4\" >F1_15</th>\n",
       "    </tr>\n",
       "  </thead>\n",
       "  <tbody>\n",
       "    <tr>\n",
       "      <th id=\"T_9ac96_level0_row0\" class=\"row_heading level0 row0\" >dataset_base_eval</th>\n",
       "      <td id=\"T_9ac96_row0_col0\" class=\"data row0 col0\" >90.33%</td>\n",
       "      <td id=\"T_9ac96_row0_col1\" class=\"data row0 col1\" >65.60%</td>\n",
       "      <td id=\"T_9ac96_row0_col2\" class=\"data row0 col2\" >9.93%</td>\n",
       "      <td id=\"T_9ac96_row0_col3\" class=\"data row0 col3\" >15.35%</td>\n",
       "      <td id=\"T_9ac96_row0_col4\" class=\"data row0 col4\" >19.96%</td>\n",
       "    </tr>\n",
       "  </tbody>\n",
       "</table>\n"
      ],
      "text/plain": [
       "<pandas.io.formats.style.Styler at 0x7f60cc85a6e0>"
      ]
     },
     "metadata": {},
     "output_type": "display_data"
    },
    {
     "data": {
      "text/html": [
       "<style type=\"text/css\">\n",
       "</style>\n",
       "<table id=\"T_0b212\">\n",
       "  <thead>\n",
       "    <tr>\n",
       "      <th class=\"blank level0\" >&nbsp;</th>\n",
       "      <th id=\"T_0b212_level0_col0\" class=\"col_heading level0 col0\" >Recall</th>\n",
       "      <th id=\"T_0b212_level0_col1\" class=\"col_heading level0 col1\" >nDCG</th>\n",
       "      <th id=\"T_0b212_level0_col2\" class=\"col_heading level0 col2\" >F1_5</th>\n",
       "      <th id=\"T_0b212_level0_col3\" class=\"col_heading level0 col3\" >F1_10</th>\n",
       "      <th id=\"T_0b212_level0_col4\" class=\"col_heading level0 col4\" >F1_15</th>\n",
       "    </tr>\n",
       "  </thead>\n",
       "  <tbody>\n",
       "    <tr>\n",
       "      <th id=\"T_0b212_level0_row0\" class=\"row_heading level0 row0\" >dataset_base_eval</th>\n",
       "      <td id=\"T_0b212_row0_col0\" class=\"data row0 col0\" >90.33%</td>\n",
       "      <td id=\"T_0b212_row0_col1\" class=\"data row0 col1\" >65.64%</td>\n",
       "      <td id=\"T_0b212_row0_col2\" class=\"data row0 col2\" >9.93%</td>\n",
       "      <td id=\"T_0b212_row0_col3\" class=\"data row0 col3\" >15.35%</td>\n",
       "      <td id=\"T_0b212_row0_col4\" class=\"data row0 col4\" >20.03%</td>\n",
       "    </tr>\n",
       "  </tbody>\n",
       "</table>\n"
      ],
      "text/plain": [
       "<pandas.io.formats.style.Styler at 0x7f60c2a43ac0>"
      ]
     },
     "metadata": {},
     "output_type": "display_data"
    },
    {
     "data": {
      "text/html": [
       "<style type=\"text/css\">\n",
       "</style>\n",
       "<table id=\"T_431d7\">\n",
       "  <thead>\n",
       "    <tr>\n",
       "      <th class=\"blank level0\" >&nbsp;</th>\n",
       "      <th id=\"T_431d7_level0_col0\" class=\"col_heading level0 col0\" >Recall</th>\n",
       "      <th id=\"T_431d7_level0_col1\" class=\"col_heading level0 col1\" >nDCG</th>\n",
       "      <th id=\"T_431d7_level0_col2\" class=\"col_heading level0 col2\" >F1_5</th>\n",
       "      <th id=\"T_431d7_level0_col3\" class=\"col_heading level0 col3\" >F1_10</th>\n",
       "      <th id=\"T_431d7_level0_col4\" class=\"col_heading level0 col4\" >F1_15</th>\n",
       "    </tr>\n",
       "  </thead>\n",
       "  <tbody>\n",
       "    <tr>\n",
       "      <th id=\"T_431d7_level0_row0\" class=\"row_heading level0 row0\" >dataset_base_eval</th>\n",
       "      <td id=\"T_431d7_row0_col0\" class=\"data row0 col0\" >90.33%</td>\n",
       "      <td id=\"T_431d7_row0_col1\" class=\"data row0 col1\" >65.63%</td>\n",
       "      <td id=\"T_431d7_row0_col2\" class=\"data row0 col2\" >9.93%</td>\n",
       "      <td id=\"T_431d7_row0_col3\" class=\"data row0 col3\" >15.35%</td>\n",
       "      <td id=\"T_431d7_row0_col4\" class=\"data row0 col4\" >19.91%</td>\n",
       "    </tr>\n",
       "  </tbody>\n",
       "</table>\n"
      ],
      "text/plain": [
       "<pandas.io.formats.style.Styler at 0x7f60d7db5780>"
      ]
     },
     "metadata": {},
     "output_type": "display_data"
    },
    {
     "data": {
      "text/html": [
       "<style type=\"text/css\">\n",
       "</style>\n",
       "<table id=\"T_efe3d\">\n",
       "  <thead>\n",
       "    <tr>\n",
       "      <th class=\"blank level0\" >&nbsp;</th>\n",
       "      <th id=\"T_efe3d_level0_col0\" class=\"col_heading level0 col0\" >Recall</th>\n",
       "      <th id=\"T_efe3d_level0_col1\" class=\"col_heading level0 col1\" >nDCG</th>\n",
       "      <th id=\"T_efe3d_level0_col2\" class=\"col_heading level0 col2\" >F1_5</th>\n",
       "      <th id=\"T_efe3d_level0_col3\" class=\"col_heading level0 col3\" >F1_10</th>\n",
       "      <th id=\"T_efe3d_level0_col4\" class=\"col_heading level0 col4\" >F1_15</th>\n",
       "    </tr>\n",
       "  </thead>\n",
       "  <tbody>\n",
       "    <tr>\n",
       "      <th id=\"T_efe3d_level0_row0\" class=\"row_heading level0 row0\" >dataset_base_eval</th>\n",
       "      <td id=\"T_efe3d_row0_col0\" class=\"data row0 col0\" >90.33%</td>\n",
       "      <td id=\"T_efe3d_row0_col1\" class=\"data row0 col1\" >65.67%</td>\n",
       "      <td id=\"T_efe3d_row0_col2\" class=\"data row0 col2\" >9.93%</td>\n",
       "      <td id=\"T_efe3d_row0_col3\" class=\"data row0 col3\" >15.28%</td>\n",
       "      <td id=\"T_efe3d_row0_col4\" class=\"data row0 col4\" >20.27%</td>\n",
       "    </tr>\n",
       "  </tbody>\n",
       "</table>\n"
      ],
      "text/plain": [
       "<pandas.io.formats.style.Styler at 0x7f60c2a43ac0>"
      ]
     },
     "metadata": {},
     "output_type": "display_data"
    },
    {
     "data": {
      "text/html": [
       "<style type=\"text/css\">\n",
       "</style>\n",
       "<table id=\"T_fe6b1\">\n",
       "  <thead>\n",
       "    <tr>\n",
       "      <th class=\"blank level0\" >&nbsp;</th>\n",
       "      <th id=\"T_fe6b1_level0_col0\" class=\"col_heading level0 col0\" >Recall</th>\n",
       "      <th id=\"T_fe6b1_level0_col1\" class=\"col_heading level0 col1\" >nDCG</th>\n",
       "      <th id=\"T_fe6b1_level0_col2\" class=\"col_heading level0 col2\" >F1_5</th>\n",
       "      <th id=\"T_fe6b1_level0_col3\" class=\"col_heading level0 col3\" >F1_10</th>\n",
       "      <th id=\"T_fe6b1_level0_col4\" class=\"col_heading level0 col4\" >F1_15</th>\n",
       "    </tr>\n",
       "  </thead>\n",
       "  <tbody>\n",
       "    <tr>\n",
       "      <th id=\"T_fe6b1_level0_row0\" class=\"row_heading level0 row0\" >dataset_base_eval</th>\n",
       "      <td id=\"T_fe6b1_row0_col0\" class=\"data row0 col0\" >90.33%</td>\n",
       "      <td id=\"T_fe6b1_row0_col1\" class=\"data row0 col1\" >65.69%</td>\n",
       "      <td id=\"T_fe6b1_row0_col2\" class=\"data row0 col2\" >9.93%</td>\n",
       "      <td id=\"T_fe6b1_row0_col3\" class=\"data row0 col3\" >15.33%</td>\n",
       "      <td id=\"T_fe6b1_row0_col4\" class=\"data row0 col4\" >20.21%</td>\n",
       "    </tr>\n",
       "  </tbody>\n",
       "</table>\n"
      ],
      "text/plain": [
       "<pandas.io.formats.style.Styler at 0x7f60cefdd240>"
      ]
     },
     "metadata": {},
     "output_type": "display_data"
    },
    {
     "data": {
      "text/html": [
       "<style type=\"text/css\">\n",
       "</style>\n",
       "<table id=\"T_b8ec5\">\n",
       "  <thead>\n",
       "    <tr>\n",
       "      <th class=\"blank level0\" >&nbsp;</th>\n",
       "      <th id=\"T_b8ec5_level0_col0\" class=\"col_heading level0 col0\" >Recall</th>\n",
       "      <th id=\"T_b8ec5_level0_col1\" class=\"col_heading level0 col1\" >nDCG</th>\n",
       "      <th id=\"T_b8ec5_level0_col2\" class=\"col_heading level0 col2\" >F1_5</th>\n",
       "      <th id=\"T_b8ec5_level0_col3\" class=\"col_heading level0 col3\" >F1_10</th>\n",
       "      <th id=\"T_b8ec5_level0_col4\" class=\"col_heading level0 col4\" >F1_15</th>\n",
       "    </tr>\n",
       "  </thead>\n",
       "  <tbody>\n",
       "    <tr>\n",
       "      <th id=\"T_b8ec5_level0_row0\" class=\"row_heading level0 row0\" >dataset_base_eval</th>\n",
       "      <td id=\"T_b8ec5_row0_col0\" class=\"data row0 col0\" >90.33%</td>\n",
       "      <td id=\"T_b8ec5_row0_col1\" class=\"data row0 col1\" >65.58%</td>\n",
       "      <td id=\"T_b8ec5_row0_col2\" class=\"data row0 col2\" >9.68%</td>\n",
       "      <td id=\"T_b8ec5_row0_col3\" class=\"data row0 col3\" >15.21%</td>\n",
       "      <td id=\"T_b8ec5_row0_col4\" class=\"data row0 col4\" >20.52%</td>\n",
       "    </tr>\n",
       "  </tbody>\n",
       "</table>\n"
      ],
      "text/plain": [
       "<pandas.io.formats.style.Styler at 0x7f60c2108d00>"
      ]
     },
     "metadata": {},
     "output_type": "display_data"
    },
    {
     "data": {
      "text/html": [
       "<style type=\"text/css\">\n",
       "</style>\n",
       "<table id=\"T_31521\">\n",
       "  <thead>\n",
       "    <tr>\n",
       "      <th class=\"blank level0\" >&nbsp;</th>\n",
       "      <th id=\"T_31521_level0_col0\" class=\"col_heading level0 col0\" >Recall</th>\n",
       "      <th id=\"T_31521_level0_col1\" class=\"col_heading level0 col1\" >nDCG</th>\n",
       "      <th id=\"T_31521_level0_col2\" class=\"col_heading level0 col2\" >F1_5</th>\n",
       "      <th id=\"T_31521_level0_col3\" class=\"col_heading level0 col3\" >F1_10</th>\n",
       "      <th id=\"T_31521_level0_col4\" class=\"col_heading level0 col4\" >F1_15</th>\n",
       "    </tr>\n",
       "  </thead>\n",
       "  <tbody>\n",
       "    <tr>\n",
       "      <th id=\"T_31521_level0_row0\" class=\"row_heading level0 row0\" >dataset_base_eval</th>\n",
       "      <td id=\"T_31521_row0_col0\" class=\"data row0 col0\" >90.33%</td>\n",
       "      <td id=\"T_31521_row0_col1\" class=\"data row0 col1\" >65.60%</td>\n",
       "      <td id=\"T_31521_row0_col2\" class=\"data row0 col2\" >9.68%</td>\n",
       "      <td id=\"T_31521_row0_col3\" class=\"data row0 col3\" >15.14%</td>\n",
       "      <td id=\"T_31521_row0_col4\" class=\"data row0 col4\" >20.34%</td>\n",
       "    </tr>\n",
       "  </tbody>\n",
       "</table>\n"
      ],
      "text/plain": [
       "<pandas.io.formats.style.Styler at 0x7f60cf097340>"
      ]
     },
     "metadata": {},
     "output_type": "display_data"
    },
    {
     "data": {
      "text/html": [
       "<style type=\"text/css\">\n",
       "</style>\n",
       "<table id=\"T_2075c\">\n",
       "  <thead>\n",
       "    <tr>\n",
       "      <th class=\"blank level0\" >&nbsp;</th>\n",
       "      <th id=\"T_2075c_level0_col0\" class=\"col_heading level0 col0\" >Recall</th>\n",
       "      <th id=\"T_2075c_level0_col1\" class=\"col_heading level0 col1\" >nDCG</th>\n",
       "      <th id=\"T_2075c_level0_col2\" class=\"col_heading level0 col2\" >F1_5</th>\n",
       "      <th id=\"T_2075c_level0_col3\" class=\"col_heading level0 col3\" >F1_10</th>\n",
       "      <th id=\"T_2075c_level0_col4\" class=\"col_heading level0 col4\" >F1_15</th>\n",
       "    </tr>\n",
       "  </thead>\n",
       "  <tbody>\n",
       "    <tr>\n",
       "      <th id=\"T_2075c_level0_row0\" class=\"row_heading level0 row0\" >dataset_base_eval</th>\n",
       "      <td id=\"T_2075c_row0_col0\" class=\"data row0 col0\" >90.33%</td>\n",
       "      <td id=\"T_2075c_row0_col1\" class=\"data row0 col1\" >65.60%</td>\n",
       "      <td id=\"T_2075c_row0_col2\" class=\"data row0 col2\" >9.68%</td>\n",
       "      <td id=\"T_2075c_row0_col3\" class=\"data row0 col3\" >14.97%</td>\n",
       "      <td id=\"T_2075c_row0_col4\" class=\"data row0 col4\" >20.08%</td>\n",
       "    </tr>\n",
       "  </tbody>\n",
       "</table>\n"
      ],
      "text/plain": [
       "<pandas.io.formats.style.Styler at 0x7f60cefdd240>"
      ]
     },
     "metadata": {},
     "output_type": "display_data"
    },
    {
     "data": {
      "text/html": [
       "<style type=\"text/css\">\n",
       "</style>\n",
       "<table id=\"T_3c1f7\">\n",
       "  <thead>\n",
       "    <tr>\n",
       "      <th class=\"blank level0\" >&nbsp;</th>\n",
       "      <th id=\"T_3c1f7_level0_col0\" class=\"col_heading level0 col0\" >Recall</th>\n",
       "      <th id=\"T_3c1f7_level0_col1\" class=\"col_heading level0 col1\" >nDCG</th>\n",
       "      <th id=\"T_3c1f7_level0_col2\" class=\"col_heading level0 col2\" >F1_5</th>\n",
       "      <th id=\"T_3c1f7_level0_col3\" class=\"col_heading level0 col3\" >F1_10</th>\n",
       "      <th id=\"T_3c1f7_level0_col4\" class=\"col_heading level0 col4\" >F1_15</th>\n",
       "    </tr>\n",
       "  </thead>\n",
       "  <tbody>\n",
       "    <tr>\n",
       "      <th id=\"T_3c1f7_level0_row0\" class=\"row_heading level0 row0\" >dataset_base_eval</th>\n",
       "      <td id=\"T_3c1f7_row0_col0\" class=\"data row0 col0\" >90.33%</td>\n",
       "      <td id=\"T_3c1f7_row0_col1\" class=\"data row0 col1\" >65.60%</td>\n",
       "      <td id=\"T_3c1f7_row0_col2\" class=\"data row0 col2\" >9.68%</td>\n",
       "      <td id=\"T_3c1f7_row0_col3\" class=\"data row0 col3\" >14.97%</td>\n",
       "      <td id=\"T_3c1f7_row0_col4\" class=\"data row0 col4\" >20.09%</td>\n",
       "    </tr>\n",
       "  </tbody>\n",
       "</table>\n"
      ],
      "text/plain": [
       "<pandas.io.formats.style.Styler at 0x7f60d7dd4280>"
      ]
     },
     "metadata": {},
     "output_type": "display_data"
    },
    {
     "data": {
      "text/html": [
       "<style type=\"text/css\">\n",
       "</style>\n",
       "<table id=\"T_db6a8\">\n",
       "  <thead>\n",
       "    <tr>\n",
       "      <th class=\"blank level0\" >&nbsp;</th>\n",
       "      <th id=\"T_db6a8_level0_col0\" class=\"col_heading level0 col0\" >Recall</th>\n",
       "      <th id=\"T_db6a8_level0_col1\" class=\"col_heading level0 col1\" >nDCG</th>\n",
       "      <th id=\"T_db6a8_level0_col2\" class=\"col_heading level0 col2\" >F1_5</th>\n",
       "      <th id=\"T_db6a8_level0_col3\" class=\"col_heading level0 col3\" >F1_10</th>\n",
       "      <th id=\"T_db6a8_level0_col4\" class=\"col_heading level0 col4\" >F1_15</th>\n",
       "    </tr>\n",
       "  </thead>\n",
       "  <tbody>\n",
       "    <tr>\n",
       "      <th id=\"T_db6a8_level0_row0\" class=\"row_heading level0 row0\" >dataset_base_eval</th>\n",
       "      <td id=\"T_db6a8_row0_col0\" class=\"data row0 col0\" >90.33%</td>\n",
       "      <td id=\"T_db6a8_row0_col1\" class=\"data row0 col1\" >65.59%</td>\n",
       "      <td id=\"T_db6a8_row0_col2\" class=\"data row0 col2\" >9.68%</td>\n",
       "      <td id=\"T_db6a8_row0_col3\" class=\"data row0 col3\" >14.85%</td>\n",
       "      <td id=\"T_db6a8_row0_col4\" class=\"data row0 col4\" >20.02%</td>\n",
       "    </tr>\n",
       "  </tbody>\n",
       "</table>\n"
      ],
      "text/plain": [
       "<pandas.io.formats.style.Styler at 0x7f60c2668220>"
      ]
     },
     "metadata": {},
     "output_type": "display_data"
    },
    {
     "data": {
      "text/html": [
       "<style type=\"text/css\">\n",
       "</style>\n",
       "<table id=\"T_083be\">\n",
       "  <thead>\n",
       "    <tr>\n",
       "      <th class=\"blank level0\" >&nbsp;</th>\n",
       "      <th id=\"T_083be_level0_col0\" class=\"col_heading level0 col0\" >Recall</th>\n",
       "      <th id=\"T_083be_level0_col1\" class=\"col_heading level0 col1\" >nDCG</th>\n",
       "      <th id=\"T_083be_level0_col2\" class=\"col_heading level0 col2\" >F1_5</th>\n",
       "      <th id=\"T_083be_level0_col3\" class=\"col_heading level0 col3\" >F1_10</th>\n",
       "      <th id=\"T_083be_level0_col4\" class=\"col_heading level0 col4\" >F1_15</th>\n",
       "    </tr>\n",
       "  </thead>\n",
       "  <tbody>\n",
       "    <tr>\n",
       "      <th id=\"T_083be_level0_row0\" class=\"row_heading level0 row0\" >dataset_base_eval</th>\n",
       "      <td id=\"T_083be_row0_col0\" class=\"data row0 col0\" >90.33%</td>\n",
       "      <td id=\"T_083be_row0_col1\" class=\"data row0 col1\" >65.58%</td>\n",
       "      <td id=\"T_083be_row0_col2\" class=\"data row0 col2\" >9.44%</td>\n",
       "      <td id=\"T_083be_row0_col3\" class=\"data row0 col3\" >14.85%</td>\n",
       "      <td id=\"T_083be_row0_col4\" class=\"data row0 col4\" >20.01%</td>\n",
       "    </tr>\n",
       "  </tbody>\n",
       "</table>\n"
      ],
      "text/plain": [
       "<pandas.io.formats.style.Styler at 0x7f60c2a43ac0>"
      ]
     },
     "metadata": {},
     "output_type": "display_data"
    },
    {
     "data": {
      "image/png": "[encoded data removed]",
      "text/plain": [
       "<Figure size 640x480 with 1 Axes>"
      ]
     },
     "metadata": {},
     "output_type": "display_data"
    }
   ],
   "source": [
    "import numpy as np\n",
    "from tqdm import tqdm \n",
    "alphas = list(np.linspace(-4, -1, 20))\n",
    "\n",
    "f1_15 = []\n",
    "\n",
    "for alpha in alphas:\n",
    "    # print(f\"alpha = {alpha}\")\n",
    "    f1_15_measure = performance(ranker.rank(results, alpha=alpha))\n",
    "    f1_15.append(f1_15_measure)\n",
    "\n",
    "plt.plot(alphas, f1_15)\n",
    "plt.show()"
   ]
  },
  {
   "cell_type": "code",
   "execution_count": 310,
   "metadata": {},
   "outputs": [
    {
     "data": {
      "text/html": [
       "<style type=\"text/css\">\n",
       "</style>\n",
       "<table id=\"T_65966\">\n",
       "  <thead>\n",
       "    <tr>\n",
       "      <th class=\"blank level0\" >&nbsp;</th>\n",
       "      <th id=\"T_65966_level0_col0\" class=\"col_heading level0 col0\" >Recall</th>\n",
       "      <th id=\"T_65966_level0_col1\" class=\"col_heading level0 col1\" >nDCG</th>\n",
       "      <th id=\"T_65966_level0_col2\" class=\"col_heading level0 col2\" >F1_5</th>\n",
       "      <th id=\"T_65966_level0_col3\" class=\"col_heading level0 col3\" >F1_10</th>\n",
       "      <th id=\"T_65966_level0_col4\" class=\"col_heading level0 col4\" >F1_15</th>\n",
       "    </tr>\n",
       "  </thead>\n",
       "  <tbody>\n",
       "    <tr>\n",
       "      <th id=\"T_65966_level0_row0\" class=\"row_heading level0 row0\" >dataset_base_eval</th>\n",
       "      <td id=\"T_65966_row0_col0\" class=\"data row0 col0\" >90.33%</td>\n",
       "      <td id=\"T_65966_row0_col1\" class=\"data row0 col1\" >65.56%</td>\n",
       "      <td id=\"T_65966_row0_col2\" class=\"data row0 col2\" >9.33%</td>\n",
       "      <td id=\"T_65966_row0_col3\" class=\"data row0 col3\" >15.07%</td>\n",
       "      <td id=\"T_65966_row0_col4\" class=\"data row0 col4\" >19.67%</td>\n",
       "    </tr>\n",
       "  </tbody>\n",
       "</table>\n"
      ],
      "text/plain": [
       "<pandas.io.formats.style.Styler at 0x7f60bdd68700>"
      ]
     },
     "metadata": {},
     "output_type": "display_data"
    },
    {
     "data": {
      "text/html": [
       "<style type=\"text/css\">\n",
       "</style>\n",
       "<table id=\"T_64f83\">\n",
       "  <thead>\n",
       "    <tr>\n",
       "      <th class=\"blank level0\" >&nbsp;</th>\n",
       "      <th id=\"T_64f83_level0_col0\" class=\"col_heading level0 col0\" >Recall</th>\n",
       "      <th id=\"T_64f83_level0_col1\" class=\"col_heading level0 col1\" >nDCG</th>\n",
       "      <th id=\"T_64f83_level0_col2\" class=\"col_heading level0 col2\" >F1_5</th>\n",
       "      <th id=\"T_64f83_level0_col3\" class=\"col_heading level0 col3\" >F1_10</th>\n",
       "      <th id=\"T_64f83_level0_col4\" class=\"col_heading level0 col4\" >F1_15</th>\n",
       "    </tr>\n",
       "  </thead>\n",
       "  <tbody>\n",
       "    <tr>\n",
       "      <th id=\"T_64f83_level0_row0\" class=\"row_heading level0 row0\" >dataset_base_eval</th>\n",
       "      <td id=\"T_64f83_row0_col0\" class=\"data row0 col0\" >90.33%</td>\n",
       "      <td id=\"T_64f83_row0_col1\" class=\"data row0 col1\" >65.59%</td>\n",
       "      <td id=\"T_64f83_row0_col2\" class=\"data row0 col2\" >9.40%</td>\n",
       "      <td id=\"T_64f83_row0_col3\" class=\"data row0 col3\" >15.07%</td>\n",
       "      <td id=\"T_64f83_row0_col4\" class=\"data row0 col4\" >19.67%</td>\n",
       "    </tr>\n",
       "  </tbody>\n",
       "</table>\n"
      ],
      "text/plain": [
       "<pandas.io.formats.style.Styler at 0x7f60cbe90a00>"
      ]
     },
     "metadata": {},
     "output_type": "display_data"
    },
    {
     "data": {
      "text/html": [
       "<style type=\"text/css\">\n",
       "</style>\n",
       "<table id=\"T_9429b\">\n",
       "  <thead>\n",
       "    <tr>\n",
       "      <th class=\"blank level0\" >&nbsp;</th>\n",
       "      <th id=\"T_9429b_level0_col0\" class=\"col_heading level0 col0\" >Recall</th>\n",
       "      <th id=\"T_9429b_level0_col1\" class=\"col_heading level0 col1\" >nDCG</th>\n",
       "      <th id=\"T_9429b_level0_col2\" class=\"col_heading level0 col2\" >F1_5</th>\n",
       "      <th id=\"T_9429b_level0_col3\" class=\"col_heading level0 col3\" >F1_10</th>\n",
       "      <th id=\"T_9429b_level0_col4\" class=\"col_heading level0 col4\" >F1_15</th>\n",
       "    </tr>\n",
       "  </thead>\n",
       "  <tbody>\n",
       "    <tr>\n",
       "      <th id=\"T_9429b_level0_row0\" class=\"row_heading level0 row0\" >dataset_base_eval</th>\n",
       "      <td id=\"T_9429b_row0_col0\" class=\"data row0 col0\" >90.33%</td>\n",
       "      <td id=\"T_9429b_row0_col1\" class=\"data row0 col1\" >65.58%</td>\n",
       "      <td id=\"T_9429b_row0_col2\" class=\"data row0 col2\" >9.40%</td>\n",
       "      <td id=\"T_9429b_row0_col3\" class=\"data row0 col3\" >15.00%</td>\n",
       "      <td id=\"T_9429b_row0_col4\" class=\"data row0 col4\" >19.83%</td>\n",
       "    </tr>\n",
       "  </tbody>\n",
       "</table>\n"
      ],
      "text/plain": [
       "<pandas.io.formats.style.Styler at 0x7f60cbe90a00>"
      ]
     },
     "metadata": {},
     "output_type": "display_data"
    },
    {
     "data": {
      "text/html": [
       "<style type=\"text/css\">\n",
       "</style>\n",
       "<table id=\"T_7833e\">\n",
       "  <thead>\n",
       "    <tr>\n",
       "      <th class=\"blank level0\" >&nbsp;</th>\n",
       "      <th id=\"T_7833e_level0_col0\" class=\"col_heading level0 col0\" >Recall</th>\n",
       "      <th id=\"T_7833e_level0_col1\" class=\"col_heading level0 col1\" >nDCG</th>\n",
       "      <th id=\"T_7833e_level0_col2\" class=\"col_heading level0 col2\" >F1_5</th>\n",
       "      <th id=\"T_7833e_level0_col3\" class=\"col_heading level0 col3\" >F1_10</th>\n",
       "      <th id=\"T_7833e_level0_col4\" class=\"col_heading level0 col4\" >F1_15</th>\n",
       "    </tr>\n",
       "  </thead>\n",
       "  <tbody>\n",
       "    <tr>\n",
       "      <th id=\"T_7833e_level0_row0\" class=\"row_heading level0 row0\" >dataset_base_eval</th>\n",
       "      <td id=\"T_7833e_row0_col0\" class=\"data row0 col0\" >90.33%</td>\n",
       "      <td id=\"T_7833e_row0_col1\" class=\"data row0 col1\" >65.58%</td>\n",
       "      <td id=\"T_7833e_row0_col2\" class=\"data row0 col2\" >9.40%</td>\n",
       "      <td id=\"T_7833e_row0_col3\" class=\"data row0 col3\" >14.92%</td>\n",
       "      <td id=\"T_7833e_row0_col4\" class=\"data row0 col4\" >19.83%</td>\n",
       "    </tr>\n",
       "  </tbody>\n",
       "</table>\n"
      ],
      "text/plain": [
       "<pandas.io.formats.style.Styler at 0x7f60ce5f7d60>"
      ]
     },
     "metadata": {},
     "output_type": "display_data"
    },
    {
     "data": {
      "text/html": [
       "<style type=\"text/css\">\n",
       "</style>\n",
       "<table id=\"T_06af5\">\n",
       "  <thead>\n",
       "    <tr>\n",
       "      <th class=\"blank level0\" >&nbsp;</th>\n",
       "      <th id=\"T_06af5_level0_col0\" class=\"col_heading level0 col0\" >Recall</th>\n",
       "      <th id=\"T_06af5_level0_col1\" class=\"col_heading level0 col1\" >nDCG</th>\n",
       "      <th id=\"T_06af5_level0_col2\" class=\"col_heading level0 col2\" >F1_5</th>\n",
       "      <th id=\"T_06af5_level0_col3\" class=\"col_heading level0 col3\" >F1_10</th>\n",
       "      <th id=\"T_06af5_level0_col4\" class=\"col_heading level0 col4\" >F1_15</th>\n",
       "    </tr>\n",
       "  </thead>\n",
       "  <tbody>\n",
       "    <tr>\n",
       "      <th id=\"T_06af5_level0_row0\" class=\"row_heading level0 row0\" >dataset_base_eval</th>\n",
       "      <td id=\"T_06af5_row0_col0\" class=\"data row0 col0\" >90.33%</td>\n",
       "      <td id=\"T_06af5_row0_col1\" class=\"data row0 col1\" >65.48%</td>\n",
       "      <td id=\"T_06af5_row0_col2\" class=\"data row0 col2\" >9.33%</td>\n",
       "      <td id=\"T_06af5_row0_col3\" class=\"data row0 col3\" >14.92%</td>\n",
       "      <td id=\"T_06af5_row0_col4\" class=\"data row0 col4\" >19.90%</td>\n",
       "    </tr>\n",
       "  </tbody>\n",
       "</table>\n"
      ],
      "text/plain": [
       "<pandas.io.formats.style.Styler at 0x7f60ce5f7d60>"
      ]
     },
     "metadata": {},
     "output_type": "display_data"
    },
    {
     "data": {
      "text/html": [
       "<style type=\"text/css\">\n",
       "</style>\n",
       "<table id=\"T_22011\">\n",
       "  <thead>\n",
       "    <tr>\n",
       "      <th class=\"blank level0\" >&nbsp;</th>\n",
       "      <th id=\"T_22011_level0_col0\" class=\"col_heading level0 col0\" >Recall</th>\n",
       "      <th id=\"T_22011_level0_col1\" class=\"col_heading level0 col1\" >nDCG</th>\n",
       "      <th id=\"T_22011_level0_col2\" class=\"col_heading level0 col2\" >F1_5</th>\n",
       "      <th id=\"T_22011_level0_col3\" class=\"col_heading level0 col3\" >F1_10</th>\n",
       "      <th id=\"T_22011_level0_col4\" class=\"col_heading level0 col4\" >F1_15</th>\n",
       "    </tr>\n",
       "  </thead>\n",
       "  <tbody>\n",
       "    <tr>\n",
       "      <th id=\"T_22011_level0_row0\" class=\"row_heading level0 row0\" >dataset_base_eval</th>\n",
       "      <td id=\"T_22011_row0_col0\" class=\"data row0 col0\" >90.33%</td>\n",
       "      <td id=\"T_22011_row0_col1\" class=\"data row0 col1\" >65.49%</td>\n",
       "      <td id=\"T_22011_row0_col2\" class=\"data row0 col2\" >9.10%</td>\n",
       "      <td id=\"T_22011_row0_col3\" class=\"data row0 col3\" >14.86%</td>\n",
       "      <td id=\"T_22011_row0_col4\" class=\"data row0 col4\" >19.96%</td>\n",
       "    </tr>\n",
       "  </tbody>\n",
       "</table>\n"
      ],
      "text/plain": [
       "<pandas.io.formats.style.Styler at 0x7f60ce5f7d60>"
      ]
     },
     "metadata": {},
     "output_type": "display_data"
    },
    {
     "data": {
      "text/html": [
       "<style type=\"text/css\">\n",
       "</style>\n",
       "<table id=\"T_aae1c\">\n",
       "  <thead>\n",
       "    <tr>\n",
       "      <th class=\"blank level0\" >&nbsp;</th>\n",
       "      <th id=\"T_aae1c_level0_col0\" class=\"col_heading level0 col0\" >Recall</th>\n",
       "      <th id=\"T_aae1c_level0_col1\" class=\"col_heading level0 col1\" >nDCG</th>\n",
       "      <th id=\"T_aae1c_level0_col2\" class=\"col_heading level0 col2\" >F1_5</th>\n",
       "      <th id=\"T_aae1c_level0_col3\" class=\"col_heading level0 col3\" >F1_10</th>\n",
       "      <th id=\"T_aae1c_level0_col4\" class=\"col_heading level0 col4\" >F1_15</th>\n",
       "    </tr>\n",
       "  </thead>\n",
       "  <tbody>\n",
       "    <tr>\n",
       "      <th id=\"T_aae1c_level0_row0\" class=\"row_heading level0 row0\" >dataset_base_eval</th>\n",
       "      <td id=\"T_aae1c_row0_col0\" class=\"data row0 col0\" >90.33%</td>\n",
       "      <td id=\"T_aae1c_row0_col1\" class=\"data row0 col1\" >65.61%</td>\n",
       "      <td id=\"T_aae1c_row0_col2\" class=\"data row0 col2\" >9.10%</td>\n",
       "      <td id=\"T_aae1c_row0_col3\" class=\"data row0 col3\" >14.77%</td>\n",
       "      <td id=\"T_aae1c_row0_col4\" class=\"data row0 col4\" >19.96%</td>\n",
       "    </tr>\n",
       "  </tbody>\n",
       "</table>\n"
      ],
      "text/plain": [
       "<pandas.io.formats.style.Styler at 0x7f60bc19eb60>"
      ]
     },
     "metadata": {},
     "output_type": "display_data"
    },
    {
     "data": {
      "text/html": [
       "<style type=\"text/css\">\n",
       "</style>\n",
       "<table id=\"T_07e67\">\n",
       "  <thead>\n",
       "    <tr>\n",
       "      <th class=\"blank level0\" >&nbsp;</th>\n",
       "      <th id=\"T_07e67_level0_col0\" class=\"col_heading level0 col0\" >Recall</th>\n",
       "      <th id=\"T_07e67_level0_col1\" class=\"col_heading level0 col1\" >nDCG</th>\n",
       "      <th id=\"T_07e67_level0_col2\" class=\"col_heading level0 col2\" >F1_5</th>\n",
       "      <th id=\"T_07e67_level0_col3\" class=\"col_heading level0 col3\" >F1_10</th>\n",
       "      <th id=\"T_07e67_level0_col4\" class=\"col_heading level0 col4\" >F1_15</th>\n",
       "    </tr>\n",
       "  </thead>\n",
       "  <tbody>\n",
       "    <tr>\n",
       "      <th id=\"T_07e67_level0_row0\" class=\"row_heading level0 row0\" >dataset_base_eval</th>\n",
       "      <td id=\"T_07e67_row0_col0\" class=\"data row0 col0\" >90.33%</td>\n",
       "      <td id=\"T_07e67_row0_col1\" class=\"data row0 col1\" >65.63%</td>\n",
       "      <td id=\"T_07e67_row0_col2\" class=\"data row0 col2\" >9.10%</td>\n",
       "      <td id=\"T_07e67_row0_col3\" class=\"data row0 col3\" >14.74%</td>\n",
       "      <td id=\"T_07e67_row0_col4\" class=\"data row0 col4\" >19.96%</td>\n",
       "    </tr>\n",
       "  </tbody>\n",
       "</table>\n"
      ],
      "text/plain": [
       "<pandas.io.formats.style.Styler at 0x7f60c9daf580>"
      ]
     },
     "metadata": {},
     "output_type": "display_data"
    },
    {
     "data": {
      "text/html": [
       "<style type=\"text/css\">\n",
       "</style>\n",
       "<table id=\"T_9d0b4\">\n",
       "  <thead>\n",
       "    <tr>\n",
       "      <th class=\"blank level0\" >&nbsp;</th>\n",
       "      <th id=\"T_9d0b4_level0_col0\" class=\"col_heading level0 col0\" >Recall</th>\n",
       "      <th id=\"T_9d0b4_level0_col1\" class=\"col_heading level0 col1\" >nDCG</th>\n",
       "      <th id=\"T_9d0b4_level0_col2\" class=\"col_heading level0 col2\" >F1_5</th>\n",
       "      <th id=\"T_9d0b4_level0_col3\" class=\"col_heading level0 col3\" >F1_10</th>\n",
       "      <th id=\"T_9d0b4_level0_col4\" class=\"col_heading level0 col4\" >F1_15</th>\n",
       "    </tr>\n",
       "  </thead>\n",
       "  <tbody>\n",
       "    <tr>\n",
       "      <th id=\"T_9d0b4_level0_row0\" class=\"row_heading level0 row0\" >dataset_base_eval</th>\n",
       "      <td id=\"T_9d0b4_row0_col0\" class=\"data row0 col0\" >90.33%</td>\n",
       "      <td id=\"T_9d0b4_row0_col1\" class=\"data row0 col1\" >65.64%</td>\n",
       "      <td id=\"T_9d0b4_row0_col2\" class=\"data row0 col2\" >9.10%</td>\n",
       "      <td id=\"T_9d0b4_row0_col3\" class=\"data row0 col3\" >14.74%</td>\n",
       "      <td id=\"T_9d0b4_row0_col4\" class=\"data row0 col4\" >19.89%</td>\n",
       "    </tr>\n",
       "  </tbody>\n",
       "</table>\n"
      ],
      "text/plain": [
       "<pandas.io.formats.style.Styler at 0x7f60bc19eb60>"
      ]
     },
     "metadata": {},
     "output_type": "display_data"
    },
    {
     "data": {
      "text/html": [
       "<style type=\"text/css\">\n",
       "</style>\n",
       "<table id=\"T_99d02\">\n",
       "  <thead>\n",
       "    <tr>\n",
       "      <th class=\"blank level0\" >&nbsp;</th>\n",
       "      <th id=\"T_99d02_level0_col0\" class=\"col_heading level0 col0\" >Recall</th>\n",
       "      <th id=\"T_99d02_level0_col1\" class=\"col_heading level0 col1\" >nDCG</th>\n",
       "      <th id=\"T_99d02_level0_col2\" class=\"col_heading level0 col2\" >F1_5</th>\n",
       "      <th id=\"T_99d02_level0_col3\" class=\"col_heading level0 col3\" >F1_10</th>\n",
       "      <th id=\"T_99d02_level0_col4\" class=\"col_heading level0 col4\" >F1_15</th>\n",
       "    </tr>\n",
       "  </thead>\n",
       "  <tbody>\n",
       "    <tr>\n",
       "      <th id=\"T_99d02_level0_row0\" class=\"row_heading level0 row0\" >dataset_base_eval</th>\n",
       "      <td id=\"T_99d02_row0_col0\" class=\"data row0 col0\" >90.33%</td>\n",
       "      <td id=\"T_99d02_row0_col1\" class=\"data row0 col1\" >65.62%</td>\n",
       "      <td id=\"T_99d02_row0_col2\" class=\"data row0 col2\" >8.94%</td>\n",
       "      <td id=\"T_99d02_row0_col3\" class=\"data row0 col3\" >14.74%</td>\n",
       "      <td id=\"T_99d02_row0_col4\" class=\"data row0 col4\" >19.84%</td>\n",
       "    </tr>\n",
       "  </tbody>\n",
       "</table>\n"
      ],
      "text/plain": [
       "<pandas.io.formats.style.Styler at 0x7f60bdd68700>"
      ]
     },
     "metadata": {},
     "output_type": "display_data"
    },
    {
     "data": {
      "text/html": [
       "<style type=\"text/css\">\n",
       "</style>\n",
       "<table id=\"T_db6e1\">\n",
       "  <thead>\n",
       "    <tr>\n",
       "      <th class=\"blank level0\" >&nbsp;</th>\n",
       "      <th id=\"T_db6e1_level0_col0\" class=\"col_heading level0 col0\" >Recall</th>\n",
       "      <th id=\"T_db6e1_level0_col1\" class=\"col_heading level0 col1\" >nDCG</th>\n",
       "      <th id=\"T_db6e1_level0_col2\" class=\"col_heading level0 col2\" >F1_5</th>\n",
       "      <th id=\"T_db6e1_level0_col3\" class=\"col_heading level0 col3\" >F1_10</th>\n",
       "      <th id=\"T_db6e1_level0_col4\" class=\"col_heading level0 col4\" >F1_15</th>\n",
       "    </tr>\n",
       "  </thead>\n",
       "  <tbody>\n",
       "    <tr>\n",
       "      <th id=\"T_db6e1_level0_row0\" class=\"row_heading level0 row0\" >dataset_base_eval</th>\n",
       "      <td id=\"T_db6e1_row0_col0\" class=\"data row0 col0\" >90.33%</td>\n",
       "      <td id=\"T_db6e1_row0_col1\" class=\"data row0 col1\" >65.62%</td>\n",
       "      <td id=\"T_db6e1_row0_col2\" class=\"data row0 col2\" >9.02%</td>\n",
       "      <td id=\"T_db6e1_row0_col3\" class=\"data row0 col3\" >14.83%</td>\n",
       "      <td id=\"T_db6e1_row0_col4\" class=\"data row0 col4\" >19.91%</td>\n",
       "    </tr>\n",
       "  </tbody>\n",
       "</table>\n"
      ],
      "text/plain": [
       "<pandas.io.formats.style.Styler at 0x7f60cbe90a00>"
      ]
     },
     "metadata": {},
     "output_type": "display_data"
    },
    {
     "data": {
      "text/html": [
       "<style type=\"text/css\">\n",
       "</style>\n",
       "<table id=\"T_dfc20\">\n",
       "  <thead>\n",
       "    <tr>\n",
       "      <th class=\"blank level0\" >&nbsp;</th>\n",
       "      <th id=\"T_dfc20_level0_col0\" class=\"col_heading level0 col0\" >Recall</th>\n",
       "      <th id=\"T_dfc20_level0_col1\" class=\"col_heading level0 col1\" >nDCG</th>\n",
       "      <th id=\"T_dfc20_level0_col2\" class=\"col_heading level0 col2\" >F1_5</th>\n",
       "      <th id=\"T_dfc20_level0_col3\" class=\"col_heading level0 col3\" >F1_10</th>\n",
       "      <th id=\"T_dfc20_level0_col4\" class=\"col_heading level0 col4\" >F1_15</th>\n",
       "    </tr>\n",
       "  </thead>\n",
       "  <tbody>\n",
       "    <tr>\n",
       "      <th id=\"T_dfc20_level0_row0\" class=\"row_heading level0 row0\" >dataset_base_eval</th>\n",
       "      <td id=\"T_dfc20_row0_col0\" class=\"data row0 col0\" >90.33%</td>\n",
       "      <td id=\"T_dfc20_row0_col1\" class=\"data row0 col1\" >65.63%</td>\n",
       "      <td id=\"T_dfc20_row0_col2\" class=\"data row0 col2\" >9.02%</td>\n",
       "      <td id=\"T_dfc20_row0_col3\" class=\"data row0 col3\" >14.83%</td>\n",
       "      <td id=\"T_dfc20_row0_col4\" class=\"data row0 col4\" >19.98%</td>\n",
       "    </tr>\n",
       "  </tbody>\n",
       "</table>\n"
      ],
      "text/plain": [
       "<pandas.io.formats.style.Styler at 0x7f60bc19eb60>"
      ]
     },
     "metadata": {},
     "output_type": "display_data"
    },
    {
     "data": {
      "text/html": [
       "<style type=\"text/css\">\n",
       "</style>\n",
       "<table id=\"T_ad256\">\n",
       "  <thead>\n",
       "    <tr>\n",
       "      <th class=\"blank level0\" >&nbsp;</th>\n",
       "      <th id=\"T_ad256_level0_col0\" class=\"col_heading level0 col0\" >Recall</th>\n",
       "      <th id=\"T_ad256_level0_col1\" class=\"col_heading level0 col1\" >nDCG</th>\n",
       "      <th id=\"T_ad256_level0_col2\" class=\"col_heading level0 col2\" >F1_5</th>\n",
       "      <th id=\"T_ad256_level0_col3\" class=\"col_heading level0 col3\" >F1_10</th>\n",
       "      <th id=\"T_ad256_level0_col4\" class=\"col_heading level0 col4\" >F1_15</th>\n",
       "    </tr>\n",
       "  </thead>\n",
       "  <tbody>\n",
       "    <tr>\n",
       "      <th id=\"T_ad256_level0_row0\" class=\"row_heading level0 row0\" >dataset_base_eval</th>\n",
       "      <td id=\"T_ad256_row0_col0\" class=\"data row0 col0\" >90.33%</td>\n",
       "      <td id=\"T_ad256_row0_col1\" class=\"data row0 col1\" >65.63%</td>\n",
       "      <td id=\"T_ad256_row0_col2\" class=\"data row0 col2\" >9.02%</td>\n",
       "      <td id=\"T_ad256_row0_col3\" class=\"data row0 col3\" >14.91%</td>\n",
       "      <td id=\"T_ad256_row0_col4\" class=\"data row0 col4\" >20.05%</td>\n",
       "    </tr>\n",
       "  </tbody>\n",
       "</table>\n"
      ],
      "text/plain": [
       "<pandas.io.formats.style.Styler at 0x7f60ce5f7d60>"
      ]
     },
     "metadata": {},
     "output_type": "display_data"
    },
    {
     "data": {
      "text/html": [
       "<style type=\"text/css\">\n",
       "</style>\n",
       "<table id=\"T_d8704\">\n",
       "  <thead>\n",
       "    <tr>\n",
       "      <th class=\"blank level0\" >&nbsp;</th>\n",
       "      <th id=\"T_d8704_level0_col0\" class=\"col_heading level0 col0\" >Recall</th>\n",
       "      <th id=\"T_d8704_level0_col1\" class=\"col_heading level0 col1\" >nDCG</th>\n",
       "      <th id=\"T_d8704_level0_col2\" class=\"col_heading level0 col2\" >F1_5</th>\n",
       "      <th id=\"T_d8704_level0_col3\" class=\"col_heading level0 col3\" >F1_10</th>\n",
       "      <th id=\"T_d8704_level0_col4\" class=\"col_heading level0 col4\" >F1_15</th>\n",
       "    </tr>\n",
       "  </thead>\n",
       "  <tbody>\n",
       "    <tr>\n",
       "      <th id=\"T_d8704_level0_row0\" class=\"row_heading level0 row0\" >dataset_base_eval</th>\n",
       "      <td id=\"T_d8704_row0_col0\" class=\"data row0 col0\" >90.33%</td>\n",
       "      <td id=\"T_d8704_row0_col1\" class=\"data row0 col1\" >65.64%</td>\n",
       "      <td id=\"T_d8704_row0_col2\" class=\"data row0 col2\" >9.02%</td>\n",
       "      <td id=\"T_d8704_row0_col3\" class=\"data row0 col3\" >14.91%</td>\n",
       "      <td id=\"T_d8704_row0_col4\" class=\"data row0 col4\" >20.21%</td>\n",
       "    </tr>\n",
       "  </tbody>\n",
       "</table>\n"
      ],
      "text/plain": [
       "<pandas.io.formats.style.Styler at 0x7f60cbe54bb0>"
      ]
     },
     "metadata": {},
     "output_type": "display_data"
    },
    {
     "data": {
      "text/html": [
       "<style type=\"text/css\">\n",
       "</style>\n",
       "<table id=\"T_bc633\">\n",
       "  <thead>\n",
       "    <tr>\n",
       "      <th class=\"blank level0\" >&nbsp;</th>\n",
       "      <th id=\"T_bc633_level0_col0\" class=\"col_heading level0 col0\" >Recall</th>\n",
       "      <th id=\"T_bc633_level0_col1\" class=\"col_heading level0 col1\" >nDCG</th>\n",
       "      <th id=\"T_bc633_level0_col2\" class=\"col_heading level0 col2\" >F1_5</th>\n",
       "      <th id=\"T_bc633_level0_col3\" class=\"col_heading level0 col3\" >F1_10</th>\n",
       "      <th id=\"T_bc633_level0_col4\" class=\"col_heading level0 col4\" >F1_15</th>\n",
       "    </tr>\n",
       "  </thead>\n",
       "  <tbody>\n",
       "    <tr>\n",
       "      <th id=\"T_bc633_level0_row0\" class=\"row_heading level0 row0\" >dataset_base_eval</th>\n",
       "      <td id=\"T_bc633_row0_col0\" class=\"data row0 col0\" >90.33%</td>\n",
       "      <td id=\"T_bc633_row0_col1\" class=\"data row0 col1\" >65.66%</td>\n",
       "      <td id=\"T_bc633_row0_col2\" class=\"data row0 col2\" >9.02%</td>\n",
       "      <td id=\"T_bc633_row0_col3\" class=\"data row0 col3\" >14.79%</td>\n",
       "      <td id=\"T_bc633_row0_col4\" class=\"data row0 col4\" >20.14%</td>\n",
       "    </tr>\n",
       "  </tbody>\n",
       "</table>\n"
      ],
      "text/plain": [
       "<pandas.io.formats.style.Styler at 0x7f60bc19eb60>"
      ]
     },
     "metadata": {},
     "output_type": "display_data"
    },
    {
     "data": {
      "text/html": [
       "<style type=\"text/css\">\n",
       "</style>\n",
       "<table id=\"T_64618\">\n",
       "  <thead>\n",
       "    <tr>\n",
       "      <th class=\"blank level0\" >&nbsp;</th>\n",
       "      <th id=\"T_64618_level0_col0\" class=\"col_heading level0 col0\" >Recall</th>\n",
       "      <th id=\"T_64618_level0_col1\" class=\"col_heading level0 col1\" >nDCG</th>\n",
       "      <th id=\"T_64618_level0_col2\" class=\"col_heading level0 col2\" >F1_5</th>\n",
       "      <th id=\"T_64618_level0_col3\" class=\"col_heading level0 col3\" >F1_10</th>\n",
       "      <th id=\"T_64618_level0_col4\" class=\"col_heading level0 col4\" >F1_15</th>\n",
       "    </tr>\n",
       "  </thead>\n",
       "  <tbody>\n",
       "    <tr>\n",
       "      <th id=\"T_64618_level0_row0\" class=\"row_heading level0 row0\" >dataset_base_eval</th>\n",
       "      <td id=\"T_64618_row0_col0\" class=\"data row0 col0\" >90.33%</td>\n",
       "      <td id=\"T_64618_row0_col1\" class=\"data row0 col1\" >65.66%</td>\n",
       "      <td id=\"T_64618_row0_col2\" class=\"data row0 col2\" >8.88%</td>\n",
       "      <td id=\"T_64618_row0_col3\" class=\"data row0 col3\" >14.79%</td>\n",
       "      <td id=\"T_64618_row0_col4\" class=\"data row0 col4\" >20.13%</td>\n",
       "    </tr>\n",
       "  </tbody>\n",
       "</table>\n"
      ],
      "text/plain": [
       "<pandas.io.formats.style.Styler at 0x7f60bc19eb60>"
      ]
     },
     "metadata": {},
     "output_type": "display_data"
    },
    {
     "data": {
      "text/html": [
       "<style type=\"text/css\">\n",
       "</style>\n",
       "<table id=\"T_5ff8e\">\n",
       "  <thead>\n",
       "    <tr>\n",
       "      <th class=\"blank level0\" >&nbsp;</th>\n",
       "      <th id=\"T_5ff8e_level0_col0\" class=\"col_heading level0 col0\" >Recall</th>\n",
       "      <th id=\"T_5ff8e_level0_col1\" class=\"col_heading level0 col1\" >nDCG</th>\n",
       "      <th id=\"T_5ff8e_level0_col2\" class=\"col_heading level0 col2\" >F1_5</th>\n",
       "      <th id=\"T_5ff8e_level0_col3\" class=\"col_heading level0 col3\" >F1_10</th>\n",
       "      <th id=\"T_5ff8e_level0_col4\" class=\"col_heading level0 col4\" >F1_15</th>\n",
       "    </tr>\n",
       "  </thead>\n",
       "  <tbody>\n",
       "    <tr>\n",
       "      <th id=\"T_5ff8e_level0_row0\" class=\"row_heading level0 row0\" >dataset_base_eval</th>\n",
       "      <td id=\"T_5ff8e_row0_col0\" class=\"data row0 col0\" >90.33%</td>\n",
       "      <td id=\"T_5ff8e_row0_col1\" class=\"data row0 col1\" >65.66%</td>\n",
       "      <td id=\"T_5ff8e_row0_col2\" class=\"data row0 col2\" >8.88%</td>\n",
       "      <td id=\"T_5ff8e_row0_col3\" class=\"data row0 col3\" >14.67%</td>\n",
       "      <td id=\"T_5ff8e_row0_col4\" class=\"data row0 col4\" >20.13%</td>\n",
       "    </tr>\n",
       "  </tbody>\n",
       "</table>\n"
      ],
      "text/plain": [
       "<pandas.io.formats.style.Styler at 0x7f60cbe54bb0>"
      ]
     },
     "metadata": {},
     "output_type": "display_data"
    },
    {
     "data": {
      "text/html": [
       "<style type=\"text/css\">\n",
       "</style>\n",
       "<table id=\"T_39dba\">\n",
       "  <thead>\n",
       "    <tr>\n",
       "      <th class=\"blank level0\" >&nbsp;</th>\n",
       "      <th id=\"T_39dba_level0_col0\" class=\"col_heading level0 col0\" >Recall</th>\n",
       "      <th id=\"T_39dba_level0_col1\" class=\"col_heading level0 col1\" >nDCG</th>\n",
       "      <th id=\"T_39dba_level0_col2\" class=\"col_heading level0 col2\" >F1_5</th>\n",
       "      <th id=\"T_39dba_level0_col3\" class=\"col_heading level0 col3\" >F1_10</th>\n",
       "      <th id=\"T_39dba_level0_col4\" class=\"col_heading level0 col4\" >F1_15</th>\n",
       "    </tr>\n",
       "  </thead>\n",
       "  <tbody>\n",
       "    <tr>\n",
       "      <th id=\"T_39dba_level0_row0\" class=\"row_heading level0 row0\" >dataset_base_eval</th>\n",
       "      <td id=\"T_39dba_row0_col0\" class=\"data row0 col0\" >90.33%</td>\n",
       "      <td id=\"T_39dba_row0_col1\" class=\"data row0 col1\" >65.51%</td>\n",
       "      <td id=\"T_39dba_row0_col2\" class=\"data row0 col2\" >8.88%</td>\n",
       "      <td id=\"T_39dba_row0_col3\" class=\"data row0 col3\" >14.81%</td>\n",
       "      <td id=\"T_39dba_row0_col4\" class=\"data row0 col4\" >20.13%</td>\n",
       "    </tr>\n",
       "  </tbody>\n",
       "</table>\n"
      ],
      "text/plain": [
       "<pandas.io.formats.style.Styler at 0x7f60bdd68700>"
      ]
     },
     "metadata": {},
     "output_type": "display_data"
    },
    {
     "data": {
      "text/html": [
       "<style type=\"text/css\">\n",
       "</style>\n",
       "<table id=\"T_27552\">\n",
       "  <thead>\n",
       "    <tr>\n",
       "      <th class=\"blank level0\" >&nbsp;</th>\n",
       "      <th id=\"T_27552_level0_col0\" class=\"col_heading level0 col0\" >Recall</th>\n",
       "      <th id=\"T_27552_level0_col1\" class=\"col_heading level0 col1\" >nDCG</th>\n",
       "      <th id=\"T_27552_level0_col2\" class=\"col_heading level0 col2\" >F1_5</th>\n",
       "      <th id=\"T_27552_level0_col3\" class=\"col_heading level0 col3\" >F1_10</th>\n",
       "      <th id=\"T_27552_level0_col4\" class=\"col_heading level0 col4\" >F1_15</th>\n",
       "    </tr>\n",
       "  </thead>\n",
       "  <tbody>\n",
       "    <tr>\n",
       "      <th id=\"T_27552_level0_row0\" class=\"row_heading level0 row0\" >dataset_base_eval</th>\n",
       "      <td id=\"T_27552_row0_col0\" class=\"data row0 col0\" >90.33%</td>\n",
       "      <td id=\"T_27552_row0_col1\" class=\"data row0 col1\" >65.55%</td>\n",
       "      <td id=\"T_27552_row0_col2\" class=\"data row0 col2\" >8.95%</td>\n",
       "      <td id=\"T_27552_row0_col3\" class=\"data row0 col3\" >14.73%</td>\n",
       "      <td id=\"T_27552_row0_col4\" class=\"data row0 col4\" >20.13%</td>\n",
       "    </tr>\n",
       "  </tbody>\n",
       "</table>\n"
      ],
      "text/plain": [
       "<pandas.io.formats.style.Styler at 0x7f60cbe90a00>"
      ]
     },
     "metadata": {},
     "output_type": "display_data"
    },
    {
     "data": {
      "text/html": [
       "<style type=\"text/css\">\n",
       "</style>\n",
       "<table id=\"T_4eae9\">\n",
       "  <thead>\n",
       "    <tr>\n",
       "      <th class=\"blank level0\" >&nbsp;</th>\n",
       "      <th id=\"T_4eae9_level0_col0\" class=\"col_heading level0 col0\" >Recall</th>\n",
       "      <th id=\"T_4eae9_level0_col1\" class=\"col_heading level0 col1\" >nDCG</th>\n",
       "      <th id=\"T_4eae9_level0_col2\" class=\"col_heading level0 col2\" >F1_5</th>\n",
       "      <th id=\"T_4eae9_level0_col3\" class=\"col_heading level0 col3\" >F1_10</th>\n",
       "      <th id=\"T_4eae9_level0_col4\" class=\"col_heading level0 col4\" >F1_15</th>\n",
       "    </tr>\n",
       "  </thead>\n",
       "  <tbody>\n",
       "    <tr>\n",
       "      <th id=\"T_4eae9_level0_row0\" class=\"row_heading level0 row0\" >dataset_base_eval</th>\n",
       "      <td id=\"T_4eae9_row0_col0\" class=\"data row0 col0\" >90.33%</td>\n",
       "      <td id=\"T_4eae9_row0_col1\" class=\"data row0 col1\" >65.55%</td>\n",
       "      <td id=\"T_4eae9_row0_col2\" class=\"data row0 col2\" >8.87%</td>\n",
       "      <td id=\"T_4eae9_row0_col3\" class=\"data row0 col3\" >14.73%</td>\n",
       "      <td id=\"T_4eae9_row0_col4\" class=\"data row0 col4\" >19.98%</td>\n",
       "    </tr>\n",
       "  </tbody>\n",
       "</table>\n"
      ],
      "text/plain": [
       "<pandas.io.formats.style.Styler at 0x7f60ce5f7d60>"
      ]
     },
     "metadata": {},
     "output_type": "display_data"
    },
    {
     "data": {
      "image/png": "[encoded data removed]",
      "text/plain": [
       "<Figure size 640x480 with 1 Axes>"
      ]
     },
     "metadata": {},
     "output_type": "display_data"
    }
   ],
   "source": [
    "import numpy as np\n",
    "from tqdm import tqdm \n",
    "alphas = list(np.linspace(-1, 0, 20))\n",
    "\n",
    "f1_15 = []\n",
    "\n",
    "for alpha in alphas:\n",
    "    # print(f\"alpha = {alpha}\")\n",
    "    f1_15_measure = performance(ranker.rank(results, alpha=alpha))\n",
    "    f1_15.append(f1_15_measure)\n",
    "\n",
    "plt.plot(alphas, f1_15)\n",
    "plt.show()"
   ]
  },
  {
   "cell_type": "code",
   "execution_count": 411,
   "metadata": {
    "scrolled": true
   },
   "outputs": [
    {
     "data": {
      "text/html": [
       "<style type=\"text/css\">\n",
       "</style>\n",
       "<table id=\"T_e0722\">\n",
       "  <thead>\n",
       "    <tr>\n",
       "      <th class=\"blank level0\" >&nbsp;</th>\n",
       "      <th id=\"T_e0722_level0_col0\" class=\"col_heading level0 col0\" >Recall</th>\n",
       "      <th id=\"T_e0722_level0_col1\" class=\"col_heading level0 col1\" >nDCG</th>\n",
       "      <th id=\"T_e0722_level0_col2\" class=\"col_heading level0 col2\" >F1_5</th>\n",
       "      <th id=\"T_e0722_level0_col3\" class=\"col_heading level0 col3\" >F1_10</th>\n",
       "      <th id=\"T_e0722_level0_col4\" class=\"col_heading level0 col4\" >F1_15</th>\n",
       "    </tr>\n",
       "  </thead>\n",
       "  <tbody>\n",
       "    <tr>\n",
       "      <th id=\"T_e0722_level0_row0\" class=\"row_heading level0 row0\" >dataset_base_eval</th>\n",
       "      <td id=\"T_e0722_row0_col0\" class=\"data row0 col0\" >90.33%</td>\n",
       "      <td id=\"T_e0722_row0_col1\" class=\"data row0 col1\" >65.59%</td>\n",
       "      <td id=\"T_e0722_row0_col2\" class=\"data row0 col2\" >9.78%</td>\n",
       "      <td id=\"T_e0722_row0_col3\" class=\"data row0 col3\" >15.21%</td>\n",
       "      <td id=\"T_e0722_row0_col4\" class=\"data row0 col4\" >20.52%</td>\n",
       "    </tr>\n",
       "  </tbody>\n",
       "</table>\n"
      ],
      "text/plain": [
       "<pandas.io.formats.style.Styler at 0x7f60cbe82020>"
      ]
     },
     "metadata": {},
     "output_type": "display_data"
    },
    {
     "data": {
      "text/plain": [
       "{'experiment': 'MKDUC01-MDKPERank-1788625193',\n",
       " 'd_threshold': 100000,\n",
       " 'weight_function': <function geo_kpe_multidoc.geo.measures.inv_dist(d: numpy.ndarray, a=1)>,\n",
       " 'weight_function_param': 1,\n",
       " 'stemmer': <PorterStemmer>,\n",
       " 'device': device(type='cpu'),\n",
       " '_geo_association_index': <GeospacialAssociationIndex.MORAN_I: 'moran_i'>}"
      ]
     },
     "metadata": {},
     "output_type": "display_data"
    }
   ],
   "source": [
    "performance(ranker.rank(results, alpha=-1.8), True)\n",
    "display(vars(ranker))"
   ]
  },
  {
   "cell_type": "code",
   "execution_count": null,
   "metadata": {},
   "outputs": [],
   "source": [
    "\n",
    "# performance(ranker.rank(results, alpha=-1.8), True)\n",
    "display(vars(ranker))"
   ]
  },
  {
   "cell_type": "code",
   "execution_count": 14,
   "metadata": {},
   "outputs": [],
   "source": [
    "# results[~results.in_gold].moran_i.plot.hist(alpha=0.8)\n",
    "\n",
    "#metric_list = ['semantic_score', 'moran_i'] #, 'moran_i','geary_c', 'getisord_g']\n",
    "#plot_metrics(results)\n",
    "# for idx in :\n",
    "#     fig, ax = plt.subplots()\n",
    "#     ax.set_xlim((0, 1))\n",
    "#     ax.set(ylabel=None)\n",
    "#     ax.set_title(idx, fontsize=12)\n",
    "#     # if show_legend:\n",
    "#     plt.legend([\"non-gold\", \"gold\"])\n",
    "# plt.show()"
   ]
  },
  {
   "cell_type": "code",
   "execution_count": 247,
   "metadata": {},
   "outputs": [
    {
     "data": {
      "text/plain": [
       "0.007692579227426577"
      ]
     },
     "execution_count": 247,
     "metadata": {},
     "output_type": "execute_result"
    }
   ],
   "source": [
    "np.min(np.concatenate([not_gold_scores, results[results.in_gold]['getisord_g']]))"
   ]
  },
  {
   "cell_type": "code",
   "execution_count": 27,
   "metadata": {},
   "outputs": [
    {
     "data": {
      "text/plain": [
       "<Axes: ylabel='Frequency'>"
      ]
     },
     "execution_count": 27,
     "metadata": {},
     "output_type": "execute_result"
    },
    {
     "data": {
      "image/png": "[encoded data removed]",
      "text/plain": [
       "<Figure size 640x480 with 1 Axes>"
      ]
     },
     "metadata": {},
     "output_type": "display_data"
    }
   ],
   "source": [
    "results[~results.in_gold].loc[\"d06\"].semantic_score.plot.hist()\n",
    "results[results.in_gold].loc[\"d06\"].semantic_score.plot.hist(alpha=0.5)"
   ]
  },
  {
   "cell_type": "code",
   "execution_count": 19,
   "metadata": {},
   "outputs": [
    {
     "data": {
      "text/plain": [
       "<Axes: ylabel='Frequency'>"
      ]
     },
     "execution_count": 19,
     "metadata": {},
     "output_type": "execute_result"
    },
    {
     "data": {
      "image/png": "[encoded data removed]",
      "text/plain": [
       "<Figure size 640x480 with 1 Axes>"
      ]
     },
     "metadata": {},
     "output_type": "display_data"
    }
   ],
   "source": [
    "results[~results.in_gold].geary_c.plot.hist(density=True, alpha=0.8)\n",
    "results[results.in_gold].geary_c.plot.hist(density=True, alpha=0.5)"
   ]
  },
  {
   "cell_type": "code",
   "execution_count": 50,
   "metadata": {},
   "outputs": [
    {
     "data": {
      "text/plain": [
       "<Axes: ylabel='Frequency'>"
      ]
     },
     "execution_count": 50,
     "metadata": {},
     "output_type": "execute_result"
    },
    {
     "data": {
      "image/png": "[encoded data removed]",
      "text/plain": [
       "<Figure size 640x480 with 1 Axes>"
      ]
     },
     "metadata": {},
     "output_type": "display_data"
    }
   ],
   "source": [
    "results[~results.in_gold].loc[\"d04\"].moran_i.plot.hist()\n",
    "results[results.in_gold].loc[\"d04\"].moran_i.plot.hist(alpha=0.5)"
   ]
  },
  {
   "cell_type": "code",
   "execution_count": 94,
   "metadata": {},
   "outputs": [
    {
     "name": "stderr",
     "output_type": "stream",
     "text": [
      "100%|███████████████████████████████████████████████████████████████████████████████████████████████████████████████████████████████████████████████████████████████████████████████| 11/11 [00:35<00:00,  3.23s/it]\n"
     ]
    },
    {
     "data": {
      "image/png": "[encoded data removed]",
      "text/plain": [
       "<Figure size 640x480 with 1 Axes>"
      ]
     },
     "metadata": {},
     "output_type": "display_data"
    }
   ],
   "source": [
    "def rank(geo_association_results: pd.DataFrame, alpha=-0.5):\n",
    "    \"\"\"\n",
    "    Compose final score and transform results to evaluation format\n",
    "\n",
    "    Parameters\n",
    "    ----------\n",
    "    geo_association_results : pd.DataFrame\n",
    "        _description_\n",
    "\n",
    "    Returns\n",
    "    -------\n",
    "    dict:   {\n",
    "                dataset_name: [\n",
    "                    ( top_n_cand_and_scores: List[Tuple[str, float]] , candidates: List[str]),\n",
    "                    ...\n",
    "                    ],\n",
    "                ...\n",
    "            }\n",
    "    \"\"\"\n",
    "    final_score = pd.DataFrame().reindex_like(geo_association_results)\n",
    "\n",
    "    # best 0.35\n",
    "    # final_score[\"score\"] = (\n",
    "    #    geo_association_results[\"semantic_score\"]\n",
    "    #    * geo_association_results[\"moran_i\"]**(alpha)\n",
    "    # )\n",
    "    \n",
    "    final_score[\"score\"] = (\n",
    "        geo_association_results[\"semantic_score\"]\n",
    "        * geo_association_results[\"geary_c\"]**(alpha)\n",
    "    )\n",
    "\n",
    "    rankings = dict()\n",
    "    for dataset in [\"dataset\"]:\n",
    "        for topic in sorted(final_score.index.get_level_values(0).unique()):\n",
    "            top_n_scores = sorted(\n",
    "                list(final_score.loc[topic][\"score\"].items()),\n",
    "                key=itemgetter(1),\n",
    "                reverse=True,\n",
    "            )\n",
    "            candidates = final_score.loc[topic].index.to_list()\n",
    "            rankings.setdefault(dataset, []).append((top_n_scores, candidates))\n",
    "\n",
    "    return rankings\n",
    "\n",
    "def test(results, true_labels, alpha):\n",
    "    model_results = rank(results, alpha)\n",
    "\n",
    "    model_results = postprocess_model_outputs(\n",
    "                model_results, ranker.stemmer, None, [remove_new_lines_and_tabs, remove_whitespaces]\n",
    "            )\n",
    "\n",
    "    performance_metrics = evaluate_kp_extraction_base(model_results, true_labels)\n",
    "    performance_metrics = pd.concat(\n",
    "        [performance_metrics, evaluate_kp_extraction(model_results, true_labels)]\n",
    "    )\n",
    "    \n",
    "    # display(\n",
    "    #     performance_metrics[[\"Recall\", \"nDCG\",\"F1_5\", \"F1_10\", \"F1_15\"]].style.format('{:.2%}')\n",
    "    # )\n",
    "    \n",
    "    return performance_metrics.loc[\"dataset_base_eval\", \"F1_15\"]\n",
    "    \n",
    "import numpy as np\n",
    "from tqdm import tqdm \n",
    "alphas = list(np.linspace(2, 5, 11))\n",
    "f1_15 = []\n",
    "\n",
    "for alpha in tqdm(alphas):\n",
    "    # print(f\"alpha = {alpha}\")\n",
    "    f1_15.append(test(results, true_labels, alpha))\n",
    "\n",
    "plt.plot(alphas, f1_15)\n",
    "plt.show()"
   ]
  },
  {
   "cell_type": "code",
   "execution_count": 90,
   "metadata": {},
   "outputs": [
    {
     "data": {
      "image/png": "[encoded data removed]",
      "text/plain": [
       "<Figure size 640x480 with 1 Axes>"
      ]
     },
     "metadata": {},
     "output_type": "display_data"
    }
   ],
   "source": []
  },
  {
   "cell_type": "code",
   "execution_count": null,
   "metadata": {},
   "outputs": [],
   "source": []
  }
 ],
 "metadata": {
  "kernelspec": {
   "display_name": "Python 3 (ipykernel)",
   "language": "python",
   "name": "python3"
  },
  "language_info": {
   "codemirror_mode": {
    "name": "ipython",
    "version": 3
   },
   "file_extension": ".py",
   "mimetype": "text/x-python",
   "name": "python",
   "nbconvert_exporter": "python",
   "pygments_lexer": "ipython3",
   "version": "3.10.9"
  }
 },
 "nbformat": 4,
 "nbformat_minor": 4
}
