{
 "cells": [
  {
   "cell_type": "code",
   "execution_count": 1,
   "id": "f289e640",
   "metadata": {},
   "outputs": [
    {
     "name": "stderr",
     "output_type": "stream",
     "text": [
      "2023-03-27 13:20:23.236224: I tensorflow/core/platform/cpu_feature_guard.cc:193] This TensorFlow binary is optimized with oneAPI Deep Neural Network Library (oneDNN) to use the following CPU instructions in performance-critical operations:  AVX2 FMA\n",
      "To enable them in other operations, rebuild TensorFlow with the appropriate compiler flags.\n",
      "2023-03-27 13:20:23.353124: W tensorflow/compiler/xla/stream_executor/platform/default/dso_loader.cc:64] Could not load dynamic library 'libcudart.so.11.0'; dlerror: libcudart.so.11.0: cannot open shared object file: No such file or directory\n",
      "2023-03-27 13:20:23.353156: I tensorflow/compiler/xla/stream_executor/cuda/cudart_stub.cc:29] Ignore above cudart dlerror if you do not have a GPU set up on your machine.\n",
      "2023-03-27 13:20:24.251696: W tensorflow/compiler/xla/stream_executor/platform/default/dso_loader.cc:64] Could not load dynamic library 'libnvinfer.so.7'; dlerror: libnvinfer.so.7: cannot open shared object file: No such file or directory\n",
      "2023-03-27 13:20:24.251826: W tensorflow/compiler/xla/stream_executor/platform/default/dso_loader.cc:64] Could not load dynamic library 'libnvinfer_plugin.so.7'; dlerror: libnvinfer_plugin.so.7: cannot open shared object file: No such file or directory\n",
      "2023-03-27 13:20:24.251843: W tensorflow/compiler/tf2tensorrt/utils/py_utils.cc:38] TF-TRT Warning: Cannot dlopen some TensorRT libraries. If you would like to use Nvidia GPU with TensorRT, please make sure the missing libraries mentioned above are installed properly.\n"
     ]
    }
   ],
   "source": [
    "from transformers import AutoModel, AutoTokenizer, LongformerSelfAttention\n",
    "import torch\n",
    "\n",
    "import copy"
   ]
  },
  {
   "cell_type": "code",
   "execution_count": 3,
   "id": "a72e7586",
   "metadata": {},
   "outputs": [],
   "source": [
    "tokenizer = AutoTokenizer.from_pretrained(\"sentence-transformers/paraphrase-multilingual-mpnet-base-v2\")\n",
    "model = AutoModel.from_pretrained(\"sentence-transformers/paraphrase-multilingual-mpnet-base-v2\")"
   ]
  },
  {
   "cell_type": "code",
   "execution_count": 4,
   "id": "5cfa306a",
   "metadata": {},
   "outputs": [
    {
     "data": {
      "text/plain": [
       "transformers.models.xlm_roberta.modeling_xlm_roberta.XLMRobertaModel"
      ]
     },
     "execution_count": 4,
     "metadata": {},
     "output_type": "execute_result"
    }
   ],
   "source": [
    "type(model)"
   ]
  },
  {
   "cell_type": "code",
   "execution_count": 7,
   "id": "4eeeb1bb",
   "metadata": {},
   "outputs": [
    {
     "data": {
      "text/plain": [
       "('/home/helder/doc/mecd/thesis/models/longformer-test/tokenizer_config.json',\n",
       " '/home/helder/doc/mecd/thesis/models/longformer-test/special_tokens_map.json',\n",
       " '/home/helder/doc/mecd/thesis/models/longformer-test/sentencepiece.bpe.model',\n",
       " '/home/helder/doc/mecd/thesis/models/longformer-test/added_tokens.json',\n",
       " '/home/helder/doc/mecd/thesis/models/longformer-test/tokenizer.json')"
      ]
     },
     "execution_count": 7,
     "metadata": {},
     "output_type": "execute_result"
    }
   ],
   "source": [
    "save_model_to = \"/home/helder/doc/mecd/thesis/models/longformer-test\"\n",
    "\n",
    "model.save_pretrained(save_model_to)\n",
    "tokenizer.save_pretrained(save_model_to)"
   ]
  },
  {
   "cell_type": "code",
   "execution_count": null,
   "id": "1874e694",
   "metadata": {},
   "outputs": [],
   "source": [
    "# Load Lonformer by SentenceTransformer\n",
    "\n",
    "embedding_model = SentenceTransformer(model_path)\n",
    "\n",
    "\n",
    "\n",
    "embedding_model._modules[\"0\"]._modules[\n",
    "            \"auto_model\"\n",
    "    ] = LongformerModel.from_pretrained(model_path)\n",
    "callable_model = SentenceTransformerBackend(embedding_model)"
   ]
  },
  {
   "attachments": {},
   "cell_type": "markdown",
   "id": "b11f0c15",
   "metadata": {},
   "source": [
    "# Sentence Transformer to Longmodel"
   ]
  },
  {
   "cell_type": "code",
   "execution_count": null,
   "id": "797bedd9",
   "metadata": {},
   "outputs": [],
   "source": [
    "embedding_model = SentenceTransformer(model_path)\n",
    "\n"
   ]
  },
  {
   "attachments": {},
   "cell_type": "markdown",
   "id": "496798d1",
   "metadata": {},
   "source": [
    "# STS Benchmark\n"
   ]
  },
  {
   "cell_type": "code",
   "execution_count": 2,
   "id": "7f1e7f46",
   "metadata": {},
   "outputs": [],
   "source": [
    "import pandas as pd"
   ]
  },
  {
   "cell_type": "code",
   "execution_count": 8,
   "id": "7bcf7dc3",
   "metadata": {},
   "outputs": [
    {
     "data": {
      "text/html": [
       "<div>\n",
       "<style scoped>\n",
       "    .dataframe tbody tr th:only-of-type {\n",
       "        vertical-align: middle;\n",
       "    }\n",
       "\n",
       "    .dataframe tbody tr th {\n",
       "        vertical-align: top;\n",
       "    }\n",
       "\n",
       "    .dataframe thead th {\n",
       "        text-align: right;\n",
       "    }\n",
       "</style>\n",
       "<table border=\"1\" class=\"dataframe\">\n",
       "  <thead>\n",
       "    <tr style=\"text-align: right;\">\n",
       "      <th></th>\n",
       "      <th>epoch</th>\n",
       "      <th>steps</th>\n",
       "      <th>cosine_pearson</th>\n",
       "      <th>cosine_spearman</th>\n",
       "      <th>euclidean_pearson</th>\n",
       "      <th>euclidean_spearman</th>\n",
       "      <th>manhattan_pearson</th>\n",
       "      <th>manhattan_spearman</th>\n",
       "      <th>dot_pearson</th>\n",
       "      <th>dot_spearman</th>\n",
       "    </tr>\n",
       "  </thead>\n",
       "  <tbody>\n",
       "    <tr>\n",
       "      <th>0</th>\n",
       "      <td>-1</td>\n",
       "      <td>-1</td>\n",
       "      <td>0.854345</td>\n",
       "      <td>0.868222</td>\n",
       "      <td>0.86476</td>\n",
       "      <td>0.863053</td>\n",
       "      <td>0.863467</td>\n",
       "      <td>0.861315</td>\n",
       "      <td>0.827153</td>\n",
       "      <td>0.822673</td>\n",
       "    </tr>\n",
       "  </tbody>\n",
       "</table>\n",
       "</div>"
      ],
      "text/plain": [
       "   epoch  steps  cosine_pearson  cosine_spearman  euclidean_pearson  \\\n",
       "0     -1     -1        0.854345         0.868222            0.86476   \n",
       "\n",
       "   euclidean_spearman  manhattan_pearson  manhattan_spearman  dot_pearson  \\\n",
       "0            0.863053           0.863467            0.861315     0.827153   \n",
       "\n",
       "   dot_spearman  \n",
       "0      0.822673  "
      ]
     },
     "execution_count": 8,
     "metadata": {},
     "output_type": "execute_result"
    }
   ],
   "source": [
    "results_original = pd.read_csv(\"/home/helder/doc/mecd/thesis/outputs/similarity_evaluation_sts-test_resultsi_original.csv\")\n",
    "results_original"
   ]
  },
  {
   "cell_type": "code",
   "execution_count": 9,
   "id": "8e4274fe",
   "metadata": {},
   "outputs": [
    {
     "data": {
      "text/html": [
       "<div>\n",
       "<style scoped>\n",
       "    .dataframe tbody tr th:only-of-type {\n",
       "        vertical-align: middle;\n",
       "    }\n",
       "\n",
       "    .dataframe tbody tr th {\n",
       "        vertical-align: top;\n",
       "    }\n",
       "\n",
       "    .dataframe thead th {\n",
       "        text-align: right;\n",
       "    }\n",
       "</style>\n",
       "<table border=\"1\" class=\"dataframe\">\n",
       "  <thead>\n",
       "    <tr style=\"text-align: right;\">\n",
       "      <th></th>\n",
       "      <th>epoch</th>\n",
       "      <th>steps</th>\n",
       "      <th>cosine_pearson</th>\n",
       "      <th>cosine_spearman</th>\n",
       "      <th>euclidean_pearson</th>\n",
       "      <th>euclidean_spearman</th>\n",
       "      <th>manhattan_pearson</th>\n",
       "      <th>manhattan_spearman</th>\n",
       "      <th>dot_pearson</th>\n",
       "      <th>dot_spearman</th>\n",
       "    </tr>\n",
       "  </thead>\n",
       "  <tbody>\n",
       "    <tr>\n",
       "      <th>0</th>\n",
       "      <td>-1</td>\n",
       "      <td>-1</td>\n",
       "      <td>0.854345</td>\n",
       "      <td>0.868222</td>\n",
       "      <td>0.86476</td>\n",
       "      <td>0.863053</td>\n",
       "      <td>0.863467</td>\n",
       "      <td>0.861315</td>\n",
       "      <td>0.827153</td>\n",
       "      <td>0.822673</td>\n",
       "    </tr>\n",
       "  </tbody>\n",
       "</table>\n",
       "</div>"
      ],
      "text/plain": [
       "   epoch  steps  cosine_pearson  cosine_spearman  euclidean_pearson  \\\n",
       "0     -1     -1        0.854345         0.868222            0.86476   \n",
       "\n",
       "   euclidean_spearman  manhattan_pearson  manhattan_spearman  dot_pearson  \\\n",
       "0            0.863053           0.863467            0.861315     0.827153   \n",
       "\n",
       "   dot_spearman  \n",
       "0      0.822673  "
      ]
     },
     "execution_count": 9,
     "metadata": {},
     "output_type": "execute_result"
    }
   ],
   "source": [
    "results_test = pd.read_csv(\"/home/helder/doc/mecd/thesis/outputs/similarity_evaluation_sts-test_results.csv\")\n",
    "results_test"
   ]
  },
  {
   "cell_type": "code",
   "execution_count": 10,
   "id": "8910a5ac",
   "metadata": {},
   "outputs": [
    {
     "data": {
      "text/html": [
       "<div>\n",
       "<style scoped>\n",
       "    .dataframe tbody tr th:only-of-type {\n",
       "        vertical-align: middle;\n",
       "    }\n",
       "\n",
       "    .dataframe tbody tr th {\n",
       "        vertical-align: top;\n",
       "    }\n",
       "\n",
       "    .dataframe thead th {\n",
       "        text-align: right;\n",
       "    }\n",
       "</style>\n",
       "<table border=\"1\" class=\"dataframe\">\n",
       "  <thead>\n",
       "    <tr style=\"text-align: right;\">\n",
       "      <th></th>\n",
       "      <th>epoch</th>\n",
       "      <th>steps</th>\n",
       "      <th>cosine_pearson</th>\n",
       "      <th>cosine_spearman</th>\n",
       "      <th>euclidean_pearson</th>\n",
       "      <th>euclidean_spearman</th>\n",
       "      <th>manhattan_pearson</th>\n",
       "      <th>manhattan_spearman</th>\n",
       "      <th>dot_pearson</th>\n",
       "      <th>dot_spearman</th>\n",
       "    </tr>\n",
       "  </thead>\n",
       "  <tbody>\n",
       "    <tr>\n",
       "      <th>0</th>\n",
       "      <td>-1</td>\n",
       "      <td>-1</td>\n",
       "      <td>0.854345</td>\n",
       "      <td>0.868222</td>\n",
       "      <td>0.86476</td>\n",
       "      <td>0.863053</td>\n",
       "      <td>0.863467</td>\n",
       "      <td>0.861315</td>\n",
       "      <td>0.827153</td>\n",
       "      <td>0.822673</td>\n",
       "    </tr>\n",
       "  </tbody>\n",
       "</table>\n",
       "</div>"
      ],
      "text/plain": [
       "   epoch  steps  cosine_pearson  cosine_spearman  euclidean_pearson  \\\n",
       "0     -1     -1        0.854345         0.868222            0.86476   \n",
       "\n",
       "   euclidean_spearman  manhattan_pearson  manhattan_spearman  dot_pearson  \\\n",
       "0            0.863053           0.863467            0.861315     0.827153   \n",
       "\n",
       "   dot_spearman  \n",
       "0      0.822673  "
      ]
     },
     "execution_count": 10,
     "metadata": {},
     "output_type": "execute_result"
    }
   ],
   "source": [
    "results_test = pd.read_csv(\"/home/helder/doc/mecd/thesis/outputs/similarity_evaluation_sts-test_resultsi_longformer.csv\")\n",
    "results_test"
   ]
  },
  {
   "cell_type": "code",
   "execution_count": 3,
   "id": "5c397d14",
   "metadata": {},
   "outputs": [
    {
     "data": {
      "text/html": [
       "<div>\n",
       "<style scoped>\n",
       "    .dataframe tbody tr th:only-of-type {\n",
       "        vertical-align: middle;\n",
       "    }\n",
       "\n",
       "    .dataframe tbody tr th {\n",
       "        vertical-align: top;\n",
       "    }\n",
       "\n",
       "    .dataframe thead th {\n",
       "        text-align: right;\n",
       "    }\n",
       "</style>\n",
       "<table border=\"1\" class=\"dataframe\">\n",
       "  <thead>\n",
       "    <tr style=\"text-align: right;\">\n",
       "      <th></th>\n",
       "      <th>epoch</th>\n",
       "      <th>steps</th>\n",
       "      <th>cosine_pearson</th>\n",
       "      <th>cosine_spearman</th>\n",
       "      <th>euclidean_pearson</th>\n",
       "      <th>euclidean_spearman</th>\n",
       "      <th>manhattan_pearson</th>\n",
       "      <th>manhattan_spearman</th>\n",
       "      <th>dot_pearson</th>\n",
       "      <th>dot_spearman</th>\n",
       "    </tr>\n",
       "  </thead>\n",
       "  <tbody>\n",
       "    <tr>\n",
       "      <th>0</th>\n",
       "      <td>-1</td>\n",
       "      <td>-1</td>\n",
       "      <td>0.498367</td>\n",
       "      <td>0.51938</td>\n",
       "      <td>0.503028</td>\n",
       "      <td>0.504544</td>\n",
       "      <td>0.541134</td>\n",
       "      <td>0.54071</td>\n",
       "      <td>0.14063</td>\n",
       "      <td>0.145705</td>\n",
       "    </tr>\n",
       "  </tbody>\n",
       "</table>\n",
       "</div>"
      ],
      "text/plain": [
       "   epoch  steps  cosine_pearson  cosine_spearman  euclidean_pearson  \\\n",
       "0     -1     -1        0.498367          0.51938           0.503028   \n",
       "\n",
       "   euclidean_spearman  manhattan_pearson  manhattan_spearman  dot_pearson  \\\n",
       "0            0.504544           0.541134             0.54071      0.14063   \n",
       "\n",
       "   dot_spearman  \n",
       "0      0.145705  "
      ]
     },
     "execution_count": 3,
     "metadata": {},
     "output_type": "execute_result"
    }
   ],
   "source": [
    "results_test = pd.read_csv(\"/home/helder/doc/mecd/thesis/outputs/similarity_evaluation_sts-allenai-longformer_results.csv\")\n",
    "results_test"
   ]
  },
  {
   "attachments": {},
   "cell_type": "markdown",
   "id": "281023e9",
   "metadata": {},
   "source": [
    "In [14]: max([ len(l) for item in test_samples for l in item.texts])\n",
    "Out[14]: 215"
   ]
  },
  {
   "cell_type": "code",
   "execution_count": null,
   "id": "1f168be8",
   "metadata": {},
   "outputs": [],
   "source": []
  }
 ],
 "metadata": {
  "kernelspec": {
   "display_name": "nlp",
   "language": "python",
   "name": "python3"
  },
  "language_info": {
   "codemirror_mode": {
    "name": "ipython",
    "version": 3
   },
   "file_extension": ".py",
   "mimetype": "text/x-python",
   "name": "python",
   "nbconvert_exporter": "python",
   "pygments_lexer": "ipython3",
   "version": "3.10.9"
  }
 },
 "nbformat": 4,
 "nbformat_minor": 5
}
